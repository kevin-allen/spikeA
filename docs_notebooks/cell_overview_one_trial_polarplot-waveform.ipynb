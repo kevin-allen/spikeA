{
 "cells": [
  {
   "cell_type": "code",
   "execution_count": 1,
   "id": "31b47eb4-8a08-4a20-8219-ea4617d2bb1a",
   "metadata": {},
   "outputs": [],
   "source": [
    "%load_ext autoreload\n",
    "\n",
    "%autoreload 2\n",
    "import numpy as np\n",
    "import matplotlib.pyplot as plt\n",
    "%matplotlib inline\n",
    "from spikeA.Session import *\n",
    "from spikeA.Spike_train_loader import Spike_train_loader\n",
    "from spikeA.Cell_group import Cell_group\n",
    "from spikeA.Animal_pose import Animal_pose\n",
    "from spikeA.Session import Session"
   ]
  },
  {
   "cell_type": "code",
   "execution_count": null,
   "id": "e953f9a7-44e0-4df4-80c7-50d1c7b6a130",
   "metadata": {},
   "outputs": [],
   "source": [
    "#name=\"pk1330-08112021-0101\"\n",
    "#name=\"pk1330-10112021-0101\"\n",
    "#name=\"pk1330-16112021-0101\"\n",
    "\n",
    "#name=\"pk1330-12112021-0101\"\n",
    "#name=\"pk1331-23112021-0101\"\n",
    "#name=\"pk1331-23112021-0101_B\"\n",
    "\n",
    "#name=\"pk1331-24112021-0101\"\n",
    "#name=\"pk1347-24112021-0101\"\n",
    "\n",
    "#name=\"pk1331-29112021-0101\"\n",
    "#name=\"pk1347-01122021-0101\"\n",
    "\n",
    "#name=\"pk1658-06122021-0102\"\n",
    "\n",
    "#name=\"pk1331-29112021-0101\" # HD cells\n",
    "#name=\"pk1658-10122021-0101\"\n",
    "\n",
    "#name=\"pk1613-12012022-0101\"\n",
    "#name=\"pk1613-13012022-0101\"\n",
    "\n",
    "#name=\"pk1615-14012022-0101\"\n",
    "\n",
    "#name=\"pk1615-15012022-0101\"\n",
    "#name=\"pk1615-16012022-0101\"\n",
    "#name=\"pk1615-17012022-0101\"\n",
    "#name=\"pk1615-18012022-0101_A\"\n",
    "\n",
    "#name=\"pk1615-18012022-0103\"\n",
    "#name=\"pk1615-19012022-0105\"\n",
    "#name=\"pk1615-19012022-0102\"\n",
    "\n",
    "#name=\"pk1615-20012022-0101_B\"\n",
    "#name=\"pk3865-20012022-0101_B\"\n",
    "\n",
    "# name=\"pk3865-21012022-0101\"\n",
    "name=\"pk1615-21012022-0109\""
   ]
  },
  {
   "cell_type": "code",
   "execution_count": null,
   "id": "aa1a3645-dbea-4718-84c1-5e9cf14e4ceb",
   "metadata": {},
   "outputs": [],
   "source": [
    "# mouse name = .... , plot on summary file\n",
    "\n",
    "directory, session = name.split(\"-\",1)\n",
    "path=\"/adata/electro/\"+directory+\"/\"+name+\"/\"\n",
    "\n",
    "fname = name.split(\"_\")[0]\n",
    "\n",
    "print(\"Path:\",path)\n",
    "print(\"Name:\",name,\",\",fname)\n",
    "\n",
    "import os\n",
    "print(\"directory:\", \"OK\" if os.path.isdir(path) else \"invalid\")"
   ]
  },
  {
   "cell_type": "code",
   "execution_count": 4,
   "id": "88851694-7356-4bd0-b440-e271bcb9f2d1",
   "metadata": {},
   "outputs": [],
   "source": [
    "path=\"/home/pascal/Downloads/pk1615-21012022-0109/\"\n",
    "name=\"pk1615-21012022-0109\"\n",
    "fname=name"
   ]
  },
  {
   "cell_type": "markdown",
   "id": "1550c4aa-4818-4e78-b496-6e336ba27b64",
   "metadata": {},
   "source": [
    "Check the files"
   ]
  },
  {
   "cell_type": "markdown",
   "id": "278b9128-bcf6-4c67-b92f-2a8d76a9894c",
   "metadata": {},
   "source": [
    "## Get a Session object and load spikes"
   ]
  },
  {
   "cell_type": "code",
   "execution_count": 5,
   "id": "085cbfb2-d200-4e8b-8a3a-8252f4578e96",
   "metadata": {},
   "outputs": [
    {
     "ename": "ValueError",
     "evalue": "The file /home/pascal/Downloads/pk1615-21012022-0109/pk1615-21012022_01.dat is missing.",
     "output_type": "error",
     "traceback": [
      "\u001b[0;31m---------------------------------------------------------------------------\u001b[0m",
      "\u001b[0;31mValueError\u001b[0m                                Traceback (most recent call last)",
      "Input \u001b[0;32mIn [5]\u001b[0m, in \u001b[0;36m<module>\u001b[0;34m\u001b[0m\n\u001b[1;32m      1\u001b[0m ses \u001b[38;5;241m=\u001b[39m Kilosort_session(name\u001b[38;5;241m=\u001b[39mfname,path\u001b[38;5;241m=\u001b[39mpath)\n\u001b[0;32m----> 2\u001b[0m \u001b[43mses\u001b[49m\u001b[38;5;241;43m.\u001b[39;49m\u001b[43mload_parameters_from_files\u001b[49m\u001b[43m(\u001b[49m\u001b[43m)\u001b[49m\n\u001b[1;32m      3\u001b[0m \u001b[38;5;28mprint\u001b[39m(ses)\n",
      "File \u001b[0;32m~/repo/spikeA/spikeA/Session.py:272\u001b[0m, in \u001b[0;36mKilosort_session.load_parameters_from_files\u001b[0;34m(self)\u001b[0m\n\u001b[1;32m    270\u001b[0m \u001b[38;5;66;03m# self.dat_file_names is depreciated, use self.file_names[\"dat\"] instead\u001b[39;00m\n\u001b[1;32m    271\u001b[0m \u001b[38;5;28mself\u001b[39m\u001b[38;5;241m.\u001b[39mdat_file_names \u001b[38;5;241m=\u001b[39m [\u001b[38;5;28mself\u001b[39m\u001b[38;5;241m.\u001b[39mpath\u001b[38;5;241m+\u001b[39m\u001b[38;5;124m\"\u001b[39m\u001b[38;5;124m/\u001b[39m\u001b[38;5;124m\"\u001b[39m\u001b[38;5;241m+\u001b[39mt\u001b[38;5;241m+\u001b[39m\u001b[38;5;124m\"\u001b[39m\u001b[38;5;124m.dat\u001b[39m\u001b[38;5;124m\"\u001b[39m \u001b[38;5;28;01mfor\u001b[39;00m t \u001b[38;5;129;01min\u001b[39;00m \u001b[38;5;28mself\u001b[39m\u001b[38;5;241m.\u001b[39mtrial_names]\n\u001b[0;32m--> 272\u001b[0m df \u001b[38;5;241m=\u001b[39m \u001b[43mDat_file_reader\u001b[49m\u001b[43m(\u001b[49m\u001b[43mfile_names\u001b[49m\u001b[38;5;241;43m=\u001b[39;49m\u001b[38;5;28;43mself\u001b[39;49m\u001b[38;5;241;43m.\u001b[39;49m\u001b[43mdat_file_names\u001b[49m\u001b[43m,\u001b[49m\u001b[43mn_channels\u001b[49m\u001b[43m \u001b[49m\u001b[38;5;241;43m=\u001b[39;49m\u001b[43m \u001b[49m\u001b[38;5;28;43mself\u001b[39;49m\u001b[38;5;241;43m.\u001b[39;49m\u001b[43mn_channels\u001b[49m\u001b[43m)\u001b[49m\n\u001b[1;32m    273\u001b[0m inter \u001b[38;5;241m=\u001b[39m df\u001b[38;5;241m.\u001b[39mget_file_intervals_in_seconds()\n\u001b[1;32m    274\u001b[0m \u001b[38;5;28mself\u001b[39m\u001b[38;5;241m.\u001b[39mtrial_intervals \u001b[38;5;241m=\u001b[39m Intervals(inter)\n",
      "File \u001b[0;32m~/repo/spikeA/spikeA/Dat_file_reader.py:60\u001b[0m, in \u001b[0;36mDat_file_reader.__init__\u001b[0;34m(self, file_names, n_channels)\u001b[0m\n\u001b[1;32m     58\u001b[0m \u001b[38;5;28;01mfor\u001b[39;00m f \u001b[38;5;129;01min\u001b[39;00m \u001b[38;5;28mself\u001b[39m\u001b[38;5;241m.\u001b[39mfile_names:\n\u001b[1;32m     59\u001b[0m     \u001b[38;5;28;01mif\u001b[39;00m os\u001b[38;5;241m.\u001b[39mpath\u001b[38;5;241m.\u001b[39misfile(f) \u001b[38;5;129;01mis\u001b[39;00m \u001b[38;5;28;01mFalse\u001b[39;00m:\n\u001b[0;32m---> 60\u001b[0m         \u001b[38;5;28;01mraise\u001b[39;00m \u001b[38;5;167;01mValueError\u001b[39;00m(\u001b[38;5;124m\"\u001b[39m\u001b[38;5;124mThe file \u001b[39m\u001b[38;5;132;01m{}\u001b[39;00m\u001b[38;5;124m is missing.\u001b[39m\u001b[38;5;124m\"\u001b[39m\u001b[38;5;241m.\u001b[39mformat(f))\n\u001b[1;32m     62\u001b[0m \u001b[38;5;66;03m# get the file size\u001b[39;00m\n\u001b[1;32m     63\u001b[0m \u001b[38;5;28mself\u001b[39m\u001b[38;5;241m.\u001b[39msize_of_files \u001b[38;5;241m=\u001b[39m np\u001b[38;5;241m.\u001b[39marray([os\u001b[38;5;241m.\u001b[39mpath\u001b[38;5;241m.\u001b[39mgetsize(f) \u001b[38;5;28;01mfor\u001b[39;00m f \u001b[38;5;129;01min\u001b[39;00m \u001b[38;5;28mself\u001b[39m\u001b[38;5;241m.\u001b[39mfile_names])\n",
      "\u001b[0;31mValueError\u001b[0m: The file /home/pascal/Downloads/pk1615-21012022-0109/pk1615-21012022_01.dat is missing."
     ]
    }
   ],
   "source": [
    "ses = Kilosort_session(name=fname,path=path)\n",
    "ses.load_parameters_from_files()\n",
    "print(ses)"
   ]
  },
  {
   "cell_type": "code",
   "execution_count": null,
   "id": "477eba10-84c7-4aa2-b085-485917215893",
   "metadata": {},
   "outputs": [],
   "source": [
    "ses.trial_intervals.inter"
   ]
  },
  {
   "cell_type": "code",
   "execution_count": null,
   "id": "9ba245c8-d13b-49d4-9147-5327e547794a",
   "metadata": {},
   "outputs": [],
   "source": [
    "ses.desen"
   ]
  },
  {
   "cell_type": "code",
   "execution_count": null,
   "id": "81d1b6e4-7c74-4f43-90d6-857016a194da",
   "metadata": {},
   "outputs": [],
   "source": [
    "for en,iv,tn in zip(ses.desen, ses.trial_intervals.inter, ses.trial_names):\n",
    "    print(\"trial:\",tn)\n",
    "    print(\"environment:\",en)\n",
    "    print(\"duration:\",iv[1]-iv[0])"
   ]
  },
  {
   "cell_type": "code",
   "execution_count": null,
   "id": "30f171bc-056f-4ad5-ab43-906688492a9d",
   "metadata": {},
   "outputs": [],
   "source": [
    "ses.desel"
   ]
  },
  {
   "cell_type": "code",
   "execution_count": null,
   "id": "50d9c076-4fb3-4411-9544-f7b57ffc3a5e",
   "metadata": {},
   "outputs": [],
   "source": [
    "stl = Spike_train_loader()\n",
    "stl.load_spike_train_kilosort(ses)\n",
    "print(\"stl.clu_ids\",stl.clu_ids)\n",
    "cg = Cell_group(stl)"
   ]
  },
  {
   "cell_type": "code",
   "execution_count": null,
   "id": "1305f731-f00d-479e-9d15-f056d2b0a6e7",
   "metadata": {},
   "outputs": [],
   "source": [
    "print(\"Found \",len(cg.neuron_list), \"good clusters (neurons)\")\n",
    "\n",
    "for i,(clu_id, spike_time) in enumerate(zip(stl.clu_ids, stl.spike_times)):\n",
    "    print(\"#\",i,\", id =\",clu_id, \", spikes:\",len(spike_time))"
   ]
  },
  {
   "cell_type": "markdown",
   "id": "e94b4314-1754-4c69-8547-b4f551b5786c",
   "metadata": {},
   "source": [
    "## Load the waveforms"
   ]
  },
  {
   "cell_type": "code",
   "execution_count": null,
   "id": "13b71a46-a48f-4c42-955b-84652eac5ba1",
   "metadata": {},
   "outputs": [],
   "source": [
    "ses.load_waveforms()"
   ]
  },
  {
   "cell_type": "markdown",
   "id": "9f75736b-c7c9-425e-b2e7-5c686bc040ab",
   "metadata": {},
   "source": [
    "Plot the waveforms for one arbitrary cluster (neuron) on the channels of its highest peak-to-peak amplitudes"
   ]
  },
  {
   "cell_type": "code",
   "execution_count": null,
   "id": "21d9ae4f-bb4b-44a7-a499-72ac28128b39",
   "metadata": {},
   "outputs": [],
   "source": [
    "#cluster = 16\n",
    "cluster = stl.clu_ids[0]\n",
    "channels = ses.get_channels_from_cluster(cluster, 12)\n",
    "print(\"The most significant channels for cluster\",cluster,\":\")\n",
    "print(channels)"
   ]
  },
  {
   "cell_type": "code",
   "execution_count": null,
   "id": "765e58f3-fcbf-4541-b73d-eb39d934f042",
   "metadata": {},
   "outputs": [],
   "source": [
    "# plot on selected channels\n",
    "\n",
    "plt.figure(figsize=(10,15))\n",
    "\n",
    "for i,channel in enumerate(channels):\n",
    "    \n",
    "    channel_mapped, waveform = ses.get_waveform(cluster, channel)\n",
    "    \n",
    "    plt.axhline( y = -i*.5 , color=\"grey\" , lw=.5 )\n",
    "    label = \"channel: \"+str(channel)+\" (\"+str(channel_mapped)+\")\"\n",
    "    plt.plot( waveform -i*.5 , label=label , color=\"blue\")\n",
    "    plt.text( s= label , x=0, y=-i*.5 +.1 )\n",
    "plt.xlabel(\"time sample\")\n",
    "#plt.legend()\n",
    "ax = plt.gca()\n",
    "ax.set(yticklabels=[])  \n",
    "plt.title(\"Waveform of Cluster \"+str(cluster))\n",
    "plt.show()"
   ]
  },
  {
   "cell_type": "code",
   "execution_count": null,
   "id": "1fbc8686-636f-421c-9441-60d423fd20ec",
   "metadata": {},
   "outputs": [],
   "source": [
    "# plot all channels\n",
    "\n",
    "channels_all = range(ses.wv_channels)\n",
    "\n",
    "plt.figure(figsize=(10,15))\n",
    "\n",
    "for i,channel in enumerate(channels_all):\n",
    "    channel_mapped, waveform = ses.get_waveform(cluster, channel)\n",
    "    \n",
    "    plot_style = [2.,'bold'] if channel in channels else [.9, 'normal']\n",
    "    \n",
    "    plt.axhline( y = -i*.5 , color=\"grey\" , lw=.5 )\n",
    "    label = \"channel: \"+str(channel)+\" (\"+str(channel_mapped)+\")\"\n",
    "    plt.plot( waveform -i*.5 , label=label , color=\"blue\" , lw=plot_style[0])\n",
    "    plt.text( s= label , x=0, y=-i*.5 +.1 , weight=plot_style[1])\n",
    "plt.xlabel(\"time sample\")\n",
    "#plt.legend()\n",
    "ax = plt.gca()\n",
    "ax.set(yticklabels=[])  # remove the tick labels\n",
    "ax.set(ylabel=None)  # remove the y-axis label\n",
    "ax.tick_params(left=False)  # remove the ticks\n",
    "\n",
    "plt.title(\"Waveform of Cluster \"+str(cluster))\n",
    "plt.show()"
   ]
  },
  {
   "cell_type": "markdown",
   "id": "c9a89c28-be80-44d6-b3a1-75bcba08e4b8",
   "metadata": {},
   "source": [
    "## Channel position (alignment)"
   ]
  },
  {
   "cell_type": "code",
   "execution_count": null,
   "id": "62c14ee4-6d60-45cb-bcbf-5c20dd95e676",
   "metadata": {},
   "outputs": [],
   "source": [
    "ses.init_shanks()"
   ]
  },
  {
   "cell_type": "code",
   "execution_count": null,
   "id": "6ccb598e-917b-4227-8659-990b9a8e0d62",
   "metadata": {},
   "outputs": [],
   "source": [
    "fig, ax = plt.subplots(figsize=(9,12))\n",
    "\n",
    "for channel, position in zip(range(ses.wv_channels), ses.channel_positions):\n",
    "    print(\"channel:\",channel,\" (\",ses.channel_map[channel],\"), position:\",position)\n",
    "        \n",
    "    circle = plt.Circle((position[0], position[1]), 0.2, color=\"black\")\n",
    "    ax.add_patch(circle)\n",
    "    \n",
    "    plt.text(x=position[0]+1, y=position[1], s=\"channel:\"+str(channel)+\" (\"+str(ses.channel_map[channel])+\")\")\n",
    "    \n",
    "\n",
    "ax.axis('off')\n",
    "ax.axis('scaled') #this line fits your images to screen \n",
    "#ax.autoscale(enable=True) \n",
    "plt.title(\"Channel positions\")\n",
    "plt.tight_layout()\n",
    "plt.show()"
   ]
  },
  {
   "cell_type": "markdown",
   "id": "d0f95d38-7052-4dcc-b6ba-972818340503",
   "metadata": {},
   "source": [
    "draw this for the specific cluster showing the significant channels"
   ]
  },
  {
   "cell_type": "code",
   "execution_count": null,
   "id": "3716511f-e811-4e6b-9d5e-5bacba622d68",
   "metadata": {},
   "outputs": [],
   "source": [
    "shanks_all = np.unique(ses.channel_positions[:,0])\n",
    "print(\"Shanks:\",shanks_all)\n",
    "shanks_arr = np.zeros(len(shanks_all))"
   ]
  },
  {
   "cell_type": "code",
   "execution_count": null,
   "id": "ecb2ce17-6fe5-4837-b25b-835c424c8a24",
   "metadata": {},
   "outputs": [],
   "source": [
    "active_shanks = np.unique(ses.channel_positions[channels][:,0])\n",
    "print(\"active_shanks\",active_shanks)"
   ]
  },
  {
   "cell_type": "code",
   "execution_count": null,
   "id": "af6845c2-24d6-49fb-9e1e-33c96dd63a0e",
   "metadata": {},
   "outputs": [],
   "source": [
    "shanks_arr[[list(shanks_all).index(shank) for shank in active_shanks]]=1\n",
    "shanks_arr"
   ]
  },
  {
   "cell_type": "code",
   "execution_count": null,
   "id": "ac1e2467-4e1b-4996-a737-f41e6dc71e73",
   "metadata": {},
   "outputs": [],
   "source": [
    "fig, ax = plt.subplots(figsize=(9,12))\n",
    "\n",
    "for channel, position in zip(range(ses.wv_channels), ses.channel_positions):        \n",
    "    color = 'blue' if channel in channels else 'gray'\n",
    "    \n",
    "    circle = plt.Circle((position[0], position[1]), 0.2, color=color)\n",
    "    ax.add_patch(circle)\n",
    "    \n",
    "    shank_id = position[0] # = x coordinate of the position\n",
    "    if channel in channels:\n",
    "        shanks_arr[np.where(shanks_all==shank_id)[0][0]]=1 # mark shank as active for this cluster\n",
    "    \n",
    "    plt.text(x=position[0]+1, y=position[1], s=\"channel:\"+str(channel)+\" (\"+str(ses.channel_map[channel])+\")\")\n",
    "    \n",
    "\n",
    "ax.axis('off')\n",
    "ax.axis('scaled') #this line fits your images to screen \n",
    "#ax.autoscale(enable=True) \n",
    "plt.title(\"Channel positions for cluster \"+str(cluster))\n",
    "plt.tight_layout()\n",
    "plt.show()"
   ]
  },
  {
   "cell_type": "code",
   "execution_count": null,
   "id": "938d8e56-8c17-4b92-a4ca-63fc66d6f31f",
   "metadata": {},
   "outputs": [],
   "source": [
    "fig, ax = plt.subplots(figsize=(9,3))\n",
    "\n",
    "for i, (shank, active) in enumerate(zip(shanks_all, shanks_arr)):\n",
    "    print(\"shank\",str(int(shank)),\"is\",\"active\" if active else \"nope\")\n",
    "    \n",
    "    color = 'blue' if active else 'gray'\n",
    "    \n",
    "    circle = plt.Circle((i,0), 0.2, color=color)\n",
    "    ax.add_patch(circle)\n",
    "    \n",
    "    # plt.text(x=i, y=-1, s=\"shank:\"+str(int(shank)))\n",
    "\n",
    "ax.axis('off')\n",
    "ax.axis('scaled') #this line fits your images to screen \n",
    "#ax.autoscale(enable=True) \n",
    "plt.title(\"Active Shanks for cluster \"+str(cluster))\n",
    "plt.tight_layout()\n",
    "plt.show()"
   ]
  },
  {
   "cell_type": "markdown",
   "id": "a5bf75b2-2bfe-4cf5-9119-ff0a32df0b7e",
   "metadata": {},
   "source": [
    "## Create a pose file "
   ]
  },
  {
   "cell_type": "code",
   "execution_count": null,
   "id": "7d2411f1-8f50-407c-aeec-7493dbc6e7f1",
   "metadata": {},
   "outputs": [],
   "source": [
    "ap = Animal_pose(ses)\n",
    "if not os.path.exists(f\"{ses.fileBase}.pose.npy\"):\n",
    "    print(\"load from positrack\")\n",
    "    ap.pose_from_positrack_files(ses=ses, interpolation_frequency_hz = 50, extension=\"positrack\")\n",
    "    ap.save_pose_to_file() # save the file for next time\n",
    "else:\n",
    "    print(\"load from saved pose file\")\n",
    "    ap.load_pose_from_file()"
   ]
  },
  {
   "cell_type": "code",
   "execution_count": null,
   "id": "a168ce65-95a5-45f8-bbbb-23e1db1dca53",
   "metadata": {},
   "outputs": [],
   "source": [
    "ap.pose_from_positrack_files(ses=ses, interpolation_frequency_hz = 50, extension=\"positrack\")"
   ]
  },
  {
   "cell_type": "code",
   "execution_count": null,
   "id": "fd64b58c-572e-4166-9a7a-3c4e72507f7d",
   "metadata": {},
   "outputs": [],
   "source": [
    "np.nanmax(ap.pose[:,6])"
   ]
  },
  {
   "cell_type": "code",
   "execution_count": null,
   "id": "db6b9e2d-d8d9-457e-9520-49bbe0c656a2",
   "metadata": {},
   "outputs": [],
   "source": [
    "ap.ttl_ups[0].shape"
   ]
  },
  {
   "cell_type": "code",
   "execution_count": null,
   "id": "1cb45bcb-af3d-445c-a71c-86f93e050030",
   "metadata": {},
   "outputs": [],
   "source": [
    "ap.ttl_ups"
   ]
  },
  {
   "cell_type": "markdown",
   "id": "2ef12f06-206a-454b-ae41-307a875415a8",
   "metadata": {},
   "source": [
    "Plot the path of the animal to see if it was loaded correctly."
   ]
  },
  {
   "cell_type": "code",
   "execution_count": null,
   "id": "9f341e38-5768-4795-880b-3d7f8bc89cdc",
   "metadata": {},
   "outputs": [],
   "source": [
    "plt.plot(ap.pose[:,1],ap.pose[:,2])\n",
    "plt.xlabel(\"x\")\n",
    "plt.ylabel(\"y\")\n",
    "plt.gca().set_aspect('equal', adjustable='box')"
   ]
  },
  {
   "cell_type": "markdown",
   "id": "479ba346-1d83-4bf7-8062-3af0824ae7dc",
   "metadata": {},
   "source": [
    "Plot the occupancy map to see where the animal spent more or less time.\n",
    "\n",
    "(The image seems mirrored since the x/y-axis for imshow is different compared to the plot function.)"
   ]
  },
  {
   "cell_type": "code",
   "execution_count": null,
   "id": "48c1a3ad-34fd-403c-8b52-0f22ab79feff",
   "metadata": {},
   "outputs": [],
   "source": [
    "ap.occupancy_map_2d()\n",
    "plt.imshow(ap.occupancy_map)\n",
    "plt.show()"
   ]
  },
  {
   "cell_type": "markdown",
   "id": "1ac7d0c3-019e-4d84-9c1b-d76d44139e3e",
   "metadata": {},
   "source": [
    "Plot the head-direction of the animal and its position a short segment."
   ]
  },
  {
   "cell_type": "code",
   "execution_count": null,
   "id": "c6373ea3-286c-4985-b538-9e58dc95dbeb",
   "metadata": {},
   "outputs": [],
   "source": [
    "s=3000\n",
    "e=3800\n",
    "plt.plot(ap.pose[s:e,4])\n",
    "plt.ylabel(\"Head-direction\")\n",
    "plt.show()\n",
    "plt.plot(ap.pose[s:e,1],ap.pose[s:e,2])"
   ]
  },
  {
   "cell_type": "markdown",
   "id": "11743999-6594-427d-a55e-a377c4a7d689",
   "metadata": {},
   "source": [
    "Now we need to set the SpatialProperties object of each Neuron objects of the CellGroup.\n",
    "Then we can get information score for each neuron from a firing rate map without smoothing.\n",
    "We recalculate the maps with smoothing for display purposes."
   ]
  },
  {
   "cell_type": "code",
   "execution_count": null,
   "id": "f4acf420-955f-40ad-bd0d-a89168a79a39",
   "metadata": {},
   "outputs": [],
   "source": [
    "ap.head_direction_occupancy_histogram()\n",
    "plt.plot(ap.hd_occupancy_bins[:-1],ap.hd_occupancy_histogram)\n",
    "plt.ylim(0,np.max(ap.hd_occupancy_histogram)+2)\n",
    "plt.ylabel(\"Time (sec)\")\n",
    "plt.xlabel(\"Head direction (deg)\")"
   ]
  },
  {
   "cell_type": "code",
   "execution_count": null,
   "id": "844f3a02-640a-44fc-bb90-98ebf45f01a8",
   "metadata": {},
   "outputs": [],
   "source": [
    "print(\"raio invalid HD =\" , sum(np.isnan(ap.pose[:,4])) / len(ap.pose[:,4]))"
   ]
  },
  {
   "cell_type": "code",
   "execution_count": null,
   "id": "ccfd8ab5-1dc7-409e-b4b0-d6cf8ecf4483",
   "metadata": {},
   "outputs": [],
   "source": [
    "## demo execution for one neuron\n",
    "\n",
    "# polar plot\n",
    "n = cg.neuron_list[1]\n",
    "n.set_spatial_properties(ap)\n",
    "n.spatial_properties.firing_rate_head_direction_histogram(smoothing=False)\n",
    "\n",
    "angles = n.spatial_properties.mid_point_from_edges(n.spatial_properties.firing_rate_head_direction_histo_edges)\n",
    "hd_firing = n.spatial_properties.firing_rate_head_direction_histo\n",
    "\n",
    "hd_mean_direction_rad, hd_mean_direction_deg, hd_mean_vector_length, hd_peak_angle_rad, hd_peak_rate = n.spatial_properties.head_direction_score()\n",
    "\n",
    "#print(\"angles:\",len(angles),angles)\n",
    "#print(\"hd_firing:\",len(data),data)\n",
    "\n",
    "print(\"hd_mean_direction_rad, hd_mean_direction_deg, hd_mean_vector_length\",hd_mean_direction_rad, hd_mean_direction_deg, hd_mean_vector_length)\n",
    "\n",
    "fig, ax = plt.subplots(subplot_kw={'projection': 'polar'})\n",
    "#ax.plot(angles, data)\n",
    "ax.plot(np.append(angles,angles[0]), np.append(hd_firing,hd_firing[0]))\n",
    "ax.grid(True)\n",
    "#ax.axvline(hd_mean_direction_rad, hd_mean_vector_length, color=\"black\")\n",
    "ax.set_title(\"Head direction\")\n",
    "plt.show()"
   ]
  },
  {
   "cell_type": "code",
   "execution_count": null,
   "id": "9e42f21a-9f0e-41d7-8733-15f96427be94",
   "metadata": {},
   "outputs": [],
   "source": [
    "\n",
    "for i,(tn,iv,en) in enumerate(zip(ses.trial_names, ses.trial_intervals.inter, ses.desen)):\n",
    "    \n",
    "    print(\"Trial\",i,\"(\"+tn+\")\")\n",
    "    \n",
    "    print(\"environment:\",en)\n",
    "    \n",
    "    if en==\"rb\":\n",
    "        continue\n",
    "    \n",
    "    iv=np.array([iv])\n",
    "    print(\"Interval:\",iv)\n",
    "\n",
    "    # reset and set intervals\n",
    "    n.spike_train.unset_intervals()\n",
    "    ap.unset_intervals()\n",
    "    n.spike_train.set_intervals(iv)\n",
    "    ap.set_intervals(iv)\n",
    "    n.set_spatial_properties(ap)\n",
    "    \n",
    "    # occupancy map\n",
    "    ap.occupancy_map_2d()\n",
    "    plt.imshow(ap.occupancy_map)\n",
    "    plt.title(\"occupancy map\")\n",
    "    #plt.gca().set_aspect('equal', adjustable='box')\n",
    "    plt.gca().axis('equal')\n",
    "    plt.show()\n",
    "    print(\"occupancy map\",type(ap.occupancy_map),ap.occupancy_map.shape)\n",
    "    \n",
    "    \n",
    "    #xy_range = np.array([[0,0],[70,70]]) # [[xmin,ymin],[xmax,ymax]]\n",
    "    xy_range = ap.invalid_outside_spatial_area(shape = \"square\", length=70)\n",
    "    print(\"xy_range\",xy_range)\n",
    "    ap.occupancy_map_2d(xy_range=xy_range)\n",
    "    plt.imshow(ap.occupancy_map)\n",
    "    plt.title(\"occupancy map\")\n",
    "    #plt.gca().set_aspect('equal', adjustable='box')\n",
    "    plt.gca().axis('equal')\n",
    "    plt.show()\n",
    "    print(\"occupancy map\",type(ap.occupancy_map),ap.occupancy_map.shape)\n",
    "    \n",
    "    # spatial firing map \n",
    "    n.spatial_properties.firing_rate_map_2d(cm_per_bin =2, smoothing_sigma_cm = 2, smoothing=True)\n",
    "    plt.imshow(n.spatial_properties.firing_rate_map,cmap='jet')\n",
    "    plt.title(\"clu:{}, mRate:{:.3} Hz\".format(n.name,n.spike_train.mean_firing_rate()))\n",
    "    plt.show()\n",
    "   \n",
    "    print(\"\")\n"
   ]
  },
  {
   "cell_type": "code",
   "execution_count": null,
   "id": "b4bb039e-5e6f-4208-9686-4c642b590ee9",
   "metadata": {},
   "outputs": [],
   "source": [
    "ses.n_trials"
   ]
  },
  {
   "cell_type": "code",
   "execution_count": null,
   "id": "939bc876-47e9-4318-bf09-ef43dfbc2eef",
   "metadata": {},
   "outputs": [],
   "source": [
    "trials_environments = [ en for en in ses.desen if not en==\"rb\" ]"
   ]
  },
  {
   "cell_type": "code",
   "execution_count": null,
   "id": "fe832c2c-12b5-479e-8367-5e4626774623",
   "metadata": {},
   "outputs": [],
   "source": [
    "trials_environments"
   ]
  },
  {
   "cell_type": "code",
   "execution_count": null,
   "id": "a18ec9f3-da30-4aa4-aced-b503d8d6df45",
   "metadata": {},
   "outputs": [],
   "source": [
    "n.spike_train.st"
   ]
  },
  {
   "cell_type": "code",
   "execution_count": null,
   "id": "66b70590-2cae-42e8-b590-431108cc8b53",
   "metadata": {},
   "outputs": [],
   "source": [
    "\n",
    "fig, axs = plt.subplots(len(cg.neuron_list), len(trials_environments), figsize=(25, 5*len(cg.neuron_list)))\n",
    "\n",
    "for i, n in enumerate(cg.neuron_list):\n",
    "    \n",
    "    n.set_spatial_properties(ap)\n",
    "    \n",
    "    j=0\n",
    "    \n",
    "    for t,(tn,iv,en) in enumerate(zip(ses.trial_names, ses.trial_intervals.inter, ses.desen)):\n",
    "        \n",
    "        n.set_spatial_properties(ap)\n",
    "\n",
    "        #print(\"Trial\",t,\"(\"+tn+\")\")\n",
    "\n",
    "        #print(\"environment:\",en)\n",
    "        \n",
    "        if en==\"rb\":\n",
    "            continue\n",
    "\n",
    "\n",
    "        iv=np.array([iv])\n",
    "        #print(\"Interval:\",iv)\n",
    "\n",
    "        # reset and set intervals\n",
    "        #n.spike_train.unset_intervals()\n",
    "        #ap.unset_intervals()\n",
    "        n.spike_train.set_intervals(iv)\n",
    "        ap.set_intervals(iv)\n",
    "\n",
    "        # spatial firing map \n",
    "        n.spatial_properties.firing_rate_map_2d(cm_per_bin =2, smoothing_sigma_cm = 2, smoothing=True)\n",
    "        \n",
    "        axs[i,j].imshow(n.spatial_properties.firing_rate_map,cmap='jet')\n",
    "        gs=n.spatial_properties.grid_score()\n",
    "        \n",
    "        fw='bold' if gs>.4 else 'normal'\n",
    "            \n",
    "        axs[i,j].set_title(\"clu:{}, mRate:{:.3} Hz, grid score:{:.3}\".format(n.name,n.spike_train.mean_firing_rate(),gs) + \"\\n\" + \"Trial \"+str(t+1)+\" (\"+tn+\")\"+\"\\n\"+\"environment: \"+en, fontweight=fw)\n",
    "        j+=1\n",
    "        \n",
    "\n",
    "        #print(\"\")\n",
    "        \n",
    "    #testing\n",
    "    #if i>2:\n",
    "    #    break\n",
    "\n",
    "plt.tight_layout()\n",
    "fig.subplots_adjust(wspace=0.33, hspace=.5)\n",
    "plt.savefig('/home/pascal/Documents/science_docs/analysis_results/'+name+'_trials.pdf')\n",
    "plt.show()\n"
   ]
  },
  {
   "cell_type": "code",
   "execution_count": null,
   "id": "8117b1e8-d2a9-47ed-8671-c56426285f1d",
   "metadata": {},
   "outputs": [],
   "source": [
    "# map correlation\n",
    "\n",
    "print(\"map correlation\")\n",
    "\n",
    "for i, n in enumerate(cg.neuron_list):\n",
    "    \n",
    "    print(i,n.name)\n",
    "    \n",
    "    n.set_spatial_properties(ap)    \n",
    "    maps=[] # maps to compare with\n",
    "    \n",
    "    for t,(tn,iv,en) in enumerate(zip(ses.trial_names, ses.trial_intervals.inter, ses.desen)):\n",
    "\n",
    "        print(\"Trial\",t,\"(\"+tn+\")\")\n",
    "\n",
    "        print(\"environment:\",en)\n",
    "        \n",
    "        if en==\"rb\":\n",
    "            continue\n",
    "\n",
    "        iv=np.array([iv])\n",
    "        print(\"Interval:\",iv)\n",
    "        \n",
    "        # reset and set intervals\n",
    "        #n.spike_train.unset_intervals()\n",
    "        #ap.unset_intervals()\n",
    "        n.spike_train.set_intervals(iv)\n",
    "        ap.set_intervals(iv)\n",
    "\n",
    "        # spatial firing map \n",
    "        # xy_range=[[xmin,ymin],[xmax,ymax]]\n",
    "        ## if t==2:\n",
    "        ##     xy_range=np.array([[7,1],[44,36]])\n",
    "        ## else:\n",
    "        ##    xy_range=None\n",
    "        ## n.spatial_properties.firing_rate_map_2d(cm_per_bin =2, smoothing_sigma_cm = 2, smoothing=True, xy_range=xy_range)\n",
    "        \n",
    "        \n",
    "        n.spatial_properties.ap.invalid_outside_spatial_area(shape = \"square\", length=70)\n",
    "        n.spatial_properties.firing_rate_map_2d(cm_per_bin =2, smoothing_sigma_cm = 2, smoothing=True)\n",
    "        \n",
    "        \n",
    "        firing_rate_map = n.spatial_properties.firing_rate_map\n",
    "        \n",
    "        if t==0:\n",
    "            map1 = firing_rate_map\n",
    "        else:\n",
    "            maps.append(firing_rate_map)\n",
    "        \n",
    "\n",
    "        #print(\"\")\n",
    "        \n",
    "    #testing\n",
    "    #if i>2:\n",
    "    #    break\n",
    "    \n",
    "    for map2 in maps:\n",
    "        print(\"map1\",map1.shape)\n",
    "        plt.imshow(map1)\n",
    "        plt.title(\"map1\")\n",
    "        plt.show()\n",
    "        print(\"map2\",map2.shape)\n",
    "        plt.imshow(map2)\n",
    "        plt.title(\"map2\")\n",
    "        plt.show()\n",
    "        p = n.spatial_properties.map_crosscorrelation(map1=map1, map2=map2)\n",
    "        print(\"p=\",p)"
   ]
  },
  {
   "cell_type": "markdown",
   "id": "cd5daaef-00b9-4206-a087-4a0f6ab93fe7",
   "metadata": {},
   "source": [
    "Loop for our neurons and do the analysis we need to know if we have spatially selective neurons or head-direction cells"
   ]
  },
  {
   "cell_type": "code",
   "execution_count": null,
   "id": "9e95677e-2bb4-4f44-99cf-9d9a5d86dc24",
   "metadata": {},
   "outputs": [],
   "source": [
    "ses.trial_intervals.inter"
   ]
  },
  {
   "cell_type": "code",
   "execution_count": null,
   "id": "4dea872f-2342-4806-a05f-d119a005846e",
   "metadata": {},
   "outputs": [],
   "source": [
    "hd_firing_list=[] # neurons tuning curve\n",
    "hd_ifr_list=[] # ifr list\n",
    "spike_trains = [] # spike trains\n",
    "\n",
    "\n",
    "# from matplotlib.patches import Rectangle\n",
    "\n",
    "cols = 8\n",
    "\n",
    "fig, axs = plt.subplots(len(cg.neuron_list), cols, figsize=(25, 5*len(cg.neuron_list)))\n",
    "   \n",
    "for i, n in enumerate(cg.neuron_list):\n",
    "    \n",
    "    # temporal auto-correlation\n",
    "      \n",
    "    n.spike_train.spike_time_autocorrelation(bin_size_sec=0.0005,min_sec=-0.05, max_sec=0.05)\n",
    "    timestamp = n.spike_train.mid_point_from_edges(n.spike_train.st_autocorrelation_histogram[1])\n",
    "    axs[i,0].plot(timestamp, n.spike_train.st_autocorrelation_histogram[0])\n",
    "    \n",
    "    n.spike_train.spike_time_autocorrelation(bin_size_sec=0.0025,min_sec=-0.5, max_sec=0.5)\n",
    "    timestamp = n.spike_train.mid_point_from_edges(n.spike_train.st_autocorrelation_histogram[1])\n",
    "    axs[i,1].plot(timestamp, n.spike_train.st_autocorrelation_histogram[0])\n",
    "    \n",
    "    \n",
    "    # clear intervals\n",
    "    \n",
    "    n.spike_train.unset_intervals()\n",
    "    ap.unset_intervals()\n",
    "    n.spike_train.set_intervals(ses.trial_intervals.inter)\n",
    "    ap.set_intervals(ses.trial_intervals.inter)\n",
    "    \n",
    "    # spatial firing map \n",
    "    \n",
    "    n.set_spatial_properties(ap)\n",
    "    n.spatial_properties.firing_rate_map_2d(cm_per_bin =2, smoothing_sigma_cm = 2, smoothing=True)\n",
    "    im = axs[i,2].imshow(n.spatial_properties.firing_rate_map,cmap='jet')\n",
    "    axs[i,2].set_title(\"clu:{}, mRate:{:.3} Hz\".format(n.name,n.spike_train.mean_firing_rate()))\n",
    "    fig.colorbar(im,ax=axs[i,2])\n",
    "    \n",
    "    \n",
    "    # Spatial autocorrelation Map & Grid Score\n",
    "    gs = n.spatial_properties.grid_score()\n",
    "    \n",
    "    fw = \"bold\" if gs>.4 else \"normal\"\n",
    "    \n",
    "    axs[i,3].imshow(n.spatial_properties.spatial_autocorrelation_map)\n",
    "    axs[i,3].set_title(\"spatial autocorrelation\"+\"\\n\"+\"Grid Score: \"+str(round(gs,2)), fontweight=fw)\n",
    "    \n",
    "    # Head direction\n",
    "    \n",
    "    n.spatial_properties.firing_rate_head_direction_histogram(smoothing=False)\n",
    "    \n",
    "    angles = n.spatial_properties.mid_point_from_edges(n.spatial_properties.firing_rate_head_direction_histo_edges)\n",
    "    hd_firing = n.spatial_properties.firing_rate_head_direction_histo\n",
    "    hd_mean_direction_rad, hd_mean_direction_deg, hd_mean_vector_length, hd_peak_angle_rad, hd_peak_rate = n.spatial_properties.head_direction_score()\n",
    "    \n",
    "    axs[i,4].plot(angles, hd_firing)\n",
    "    axs[i,4].set_xlabel(\"Head direction\")\n",
    "    axs[i,4].set_ylabel(\"Firing rate (Hz)\")\n",
    "    axs[i,4].set_ylim(0,np.max(n.spatial_properties.firing_rate_head_direction_histo)*1.2)\n",
    "    axs[i,4].axvline(x=hd_mean_direction_rad, color=\"black\")\n",
    "    #axs[i,4].text(s=str(round(hd_mean_direction_rad*180./np.pi))+\" ° (vector length = \"+str(hd_mean_vector_length)+\")\",x=hd_mean+.1,y=1)\n",
    "    \n",
    "    fw = \"bold\" if hd_mean_vector_length>.4 else \"normal\"\n",
    "    axs[i,5].axis('off')\n",
    "    ax2 = fig.add_subplot(len(cg.neuron_list), cols, cols*i+6, polar=True)\n",
    "    #ax2.plot(angles, hd_firing)\n",
    "    ax2.plot(np.append(angles,angles[0]), np.append(hd_firing,hd_firing[0]))\n",
    "    ax2.plot([hd_mean_direction_rad]*2, [0,max(hd_firing)] , color=\"blue\", alpha=hd_mean_vector_length, lw=2.5  )\n",
    "    ax2.set_title(\"Head direction\" + \"\\n\" + \"mean direction: \" + str(round( (hd_mean_direction_deg + 360) % 360  )) +\"°\" + \"\\n\" + \"mean vector length: \" + str(np.round(hd_mean_vector_length,2))  , fontweight=fw) \n",
    "    ax2.grid(True)\n",
    "    \n",
    "    \n",
    "    # Wavefroms\n",
    "    \n",
    "    cluster = int(n.name) # current cluster name\n",
    "    channels = ses.get_channels_from_cluster(cluster) # get channels with highest amplitude\n",
    "    \n",
    "    if (len(channels)):\n",
    "    \n",
    "        for j,channel in enumerate(channels):\n",
    "            channel_mapped, waveform = ses.get_waveform(cluster, channel)\n",
    "            axs[i,6].axhline( y = -j*.5 , color=\"grey\" , lw=.5 )\n",
    "            #label = \"channel: \"+str(channel)+\" (\"+str(channel_mapped)+\")\"\n",
    "            label = \"channel \"+str(channel_mapped)\n",
    "            axs[i,6].plot( waveform -j*.5 , label=label , color=\"blue\")\n",
    "            axs[i,6].text( s= label , x=0, y=-j*.5 +.1 )\n",
    "        axs[i,6].set_xlabel(\"time sample\")\n",
    "        axs[i,6].set(yticklabels=[])  \n",
    "        axs[i,6].set_title(\"Waveform of Cluster \"+str(cluster))\n",
    "        \n",
    "    # shanks\n",
    "    active_shanks, shanks_arr = ses.get_active_shanks(channels)\n",
    "   \n",
    "    for j, (shank, active) in enumerate(zip(shanks_all, shanks_arr)):\n",
    "        color = 'blue' if active else 'gray'\n",
    "        circle = plt.Circle((j,0), 0.2, color=color)\n",
    "        axs[i,7].add_patch(circle)\n",
    "\n",
    "    \n",
    "    axs[i,7].axis('off')\n",
    "    axs[i,7].set_title(\"Active Shanks for cluster \"+str(cluster)+\"\\n\"+', '.join([str(int(active_shank)) for active_shank in active_shanks]))\n",
    "    \n",
    "    axs[i,7].set_xlim([-1, len(shanks_all)])\n",
    "    axs[i,7].set_ylim([-0.5, 0.5])\n",
    "    \n",
    "    ###########################\n",
    "    # classify, find category: Grid cell, HD cell\n",
    "    \n",
    "    if (hd_mean_vector_length > 0.4):\n",
    "        n.spike_train.instantaneous_firing_rate(bin_size_sec=2.e-2)\n",
    "        print(\"n.name\",n.name)\n",
    "        print(\"n.spike_train.ifr\",n.spike_train.ifr)\n",
    "        print(\"n.spike_train.st\",n.spike_train.st)\n",
    "        \n",
    "        hd_firing_list.append(hd_firing)\n",
    "        hd_ifr_list.append(n.spike_train.ifr)\n",
    "        spike_trains.append(n.spike_train.st)\n",
    "        \n",
    "        #rect = Rectangle((0.08, 1-(i+.5)/len(cg.neuron_list)), 0.85, 1/len(cg.neuron_list), facecolor='yellow', edgecolor='none', transform=fig.transFigure, zorder=-1)\n",
    "        #fig.patches.append(rect)\n",
    "\n",
    "    \n",
    "    \n",
    "#plt.tight_layout()\n",
    "fig.subplots_adjust(wspace=0.33, hspace=.5)\n",
    "plt.savefig('/home/pascal/Documents/science_docs/analysis_results/'+name+'.pdf')\n",
    "plt.show()\n"
   ]
  },
  {
   "cell_type": "code",
   "execution_count": null,
   "id": "0d716cbe-d2e1-4d25-8b74-252e7b19a33d",
   "metadata": {},
   "outputs": [],
   "source": [
    "angles = np.array(angles)\n",
    "print(\"angles.shape\",angles.shape)\n",
    "\n",
    "hd_firing_list = np.array(hd_firing_list)\n",
    "print(\"hd_firing_list.shape\",hd_firing_list.shape)\n",
    "\n",
    "hd_ifr_list = np.array(hd_ifr_list)\n",
    "print(\"hd_ifr_list.shape\",hd_ifr_list.shape)\n",
    "\n",
    "spike_trains = np.array(spike_trains)\n",
    "print(\"spike_trains.shape\",spike_trains.shape)\n",
    "'''\n",
    "np.save(\"angles.npy\",angles)\n",
    "np.save(\"hd_firing_list.npy\",hd_firing_list)\n",
    "np.save(\"hd_ifr_list.npy\",hd_ifr_list)\n",
    "np.save(\"ap-pose.npy\",ap.pose)\n",
    "np.save(\"spike_trains.npy\",spike_trains)\n",
    "#'''\n",
    "plt.plot(hd_ifr_list[0,2])\n",
    "ap.pose[:,0].shape\n",
    "hd_ifr_list[0,2,:].shape\n",
    "ap.pose[:,0]\n",
    "hd_ifr_list[0,2,:]"
   ]
  }
 ],
 "metadata": {
  "kernelspec": {
   "display_name": "Python 3 (ipykernel)",
   "language": "python",
   "name": "python3"
  },
  "language_info": {
   "codemirror_mode": {
    "name": "ipython",
    "version": 3
   },
   "file_extension": ".py",
   "mimetype": "text/x-python",
   "name": "python",
   "nbconvert_exporter": "python",
   "pygments_lexer": "ipython3",
   "version": "3.8.10"
  }
 },
 "nbformat": 4,
 "nbformat_minor": 5
}
