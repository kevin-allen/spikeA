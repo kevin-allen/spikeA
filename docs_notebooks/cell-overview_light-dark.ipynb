{
 "cells": [
  {
   "cell_type": "markdown",
   "id": "0cb6c6f0-cf2d-4c6d-b616-0fb66fc2a879",
   "metadata": {},
   "source": [
    "# **Analysis for Light/Dark protocol**"
   ]
  },
  {
   "cell_type": "markdown",
   "id": "53ddf6c0-9a03-448b-afd8-e47a4a829593",
   "metadata": {},
   "source": [
    "## This analysis script is well suited to analyse the data from the light/dark protocol: 20min initial baseline light + multiple times off/on + final light baseline."
   ]
  },
  {
   "cell_type": "markdown",
   "id": "d8e548bc-a9d9-42c1-b16f-004d1e5e4591",
   "metadata": {},
   "source": [
    "load modules"
   ]
  },
  {
   "cell_type": "code",
   "execution_count": 1,
   "id": "31b47eb4-8a08-4a20-8219-ea4617d2bb1a",
   "metadata": {},
   "outputs": [],
   "source": [
    "%load_ext autoreload\n",
    "\n",
    "%autoreload 2\n",
    "import numpy as np\n",
    "import math\n",
    "import matplotlib.pyplot as plt\n",
    "import matplotlib.gridspec as gridspec\n",
    "import matplotlib.patches as patches\n",
    "%matplotlib inline\n",
    "from spikeA.Session import *\n",
    "from spikeA.Spike_train_loader import Spike_train_loader\n",
    "from spikeA.Cell_group import Cell_group\n",
    "from spikeA.Animal_pose import Animal_pose\n",
    "from spikeA.Session import Session\n",
    "from spikeA.Intervals import Intervals\n",
    "from spikeA.ttl import detectTTL"
   ]
  },
  {
   "cell_type": "markdown",
   "id": "76b86e7f-70bd-4e59-a668-728da7a23fac",
   "metadata": {},
   "source": [
    "set session name"
   ]
  },
  {
   "cell_type": "code",
   "execution_count": 2,
   "id": "e953f9a7-44e0-4df4-80c7-50d1c7b6a130",
   "metadata": {},
   "outputs": [],
   "source": [
    "# name=\"pk3864-10022022-0101\"\n",
    "# name=\"pk3864-11022022-0101\"\n",
    "# name=\"pk3864-16022022-0101\"\n",
    "# name=\"pk3864-21022022-0101\"\n",
    "# name=\"pk3864-23022022-0101\"\n",
    "# name=\"pk3864-24022022-0101\"\n",
    "# name=\"pk3864-25022022-0101\"\n",
    "# name=\"pk3864-28022022-0101\"\n",
    "# name=\"pk3864-01032022-0103\"\n",
    "# name=\"pk3864-03032022-0103\"\n",
    "# name=\"pk3864-08032022-0103\"\n",
    "# name=\"pk3864-09032022-0101\"\n",
    "# name=\"pk3864-10032022-0101\"\n",
    "# name=\"bt64245-14032022-0101\" # only MEC implanted (64ch Cambridge), investigate grid cells rotation\n",
    "# name=\"bt64245-15032022-0101\"\n",
    "# name=\"pk3864-17032022-0101\"\n",
    "\n",
    "name=\"pk3190-31052022-0102\"\n",
    "name=\"pk3190-01062022-0103\"\n",
    "#name=\"pk3190-03062022-0102\"\n",
    "name=\"pk3190-06062022-0102\"\n",
    "#name=\"pk3190-07062022-0103\""
   ]
  },
  {
   "cell_type": "markdown",
   "id": "3bb072d0-92ec-4ca3-9254-4fb858575a10",
   "metadata": {},
   "source": [
    "Check the path"
   ]
  },
  {
   "cell_type": "code",
   "execution_count": 3,
   "id": "aa1a3645-dbea-4718-84c1-5e9cf14e4ceb",
   "metadata": {},
   "outputs": [
    {
     "name": "stdout",
     "output_type": "stream",
     "text": [
      "Path: /adata/electro/pk3190/pk3190-06062022-0102/\n",
      "Mouse: pk3190\n",
      "Session: 06062022-0102\n",
      "Name: pk3190-06062022-0102 , pk3190-06062022-0102\n",
      "\n",
      "Path: OK\n"
     ]
    }
   ],
   "source": [
    "import os\n",
    "\n",
    "basedir = \"/adata/electro\"\n",
    "subject, session = name.split(\"-\",1)\n",
    "path = basedir+\"/\"+subject+\"/\"+name+\"/\"\n",
    "\n",
    "fname = name.split(\"_\")[0]\n",
    "\n",
    "print(\"Path:\", path)\n",
    "print(\"Mouse:\", subject) # directory = mouse subject name\n",
    "print(\"Session:\", session)\n",
    "print(\"Name:\", name, \",\", fname)\n",
    "print(\"\")\n",
    "print(\"Path:\", \"OK\" if os.path.isdir(path) else \"invalid\")"
   ]
  },
  {
   "cell_type": "markdown",
   "id": "278b9128-bcf6-4c67-b92f-2a8d76a9894c",
   "metadata": {
    "tags": []
   },
   "source": [
    "## Get a Session object"
   ]
  },
  {
   "cell_type": "markdown",
   "id": "1550c4aa-4818-4e78-b496-6e336ba27b64",
   "metadata": {},
   "source": [
    "Check the files"
   ]
  },
  {
   "cell_type": "code",
   "execution_count": 4,
   "id": "085cbfb2-d200-4e8b-8a3a-8252f4578e96",
   "metadata": {},
   "outputs": [
    {
     "name": "stdout",
     "output_type": "stream",
     "text": [
      "<class 'spikeA.Session.Kilosort_session'>\n",
      "name = pk3190-06062022-0102\n",
      "path = /adata/electro/pk3190/pk3190-06062022-0102\n",
      "subject = pk3190\n",
      "session_dat_time = 2022-06-06 01:02:00\n",
      "fileBase = /adata/electro/pk3190/pk3190-06062022-0102/pk3190-06062022-0102\n",
      "file_names = {'par': '/adata/electro/pk3190/pk3190-06062022-0102/pk3190-06062022-0102.par', 'desen': '/adata/electro/pk3190/pk3190-06062022-0102/pk3190-06062022-0102.desen', 'desel': '/adata/electro/pk3190/pk3190-06062022-0102/pk3190-06062022-0102.desel', 'sampling_rate': '/adata/electro/pk3190/pk3190-06062022-0102/pk3190-06062022-0102.sampling_rate_dat', 'stimulation': '/adata/electro/pk3190/pk3190-06062022-0102/pk3190-06062022-0102.stimulation', 'px_per_cm': '/adata/electro/pk3190/pk3190-06062022-0102/pk3190-06062022-0102.px_per_cm', 'setup': '/adata/electro/pk3190/pk3190-06062022-0102/pk3190-06062022-0102.setup', 'environmentFamiliarity': '/adata/electro/pk3190/pk3190-06062022-0102/pk3190-06062022-0102.environmentFamiliarity', 'params': '/adata/electro/pk3190/pk3190-06062022-0102/params.py', 'amplitudes': '/adata/electro/pk3190/pk3190-06062022-0102/amplitudes.npy', 'channel_map': '/adata/electro/pk3190/pk3190-06062022-0102/channel_map.npy', 'channel_positions': '/adata/electro/pk3190/pk3190-06062022-0102/channel_positions.npy', 'pc_features': '/adata/electro/pk3190/pk3190-06062022-0102/pc_features.npy', 'pc_feature_ind': '/adata/electro/pk3190/pk3190-06062022-0102/pc_feature_ind.npy', 'spike_templates': '/adata/electro/pk3190/pk3190-06062022-0102/spike_templates.npy', 'templates': '/adata/electro/pk3190/pk3190-06062022-0102/templates.npy', 'spike_times': '/adata/electro/pk3190/pk3190-06062022-0102/spike_times.npy', 'spike_clusters': '/adata/electro/pk3190/pk3190-06062022-0102/spike_clusters.npy', 'cluster_group': '/adata/electro/pk3190/pk3190-06062022-0102/cluster_group.tsv', 'dat': ['/adata/electro/pk3190/pk3190-06062022-0102/pk3190-06062022_01.dat', '/adata/electro/pk3190/pk3190-06062022-0102/pk3190-06062022_02.dat']}\n",
      "desen = ['circ80', 'circ80']\n",
      "desel = ['adn', 'adn', 'adn', 'adn', 'mec', 'mec', 'mec', 'mec']\n",
      "stimulation = ['none', 'none']\n",
      "setup = ['55', '55']\n",
      "environmentFamiliarity = ['fam', 'fam']\n",
      "px_per_cm = 5.7\n",
      "n_channels = 65\n",
      "sampling_rate = 20000\n",
      "n_shanks = 8\n",
      "n_trials = 2\n",
      "trial_names = ['pk3190-06062022_01', 'pk3190-06062022_02']\n",
      "dat_file_names = ['/adata/electro/pk3190/pk3190-06062022-0102/pk3190-06062022_01.dat', '/adata/electro/pk3190/pk3190-06062022-0102/pk3190-06062022_02.dat']\n",
      "trial_intervals = <spikeA.Intervals.Intervals object at 0x7fb9a01b9640>\n",
      "log_times = [   0.         1427.45708126 1555.17291974 1679.37346014 1803.86284968\n",
      " 1927.64399028 2052.21441092 2178.15206804 2303.27413576 2428.3981395\n",
      " 2552.04398128 2675.71401227 2799.36852608 2923.0318305  3046.68936286\n",
      " 3170.36524213 3293.9275492  3417.62156248 3541.21948018 3664.89287998\n",
      " 3788.49249533 3912.15571959 4035.73981152 4159.79572184 4283.40829714\n",
      " 4407.08618497 4530.73139733 4654.41199857 4778.03960551 4901.71322022\n",
      " 5025.26998855 5148.95678976 5273.11847926 5396.78531582 5520.42142568\n",
      " 5644.09258599 5767.73350964 5891.41223372 6015.02656522 6138.73894341\n",
      " 6262.36287377 7518.29995   ]\n"
     ]
    }
   ],
   "source": [
    "ses = Kilosort_session(name=fname, path=path)\n",
    "ses.load_parameters_from_files(ignore_params=True)  # ignore_params if kilosort has not been executed so far\n",
    "print(ses)"
   ]
  },
  {
   "cell_type": "code",
   "execution_count": 5,
   "id": "4e9eb3cc-057c-4449-8399-fb50a460e316",
   "metadata": {},
   "outputs": [
    {
     "data": {
      "text/plain": [
       "array([[   0.     , 6540.03595],\n",
       "       [6540.036  , 7518.29995]])"
      ]
     },
     "execution_count": 5,
     "metadata": {},
     "output_type": "execute_result"
    }
   ],
   "source": [
    "ses.trial_intervals.inter"
   ]
  },
  {
   "cell_type": "markdown",
   "id": "68d6b231-be82-47c1-a98c-38b6f41f5c22",
   "metadata": {
    "tags": []
   },
   "source": [
    "## Load spikes"
   ]
  },
  {
   "cell_type": "code",
   "execution_count": 6,
   "id": "50d9c076-4fb3-4411-9544-f7b57ffc3a5e",
   "metadata": {},
   "outputs": [
    {
     "name": "stdout",
     "output_type": "stream",
     "text": [
      "stl.clu_ids [  3   4   6   7   8  10  11  12  13  14  16  17  19  22  23  25  26  29\n",
      "  30  31  33  36  37  39  55  56  76  77  78  79  80  81  82  84  85  86\n",
      "  87  88  89  90  92  96  97 102 103 107 119 121 122 123]\n"
     ]
    }
   ],
   "source": [
    "stl = Spike_train_loader()\n",
    "stl.load_spike_train_kilosort(ses)\n",
    "print(\"stl.clu_ids\",stl.clu_ids)\n",
    "cg = Cell_group(stl)"
   ]
  },
  {
   "cell_type": "markdown",
   "id": "e94b4314-1754-4c69-8547-b4f551b5786c",
   "metadata": {
    "jp-MarkdownHeadingCollapsed": true,
    "tags": []
   },
   "source": [
    "## Load the waveforms"
   ]
  },
  {
   "cell_type": "markdown",
   "id": "07cb62bf-8e84-4519-b766-80e554a01b91",
   "metadata": {},
   "source": [
    "Set the waveform and channel information from the session template file."
   ]
  },
  {
   "cell_type": "code",
   "execution_count": 7,
   "id": "56267bf0-37be-4162-988d-3c6d54d74a9d",
   "metadata": {},
   "outputs": [
    {
     "name": "stdout",
     "output_type": "stream",
     "text": [
      "Templates: 122 , timepoints: 82 , Channels: 64\n",
      "Loaded templates-clusters-map, spikes: 3536339 , clusters: 120\n",
      "Init shanks: 8\n"
     ]
    }
   ],
   "source": [
    "cg.set_info_from_session(ses, maxchannels=5)"
   ]
  },
  {
   "cell_type": "markdown",
   "id": "ae165088-9f6c-4ac5-8ece-2adce33c8165",
   "metadata": {},
   "source": [
    "For each cluster, print the active channels where the spikes were detected, and the corresponding brain area."
   ]
  },
  {
   "cell_type": "code",
   "execution_count": 8,
   "id": "ca78bd5b-a70c-4b44-9201-e8498d12ee33",
   "metadata": {},
   "outputs": [
    {
     "name": "stdout",
     "output_type": "stream",
     "text": [
      "adn : 24\n",
      "mec : 26\n"
     ]
    }
   ],
   "source": [
    "unique, counts = np.unique([ '/'.join(n.brain_area) for n in cg.neuron_list ] , return_counts=True )\n",
    "\n",
    "for u,c in zip(unique, counts):\n",
    "    print(u,\":\",c)"
   ]
  },
  {
   "cell_type": "markdown",
   "id": "a5bf75b2-2bfe-4cf5-9119-ff0a32df0b7e",
   "metadata": {
    "tags": []
   },
   "source": [
    "## Create a pose file "
   ]
  },
  {
   "cell_type": "code",
   "execution_count": 9,
   "id": "7d2411f1-8f50-407c-aeec-7493dbc6e7f1",
   "metadata": {},
   "outputs": [
    {
     "name": "stdout",
     "output_type": "stream",
     "text": [
      "look for /adata/electro/pk3190/pk3190-06062022-0102/pk3190-06062022-0102.pose.npy\n",
      "load from saved pose file\n"
     ]
    }
   ],
   "source": [
    "ap = Animal_pose(ses)\n",
    "posefilename = ses.fileBase + ap.pose_file_extension\n",
    "print(\"look for\", posefilename)\n",
    "if not os.path.exists(posefilename):\n",
    "    print(\"load from positrack\")\n",
    "    extension = ap.positrack_type()\n",
    "    print(\"use extension:\",extension)\n",
    "    ap.pose_from_positrack_files(ses=ses, interpolation_frequency_hz = 50, extension=extension)\n",
    "    ap.save_pose_to_file() # save the file for next time\n",
    "else:\n",
    "    print(\"load from saved pose file\")\n",
    "    ap.load_pose_from_file()"
   ]
  },
  {
   "cell_type": "code",
   "execution_count": 10,
   "id": "b27a0769-a2be-4ca2-b46d-23f0800f40fc",
   "metadata": {},
   "outputs": [
    {
     "data": {
      "text/plain": [
       "0.22250449568520628"
      ]
     },
     "execution_count": 10,
     "metadata": {},
     "output_type": "execute_result"
    }
   ],
   "source": [
    "ap.invalid_ratio()"
   ]
  },
  {
   "cell_type": "code",
   "execution_count": 11,
   "id": "4012870b-140f-4b75-97e0-5b62acbe4988",
   "metadata": {},
   "outputs": [
    {
     "name": "stdout",
     "output_type": "stream",
     "text": [
      "xmean,ymean 47.53878181995972 85.67137444802975\n",
      "xyrange_min,xyrange_max [ 2.53878182 49.        ] [ 92.53878182 139.        ]\n",
      "xyrange_mean [47.53878182 94.        ]\n"
     ]
    }
   ],
   "source": [
    "# find good shape automagically & crop\n",
    "diameter=90.\n",
    "xy_range=ap.find_xy_range(diameter=diameter)  ###-> do this within intervals , for each trial + use min/max to find best square that covers most of the area\n",
    "xyrange_min,xyrange_max = xy_range\n",
    "xyrange_mean = np.mean(xy_range, axis=0) # = center\n",
    "xmean,ymean = ap.meanloc\n",
    "print(\"xmean,ymean\",xmean,ymean)\n",
    "print(\"xyrange_min,xyrange_max\",xyrange_min,xyrange_max)\n",
    "print(\"xyrange_mean\",xyrange_mean)"
   ]
  },
  {
   "cell_type": "markdown",
   "id": "2ef12f06-206a-454b-ae41-307a875415a8",
   "metadata": {},
   "source": [
    "Plot the path of the animal to see if it was loaded correctly."
   ]
  },
  {
   "cell_type": "code",
   "execution_count": 12,
   "id": "9f341e38-5768-4795-880b-3d7f8bc89cdc",
   "metadata": {},
   "outputs": [
    {
     "data": {
      "image/png": "[encoded data removed]",
      "text/plain": [
       "<Figure size 432x288 with 1 Axes>"
      ]
     },
     "metadata": {
      "needs_background": "light"
     },
     "output_type": "display_data"
    }
   ],
   "source": [
    "plt.plot(ap.pose[:,1],ap.pose[:,2], alpha=.7)\n",
    "plt.xlabel(\"x (cm)\")\n",
    "plt.ylabel(\"y (cm)\")\n",
    "plt.scatter([xmean],[ymean], color=\"black\", s=75)\n",
    "plt.axvline(x=xmean, color=\"gray\", ls='dashed')\n",
    "plt.axhline(y=ymean, color=\"gray\", ls='dashed')\n",
    "plt.axvline(x=xmean+diameter/2, color=\"gray\")\n",
    "plt.axhline(y=ymean+diameter/2, color=\"gray\")\n",
    "plt.axvline(x=xmean-diameter/2, color=\"gray\")\n",
    "plt.axhline(y=ymean-diameter/2, color=\"gray\")\n",
    "\n",
    "plt.axvline(x=xyrange_min[0], color=\"black\")\n",
    "plt.axvline(x=xyrange_max[0], color=\"black\")\n",
    "plt.axhline(y=xyrange_min[1], color=\"black\")\n",
    "plt.axhline(y=xyrange_max[1], color=\"black\")\n",
    "\n",
    "circarena_center = tuple(xyrange_mean)\n",
    "circarena_radius= diameter/2\n",
    "circle1 = patches.Circle(circarena_center, circarena_radius, color='black', fill=None)\n",
    "plt.gca().add_patch(circle1)\n",
    "\n",
    "\n",
    "plt.gca().invert_yaxis()\n",
    "plt.gca().set_aspect('equal', adjustable='box')\n",
    "plt.title(\"total animal pose\")\n",
    "plt.show()"
   ]
  },
  {
   "cell_type": "code",
   "execution_count": 13,
   "id": "8708515e-334a-4729-87bd-2895d2cd8fca",
   "metadata": {},
   "outputs": [
    {
     "name": "stdout",
     "output_type": "stream",
     "text": [
      "xy_range_ [[  2.53878182  49.        ]\n",
      " [ 92.53878182 139.        ]]\n"
     ]
    }
   ],
   "source": [
    "# diameter_ = 80.\n",
    "diameter_ = diameter\n",
    "xy_range_ = ap.invalid_outside_spatial_area(shape=\"circle\", radius=diameter_/2., center=xyrange_mean)\n",
    "print(\"xy_range_\", xy_range_)"
   ]
  },
  {
   "cell_type": "code",
   "execution_count": 14,
   "id": "7134c37a-c85a-4c40-8d77-6528cd5f27f5",
   "metadata": {},
   "outputs": [
    {
     "data": {
      "image/png": "[encoded data removed]",
      "text/plain": [
       "<Figure size 432x288 with 1 Axes>"
      ]
     },
     "metadata": {
      "needs_background": "light"
     },
     "output_type": "display_data"
    }
   ],
   "source": [
    "plt.plot(ap.pose[:,1],ap.pose[:,2], alpha=.7)\n",
    "plt.xlabel(\"x (cm)\")\n",
    "plt.ylabel(\"y (cm)\")\n",
    "\n",
    "circle1 = patches.Circle(circarena_center, circarena_radius, color='black', fill=None)\n",
    "plt.gca().add_patch(circle1)\n",
    "\n",
    "plt.gca().invert_yaxis()\n",
    "plt.gca().set_aspect('equal', adjustable='box')\n",
    "plt.title(\"total animal pose, circle\")\n",
    "plt.show()"
   ]
  },
  {
   "cell_type": "markdown",
   "id": "479ba346-1d83-4bf7-8062-3af0824ae7dc",
   "metadata": {},
   "source": [
    "Plot the occupancy map to see where the animal spent more or less time."
   ]
  },
  {
   "cell_type": "code",
   "execution_count": 15,
   "id": "48c1a3ad-34fd-403c-8b52-0f22ab79feff",
   "metadata": {},
   "outputs": [
    {
     "data": {
      "image/png": "[encoded data removed]",
      "text/plain": [
       "<Figure size 432x288 with 1 Axes>"
      ]
     },
     "metadata": {
      "needs_background": "light"
     },
     "output_type": "display_data"
    }
   ],
   "source": [
    "ap.occupancy_map_2d(smoothing=True)\n",
    "plt.imshow(ap.occupancy_map.T)\n",
    "plt.scatter([24],[47],color='red')\n",
    "plt.xlabel(\"x (bin)\")\n",
    "plt.ylabel(\"y (bin)\")\n",
    "plt.title(\"entire occupancy map\")\n",
    "plt.show()"
   ]
  },
  {
   "cell_type": "code",
   "execution_count": 16,
   "id": "fa85f8d5-e48d-4bf6-bae7-6cd99345346a",
   "metadata": {},
   "outputs": [
    {
     "data": {
      "text/plain": [
       "(24, 45)"
      ]
     },
     "execution_count": 16,
     "metadata": {},
     "output_type": "execute_result"
    }
   ],
   "source": [
    "ap.coord_cm2bin(49,138)"
   ]
  },
  {
   "cell_type": "code",
   "execution_count": null,
   "id": "9a866f32-9a16-4a9e-bbc4-8960fb82f183",
   "metadata": {},
   "outputs": [],
   "source": []
  },
  {
   "cell_type": "markdown",
   "id": "d8a00134-b891-4c9f-9240-6f1aa4a8c561",
   "metadata": {
    "tags": []
   },
   "source": [
    "## Light/Dark Intervals"
   ]
  },
  {
   "cell_type": "code",
   "execution_count": 17,
   "id": "ac4a5be5-5801-435e-bf0a-277fe5c98835",
   "metadata": {},
   "outputs": [],
   "source": [
    "times = []"
   ]
  },
  {
   "cell_type": "code",
   "execution_count": 18,
   "id": "ec3e8025-6529-41eb-b864-0f51e0cf080f",
   "metadata": {},
   "outputs": [],
   "source": [
    "# if there are times in the dat file, use them even if we have times in the session\n",
    "\n",
    "if ses.n_channels == 66:\n",
    "    ## get times from dat file channel\n",
    "    print(\"get times from dat file channel\")\n",
    "    times_filename = ses.fileBase + \".times.npy\"\n",
    "    print(\"look for\", times_filename)\n",
    "    if os.path.exists(times_filename):\n",
    "        print(\"load from saved file\")\n",
    "        times = np.load(times_filename)\n",
    "    else:\n",
    "        print(\"generate from dat files\")\n",
    "        df = Dat_file_reader(file_names = ses.dat_file_names, n_channels = ses.n_channels)\n",
    "        light_channel_data = df.get_data_one_block(0,df.files_last_sample[-1],np.array([ses.n_channels-2]))\n",
    "        print(\"light_channel_data\", light_channel_data.shape)\n",
    "        ups,downs = detectTTL(ttl_data = light_channel_data)\n",
    "        print(\"ups:\",len(ups),\", downs:\",len(downs))\n",
    "        # plt.scatter(ups,np.ones(len(ups)))\n",
    "        # plt.scatter(downs,np.zeros(len(downs)))\n",
    "        times = np.sort(np.concatenate((ups/ses.sampling_rate, downs/ses.sampling_rate, np.array([0, ses.trial_intervals.inter[-1,1]]))))\n",
    "        # correct for errornous switching at the beginning\n",
    "        times = times[np.logical_or(times>1000,times==0)]\n",
    "        # save for later loading\n",
    "        np.save(times_filename, times)\n",
    "        print(\"saved\")"
   ]
  },
  {
   "cell_type": "code",
   "execution_count": 19,
   "id": "cd2953bd-7255-4f47-b116-0553237cc4c4",
   "metadata": {},
   "outputs": [
    {
     "name": "stdout",
     "output_type": "stream",
     "text": [
      "get times from external time source\n",
      "(42,)\n",
      "[   0.         1427.45708126 1555.17291974 1679.37346014 1803.86284968\n",
      " 1927.64399028 2052.21441092 2178.15206804 2303.27413576 2428.3981395\n",
      " 2552.04398128 2675.71401227 2799.36852608 2923.0318305  3046.68936286\n",
      " 3170.36524213 3293.9275492  3417.62156248 3541.21948018 3664.89287998\n",
      " 3788.49249533 3912.15571959 4035.73981152 4159.79572184 4283.40829714\n",
      " 4407.08618497 4530.73139733 4654.41199857 4778.03960551 4901.71322022\n",
      " 5025.26998855 5148.95678976 5273.11847926 5396.78531582 5520.42142568\n",
      " 5644.09258599 5767.73350964 5891.41223372 6015.02656522 6138.73894341\n",
      " 6262.36287377 7518.29995   ]\n"
     ]
    }
   ],
   "source": [
    "if not len(times):\n",
    "    ## get times from external time source\n",
    "    print(\"get times from external time source\")\n",
    "    times = ses.log_times\n",
    "    print(times.shape)\n",
    "    print(times)"
   ]
  },
  {
   "cell_type": "code",
   "execution_count": 20,
   "id": "c0a7b4be-bf84-452b-9aaf-a968eeb89e57",
   "metadata": {},
   "outputs": [],
   "source": [
    "if not len(times):\n",
    "    ## artificially create light switches (just for testing, not recommended, rather use clock sync)\n",
    "    print(\"artificially create light switches\")\n",
    "    ## light_switches = times of light switched (on/off), starts with off, at 0s switched on\n",
    "    light_switches = [0.]\n",
    "    for i in range(2*20):\n",
    "        p = 1200.+120.*i\n",
    "        light_switches.append(p)\n",
    "    light_switches.append(p+1200)\n",
    "\n",
    "    # for i,l in enumerate(light_switches):\n",
    "    #    print(\"#\",i,\" : \",l,\" (\",(i+1)%2,\")\")\n",
    "\n",
    "    # light_dark_intervals = ap.times2intervals(light_switches)\n",
    "    # print(light_dark_intervals)\n",
    "    times = light_switches"
   ]
  },
  {
   "cell_type": "code",
   "execution_count": 21,
   "id": "4b44cd86-4f2d-4416-ae17-c1a2e24d0315",
   "metadata": {},
   "outputs": [],
   "source": [
    "if not len(times):\n",
    "    raise ValueError(\"no times\")"
   ]
  },
  {
   "cell_type": "code",
   "execution_count": 22,
   "id": "af69aac2-2ad3-4c77-aee1-e9002c6b86ff",
   "metadata": {},
   "outputs": [
    {
     "name": "stdout",
     "output_type": "stream",
     "text": [
      "times: 42\n",
      "[   0.         1427.45708126 1555.17291974 1679.37346014 1803.86284968\n",
      " 1927.64399028 2052.21441092 2178.15206804 2303.27413576 2428.3981395\n",
      " 2552.04398128 2675.71401227 2799.36852608 2923.0318305  3046.68936286\n",
      " 3170.36524213 3293.9275492  3417.62156248 3541.21948018 3664.89287998\n",
      " 3788.49249533 3912.15571959 4035.73981152 4159.79572184 4283.40829714\n",
      " 4407.08618497 4530.73139733 4654.41199857 4778.03960551 4901.71322022\n",
      " 5025.26998855 5148.95678976 5273.11847926 5396.78531582 5520.42142568\n",
      " 5644.09258599 5767.73350964 5891.41223372 6015.02656522 6138.73894341\n",
      " 6262.36287377 7518.29995   ]\n"
     ]
    }
   ],
   "source": [
    "print(\"times:\",len(times))\n",
    "print(times)"
   ]
  },
  {
   "cell_type": "code",
   "execution_count": 23,
   "id": "cbfd039d-b60a-4337-8074-9f3ce324802d",
   "metadata": {},
   "outputs": [],
   "source": [
    "# np.diff(times)\n",
    "# times[0]=0\n",
    "# times[-1] = ses.trial_intervals.inter[-1,1]\n",
    "# times=np.append(times,[ses.trial_intervals.inter[-1,1]])\n",
    "# np.save(path+'times.npy',times)"
   ]
  },
  {
   "cell_type": "code",
   "execution_count": 24,
   "id": "2273d242-fd5b-4ad3-a339-671e439e85b3",
   "metadata": {},
   "outputs": [
    {
     "name": "stdout",
     "output_type": "stream",
     "text": [
      "Intervals: (41, 2)\n",
      "first:  [   0.         1427.45708126]\n",
      "last:  [6262.36287377 7518.29995   ]\n"
     ]
    }
   ],
   "source": [
    "# create intervals from logged times\n",
    "light_dark_intervals = ap.times2intervals(times)\n",
    "print(\"Intervals:\", light_dark_intervals.shape)\n",
    "print(\"first: \",light_dark_intervals[0])\n",
    "print(\"last: \",light_dark_intervals[-1])"
   ]
  },
  {
   "cell_type": "code",
   "execution_count": 25,
   "id": "c58c1e2d-c727-401b-8149-3204989f92bd",
   "metadata": {},
   "outputs": [
    {
     "name": "stdout",
     "output_type": "stream",
     "text": [
      "# 0 : [   0.         1427.45708126] - 1427.4570812634838 sec - light \n",
      "# 1 : [1427.45708126 1555.17291974] - 127.71583847848706 sec - dark \n",
      "# 2 : [1555.17291974 1679.37346014] - 124.20054039751244 sec - light \n",
      "# 3 : [1679.37346014 1803.86284968] - 124.48938953565153 sec - dark \n",
      "# 4 : [1803.86284968 1927.64399028] - 123.78114060758548 sec - light \n",
      "# 5 : [1927.64399028 2052.21441092] - 124.57042063758149 sec - dark \n",
      "# 6 : [2052.21441092 2178.15206804] - 125.9376571192538 sec - light \n",
      "# 7 : [2178.15206804 2303.27413576] - 125.12206771619958 sec - dark \n",
      "# 8 : [2303.27413576 2428.3981395 ] - 125.12400374859317 sec - light \n",
      "# 9 : [2428.3981395  2552.04398128] - 123.64584177547886 sec - dark \n",
      "# 10 : [2552.04398128 2675.71401227] - 123.67003099303656 sec - light \n",
      "# 11 : [2675.71401227 2799.36852608] - 123.65451380688091 sec - dark \n",
      "# 12 : [2799.36852608 2923.0318305 ] - 123.66330441605805 sec - light \n",
      "# 13 : [2923.0318305  3046.68936286] - 123.6575323592524 sec - dark \n",
      "# 14 : [3046.68936286 3170.36524213] - 123.67587927174964 sec - light \n",
      "# 15 : [3170.36524213 3293.9275492 ] - 123.56230707287523 sec - dark \n",
      "# 16 : [3293.9275492  3417.62156248] - 123.6940132783484 sec - light \n",
      "# 17 : [3417.62156248 3541.21948018] - 123.59791770213906 sec - dark \n",
      "# 18 : [3541.21948018 3664.89287998] - 123.67339979953476 sec - light \n",
      "# 19 : [3664.89287998 3788.49249533] - 123.59961534833155 sec - dark \n",
      "# 20 : [3788.49249533 3912.15571959] - 123.66322426674151 sec - light \n",
      "# 21 : [3912.15571959 4035.73981152] - 123.5840919299826 sec - dark \n",
      "# 22 : [4035.73981152 4159.79572184] - 124.05591031568565 sec - light \n",
      "# 23 : [4159.79572184 4283.40829714] - 123.61257530052626 sec - dark \n",
      "# 24 : [4283.40829714 4407.08618497] - 123.67788782873686 sec - light \n",
      "# 25 : [4407.08618497 4530.73139733] - 123.64521236176097 sec - dark \n",
      "# 26 : [4530.73139733 4654.41199857] - 123.68060123835858 sec - light \n",
      "# 27 : [4654.41199857 4778.03960551] - 123.6276069444375 sec - dark \n",
      "# 28 : [4778.03960551 4901.71322022] - 123.6736147055799 sec - light \n",
      "# 29 : [4901.71322022 5025.26998855] - 123.55676832875815 sec - dark \n",
      "# 30 : [5025.26998855 5148.95678976] - 123.68680121539091 sec - light \n",
      "# 31 : [5148.95678976 5273.11847926] - 124.16168950083829 sec - dark \n",
      "# 32 : [5273.11847926 5396.78531582] - 123.66683655368979 sec - light \n",
      "# 33 : [5396.78531582 5520.42142568] - 123.63610986122421 sec - dark \n",
      "# 34 : [5520.42142568 5644.09258599] - 123.67116030870875 sec - light \n",
      "# 35 : [5644.09258599 5767.73350964] - 123.64092364659427 sec - dark \n",
      "# 36 : [5767.73350964 5891.41223372] - 123.67872408632593 sec - light \n",
      "# 37 : [5891.41223372 6015.02656522] - 123.61433149811 sec - dark \n",
      "# 38 : [6015.02656522 6138.73894341] - 123.71237818810096 sec - light \n",
      "# 39 : [6138.73894341 6262.36287377] - 123.623930366678 sec - dark \n",
      "# 40 : [6262.36287377 7518.29995   ] - 1255.9370762257367 sec - light \n"
     ]
    }
   ],
   "source": [
    "for i,intv in enumerate(light_dark_intervals):\n",
    "    print(\"#\",i,\":\",intv,\"-\",np.diff(intv)[0],\"sec\",\"-\",\"dark\" if i%2 else \"light\",\"\")"
   ]
  },
  {
   "cell_type": "code",
   "execution_count": null,
   "id": "2272d80d-521a-4a96-a079-299086efe806",
   "metadata": {},
   "outputs": [],
   "source": []
  },
  {
   "cell_type": "code",
   "execution_count": 26,
   "id": "f724380a-52c7-40de-b206-3c03d3f21861",
   "metadata": {},
   "outputs": [
    {
     "name": "stdout",
     "output_type": "stream",
     "text": [
      "baseline_interval [   0.         1427.45708126]\n"
     ]
    }
   ],
   "source": [
    "# select the initial baseline\n",
    "baseline_interval = light_dark_intervals[0]\n",
    "print(\"baseline_interval\",baseline_interval)"
   ]
  },
  {
   "cell_type": "code",
   "execution_count": 27,
   "id": "c121dc44-b36b-4e23-a929-0422baba28a5",
   "metadata": {},
   "outputs": [
    {
     "name": "stdout",
     "output_type": "stream",
     "text": [
      "baseline_interval_2 [6262.36287377 7518.29995   ]\n"
     ]
    }
   ],
   "source": [
    "# select the final baseline\n",
    "baseline_interval_2 = light_dark_intervals[-1]\n",
    "print(\"baseline_interval_2\",baseline_interval_2)"
   ]
  },
  {
   "cell_type": "code",
   "execution_count": 28,
   "id": "ba39b372-c2de-45b4-baf7-7f122b53f5ff",
   "metadata": {},
   "outputs": [
    {
     "name": "stdout",
     "output_type": "stream",
     "text": [
      "dark intervals ( 20 )\n",
      "[[1427.45708126 1555.17291974]\n",
      " [1679.37346014 1803.86284968]\n",
      " [1927.64399028 2052.21441092]\n",
      " [2178.15206804 2303.27413576]\n",
      " [2428.3981395  2552.04398128]\n",
      " [2675.71401227 2799.36852608]\n",
      " [2923.0318305  3046.68936286]\n",
      " [3170.36524213 3293.9275492 ]\n",
      " [3417.62156248 3541.21948018]\n",
      " [3664.89287998 3788.49249533]\n",
      " [3912.15571959 4035.73981152]\n",
      " [4159.79572184 4283.40829714]\n",
      " [4407.08618497 4530.73139733]\n",
      " [4654.41199857 4778.03960551]\n",
      " [4901.71322022 5025.26998855]\n",
      " [5148.95678976 5273.11847926]\n",
      " [5396.78531582 5520.42142568]\n",
      " [5644.09258599 5767.73350964]\n",
      " [5891.41223372 6015.02656522]\n",
      " [6138.73894341 6262.36287377]]\n",
      "\n",
      "light intervals ( 19 )\n",
      "[[1555.17291974 1679.37346014]\n",
      " [1803.86284968 1927.64399028]\n",
      " [2052.21441092 2178.15206804]\n",
      " [2303.27413576 2428.3981395 ]\n",
      " [2552.04398128 2675.71401227]\n",
      " [2799.36852608 2923.0318305 ]\n",
      " [3046.68936286 3170.36524213]\n",
      " [3293.9275492  3417.62156248]\n",
      " [3541.21948018 3664.89287998]\n",
      " [3788.49249533 3912.15571959]\n",
      " [4035.73981152 4159.79572184]\n",
      " [4283.40829714 4407.08618497]\n",
      " [4530.73139733 4654.41199857]\n",
      " [4778.03960551 4901.71322022]\n",
      " [5025.26998855 5148.95678976]\n",
      " [5273.11847926 5396.78531582]\n",
      " [5520.42142568 5644.09258599]\n",
      " [5767.73350964 5891.41223372]\n",
      " [6015.02656522 6138.73894341]]\n"
     ]
    }
   ],
   "source": [
    "# select the light/dark intervals\n",
    "\n",
    "light_dark_intervals_without_baseline = light_dark_intervals[1:-1] # remove first and last interval (baselines)\n",
    "#light_dark_intervals_without_baseline = light_dark_intervals[1:] # remove first baseline\n",
    "\n",
    "dark_intervals = light_dark_intervals_without_baseline[::2] # every second interval is dark, starting from the first one\n",
    "print(\"dark intervals (\",len(dark_intervals),\")\")\n",
    "print(dark_intervals)\n",
    "\n",
    "print(\"\")\n",
    "\n",
    "light_intervals = light_dark_intervals_without_baseline[1::2] # every second interval is dark, starting from the second one\n",
    "print(\"light intervals (\",len(light_intervals),\")\")\n",
    "print(light_intervals)"
   ]
  },
  {
   "cell_type": "code",
   "execution_count": 29,
   "id": "e772dc2a-06a4-4421-8c33-a74e016ff87e",
   "metadata": {},
   "outputs": [
    {
     "data": {
      "image/png": "[encoded data removed]",
      "text/plain": [
       "<Figure size 504x72 with 1 Axes>"
      ]
     },
     "metadata": {
      "needs_background": "light"
     },
     "output_type": "display_data"
    }
   ],
   "source": [
    "# visualize the light/dark intervals\n",
    "\n",
    "plt.figure(figsize=(7,1))\n",
    "\n",
    "plt.axvline(x=np.min(light_dark_intervals), color='grey')\n",
    "plt.axvline(x=np.max(light_dark_intervals), color='grey')\n",
    "\n",
    "plt.xlim((0,np.max(light_dark_intervals)*1.05))\n",
    "plt.ylim((-0.5,0.5))\n",
    "plt.gca().set(yticklabels=[])  \n",
    "\n",
    "for dark_interval in dark_intervals:\n",
    "    plt.plot(dark_interval, [0,0], color='black')\n",
    "for light_interval in light_intervals:\n",
    "    plt.plot(light_interval, [0,0], color='yellow')\n",
    "\n",
    "plt.xlabel(\"seconds\")\n",
    "\n",
    "plt.title(\"Light/Darkness\")\n",
    "\n",
    "plt.show()\n"
   ]
  },
  {
   "cell_type": "markdown",
   "id": "f46d711b-86f1-445a-a317-9692114be91e",
   "metadata": {
    "tags": []
   },
   "source": [
    "### **Initial Baseline**"
   ]
  },
  {
   "cell_type": "markdown",
   "id": "5f706c8e-f765-4758-b666-1174562cf017",
   "metadata": {},
   "source": [
    "Use the initial baseline (20min) to detect HD cells"
   ]
  },
  {
   "cell_type": "code",
   "execution_count": 38,
   "id": "c6ef70e1-417e-4f0d-a229-1ad8b9639ebb",
   "metadata": {},
   "outputs": [
    {
     "data": {
      "image/png": "[encoded data removed]",
      "text/plain": [
       "<Figure size 432x288 with 1 Axes>"
      ]
     },
     "metadata": {
      "needs_background": "light"
     },
     "output_type": "display_data"
    }
   ],
   "source": [
    "ap.set_intervals(baseline_interval)\n",
    "#ap.occupancy_map_2d(smoothing=True) # False\n",
    "ap.occupancy_map_2d(smoothing=False)\n",
    "plt.imshow(ap.occupancy_map.T)\n",
    "plt.xlabel(\"x (bin)\")\n",
    "plt.ylabel(\"y (bin)\")\n",
    "plt.title(\"baseline occupancy map\")\n",
    "plt.show()"
   ]
  },
  {
   "cell_type": "code",
   "execution_count": 35,
   "id": "e1d5eef8-f8f8-4695-9b59-0962798a00c7",
   "metadata": {},
   "outputs": [
    {
     "data": {
      "text/plain": [
       "0.19627870483235957"
      ]
     },
     "execution_count": 35,
     "metadata": {},
     "output_type": "execute_result"
    }
   ],
   "source": [
    "ap.invalid_ratio()"
   ]
  },
  {
   "cell_type": "code",
   "execution_count": 36,
   "id": "2ca40b8e-89ed-4b59-9123-59016b1e9f80",
   "metadata": {},
   "outputs": [
    {
     "name": "stdout",
     "output_type": "stream",
     "text": [
      "occupancy: 76.4 %\n"
     ]
    }
   ],
   "source": [
    "occupancy = ap.occupancy(arena='circle')\n",
    "print(\"occupancy: {:.1f} %\".format(occupancy*100))"
   ]
  },
  {
   "cell_type": "markdown",
   "id": "04106437-ac4b-48fd-bfa2-2550fd1b9ae1",
   "metadata": {},
   "source": [
    "#### for each cell"
   ]
  },
  {
   "cell_type": "code",
   "execution_count": 33,
   "id": "4dea872f-2342-4806-a05f-d119a005846e",
   "metadata": {},
   "outputs": [
    {
     "name": "stdout",
     "output_type": "stream",
     "text": [
      "interval used = [ 223.71372535 1427.45708126]\n"
     ]
    },
    {
     "ename": "KeyboardInterrupt",
     "evalue": "",
     "output_type": "error",
     "traceback": [
      "\u001b[0;31m---------------------------------------------------------------------------\u001b[0m",
      "\u001b[0;31mKeyboardInterrupt\u001b[0m                         Traceback (most recent call last)",
      "\u001b[0;32m/tmp/ipykernel_107977/746189599.py\u001b[0m in \u001b[0;36m<module>\u001b[0;34m\u001b[0m\n\u001b[1;32m     16\u001b[0m \u001b[0mcols\u001b[0m \u001b[0;34m=\u001b[0m \u001b[0;36m8\u001b[0m\u001b[0;34m\u001b[0m\u001b[0;34m\u001b[0m\u001b[0m\n\u001b[1;32m     17\u001b[0m \u001b[0;34m\u001b[0m\u001b[0m\n\u001b[0;32m---> 18\u001b[0;31m \u001b[0mfig\u001b[0m\u001b[0;34m,\u001b[0m \u001b[0maxs\u001b[0m \u001b[0;34m=\u001b[0m \u001b[0mplt\u001b[0m\u001b[0;34m.\u001b[0m\u001b[0msubplots\u001b[0m\u001b[0;34m(\u001b[0m\u001b[0mlen\u001b[0m\u001b[0;34m(\u001b[0m\u001b[0mcg\u001b[0m\u001b[0;34m.\u001b[0m\u001b[0mneuron_list\u001b[0m\u001b[0;34m)\u001b[0m\u001b[0;34m,\u001b[0m \u001b[0mcols\u001b[0m\u001b[0;34m,\u001b[0m \u001b[0mfigsize\u001b[0m\u001b[0;34m=\u001b[0m\u001b[0;34m(\u001b[0m\u001b[0;36m25\u001b[0m\u001b[0;34m,\u001b[0m \u001b[0;36m5\u001b[0m\u001b[0;34m*\u001b[0m\u001b[0mlen\u001b[0m\u001b[0;34m(\u001b[0m\u001b[0mcg\u001b[0m\u001b[0;34m.\u001b[0m\u001b[0mneuron_list\u001b[0m\u001b[0;34m)\u001b[0m\u001b[0;34m)\u001b[0m\u001b[0;34m)\u001b[0m\u001b[0;34m\u001b[0m\u001b[0;34m\u001b[0m\u001b[0m\n\u001b[0m\u001b[1;32m     19\u001b[0m \u001b[0;34m\u001b[0m\u001b[0m\n\u001b[1;32m     20\u001b[0m \u001b[0;32mfor\u001b[0m \u001b[0mi\u001b[0m\u001b[0;34m,\u001b[0m \u001b[0mn\u001b[0m \u001b[0;32min\u001b[0m \u001b[0menumerate\u001b[0m\u001b[0;34m(\u001b[0m\u001b[0mcg\u001b[0m\u001b[0;34m.\u001b[0m\u001b[0mneuron_list\u001b[0m\u001b[0;34m)\u001b[0m\u001b[0;34m:\u001b[0m\u001b[0;34m\u001b[0m\u001b[0;34m\u001b[0m\u001b[0m\n",
      "\u001b[0;32m~/python_virtual_environments/spikeAenv/lib/python3.8/site-packages/matplotlib/_api/deprecation.py\u001b[0m in \u001b[0;36mwrapper\u001b[0;34m(*args, **kwargs)\u001b[0m\n\u001b[1;32m    469\u001b[0m                 \u001b[0;34m\"parameter will become keyword-only %(removal)s.\"\u001b[0m\u001b[0;34m,\u001b[0m\u001b[0;34m\u001b[0m\u001b[0;34m\u001b[0m\u001b[0m\n\u001b[1;32m    470\u001b[0m                 name=name, obj_type=f\"parameter of {func.__name__}()\")\n\u001b[0;32m--> 471\u001b[0;31m         \u001b[0;32mreturn\u001b[0m \u001b[0mfunc\u001b[0m\u001b[0;34m(\u001b[0m\u001b[0;34m*\u001b[0m\u001b[0margs\u001b[0m\u001b[0;34m,\u001b[0m \u001b[0;34m**\u001b[0m\u001b[0mkwargs\u001b[0m\u001b[0;34m)\u001b[0m\u001b[0;34m\u001b[0m\u001b[0;34m\u001b[0m\u001b[0m\n\u001b[0m\u001b[1;32m    472\u001b[0m \u001b[0;34m\u001b[0m\u001b[0m\n\u001b[1;32m    473\u001b[0m     \u001b[0;32mreturn\u001b[0m \u001b[0mwrapper\u001b[0m\u001b[0;34m\u001b[0m\u001b[0;34m\u001b[0m\u001b[0m\n",
      "\u001b[0;32m~/python_virtual_environments/spikeAenv/lib/python3.8/site-packages/matplotlib/pyplot.py\u001b[0m in \u001b[0;36msubplots\u001b[0;34m(nrows, ncols, sharex, sharey, squeeze, subplot_kw, gridspec_kw, **fig_kw)\u001b[0m\n\u001b[1;32m   1438\u001b[0m     \"\"\"\n\u001b[1;32m   1439\u001b[0m     \u001b[0mfig\u001b[0m \u001b[0;34m=\u001b[0m \u001b[0mfigure\u001b[0m\u001b[0;34m(\u001b[0m\u001b[0;34m**\u001b[0m\u001b[0mfig_kw\u001b[0m\u001b[0;34m)\u001b[0m\u001b[0;34m\u001b[0m\u001b[0;34m\u001b[0m\u001b[0m\n\u001b[0;32m-> 1440\u001b[0;31m     axs = fig.subplots(nrows=nrows, ncols=ncols, sharex=sharex, sharey=sharey,\n\u001b[0m\u001b[1;32m   1441\u001b[0m                        \u001b[0msqueeze\u001b[0m\u001b[0;34m=\u001b[0m\u001b[0msqueeze\u001b[0m\u001b[0;34m,\u001b[0m \u001b[0msubplot_kw\u001b[0m\u001b[0;34m=\u001b[0m\u001b[0msubplot_kw\u001b[0m\u001b[0;34m,\u001b[0m\u001b[0;34m\u001b[0m\u001b[0;34m\u001b[0m\u001b[0m\n\u001b[1;32m   1442\u001b[0m                        gridspec_kw=gridspec_kw)\n",
      "\u001b[0;32m~/python_virtual_environments/spikeAenv/lib/python3.8/site-packages/matplotlib/_api/deprecation.py\u001b[0m in \u001b[0;36mwrapper\u001b[0;34m(*args, **kwargs)\u001b[0m\n\u001b[1;32m    469\u001b[0m                 \u001b[0;34m\"parameter will become keyword-only %(removal)s.\"\u001b[0m\u001b[0;34m,\u001b[0m\u001b[0;34m\u001b[0m\u001b[0;34m\u001b[0m\u001b[0m\n\u001b[1;32m    470\u001b[0m                 name=name, obj_type=f\"parameter of {func.__name__}()\")\n\u001b[0;32m--> 471\u001b[0;31m         \u001b[0;32mreturn\u001b[0m \u001b[0mfunc\u001b[0m\u001b[0;34m(\u001b[0m\u001b[0;34m*\u001b[0m\u001b[0margs\u001b[0m\u001b[0;34m,\u001b[0m \u001b[0;34m**\u001b[0m\u001b[0mkwargs\u001b[0m\u001b[0;34m)\u001b[0m\u001b[0;34m\u001b[0m\u001b[0;34m\u001b[0m\u001b[0m\n\u001b[0m\u001b[1;32m    472\u001b[0m \u001b[0;34m\u001b[0m\u001b[0m\n\u001b[1;32m    473\u001b[0m     \u001b[0;32mreturn\u001b[0m \u001b[0mwrapper\u001b[0m\u001b[0;34m\u001b[0m\u001b[0;34m\u001b[0m\u001b[0m\n",
      "\u001b[0;32m~/python_virtual_environments/spikeAenv/lib/python3.8/site-packages/matplotlib/figure.py\u001b[0m in \u001b[0;36msubplots\u001b[0;34m(self, nrows, ncols, sharex, sharey, squeeze, subplot_kw, gridspec_kw)\u001b[0m\n\u001b[1;32m    909\u001b[0m             \u001b[0mgridspec_kw\u001b[0m \u001b[0;34m=\u001b[0m \u001b[0;34m{\u001b[0m\u001b[0;34m}\u001b[0m\u001b[0;34m\u001b[0m\u001b[0;34m\u001b[0m\u001b[0m\n\u001b[1;32m    910\u001b[0m         \u001b[0mgs\u001b[0m \u001b[0;34m=\u001b[0m \u001b[0mself\u001b[0m\u001b[0;34m.\u001b[0m\u001b[0madd_gridspec\u001b[0m\u001b[0;34m(\u001b[0m\u001b[0mnrows\u001b[0m\u001b[0;34m,\u001b[0m \u001b[0mncols\u001b[0m\u001b[0;34m,\u001b[0m \u001b[0mfigure\u001b[0m\u001b[0;34m=\u001b[0m\u001b[0mself\u001b[0m\u001b[0;34m,\u001b[0m \u001b[0;34m**\u001b[0m\u001b[0mgridspec_kw\u001b[0m\u001b[0;34m)\u001b[0m\u001b[0;34m\u001b[0m\u001b[0;34m\u001b[0m\u001b[0m\n\u001b[0;32m--> 911\u001b[0;31m         axs = gs.subplots(sharex=sharex, sharey=sharey, squeeze=squeeze,\n\u001b[0m\u001b[1;32m    912\u001b[0m                           subplot_kw=subplot_kw)\n\u001b[1;32m    913\u001b[0m         \u001b[0;32mreturn\u001b[0m \u001b[0maxs\u001b[0m\u001b[0;34m\u001b[0m\u001b[0;34m\u001b[0m\u001b[0m\n",
      "\u001b[0;32m~/python_virtual_environments/spikeAenv/lib/python3.8/site-packages/matplotlib/gridspec.py\u001b[0m in \u001b[0;36msubplots\u001b[0;34m(self, sharex, sharey, squeeze, subplot_kw)\u001b[0m\n\u001b[1;32m    305\u001b[0m                 \u001b[0msubplot_kw\u001b[0m\u001b[0;34m[\u001b[0m\u001b[0;34m\"sharex\"\u001b[0m\u001b[0;34m]\u001b[0m \u001b[0;34m=\u001b[0m \u001b[0mshared_with\u001b[0m\u001b[0;34m[\u001b[0m\u001b[0msharex\u001b[0m\u001b[0;34m]\u001b[0m\u001b[0;34m\u001b[0m\u001b[0;34m\u001b[0m\u001b[0m\n\u001b[1;32m    306\u001b[0m                 \u001b[0msubplot_kw\u001b[0m\u001b[0;34m[\u001b[0m\u001b[0;34m\"sharey\"\u001b[0m\u001b[0;34m]\u001b[0m \u001b[0;34m=\u001b[0m \u001b[0mshared_with\u001b[0m\u001b[0;34m[\u001b[0m\u001b[0msharey\u001b[0m\u001b[0;34m]\u001b[0m\u001b[0;34m\u001b[0m\u001b[0;34m\u001b[0m\u001b[0m\n\u001b[0;32m--> 307\u001b[0;31m                 axarr[row, col] = figure.add_subplot(\n\u001b[0m\u001b[1;32m    308\u001b[0m                     self[row, col], **subplot_kw)\n\u001b[1;32m    309\u001b[0m \u001b[0;34m\u001b[0m\u001b[0m\n",
      "\u001b[0;32m~/python_virtual_environments/spikeAenv/lib/python3.8/site-packages/matplotlib/figure.py\u001b[0m in \u001b[0;36madd_subplot\u001b[0;34m(self, *args, **kwargs)\u001b[0m\n\u001b[1;32m    782\u001b[0m             projection_class, pkw = self._process_projection_requirements(\n\u001b[1;32m    783\u001b[0m                 *args, **kwargs)\n\u001b[0;32m--> 784\u001b[0;31m             \u001b[0max\u001b[0m \u001b[0;34m=\u001b[0m \u001b[0msubplot_class_factory\u001b[0m\u001b[0;34m(\u001b[0m\u001b[0mprojection_class\u001b[0m\u001b[0;34m)\u001b[0m\u001b[0;34m(\u001b[0m\u001b[0mself\u001b[0m\u001b[0;34m,\u001b[0m \u001b[0;34m*\u001b[0m\u001b[0margs\u001b[0m\u001b[0;34m,\u001b[0m \u001b[0;34m**\u001b[0m\u001b[0mpkw\u001b[0m\u001b[0;34m)\u001b[0m\u001b[0;34m\u001b[0m\u001b[0;34m\u001b[0m\u001b[0m\n\u001b[0m\u001b[1;32m    785\u001b[0m             \u001b[0mkey\u001b[0m \u001b[0;34m=\u001b[0m \u001b[0;34m(\u001b[0m\u001b[0mprojection_class\u001b[0m\u001b[0;34m,\u001b[0m \u001b[0mpkw\u001b[0m\u001b[0;34m)\u001b[0m\u001b[0;34m\u001b[0m\u001b[0;34m\u001b[0m\u001b[0m\n\u001b[1;32m    786\u001b[0m         \u001b[0;32mreturn\u001b[0m \u001b[0mself\u001b[0m\u001b[0;34m.\u001b[0m\u001b[0m_add_axes_internal\u001b[0m\u001b[0;34m(\u001b[0m\u001b[0max\u001b[0m\u001b[0;34m,\u001b[0m \u001b[0mkey\u001b[0m\u001b[0;34m)\u001b[0m\u001b[0;34m\u001b[0m\u001b[0;34m\u001b[0m\u001b[0m\n",
      "\u001b[0;32m~/python_virtual_environments/spikeAenv/lib/python3.8/site-packages/matplotlib/axes/_subplots.py\u001b[0m in \u001b[0;36m__init__\u001b[0;34m(self, fig, *args, **kwargs)\u001b[0m\n\u001b[1;32m     34\u001b[0m         \"\"\"\n\u001b[1;32m     35\u001b[0m         \u001b[0;31m# _axes_class is set in the subplot_class_factory\u001b[0m\u001b[0;34m\u001b[0m\u001b[0;34m\u001b[0m\u001b[0;34m\u001b[0m\u001b[0m\n\u001b[0;32m---> 36\u001b[0;31m         \u001b[0mself\u001b[0m\u001b[0;34m.\u001b[0m\u001b[0m_axes_class\u001b[0m\u001b[0;34m.\u001b[0m\u001b[0m__init__\u001b[0m\u001b[0;34m(\u001b[0m\u001b[0mself\u001b[0m\u001b[0;34m,\u001b[0m \u001b[0mfig\u001b[0m\u001b[0;34m,\u001b[0m \u001b[0;34m[\u001b[0m\u001b[0;36m0\u001b[0m\u001b[0;34m,\u001b[0m \u001b[0;36m0\u001b[0m\u001b[0;34m,\u001b[0m \u001b[0;36m1\u001b[0m\u001b[0;34m,\u001b[0m \u001b[0;36m1\u001b[0m\u001b[0;34m]\u001b[0m\u001b[0;34m,\u001b[0m \u001b[0;34m**\u001b[0m\u001b[0mkwargs\u001b[0m\u001b[0;34m)\u001b[0m\u001b[0;34m\u001b[0m\u001b[0;34m\u001b[0m\u001b[0m\n\u001b[0m\u001b[1;32m     37\u001b[0m         \u001b[0;31m# This will also update the axes position.\u001b[0m\u001b[0;34m\u001b[0m\u001b[0;34m\u001b[0m\u001b[0;34m\u001b[0m\u001b[0m\n\u001b[1;32m     38\u001b[0m         \u001b[0mself\u001b[0m\u001b[0;34m.\u001b[0m\u001b[0mset_subplotspec\u001b[0m\u001b[0;34m(\u001b[0m\u001b[0mSubplotSpec\u001b[0m\u001b[0;34m.\u001b[0m\u001b[0m_from_subplot_args\u001b[0m\u001b[0;34m(\u001b[0m\u001b[0mfig\u001b[0m\u001b[0;34m,\u001b[0m \u001b[0margs\u001b[0m\u001b[0;34m)\u001b[0m\u001b[0;34m)\u001b[0m\u001b[0;34m\u001b[0m\u001b[0;34m\u001b[0m\u001b[0m\n",
      "\u001b[0;32m~/python_virtual_environments/spikeAenv/lib/python3.8/site-packages/matplotlib/_api/deprecation.py\u001b[0m in \u001b[0;36mwrapper\u001b[0;34m(*args, **kwargs)\u001b[0m\n\u001b[1;32m    469\u001b[0m                 \u001b[0;34m\"parameter will become keyword-only %(removal)s.\"\u001b[0m\u001b[0;34m,\u001b[0m\u001b[0;34m\u001b[0m\u001b[0;34m\u001b[0m\u001b[0m\n\u001b[1;32m    470\u001b[0m                 name=name, obj_type=f\"parameter of {func.__name__}()\")\n\u001b[0;32m--> 471\u001b[0;31m         \u001b[0;32mreturn\u001b[0m \u001b[0mfunc\u001b[0m\u001b[0;34m(\u001b[0m\u001b[0;34m*\u001b[0m\u001b[0margs\u001b[0m\u001b[0;34m,\u001b[0m \u001b[0;34m**\u001b[0m\u001b[0mkwargs\u001b[0m\u001b[0;34m)\u001b[0m\u001b[0;34m\u001b[0m\u001b[0;34m\u001b[0m\u001b[0m\n\u001b[0m\u001b[1;32m    472\u001b[0m \u001b[0;34m\u001b[0m\u001b[0m\n\u001b[1;32m    473\u001b[0m     \u001b[0;32mreturn\u001b[0m \u001b[0mwrapper\u001b[0m\u001b[0;34m\u001b[0m\u001b[0;34m\u001b[0m\u001b[0m\n",
      "\u001b[0;32m~/python_virtual_environments/spikeAenv/lib/python3.8/site-packages/matplotlib/axes/_base.py\u001b[0m in \u001b[0;36m__init__\u001b[0;34m(self, fig, rect, facecolor, frameon, sharex, sharey, label, xscale, yscale, box_aspect, **kwargs)\u001b[0m\n\u001b[1;32m    632\u001b[0m \u001b[0;34m\u001b[0m\u001b[0m\n\u001b[1;32m    633\u001b[0m         \u001b[0mself\u001b[0m\u001b[0;34m.\u001b[0m\u001b[0m_rasterization_zorder\u001b[0m \u001b[0;34m=\u001b[0m \u001b[0;32mNone\u001b[0m\u001b[0;34m\u001b[0m\u001b[0;34m\u001b[0m\u001b[0m\n\u001b[0;32m--> 634\u001b[0;31m         \u001b[0mself\u001b[0m\u001b[0;34m.\u001b[0m\u001b[0mcla\u001b[0m\u001b[0;34m(\u001b[0m\u001b[0;34m)\u001b[0m\u001b[0;34m\u001b[0m\u001b[0;34m\u001b[0m\u001b[0m\n\u001b[0m\u001b[1;32m    635\u001b[0m \u001b[0;34m\u001b[0m\u001b[0m\n\u001b[1;32m    636\u001b[0m         \u001b[0;31m# funcs used to format x and y - fall back on major formatters\u001b[0m\u001b[0;34m\u001b[0m\u001b[0;34m\u001b[0m\u001b[0;34m\u001b[0m\u001b[0m\n",
      "\u001b[0;32m~/python_virtual_environments/spikeAenv/lib/python3.8/site-packages/matplotlib/axes/_base.py\u001b[0m in \u001b[0;36mcla\u001b[0;34m(self)\u001b[0m\n\u001b[1;32m   1243\u001b[0m         \u001b[0mself\u001b[0m\u001b[0;34m.\u001b[0m\u001b[0mcontainers\u001b[0m \u001b[0;34m=\u001b[0m \u001b[0;34m[\u001b[0m\u001b[0;34m]\u001b[0m\u001b[0;34m\u001b[0m\u001b[0;34m\u001b[0m\u001b[0m\n\u001b[1;32m   1244\u001b[0m \u001b[0;34m\u001b[0m\u001b[0m\n\u001b[0;32m-> 1245\u001b[0;31m         \u001b[0mself\u001b[0m\u001b[0;34m.\u001b[0m\u001b[0mgrid\u001b[0m\u001b[0;34m(\u001b[0m\u001b[0;32mFalse\u001b[0m\u001b[0;34m)\u001b[0m  \u001b[0;31m# Disable grid on init to use rcParameter\u001b[0m\u001b[0;34m\u001b[0m\u001b[0;34m\u001b[0m\u001b[0m\n\u001b[0m\u001b[1;32m   1246\u001b[0m         self.grid(self._gridOn, which=mpl.rcParams['axes.grid.which'],\n\u001b[1;32m   1247\u001b[0m                   axis=mpl.rcParams['axes.grid.axis'])\n",
      "\u001b[0;32m~/python_virtual_environments/spikeAenv/lib/python3.8/site-packages/matplotlib/axes/_base.py\u001b[0m in \u001b[0;36mgrid\u001b[0;34m(self, b, which, axis, **kwargs)\u001b[0m\n\u001b[1;32m   3062\u001b[0m         \u001b[0m_api\u001b[0m\u001b[0;34m.\u001b[0m\u001b[0mcheck_in_list\u001b[0m\u001b[0;34m(\u001b[0m\u001b[0;34m[\u001b[0m\u001b[0;34m'x'\u001b[0m\u001b[0;34m,\u001b[0m \u001b[0;34m'y'\u001b[0m\u001b[0;34m,\u001b[0m \u001b[0;34m'both'\u001b[0m\u001b[0;34m]\u001b[0m\u001b[0;34m,\u001b[0m \u001b[0maxis\u001b[0m\u001b[0;34m=\u001b[0m\u001b[0maxis\u001b[0m\u001b[0;34m)\u001b[0m\u001b[0;34m\u001b[0m\u001b[0;34m\u001b[0m\u001b[0m\n\u001b[1;32m   3063\u001b[0m         \u001b[0;32mif\u001b[0m \u001b[0maxis\u001b[0m \u001b[0;32min\u001b[0m \u001b[0;34m[\u001b[0m\u001b[0;34m'x'\u001b[0m\u001b[0;34m,\u001b[0m \u001b[0;34m'both'\u001b[0m\u001b[0;34m]\u001b[0m\u001b[0;34m:\u001b[0m\u001b[0;34m\u001b[0m\u001b[0;34m\u001b[0m\u001b[0m\n\u001b[0;32m-> 3064\u001b[0;31m             \u001b[0mself\u001b[0m\u001b[0;34m.\u001b[0m\u001b[0mxaxis\u001b[0m\u001b[0;34m.\u001b[0m\u001b[0mgrid\u001b[0m\u001b[0;34m(\u001b[0m\u001b[0mb\u001b[0m\u001b[0;34m,\u001b[0m \u001b[0mwhich\u001b[0m\u001b[0;34m=\u001b[0m\u001b[0mwhich\u001b[0m\u001b[0;34m,\u001b[0m \u001b[0;34m**\u001b[0m\u001b[0mkwargs\u001b[0m\u001b[0;34m)\u001b[0m\u001b[0;34m\u001b[0m\u001b[0;34m\u001b[0m\u001b[0m\n\u001b[0m\u001b[1;32m   3065\u001b[0m         \u001b[0;32mif\u001b[0m \u001b[0maxis\u001b[0m \u001b[0;32min\u001b[0m \u001b[0;34m[\u001b[0m\u001b[0;34m'y'\u001b[0m\u001b[0;34m,\u001b[0m \u001b[0;34m'both'\u001b[0m\u001b[0;34m]\u001b[0m\u001b[0;34m:\u001b[0m\u001b[0;34m\u001b[0m\u001b[0;34m\u001b[0m\u001b[0m\n\u001b[1;32m   3066\u001b[0m             \u001b[0mself\u001b[0m\u001b[0;34m.\u001b[0m\u001b[0myaxis\u001b[0m\u001b[0;34m.\u001b[0m\u001b[0mgrid\u001b[0m\u001b[0;34m(\u001b[0m\u001b[0mb\u001b[0m\u001b[0;34m,\u001b[0m \u001b[0mwhich\u001b[0m\u001b[0;34m=\u001b[0m\u001b[0mwhich\u001b[0m\u001b[0;34m,\u001b[0m \u001b[0;34m**\u001b[0m\u001b[0mkwargs\u001b[0m\u001b[0;34m)\u001b[0m\u001b[0;34m\u001b[0m\u001b[0;34m\u001b[0m\u001b[0m\n",
      "\u001b[0;32m~/python_virtual_environments/spikeAenv/lib/python3.8/site-packages/matplotlib/axis.py\u001b[0m in \u001b[0;36mgrid\u001b[0;34m(self, b, which, **kwargs)\u001b[0m\n\u001b[1;32m   1431\u001b[0m             gridkw['gridOn'] = (not self._major_tick_kw['gridOn']\n\u001b[1;32m   1432\u001b[0m                                 if b is TOGGLE else b)\n\u001b[0;32m-> 1433\u001b[0;31m             \u001b[0mself\u001b[0m\u001b[0;34m.\u001b[0m\u001b[0mset_tick_params\u001b[0m\u001b[0;34m(\u001b[0m\u001b[0mwhich\u001b[0m\u001b[0;34m=\u001b[0m\u001b[0;34m'major'\u001b[0m\u001b[0;34m,\u001b[0m \u001b[0;34m**\u001b[0m\u001b[0mgridkw\u001b[0m\u001b[0;34m)\u001b[0m\u001b[0;34m\u001b[0m\u001b[0;34m\u001b[0m\u001b[0m\n\u001b[0m\u001b[1;32m   1434\u001b[0m         \u001b[0mself\u001b[0m\u001b[0;34m.\u001b[0m\u001b[0mstale\u001b[0m \u001b[0;34m=\u001b[0m \u001b[0;32mTrue\u001b[0m\u001b[0;34m\u001b[0m\u001b[0;34m\u001b[0m\u001b[0m\n\u001b[1;32m   1435\u001b[0m \u001b[0;34m\u001b[0m\u001b[0m\n",
      "\u001b[0;32m~/python_virtual_environments/spikeAenv/lib/python3.8/site-packages/matplotlib/axis.py\u001b[0m in \u001b[0;36mset_tick_params\u001b[0;34m(self, which, reset, **kw)\u001b[0m\n\u001b[1;32m    854\u001b[0m             \u001b[0;32mif\u001b[0m \u001b[0mwhich\u001b[0m \u001b[0;32min\u001b[0m \u001b[0;34m[\u001b[0m\u001b[0;34m'major'\u001b[0m\u001b[0;34m,\u001b[0m \u001b[0;34m'both'\u001b[0m\u001b[0;34m]\u001b[0m\u001b[0;34m:\u001b[0m\u001b[0;34m\u001b[0m\u001b[0;34m\u001b[0m\u001b[0m\n\u001b[1;32m    855\u001b[0m                 \u001b[0mself\u001b[0m\u001b[0;34m.\u001b[0m\u001b[0m_major_tick_kw\u001b[0m\u001b[0;34m.\u001b[0m\u001b[0mupdate\u001b[0m\u001b[0;34m(\u001b[0m\u001b[0mkwtrans\u001b[0m\u001b[0;34m)\u001b[0m\u001b[0;34m\u001b[0m\u001b[0;34m\u001b[0m\u001b[0m\n\u001b[0;32m--> 856\u001b[0;31m                 \u001b[0;32mfor\u001b[0m \u001b[0mtick\u001b[0m \u001b[0;32min\u001b[0m \u001b[0mself\u001b[0m\u001b[0;34m.\u001b[0m\u001b[0mmajorTicks\u001b[0m\u001b[0;34m:\u001b[0m\u001b[0;34m\u001b[0m\u001b[0;34m\u001b[0m\u001b[0m\n\u001b[0m\u001b[1;32m    857\u001b[0m                     \u001b[0mtick\u001b[0m\u001b[0;34m.\u001b[0m\u001b[0m_apply_params\u001b[0m\u001b[0;34m(\u001b[0m\u001b[0;34m**\u001b[0m\u001b[0mkwtrans\u001b[0m\u001b[0;34m)\u001b[0m\u001b[0;34m\u001b[0m\u001b[0;34m\u001b[0m\u001b[0m\n\u001b[1;32m    858\u001b[0m             \u001b[0;32mif\u001b[0m \u001b[0mwhich\u001b[0m \u001b[0;32min\u001b[0m \u001b[0;34m[\u001b[0m\u001b[0;34m'minor'\u001b[0m\u001b[0;34m,\u001b[0m \u001b[0;34m'both'\u001b[0m\u001b[0;34m]\u001b[0m\u001b[0;34m:\u001b[0m\u001b[0;34m\u001b[0m\u001b[0;34m\u001b[0m\u001b[0m\n",
      "\u001b[0;32m~/python_virtual_environments/spikeAenv/lib/python3.8/site-packages/matplotlib/axis.py\u001b[0m in \u001b[0;36m__get__\u001b[0;34m(self, instance, cls)\u001b[0m\n\u001b[1;32m    605\u001b[0m             \u001b[0;32mif\u001b[0m \u001b[0mself\u001b[0m\u001b[0;34m.\u001b[0m\u001b[0m_major\u001b[0m\u001b[0;34m:\u001b[0m\u001b[0;34m\u001b[0m\u001b[0;34m\u001b[0m\u001b[0m\n\u001b[1;32m    606\u001b[0m                 \u001b[0minstance\u001b[0m\u001b[0;34m.\u001b[0m\u001b[0mmajorTicks\u001b[0m \u001b[0;34m=\u001b[0m \u001b[0;34m[\u001b[0m\u001b[0;34m]\u001b[0m\u001b[0;34m\u001b[0m\u001b[0;34m\u001b[0m\u001b[0m\n\u001b[0;32m--> 607\u001b[0;31m                 \u001b[0mtick\u001b[0m \u001b[0;34m=\u001b[0m \u001b[0minstance\u001b[0m\u001b[0;34m.\u001b[0m\u001b[0m_get_tick\u001b[0m\u001b[0;34m(\u001b[0m\u001b[0mmajor\u001b[0m\u001b[0;34m=\u001b[0m\u001b[0;32mTrue\u001b[0m\u001b[0;34m)\u001b[0m\u001b[0;34m\u001b[0m\u001b[0;34m\u001b[0m\u001b[0m\n\u001b[0m\u001b[1;32m    608\u001b[0m                 \u001b[0minstance\u001b[0m\u001b[0;34m.\u001b[0m\u001b[0mmajorTicks\u001b[0m\u001b[0;34m.\u001b[0m\u001b[0mappend\u001b[0m\u001b[0;34m(\u001b[0m\u001b[0mtick\u001b[0m\u001b[0;34m)\u001b[0m\u001b[0;34m\u001b[0m\u001b[0;34m\u001b[0m\u001b[0m\n\u001b[1;32m    609\u001b[0m                 \u001b[0;32mreturn\u001b[0m \u001b[0minstance\u001b[0m\u001b[0;34m.\u001b[0m\u001b[0mmajorTicks\u001b[0m\u001b[0;34m\u001b[0m\u001b[0;34m\u001b[0m\u001b[0m\n",
      "\u001b[0;32m~/python_virtual_environments/spikeAenv/lib/python3.8/site-packages/matplotlib/axis.py\u001b[0m in \u001b[0;36m_get_tick\u001b[0;34m(self, major)\u001b[0m\n\u001b[1;32m   2057\u001b[0m         \u001b[0;32melse\u001b[0m\u001b[0;34m:\u001b[0m\u001b[0;34m\u001b[0m\u001b[0;34m\u001b[0m\u001b[0m\n\u001b[1;32m   2058\u001b[0m             \u001b[0mtick_kw\u001b[0m \u001b[0;34m=\u001b[0m \u001b[0mself\u001b[0m\u001b[0;34m.\u001b[0m\u001b[0m_minor_tick_kw\u001b[0m\u001b[0;34m\u001b[0m\u001b[0;34m\u001b[0m\u001b[0m\n\u001b[0;32m-> 2059\u001b[0;31m         \u001b[0;32mreturn\u001b[0m \u001b[0mXTick\u001b[0m\u001b[0;34m(\u001b[0m\u001b[0mself\u001b[0m\u001b[0;34m.\u001b[0m\u001b[0maxes\u001b[0m\u001b[0;34m,\u001b[0m \u001b[0;36m0\u001b[0m\u001b[0;34m,\u001b[0m \u001b[0mmajor\u001b[0m\u001b[0;34m=\u001b[0m\u001b[0mmajor\u001b[0m\u001b[0;34m,\u001b[0m \u001b[0;34m**\u001b[0m\u001b[0mtick_kw\u001b[0m\u001b[0;34m)\u001b[0m\u001b[0;34m\u001b[0m\u001b[0;34m\u001b[0m\u001b[0m\n\u001b[0m\u001b[1;32m   2060\u001b[0m \u001b[0;34m\u001b[0m\u001b[0m\n\u001b[1;32m   2061\u001b[0m     \u001b[0;32mdef\u001b[0m \u001b[0mset_label_position\u001b[0m\u001b[0;34m(\u001b[0m\u001b[0mself\u001b[0m\u001b[0;34m,\u001b[0m \u001b[0mposition\u001b[0m\u001b[0;34m)\u001b[0m\u001b[0;34m:\u001b[0m\u001b[0;34m\u001b[0m\u001b[0;34m\u001b[0m\u001b[0m\n",
      "\u001b[0;32m~/python_virtual_environments/spikeAenv/lib/python3.8/site-packages/matplotlib/axis.py\u001b[0m in \u001b[0;36m__init__\u001b[0;34m(self, *args, **kwargs)\u001b[0m\n\u001b[1;32m    420\u001b[0m         \u001b[0msuper\u001b[0m\u001b[0;34m(\u001b[0m\u001b[0;34m)\u001b[0m\u001b[0;34m.\u001b[0m\u001b[0m__init__\u001b[0m\u001b[0;34m(\u001b[0m\u001b[0;34m*\u001b[0m\u001b[0margs\u001b[0m\u001b[0;34m,\u001b[0m \u001b[0;34m**\u001b[0m\u001b[0mkwargs\u001b[0m\u001b[0;34m)\u001b[0m\u001b[0;34m\u001b[0m\u001b[0;34m\u001b[0m\u001b[0m\n\u001b[1;32m    421\u001b[0m         \u001b[0;31m# x in data coords, y in axes coords\u001b[0m\u001b[0;34m\u001b[0m\u001b[0;34m\u001b[0m\u001b[0;34m\u001b[0m\u001b[0m\n\u001b[0;32m--> 422\u001b[0;31m         self.tick1line.set(\n\u001b[0m\u001b[1;32m    423\u001b[0m             \u001b[0mxdata\u001b[0m\u001b[0;34m=\u001b[0m\u001b[0;34m[\u001b[0m\u001b[0;36m0\u001b[0m\u001b[0;34m]\u001b[0m\u001b[0;34m,\u001b[0m \u001b[0mydata\u001b[0m\u001b[0;34m=\u001b[0m\u001b[0;34m[\u001b[0m\u001b[0;36m0\u001b[0m\u001b[0;34m]\u001b[0m\u001b[0;34m,\u001b[0m\u001b[0;34m\u001b[0m\u001b[0;34m\u001b[0m\u001b[0m\n\u001b[1;32m    424\u001b[0m             \u001b[0mtransform\u001b[0m\u001b[0;34m=\u001b[0m\u001b[0mself\u001b[0m\u001b[0;34m.\u001b[0m\u001b[0maxes\u001b[0m\u001b[0;34m.\u001b[0m\u001b[0mget_xaxis_transform\u001b[0m\u001b[0;34m(\u001b[0m\u001b[0mwhich\u001b[0m\u001b[0;34m=\u001b[0m\u001b[0;34m\"tick1\"\u001b[0m\u001b[0;34m)\u001b[0m\u001b[0;34m,\u001b[0m\u001b[0;34m\u001b[0m\u001b[0;34m\u001b[0m\u001b[0m\n",
      "\u001b[0;32m~/python_virtual_environments/spikeAenv/lib/python3.8/site-packages/matplotlib/artist.py\u001b[0m in \u001b[0;36mset\u001b[0;34m(self, **kwargs)\u001b[0m\n\u001b[1;32m   1177\u001b[0m         \u001b[0;32mif\u001b[0m \u001b[0mmove_color_to_start\u001b[0m\u001b[0;34m:\u001b[0m\u001b[0;34m\u001b[0m\u001b[0;34m\u001b[0m\u001b[0m\n\u001b[1;32m   1178\u001b[0m             \u001b[0mkwargs\u001b[0m \u001b[0;34m=\u001b[0m \u001b[0;34m{\u001b[0m\u001b[0;34m\"color\"\u001b[0m\u001b[0;34m:\u001b[0m \u001b[0mkwargs\u001b[0m\u001b[0;34m.\u001b[0m\u001b[0mpop\u001b[0m\u001b[0;34m(\u001b[0m\u001b[0;34m\"color\"\u001b[0m\u001b[0;34m)\u001b[0m\u001b[0;34m,\u001b[0m \u001b[0;34m**\u001b[0m\u001b[0mkwargs\u001b[0m\u001b[0;34m}\u001b[0m\u001b[0;34m\u001b[0m\u001b[0;34m\u001b[0m\u001b[0m\n\u001b[0;32m-> 1179\u001b[0;31m         \u001b[0;32mreturn\u001b[0m \u001b[0mself\u001b[0m\u001b[0;34m.\u001b[0m\u001b[0mupdate\u001b[0m\u001b[0;34m(\u001b[0m\u001b[0mkwargs\u001b[0m\u001b[0;34m)\u001b[0m\u001b[0;34m\u001b[0m\u001b[0;34m\u001b[0m\u001b[0m\n\u001b[0m\u001b[1;32m   1180\u001b[0m \u001b[0;34m\u001b[0m\u001b[0m\n\u001b[1;32m   1181\u001b[0m     \u001b[0;32mdef\u001b[0m \u001b[0mfindobj\u001b[0m\u001b[0;34m(\u001b[0m\u001b[0mself\u001b[0m\u001b[0;34m,\u001b[0m \u001b[0mmatch\u001b[0m\u001b[0;34m=\u001b[0m\u001b[0;32mNone\u001b[0m\u001b[0;34m,\u001b[0m \u001b[0minclude_self\u001b[0m\u001b[0;34m=\u001b[0m\u001b[0;32mTrue\u001b[0m\u001b[0;34m)\u001b[0m\u001b[0;34m:\u001b[0m\u001b[0;34m\u001b[0m\u001b[0;34m\u001b[0m\u001b[0m\n",
      "\u001b[0;32m~/python_virtual_environments/spikeAenv/lib/python3.8/site-packages/matplotlib/artist.py\u001b[0m in \u001b[0;36mupdate\u001b[0;34m(self, props)\u001b[0m\n\u001b[1;32m   1059\u001b[0m                 \u001b[0;32melse\u001b[0m\u001b[0;34m:\u001b[0m\u001b[0;34m\u001b[0m\u001b[0;34m\u001b[0m\u001b[0m\n\u001b[1;32m   1060\u001b[0m                     \u001b[0mfunc\u001b[0m \u001b[0;34m=\u001b[0m \u001b[0mgetattr\u001b[0m\u001b[0;34m(\u001b[0m\u001b[0mself\u001b[0m\u001b[0;34m,\u001b[0m \u001b[0;34mf\"set_{k}\"\u001b[0m\u001b[0;34m,\u001b[0m \u001b[0;32mNone\u001b[0m\u001b[0;34m)\u001b[0m\u001b[0;34m\u001b[0m\u001b[0;34m\u001b[0m\u001b[0m\n\u001b[0;32m-> 1061\u001b[0;31m                     \u001b[0;32mif\u001b[0m \u001b[0;32mnot\u001b[0m \u001b[0mcallable\u001b[0m\u001b[0;34m(\u001b[0m\u001b[0mfunc\u001b[0m\u001b[0;34m)\u001b[0m\u001b[0;34m:\u001b[0m\u001b[0;34m\u001b[0m\u001b[0;34m\u001b[0m\u001b[0m\n\u001b[0m\u001b[1;32m   1062\u001b[0m                         raise AttributeError(f\"{type(self).__name__!r} object \"\n\u001b[1;32m   1063\u001b[0m                                              f\"has no property {k!r}\")\n",
      "\u001b[0;31mKeyboardInterrupt\u001b[0m: "
     ]
    },
    {
     "data": {
      "image/png": "[encoded data removed]",
      "text/plain": [
       "<Figure size 1800x18000 with 361 Axes>"
      ]
     },
     "metadata": {
      "needs_background": "light"
     },
     "output_type": "display_data"
    }
   ],
   "source": [
    "# make the analysis for the baseline only\n",
    "iv=np.array(baseline_interval)\n",
    "#iv=np.array(baseline_interval_2) # final baseline (test)\n",
    "print(\"interval used =\",iv)\n",
    "\n",
    "hd_firing_list=[] # neurons tuning curve\n",
    "hd_ifr_list=[] # ifr list\n",
    "spike_trains = [] # spike trains\n",
    "hd_neurons = [] ## list of ids of HD neurons\n",
    "gc_neurons = [] ## list of ids of GC neurons\n",
    "\n",
    "cg.set_spatial_properties(ap)\n",
    "\n",
    "# from matplotlib.patches import Rectangle\n",
    "\n",
    "cols = 8\n",
    "\n",
    "fig, axs = plt.subplots(len(cg.neuron_list), cols, figsize=(25, 5*len(cg.neuron_list)))\n",
    "   \n",
    "for i, n in enumerate(cg.neuron_list):\n",
    "\n",
    "    # reset and set intervals\n",
    "    n.spike_train.unset_intervals()\n",
    "    ap.unset_intervals()\n",
    "    n.spike_train.set_intervals(iv)\n",
    "    ap.set_intervals(iv)\n",
    "    \n",
    "    print(\"i\",i,\"/\",\"n\",n.name)\n",
    "    # print(\"n\",n.spike_train.intervals.total_interval_duration_seconds())\n",
    "    # print(\"ap\",ap.intervals.total_interval_duration_seconds())\n",
    "    \n",
    "    \n",
    "    # temporal auto-correlation\n",
    "      \n",
    "    n.spike_train.spike_time_autocorrelation(bin_size_sec=0.0005,min_sec=-0.05, max_sec=0.05)\n",
    "    timestamp = n.spike_train.mid_point_from_edges(n.spike_train.st_autocorrelation_histogram[1])\n",
    "    axs[i,0].plot(timestamp, n.spike_train.st_autocorrelation_histogram[0])\n",
    "    \n",
    "    n.spike_train.spike_time_autocorrelation(bin_size_sec=0.0025,min_sec=-0.5, max_sec=0.5)\n",
    "    timestamp = n.spike_train.mid_point_from_edges(n.spike_train.st_autocorrelation_histogram[1])\n",
    "    axs[i,1].plot(timestamp, n.spike_train.st_autocorrelation_histogram[0])\n",
    "    \n",
    "    \n",
    "    # spatial firing map \n",
    "    \n",
    "    n.set_spatial_properties(ap)\n",
    "    n.spatial_properties.firing_rate_map_2d(cm_per_bin =2, smoothing_sigma_cm = 2, smoothing=True, xy_range=xy_range)\n",
    "    im = axs[i,2].imshow(n.spatial_properties.firing_rate_map.T,cmap='jet')\n",
    "    axs[i,2].set_title(\"clu:{}, mRate:{:.3} Hz\".format(n.name,n.spike_train.mean_firing_rate()))\n",
    "    fig.colorbar(im,ax=axs[i,2])\n",
    "    \n",
    "    \n",
    "    \n",
    "    # Spatial autocorrelation Map & Grid Score\n",
    "    gs = n.spatial_properties.grid_score()\n",
    "    # print(\"grid score:\",gs)\n",
    "    is_grid_cell = (gs > .4)\n",
    "    fw = \"bold\" if is_grid_cell else \"normal\"\n",
    "    if is_grid_cell:\n",
    "        gc_neurons.append(i)\n",
    "        print(\"GC neuron\",i)\n",
    "\n",
    "    \n",
    "    axs[i,3].imshow(n.spatial_properties.spatial_autocorrelation_map)\n",
    "    axs[i,3].set_title(\"spatial autocorrelation\"+\"\\n\"+\"Grid Score: \"+str(round(gs,2)), fontweight=fw)\n",
    "    \n",
    "    # Head direction\n",
    "    # ap.invalid_outside_head_direction_range()\n",
    "    n.spatial_properties.firing_rate_head_direction_histogram(smoothing=False)\n",
    "    \n",
    "    angles = n.spatial_properties.mid_point_from_edges(n.spatial_properties.firing_rate_head_direction_histo_edges)\n",
    "    hd_firing = n.spatial_properties.firing_rate_head_direction_histo\n",
    "    hd_mean_direction_rad, hd_mean_direction_deg, hd_mean_vector_length, hd_peak_angle_rad, hd_peak_rate = n.spatial_properties.head_direction_score()\n",
    "    \n",
    "    axs[i,4].plot(angles, hd_firing)\n",
    "    axs[i,4].set_xlabel(\"Head direction\")\n",
    "    axs[i,4].set_ylabel(\"Firing rate (Hz)\")\n",
    "    axs[i,4].set_ylim(0, np.nanmax(n.spatial_properties.firing_rate_head_direction_histo)*1.2+0.1)\n",
    "    axs[i,4].axvline(x=hd_mean_direction_rad, color=\"black\")\n",
    "    #axs[i,4].text(s=str(round(hd_mean_direction_rad*180./np.pi))+\" ° (vector length = \"+str(hd_mean_vector_length)+\")\",x=hd_mean+.1,y=1)\n",
    "    \n",
    "    fw = \"bold\" if (hd_mean_vector_length>.4 and hd_peak_rate>3) else \"normal\"\n",
    "    axs[i,5].axis('off')\n",
    "    ax2 = fig.add_subplot(len(cg.neuron_list), cols, cols*i+6, polar=True)\n",
    "    #ax2.plot(angles, hd_firing)\n",
    "    ax2.plot(np.append(angles,angles[0]), np.append(hd_firing,hd_firing[0]))\n",
    "    ax2.plot([hd_mean_direction_rad]*2, [0,max(hd_firing)] , color=\"blue\", alpha=hd_mean_vector_length if np.isfinite(hd_mean_vector_length) else 0., lw=2.5  )\n",
    "    if np.isfinite(hd_mean_direction_deg) and np.isfinite(hd_mean_vector_length):\n",
    "        ax2.set_title(\"Head direction\" + \"\\n\" + \"mean direction: \" + str(round( (hd_mean_direction_deg + 360) % 360  )) +\"°\" + \"\\n\" + \"mean vector length: \" + str(np.round(hd_mean_vector_length,2))  , fontweight=fw) \n",
    "    else:\n",
    "        ax2.set_title(\"Head direction: no data\")\n",
    "    ax2.grid(True)\n",
    "    \n",
    "    \n",
    "    # Waveforms\n",
    "    \n",
    "    cluster = int(n.name) # current cluster name\n",
    "    channels = ses.get_channels_from_cluster(cluster) # get channels with highest amplitude\n",
    "    \n",
    "    if (len(channels)):\n",
    "    \n",
    "        for j,channel in enumerate(channels):\n",
    "            channel_mapped, waveform = ses.get_waveform_from_cluster(cluster, channel)\n",
    "            axs[i,6].axhline( y = -j*.5 , color=\"grey\" , lw=.5 )\n",
    "            #label = \"channel: \"+str(channel)+\" (\"+str(channel_mapped)+\")\"\n",
    "            label = \"channel \"+str(channel_mapped)\n",
    "            axs[i,6].plot( waveform -j*.5 , label=label , color=\"blue\")\n",
    "            axs[i,6].text( s= label , x=0, y=-j*.5 +.1 )\n",
    "        axs[i,6].set_xlabel(\"time sample\")\n",
    "        axs[i,6].set(yticklabels=[])  \n",
    "        axs[i,6].set_title(\"Waveform of Cluster \"+str(cluster))\n",
    "        \n",
    "    # channels / shanks / brain region\n",
    "    shanks_arr, active_shanks, electrodes = ses.get_active_shanks(channels)\n",
    "    brain_region = '/'.join(electrodes)\n",
    "   \n",
    "    for j, (shank, active) in enumerate(zip(ses.shanks_all, shanks_arr)):\n",
    "        color = 'blue' if active else 'gray'\n",
    "        circle = plt.Circle((j,0), 0.2, color=color)\n",
    "        axs[i,7].add_patch(circle)\n",
    "\n",
    "    \n",
    "    axs[i,7].axis('off')\n",
    "    axs[i,7].set_title(\"Active Shanks for cluster \"+str(cluster)+\"\\n\"+', '.join([str(int(active_shank)) for active_shank in active_shanks]) + \" (\"+brain_region+\")\")\n",
    "    \n",
    "    axs[i,7].set_xlim([-1, len(ses.shanks_all)])\n",
    "    axs[i,7].set_ylim([-0.5, 0.5])\n",
    "    \n",
    "    ###########################\n",
    "    # classify, find category: Grid cell, HD cell\n",
    "    \n",
    "    is_hd_cell = (hd_mean_vector_length>.35 and hd_peak_rate>3 and brain_region==\"adn\")\n",
    "    if (is_hd_cell):\n",
    "        n.spike_train.instantaneous_firing_rate(bin_size_sec=2.e-2)\n",
    "        # print(\"n.name\",n.name)\n",
    "        # print(\"n.spike_train.ifr\",n.spike_train.ifr)\n",
    "        # print(\"n.spike_train.st\",n.spike_train.st)\n",
    "        \n",
    "        hd_firing_list.append(hd_firing)\n",
    "        hd_ifr_list.append(n.spike_train.ifr)\n",
    "        spike_trains.append(n.spike_train.st)\n",
    "        \n",
    "        hd_neurons.append(i)\n",
    "        print(\"HD neuron\",i)\n",
    "        \n",
    "        #rect = Rectangle((0.08, 1-(i+.5)/len(cg.neuron_list)), 0.85, 1/len(cg.neuron_list), facecolor='yellow', edgecolor='none', transform=fig.transFigure, zorder=-1)\n",
    "        #fig.patches.append(rect)\n",
    "\n",
    "    \n",
    "plt.suptitle(\"Cell overview ({}) - Baseline ({:.1f} s)\".format(name, n.spike_train.intervals.total_interval_duration_seconds()), fontsize=16, fontweight='bold')\n",
    "#plt.tight_layout()\n",
    "#fig.subplots_adjust(wspace=0.33, hspace=.5)\n",
    "fig.subplots_adjust(wspace=0.33, hspace=.5, top=0.95) # top=0.975\n",
    "# plt.savefig('/home/pascal/Documents/science_docs/analysis_results/'+name+'_baseline2.pdf')\n",
    "plt.show()\n"
   ]
  },
  {
   "cell_type": "code",
   "execution_count": null,
   "id": "aa2a6805-189c-4827-b6f1-524f7941dae0",
   "metadata": {},
   "outputs": [],
   "source": []
  },
  {
   "cell_type": "code",
   "execution_count": null,
   "id": "ac281d96-c3c2-4ddb-9762-4bdc3cec2cd4",
   "metadata": {},
   "outputs": [],
   "source": [
    "hd_neurons"
   ]
  },
  {
   "cell_type": "code",
   "execution_count": null,
   "id": "2074e608-7332-4f77-8f69-bf3c7eab684b",
   "metadata": {},
   "outputs": [],
   "source": [
    "gc_neurons"
   ]
  },
  {
   "cell_type": "markdown",
   "id": "32f8307b-b051-42a0-aaeb-13207a85fdc4",
   "metadata": {
    "tags": []
   },
   "source": [
    "### HD decoding"
   ]
  },
  {
   "cell_type": "code",
   "execution_count": null,
   "id": "290c80b8-2dd5-425f-a23d-04f854a34a81",
   "metadata": {},
   "outputs": [],
   "source": [
    "# manually define HD neurons\n",
    "neuron_names=[32,36,37,38,39,40] # 34,38,46,48,49,50\n",
    "hd_neurons_man = np.array([i for i,n in enumerate(cg.neuron_list) if int(n.name) in neuron_names ])\n",
    "hd_neurons_man"
   ]
  },
  {
   "cell_type": "code",
   "execution_count": null,
   "id": "47511dbe-4775-44a2-bfab-9bb04ba7ec2c",
   "metadata": {},
   "outputs": [],
   "source": [
    "spike_trains = []\n",
    "\n",
    "for i,n in enumerate(cg.neuron_list):\n",
    "    if i in hd_neurons:#_man:# or use hd_neurons\n",
    "        n.spike_train.unset_intervals()\n",
    "        spike_trains.append(n.spike_train.st)\n",
    "    \n",
    "print(\"saved spike trains:\",len(spike_trains))"
   ]
  },
  {
   "cell_type": "code",
   "execution_count": null,
   "id": "985e8dc5-bb54-46c5-9075-8c29edd4df41",
   "metadata": {},
   "outputs": [],
   "source": [
    "ap.unset_intervals()\n",
    "time = ap.pose[:,0]\n",
    "hd = ap.pose[:,4]\n",
    "split_time = max(baseline_interval)\n",
    "\n",
    "print(\"time from {:.2f} to {:.2f}\".format(time[0],time[-1]))\n",
    "print(\"split time = {:.2f}\".format(split_time))\n",
    "print(\"time points:\",len(time),\",\",len(hd))"
   ]
  },
  {
   "cell_type": "code",
   "execution_count": null,
   "id": "e5ba3ce5-06b5-4c2c-8978-6f8d74b7ce83",
   "metadata": {},
   "outputs": [],
   "source": [
    "spike_trains_training = [st[st<split_time] for st in spike_trains]\n",
    "time_training = time[time<split_time]\n",
    "hd_training = hd[time<split_time]\n",
    "\n",
    "spike_trains_test = [st[st>split_time] for st in spike_trains]\n",
    "time_test = time[time>split_time]\n",
    "hd_test = hd[time>split_time]\n",
    "\n",
    "time.shape, time_training.shape, time_test.shape"
   ]
  },
  {
   "cell_type": "code",
   "execution_count": null,
   "id": "f3d362a9-6d34-499a-836d-4bc4c3a29ff5",
   "metadata": {},
   "outputs": [],
   "source": [
    "import sys\n",
    "sys.path.insert(1, \"/home/pascal/repo/hd-gc-project/hd_cells/\")\n",
    "from HD_IFR_Decoder import HD_IFR_Decoder"
   ]
  },
  {
   "cell_type": "code",
   "execution_count": null,
   "id": "9df05dfe-a934-43dd-a1b5-e1acfeb0aabd",
   "metadata": {},
   "outputs": [],
   "source": [
    "hd_dec = HD_IFR_Decoder()"
   ]
  },
  {
   "cell_type": "code",
   "execution_count": null,
   "id": "d91945d1-024a-4cc5-b0d4-81310886244d",
   "metadata": {},
   "outputs": [],
   "source": [
    "r = hd_dec.validate_prediction_trainingset_by_spiketrains(time_training, hd_training, spike_trains_training, ifr_bin_size_sec=0.5, sigma_sec=1.0)"
   ]
  },
  {
   "cell_type": "code",
   "execution_count": null,
   "id": "ddb45245-5556-47cd-b2df-7c68634eb97a",
   "metadata": {},
   "outputs": [],
   "source": [
    "measured_timerange, measured_hd_interp, decoded_timerange, decoded_hd_interp, dec_times, dec_hd_prob, dec_hd_angle, angle_diffs, angle_diffs_, measured_hd_at_dec_times, error_mean, error_median = r"
   ]
  },
  {
   "cell_type": "code",
   "execution_count": null,
   "id": "8e9cae51-ac87-49c3-99d8-df7ed234ce1c",
   "metadata": {},
   "outputs": [],
   "source": [
    "plt.figure(figsize=(50,5))\n",
    "p, = plt.plot(time_training, hd_training, label=\"HD, measured\", alpha=.3)\n",
    "plt.plot(measured_timerange, measured_hd_interp, label=\"HD, measured (smoothed)\", color=p.get_color())\n",
    "p, = plt.plot(dec_times, dec_hd_angle, label=\"HD, decoded\", alpha=.3)\n",
    "plt.plot(decoded_timerange, decoded_hd_interp, label=\"HD, decoded (smoothed)\", color=p.get_color())\n",
    "plt.plot(measured_timerange, angle_diffs, label=\"decoding error\")\n",
    "#~ plt.plot(dec_times, angle_diffs_, label=\"decoding error\")\n",
    "plt.ylim((-np.pi,+np.pi))\n",
    "plt.legend()\n",
    "plt.suptitle(\"validate HD decoding\", fontweight='bold')\n",
    "plt.title(\"error: mean = {:.2f} rad = {:.1f}°, median = {:.2f} rad = {:.1f}°\".format(error_mean, np.rad2deg(error_mean), error_median, np.rad2deg(error_median)))\n",
    "plt.show()"
   ]
  },
  {
   "cell_type": "code",
   "execution_count": null,
   "id": "a191782f-e366-429a-b714-8f511e514b9a",
   "metadata": {},
   "outputs": [],
   "source": [
    "# training set"
   ]
  },
  {
   "cell_type": "code",
   "execution_count": null,
   "id": "ef41ba31-a703-4249-9334-c2216fdac842",
   "metadata": {},
   "outputs": [],
   "source": [
    "hd_dec.set_spike_trains(spike_trains_test)\n",
    "hd_dec.plot_spike_trains()\n",
    "hd_dec.calculate_ifr(bin_size_sec=0.5)\n",
    "dec_times_test, dec_hd_test = hd_dec.decode_poisson_counts_list()\n",
    "dec_hd_test_prob, dec_hd_test_angle = dec_hd_test.T\n",
    "\n",
    "sigma_sec = 1.5\n",
    "measured_hd_func_test, measured_timerange_test, measured_hd_interp_test = hd_dec.smooth_hd(time_test, hd_test, sigma_sec=sigma_sec)\n",
    "decoded_hd_func_test, decoded_timerange_test, decoded_hd_interp_test = hd_dec.smooth_hd(dec_times_test, dec_hd_test_angle, sigma_sec=sigma_sec)"
   ]
  },
  {
   "cell_type": "code",
   "execution_count": null,
   "id": "b814d6a6-b247-44f6-bd06-b40cfd6e6970",
   "metadata": {},
   "outputs": [],
   "source": [
    "def angle_diff(x,y):\n",
    "    # https://stackoverflow.com/a/1878936\n",
    "    return min((2 * np.pi) - abs(x - y), abs(x - y))\n"
   ]
  },
  {
   "cell_type": "code",
   "execution_count": null,
   "id": "9052642c-2c1e-4797-bb01-10c1bb96b827",
   "metadata": {},
   "outputs": [],
   "source": [
    "decoding_error = np.array([ angle_diff(decoded_hd_func_test(t),measured_hd) for t,measured_hd in zip(measured_timerange_test,measured_hd_interp_test) ])"
   ]
  },
  {
   "cell_type": "code",
   "execution_count": null,
   "id": "fae45b6a-1c53-4450-8b5c-d1b9a49d612f",
   "metadata": {},
   "outputs": [],
   "source": [
    "# sub-region using xlim\n",
    "plt.figure(figsize=(30,5))\n",
    "plt.plot(measured_timerange_test, measured_hd_interp_test, label=\"measured smooth\")\n",
    "plt.plot(decoded_timerange_test, decoded_hd_interp_test, label=\"decoded smooth\")\n",
    "plt.plot(measured_timerange_test, decoding_error, label=\"decoding error\")\n",
    "plt.legend()\n",
    "plt.title(\"HD measured vs decoded after baseline\")\n",
    "#~ plt.xlim((1200,2400))\n",
    "#~ plt.savefig(\"hd-dec.pdf\")\n",
    "plt.show()"
   ]
  },
  {
   "cell_type": "code",
   "execution_count": null,
   "id": "6535212b-ede1-4697-abb9-f2ce2f62a9f2",
   "metadata": {},
   "outputs": [],
   "source": [
    "np.rad2deg([np.nanmean(decoding_error), np.nanmedian(decoding_error)])"
   ]
  },
  {
   "cell_type": "code",
   "execution_count": null,
   "id": "e7251054-d6a1-42f4-8f32-4731964cd948",
   "metadata": {},
   "outputs": [],
   "source": [
    "plt.figure(figsize=(40,5))\n",
    "plt.plot(measured_timerange_test, decoding_error, label=\"decoding error\")\n",
    "\n",
    "# plot light/dark    \n",
    "for light_interval in light_intervals:\n",
    "    plt.axvspan(light_interval[0], light_interval[1], facecolor='yellow', alpha=0.25)\n",
    "for dark_interval in dark_intervals:\n",
    "    plt.axvspan(dark_interval[0], dark_interval[1], facecolor='black', alpha=0.25)\n",
    "\n",
    "plt.xlabel(\"time, after baseline\")\n",
    "plt.ylabel(\"decoding error\")\n",
    "plt.title(\"decoding error during light/dark switches\")\n",
    "plt.show()\n",
    "\n",
    "#plt.xlim((1000,3400))"
   ]
  },
  {
   "cell_type": "code",
   "execution_count": null,
   "id": "962e7ade-00af-43a9-93cf-93c3eba8371b",
   "metadata": {},
   "outputs": [],
   "source": [
    "intv_light = Intervals(light_intervals)\n",
    "indx_light = intv_light.is_within_intervals(measured_timerange_test)\n",
    "derr_light = decoding_error[indx_light]\n",
    "\n",
    "intv_dark = Intervals(dark_intervals)\n",
    "indx_dark = intv_dark.is_within_intervals(measured_timerange_test)\n",
    "derr_dark = decoding_error[indx_dark]\n",
    "\n",
    "intv_fiba = Intervals(baseline_interval_2)\n",
    "indx_fiba = intv_fiba.is_within_intervals(measured_timerange_test)\n",
    "derr_fiba = decoding_error[indx_fiba]"
   ]
  },
  {
   "cell_type": "code",
   "execution_count": null,
   "id": "c8ba45c3-7cfe-4fcd-acf4-663c715df949",
   "metadata": {},
   "outputs": [],
   "source": [
    "np.nanmean(derr_light), np.nanstd(derr_light), np.nanmedian(derr_light), '', \\\n",
    "np.nanmean(derr_dark), np.nanstd(derr_dark), np.nanmedian(derr_dark), '', \\\n",
    "np.nanmean(derr_fiba), np.nanstd(derr_fiba), np.nanmedian(derr_fiba)"
   ]
  },
  {
   "cell_type": "code",
   "execution_count": null,
   "id": "dbbc78bf-9128-4496-87c4-e55662c04a1e",
   "metadata": {},
   "outputs": [],
   "source": [
    "plt.boxplot([angle_diffs[np.isfinite(angle_diffs)], derr_light[np.isfinite(derr_light)], derr_dark[np.isfinite(derr_dark)], derr_fiba[np.isfinite(derr_fiba)]])\n",
    "#plt.xticks([1,2])\n",
    "plt.gca().set_xticklabels([\"initial baseline\",\"light\",\"dark\",\"final baseline\"])\n",
    "plt.xlabel(\"condition\")\n",
    "plt.ylabel(\"decoding error\")\n",
    "plt.title(\"decoding error across conditions\")\n",
    "plt.show()"
   ]
  },
  {
   "cell_type": "code",
   "execution_count": null,
   "id": "8f6f9a9e-adec-4262-b36d-f9627aa00803",
   "metadata": {},
   "outputs": [],
   "source": [
    "sum(np.isnan(decoding_error)) / len(decoding_error)"
   ]
  },
  {
   "cell_type": "code",
   "execution_count": null,
   "id": "3b820693-641b-42d3-944c-a8c1555e6015",
   "metadata": {},
   "outputs": [],
   "source": []
  },
  {
   "cell_type": "code",
   "execution_count": null,
   "id": "5384d367-032c-49ac-94b6-d7c11d08a51d",
   "metadata": {},
   "outputs": [],
   "source": []
  },
  {
   "cell_type": "markdown",
   "id": "aedf0e31-eefe-4ab9-bec7-f746c5cdab96",
   "metadata": {
    "tags": []
   },
   "source": [
    "#### distance to center"
   ]
  },
  {
   "cell_type": "code",
   "execution_count": null,
   "id": "1829f588-9a9e-451f-9d8c-ae0fd91b54cf",
   "metadata": {},
   "outputs": [],
   "source": []
  },
  {
   "cell_type": "code",
   "execution_count": null,
   "id": "5568307b-cf7f-4f6c-bedc-b4e63adc1352",
   "metadata": {},
   "outputs": [],
   "source": []
  },
  {
   "cell_type": "code",
   "execution_count": null,
   "id": "931cb9a1-0e8e-46bb-95c8-98b5609c1d08",
   "metadata": {},
   "outputs": [],
   "source": [
    "def filter_finite(X,Y):\n",
    "    valid_indices = np.logical_and(np.isfinite(X),np.isfinite(Y))\n",
    "    X_= X[valid_indices]\n",
    "    Y_= Y[valid_indices]\n",
    "    return X_,Y_"
   ]
  },
  {
   "cell_type": "code",
   "execution_count": null,
   "id": "9b6d66c8-21b3-4ac2-a4a5-276aa09597b6",
   "metadata": {},
   "outputs": [],
   "source": [
    "def binned_statistics(X,Y, nbins=10):\n",
    "    # https://stackoverflow.com/a/15559654\n",
    "    n, _ = np.histogram(X, bins=nbins)\n",
    "    sy, _ = np.histogram(X, bins=nbins, weights=Y)\n",
    "    sy2, _ = np.histogram(X, bins=nbins, weights=Y*Y)\n",
    "    mean = sy / n\n",
    "    std = np.sqrt(sy2/n - mean*mean)\n",
    "    bin_midpoints = (_[1:] + _[:-1])/2\n",
    "    return bin_midpoints, mean, std, n"
   ]
  },
  {
   "cell_type": "code",
   "execution_count": null,
   "id": "721988d3-9c33-4da5-839b-d9428b7929ba",
   "metadata": {},
   "outputs": [],
   "source": []
  },
  {
   "cell_type": "code",
   "execution_count": null,
   "id": "5ff8ff26-6dc4-428a-9f8b-d74aff519d28",
   "metadata": {},
   "outputs": [],
   "source": [
    "xy = ap.pose[:,[1,2]]"
   ]
  },
  {
   "cell_type": "code",
   "execution_count": null,
   "id": "ebb3b327-b87b-4503-ac03-c8b040247746",
   "metadata": {},
   "outputs": [],
   "source": [
    "r = np.mean(np.nanmax(xy,axis=0) - np.nanmin(xy,axis=0))\n",
    "mid = (np.nanmin(xy,axis=0) + np.nanmax(xy,axis=0))/2\n",
    "print(\"radius:\",r,\", mid:\",mid)"
   ]
  },
  {
   "cell_type": "code",
   "execution_count": null,
   "id": "18696fd1-60ea-47f7-a1b2-28153ec76451",
   "metadata": {},
   "outputs": [],
   "source": [
    "xy_ = xy - mid"
   ]
  },
  {
   "cell_type": "code",
   "execution_count": null,
   "id": "32ca9001-7201-434c-8f08-573fb49c0f74",
   "metadata": {},
   "outputs": [],
   "source": [
    "# centered at 0,0\n",
    "plt.plot(xy_[:,0],xy_[:,1])\n",
    "plt.gca().set_aspect('equal', adjustable='box')\n",
    "plt.title(\"entire pose, centered at 0,0\")\n",
    "plt.show()"
   ]
  },
  {
   "cell_type": "code",
   "execution_count": null,
   "id": "14b34455-869c-48a7-a07d-db61b9b88d38",
   "metadata": {},
   "outputs": [],
   "source": [
    "r_dist = np.linalg.norm(xy_,axis=1)\n",
    "print(\"max dist:\",np.nanmax(r_dist))"
   ]
  },
  {
   "cell_type": "code",
   "execution_count": null,
   "id": "5b3fb794-0a46-46e5-be22-e87cadf7035c",
   "metadata": {},
   "outputs": [],
   "source": [
    "plt.plot(time,r_dist)\n",
    "plt.xlabel(\"time\")\n",
    "plt.ylabel(\"distance from center\")\n",
    "plt.title(\"r_dist vs time\")\n",
    "plt.show()"
   ]
  },
  {
   "cell_type": "code",
   "execution_count": null,
   "id": "22eae6d8-841c-4e2a-9222-980ea3873fe1",
   "metadata": {},
   "outputs": [],
   "source": [
    "# dec_hd_at_time = np.array([ decoded_hd_func_test(t) for t in time ])\n",
    "decoding_error_at_time = np.array([ angle_diff(decoded_hd_func_test(t),measured_hd_func_test(t)) for t in time ])"
   ]
  },
  {
   "cell_type": "code",
   "execution_count": null,
   "id": "be9870f3-d051-4a41-98d9-b804c3614dd4",
   "metadata": {},
   "outputs": [],
   "source": [
    "# ind = ((time-1200) % 240 < 120) # darkness # old, replace by interp\n",
    "# sum(ind), len(ind)"
   ]
  },
  {
   "cell_type": "code",
   "execution_count": null,
   "id": "a4608536-2c43-44a2-9afe-d8634476e8ad",
   "metadata": {},
   "outputs": [],
   "source": [
    "# X,Y = filter_finite(r_dist[ind], decoding_error_at_time[ind])\n",
    "X,Y = filter_finite(r_dist, decoding_error_at_time)\n",
    "\n",
    "bin_midpoints, mean, std, n = binned_statistics(X,Y, 10)\n",
    "\n",
    "plt.plot(X, Y, 'bo', alpha=.01)\n",
    "plt.errorbar(bin_midpoints, mean, yerr=std, fmt='r-')\n",
    "plt.xlabel(\"distance from center\")\n",
    "plt.ylabel(\"HD prediction error (radians)\")\n",
    "plt.title(\"HD prediction error by location\") # todo: filter only during darkness\n",
    "plt.ylim((0,np.pi))\n",
    "plt.show()"
   ]
  },
  {
   "cell_type": "code",
   "execution_count": null,
   "id": "237c6481-a229-402f-8936-baf51a6b4367",
   "metadata": {},
   "outputs": [],
   "source": []
  },
  {
   "cell_type": "code",
   "execution_count": null,
   "id": "ffb44278-89f5-4e8e-82ba-4904c6f42232",
   "metadata": {},
   "outputs": [],
   "source": []
  },
  {
   "cell_type": "code",
   "execution_count": null,
   "id": "998415b1-8764-499b-a4cc-dbe69ba04b18",
   "metadata": {},
   "outputs": [],
   "source": []
  },
  {
   "cell_type": "markdown",
   "id": "9010aedc-793c-45eb-997e-294fba560773",
   "metadata": {
    "jp-MarkdownHeadingCollapsed": true,
    "tags": []
   },
   "source": [
    "##### old"
   ]
  },
  {
   "cell_type": "code",
   "execution_count": null,
   "id": "9dc5f158-7cb5-4273-89a4-49fbbb1a4bed",
   "metadata": {},
   "outputs": [],
   "source": [
    "# HD decoding - old"
   ]
  },
  {
   "cell_type": "code",
   "execution_count": null,
   "id": "06d99895-4e48-45c6-b6bd-b9118a08b09e",
   "metadata": {},
   "outputs": [],
   "source": [
    "np.array(hd_firing_list).shape"
   ]
  },
  {
   "cell_type": "code",
   "execution_count": null,
   "id": "2fea2a6f-3772-4f4c-8ab2-475a345c8094",
   "metadata": {},
   "outputs": [],
   "source": [
    "np.array(hd_ifr_list).shape"
   ]
  },
  {
   "cell_type": "code",
   "execution_count": null,
   "id": "c2e1ed93-bd7c-474d-82dc-6532f4a95eea",
   "metadata": {},
   "outputs": [],
   "source": [
    "hd_neurons"
   ]
  },
  {
   "cell_type": "code",
   "execution_count": null,
   "id": "143e55dd-7d37-48b5-94d9-d986e2f15935",
   "metadata": {},
   "outputs": [],
   "source": [
    "hd_firing_list\n",
    "hd_ifr_list\n",
    "spike_trains\n",
    "hd_neurons"
   ]
  },
  {
   "cell_type": "code",
   "execution_count": null,
   "id": "85a59e54-1832-4338-ae4c-e5c74e7e7dc8",
   "metadata": {},
   "outputs": [],
   "source": [
    "from HD_IFR_Decoder import HD_IFR_Decoder"
   ]
  },
  {
   "cell_type": "code",
   "execution_count": null,
   "id": "5b64c1b3-f7c3-4294-9d4a-2a599784c139",
   "metadata": {},
   "outputs": [],
   "source": [
    "from HD_IFR_Decoder import *"
   ]
  },
  {
   "cell_type": "code",
   "execution_count": null,
   "id": "730a7507-87ea-4678-9752-b45d34e0b0ac",
   "metadata": {},
   "outputs": [],
   "source": [
    "hd_dec = HD_IFR_Decoder(np.array(angles), np.array(hd_firing_list))"
   ]
  },
  {
   "cell_type": "code",
   "execution_count": null,
   "id": "c58efc98-bb2f-4536-8860-4711976260bd",
   "metadata": {},
   "outputs": [],
   "source": [
    "hd_dec.print_summary(plot=True)"
   ]
  },
  {
   "cell_type": "code",
   "execution_count": null,
   "id": "5ab65c2e-e638-4a52-9daf-8c85ee4f2181",
   "metadata": {},
   "outputs": [],
   "source": [
    "hd_ifr_list = np.array(hd_ifr_list)\n",
    "hd_ifr_list.shape"
   ]
  },
  {
   "cell_type": "code",
   "execution_count": null,
   "id": "0f5910f7-a06b-4578-b29e-719d39126d35",
   "metadata": {},
   "outputs": [],
   "source": [
    "ifr,count,mid"
   ]
  },
  {
   "cell_type": "code",
   "execution_count": null,
   "id": "9a863546-2e8a-4e7a-843d-79ccb046b32e",
   "metadata": {},
   "outputs": [],
   "source": [
    "hd_dec.set_measured_ifr(hd_ifr_list[:,0,:])"
   ]
  },
  {
   "cell_type": "code",
   "execution_count": null,
   "id": "1b3eb6cb-dc51-4a6c-b794-22cd5e61da3b",
   "metadata": {},
   "outputs": [],
   "source": [
    "hd_estimated = hd_dec.estimate_hd_from_ifr()"
   ]
  },
  {
   "cell_type": "code",
   "execution_count": null,
   "id": "c1f6f96c-67bb-4db2-b43e-0e588e54bd5c",
   "metadata": {},
   "outputs": [],
   "source": [
    "hd_estimated.shape"
   ]
  },
  {
   "cell_type": "code",
   "execution_count": null,
   "id": "f6c76f5d-5d5e-4e9e-a7d5-1f0882cdb53b",
   "metadata": {},
   "outputs": [],
   "source": [
    "ifr_times = hd_ifr_list[0,2]\n",
    "ifr_times"
   ]
  },
  {
   "cell_type": "code",
   "execution_count": null,
   "id": "207a4b6e-fe2e-4032-81b2-1986abf69091",
   "metadata": {},
   "outputs": [],
   "source": [
    "hd_dec.interpolate_hd(ifr_times, hdvals=hd_estimated[:,0], dt=0.02, smooth=True, sigma=6)"
   ]
  },
  {
   "cell_type": "code",
   "execution_count": null,
   "id": "876dfa7e-bfa4-4d5e-855d-9701063daf2b",
   "metadata": {},
   "outputs": [],
   "source": [
    "hd_estimated_at_posetime = [hd_dec.hd_func(t) for t in ap.pose[:,0]]"
   ]
  },
  {
   "cell_type": "code",
   "execution_count": null,
   "id": "72f2eb5f-a148-454e-8db3-14742d4715d2",
   "metadata": {},
   "outputs": [],
   "source": [
    "hd_estimated_timerange, hd_estimated_vals = hd_dec.timerange, hd_dec.hd_interp"
   ]
  },
  {
   "cell_type": "code",
   "execution_count": null,
   "id": "5c2cd3c3-fc60-4c52-bc0e-3bbbc108886f",
   "metadata": {},
   "outputs": [],
   "source": [
    "# smooth the measured HD\n",
    "hd_dec.interpolate_hd(ap.pose[:,0], hdvals=ap.pose[:,4], dt=0.02, smooth=True, sigma=5)\n",
    "hd_measured_timerange, hd_measured_vals = hd_dec.timerange, hd_dec.hd_interp\n",
    "hd_measured_smooth_at_posetime = [hd_dec.hd_func(t) for t in ap.pose[:,0]]\n",
    "\n",
    "hd_estimated_error = [ angle_diff(hd_e,hd_m) for hd_e,hd_m in zip(hd_estimated_at_posetime,hd_measured_smooth_at_posetime) ]"
   ]
  },
  {
   "cell_type": "code",
   "execution_count": null,
   "id": "110ddf11-b351-4ab3-b1fa-b269c2f125c6",
   "metadata": {},
   "outputs": [],
   "source": [
    "plt.figure(figsize=(80,5))\n",
    "# plt.plot(ap.pose[:,0], ap.pose[:,4], label=\"measured\")\n",
    "plt.plot(hd_measured_timerange, hd_measured_vals, label=\"measured smooth\")\n",
    "# plt.plot(ifr_times, hd_estimated[:,0], label=\"decoded\")\n",
    "plt.plot(hd_estimated_timerange, hd_estimated_vals, label=\"decoded smooth\")\n",
    "plt.plot(ap.pose[:,0], hd_estimated_error, label=\"error\")\n",
    "plt.legend()\n",
    "plt.xlim((300,500))\n",
    "plt.show()"
   ]
  },
  {
   "cell_type": "code",
   "execution_count": null,
   "id": "fe8fc431-65fa-4939-8589-e9e1e0ec9427",
   "metadata": {},
   "outputs": [],
   "source": [
    "##"
   ]
  },
  {
   "cell_type": "code",
   "execution_count": null,
   "id": "089a739f-9fdf-4248-b736-e7adffa97a5b",
   "metadata": {},
   "outputs": [],
   "source": [
    "hd_ifr_list_later=[] # now get the IFRs after baseline to predict HD based on baseline tuning curve\n",
    "iv=ses.trial_intervals.inter # use entire session\n",
    "\n",
    "for i, n in enumerate(cg.neuron_list):\n",
    "    if not i in hd_neurons:\n",
    "        continue\n",
    "    print(i)\n",
    "    \n",
    "    n.spike_train.unset_intervals()\n",
    "    ap.unset_intervals()\n",
    "    n.spike_train.set_intervals(iv)\n",
    "    n.spike_train.instantaneous_firing_rate(bin_size_sec=2.e-2)\n",
    "\n",
    "    hd_ifr_list_later.append(n.spike_train.ifr)\n",
    "\n",
    "hd_ifr_list_later=np.array(hd_ifr_list_later)\n",
    "print(hd_ifr_list_later.shape)"
   ]
  },
  {
   "cell_type": "code",
   "execution_count": null,
   "id": "b133f0a4-d55a-4d12-977a-ee6b62e5efd1",
   "metadata": {},
   "outputs": [],
   "source": [
    "hd_dec.set_measured_ifr(hd_ifr_list_later[:,0,:])\n",
    "hd_estimated_later = hd_dec.estimate_hd_from_ifr()\n",
    "ifr_times_later = hd_ifr_list_later[0,2]\n",
    "hd_dec.interpolate_hd(ifr_times_later, hdvals=hd_estimated_later[:,0], dt=0.02, smooth=True, sigma=6)"
   ]
  },
  {
   "cell_type": "code",
   "execution_count": null,
   "id": "80e24eb6-4e78-453d-af97-8e701c50206e",
   "metadata": {},
   "outputs": [],
   "source": [
    "hd_estimated_at_posetime = [hd_dec.hd_func(t) for t in ap.pose[:,0]]\n",
    "# hd_estimated_error = [ angle_diff(hd_e,hd_m) for hd_e,hd_m in zip(hd_estimated_at_posetime,ap.pose[:,4]) ]"
   ]
  },
  {
   "cell_type": "code",
   "execution_count": null,
   "id": "c6b2e821-c4ef-4422-a8cd-6c69a7260f8b",
   "metadata": {},
   "outputs": [],
   "source": [
    "# smooth the measured HD\n",
    "hd_dec.interpolate_hd(ap.pose[:,0], hdvals=ap.pose[:,4], dt=0.02, smooth=True, sigma=5)\n",
    "hd_measured_timerange, hd_measured_vals = hd_dec.timerange, hd_dec.hd_interp\n",
    "hd_measured_smooth_at_posetime = [hd_dec.hd_func(t) for t in ap.pose[:,0]]\n",
    "\n",
    "hd_estimated_error = [ angle_diff(hd_e,hd_m) for hd_e,hd_m in zip(hd_estimated_at_posetime,hd_measured_smooth_at_posetime) ]"
   ]
  },
  {
   "cell_type": "code",
   "execution_count": null,
   "id": "c7134c58-43e4-4e53-856d-c24e1f931713",
   "metadata": {},
   "outputs": [],
   "source": [
    "plt.figure(figsize=(80,5))\n",
    "#~ plt.plot(ap.pose[:,0], ap.pose[:,4], label=\"measured\")\n",
    "# plt.plot(hd_measured_timerange, hd_measured_vals, label=\"measured smooth\")\n",
    "#~ plt.plot(hd_dec.timerange, hd_dec.hd_interp, label=\"decoded smooth\")\n",
    "plt.plot(ap.pose[:,0], hd_estimated_error, label=\"error\")\n",
    "#plt.legend()\n",
    "\n",
    "# plot light/dark    \n",
    "for light_interval in light_intervals:\n",
    "    plt.axvspan(light_interval[0], light_interval[1], facecolor='yellow', alpha=0.25)\n",
    "for dark_interval in dark_intervals:\n",
    "    plt.axvspan(dark_interval[0], dark_interval[1], facecolor='black', alpha=0.25)\n",
    "\n",
    "\n",
    "plt.xlim((1000,3400))"
   ]
  },
  {
   "cell_type": "code",
   "execution_count": null,
   "id": "d4a85a35-69fb-48e7-ab34-6febe3aa7e83",
   "metadata": {},
   "outputs": [],
   "source": [
    "# plot distance to periphery!"
   ]
  },
  {
   "cell_type": "markdown",
   "id": "bd916e8a-fc93-449e-b438-d8fc37f92a70",
   "metadata": {
    "tags": []
   },
   "source": [
    "### After darkness (block-binning)"
   ]
  },
  {
   "cell_type": "markdown",
   "id": "d0a2dc95-fd3d-4164-9e4b-3cbf2d0677cd",
   "metadata": {},
   "source": [
    "*define the blocks*"
   ]
  },
  {
   "cell_type": "markdown",
   "id": "464ca0b1-4ccd-444a-83f7-677d48037236",
   "metadata": {
    "jp-MarkdownHeadingCollapsed": true,
    "tags": []
   },
   "source": [
    "#### manually"
   ]
  },
  {
   "cell_type": "code",
   "execution_count": null,
   "id": "fd6a9a9d-b867-4556-9c6c-9c6d2339043b",
   "metadata": {
    "tags": []
   },
   "outputs": [],
   "source": [
    "# convert intervals to blocks of 10 seconds duration\n",
    "\n",
    "#blocks = 12 # 120 seconds / 12 blocks = 10 second per block\n",
    "# blocks=6 # 60 seconds / 6 blocks = 10 seconds, with 60 phases : 60 seconds total\n",
    "blocks=3\n",
    "\n",
    "dark_intervals_divided = []\n",
    "\n",
    "for dark_interval in dark_intervals:\n",
    "    print(\"dark_interval:\", dark_interval)\n",
    "    dark_interval_divided = np.linspace(dark_interval[0],dark_interval[1],blocks+1)\n",
    "    print(\"dark_interval_divided\",\"(\",len(dark_interval_divided),\"steps )\",\":\", dark_interval_divided)\n",
    "    dark_intervals_divided.append(ap.times2intervals(dark_interval_divided))\n",
    "    print(\"\")"
   ]
  },
  {
   "cell_type": "code",
   "execution_count": null,
   "id": "911a51ce-cb83-4672-a894-6ff75e528d75",
   "metadata": {
    "tags": []
   },
   "outputs": [],
   "source": [
    "dark_intervals_divided = np.transpose(dark_intervals_divided,(1,0,2))\n",
    "\n",
    "print(\"dark_intervals_divided\",dark_intervals_divided.shape)\n",
    "print(dark_intervals_divided)"
   ]
  },
  {
   "cell_type": "code",
   "execution_count": null,
   "id": "be8b5aa3-d210-447b-bd54-7ee42f21ed17",
   "metadata": {
    "tags": []
   },
   "outputs": [],
   "source": [
    "first_block = dark_intervals_divided[0] # first 10 seconds with darkness after light\n",
    "print(first_block)"
   ]
  },
  {
   "cell_type": "markdown",
   "id": "7df5a23b-ef00-4f08-a5cd-794b39ef6eef",
   "metadata": {
    "tags": []
   },
   "source": [
    "#### more automatically"
   ]
  },
  {
   "cell_type": "code",
   "execution_count": null,
   "id": "1b56e4d4-240b-4c80-9114-e24965b36f49",
   "metadata": {},
   "outputs": [],
   "source": [
    "def intervals_to_blocks(intervals, blocks):\n",
    "    intervals_divided = []\n",
    "    \n",
    "    for interval in intervals:\n",
    "        interval_divided = np.linspace(interval[0],interval[1],blocks+1)\n",
    "        intervals_divided.append(ap.times2intervals(interval_divided))\n",
    "        \n",
    "    intervals_divided_transposed = np.transpose(intervals_divided,(1,0,2))\n",
    "\n",
    "    return intervals_divided_transposed"
   ]
  },
  {
   "cell_type": "code",
   "execution_count": null,
   "id": "bc7ba155-b7bd-43ed-a23f-0b59687d2804",
   "metadata": {},
   "outputs": [],
   "source": [
    "blocks = 3# 6\n",
    "light_intervals_divided = intervals_to_blocks(light_intervals, blocks)\n",
    "dark_intervals_divided = intervals_to_blocks(dark_intervals, blocks)\n",
    "print(\"light_intervals_divided\", light_intervals_divided.shape)\n",
    "print(\"dark_intervals_divided\", dark_intervals_divided.shape)"
   ]
  },
  {
   "cell_type": "markdown",
   "id": "f52ab9c6-b7e2-4930-8590-2ebdc7742eed",
   "metadata": {
    "tags": []
   },
   "source": [
    "#### What happens directly after light is switched off?"
   ]
  },
  {
   "cell_type": "code",
   "execution_count": null,
   "id": "02017a58-1147-44c3-aca8-d3f35fea31b3",
   "metadata": {},
   "outputs": [],
   "source": [
    "def get_pose_at_or_after(t):\n",
    "    ap.unset_intervals()\n",
    "    times=ap.pose[:,0]\n",
    "    i = np.where(times>=t)[0][0] # get the first index where the times is the given one or later\n",
    "    xy = ap.pose[i:, [1,2]] # get all xy after that time\n",
    "    j = np.where(~np.any(np.isnan(xy),axis=1))[0][0] # find first index that has non-nan pose coords\n",
    "    k = i+j\n",
    "    time = times[k] # time at index\n",
    "    x,y = ap.pose[k, [1,2]] # pose coords at index\n",
    "    return(time,(x,y))"
   ]
  },
  {
   "cell_type": "code",
   "execution_count": null,
   "id": "87bdf991-bebb-4dbe-971d-0bc15b9deac3",
   "metadata": {},
   "outputs": [],
   "source": [
    "get_pose_at_or_after(1367.403519675011)"
   ]
  },
  {
   "cell_type": "code",
   "execution_count": null,
   "id": "5098d5ca-f3a9-446c-8b59-46cce071ffe9",
   "metadata": {},
   "outputs": [],
   "source": [
    "xy_vals = []\n",
    "# check where is the animal in the first block (directly after light switches off = first dark block)\n",
    "for i in dark_intervals_divided[0]:\n",
    "    print(\"interval:\",i)\n",
    "    t=i[0]\n",
    "    t_,(x,y)=get_pose_at_or_after(t)\n",
    "    print(\"pose at\",t,\"(\",t_,\")\",\"is\",x,y)\n",
    "    xy_vals.append([x,y])"
   ]
  },
  {
   "cell_type": "code",
   "execution_count": null,
   "id": "61445983-7a0f-4c0a-baa4-60a3a93eacf4",
   "metadata": {},
   "outputs": [],
   "source": [
    "x,y=np.array(xy_vals).T"
   ]
  },
  {
   "cell_type": "code",
   "execution_count": null,
   "id": "235fd36b-4dc3-4708-927b-bd3bc46b91e9",
   "metadata": {},
   "outputs": [],
   "source": [
    "import matplotlib.patches as patches\n",
    "# Create figure and axes\n",
    "# fig, ax = plt.subplots()\n",
    "\n",
    "plt.scatter(x,y)\n",
    "plt.xlabel(\"x (cm)\")\n",
    "plt.ylabel(\"y (cm)\")\n",
    "\n",
    "x0, y0 = np.nanmin(ap.pose[:,1]), np.nanmin(ap.pose[:,2])\n",
    "x1, y1 = np.nanmax(ap.pose[:,1]), np.nanmax(ap.pose[:,2])\n",
    "h, w = x1-x0, y1-y0\n",
    "rect = patches.Rectangle((x0,y0), w, h, linewidth=1, edgecolor='grey', facecolor='none')\n",
    "plt.gca().add_patch(rect)\n",
    "\n",
    "x0,y0 = xyrange_min\n",
    "x1,y1 = xyrange_max\n",
    "h, w = x1-x0, y1-y0\n",
    "rect = patches.Rectangle((x0,y0), w, h, linewidth=1, edgecolor='black', facecolor='none')\n",
    "plt.gca().add_patch(rect)\n",
    "\n",
    "plt.gca().invert_yaxis()\n",
    "\n",
    "plt.gca().set_aspect('equal', adjustable='box')\n",
    "plt.title(\"position when light switching off\")\n",
    "plt.tight_layout()\n",
    "plt.show()"
   ]
  },
  {
   "cell_type": "code",
   "execution_count": null,
   "id": "b2f06f94-f490-40b1-aa13-b1597b7f5b01",
   "metadata": {},
   "outputs": [],
   "source": [
    "periphery = np.linalg.norm(np.array(xy_vals) - np.array(circarena_center), axis=1) < (circarena_radius - 10)"
   ]
  },
  {
   "cell_type": "code",
   "execution_count": null,
   "id": "e431618c-6925-4859-8db9-09509feec3ce",
   "metadata": {},
   "outputs": [],
   "source": [
    "periphery"
   ]
  },
  {
   "cell_type": "code",
   "execution_count": null,
   "id": "47fdff98-1573-4977-9f4a-08692470838d",
   "metadata": {},
   "outputs": [],
   "source": [
    "xy_vals = np.array(xy_vals)"
   ]
  },
  {
   "cell_type": "code",
   "execution_count": null,
   "id": "17d3e2d6-83b9-483b-886e-41dc76633e02",
   "metadata": {},
   "outputs": [],
   "source": [
    "xy_vals_in = xy_vals[periphery]\n",
    "xy_vals_out = xy_vals[~periphery]\n",
    "print(\"in:\",len(xy_vals_in))\n",
    "print(\"out:\",len(xy_vals_out))"
   ]
  },
  {
   "cell_type": "code",
   "execution_count": null,
   "id": "100412e6-a79a-406d-bf95-22ab6b29e0a5",
   "metadata": {},
   "outputs": [],
   "source": [
    "ap.unset_intervals()\n",
    "ap.occupancy_map_2d()\n",
    "radius = np.min(ap.occupancy_map.shape) / 2.\n",
    "center = tuple(np.array(ap.occupancy_map.shape) / 2.)\n",
    "\n",
    "plt.imshow(ap.occupancy_map.T, cmap='Greys')\n",
    "\n",
    "binsx,binsy = ap.coord_cm2bin_xyvals(xy_vals_in)\n",
    "plt.scatter(binsx,binsy,color='green')\n",
    "binsx,binsy = ap.coord_cm2bin_xyvals(xy_vals_out)\n",
    "plt.scatter(binsx,binsy,color='red')\n",
    "\n",
    "circle1 = patches.Circle(center, radius, color='black', fill=None)\n",
    "plt.gca().add_patch(circle1)\n",
    "\n",
    "plt.xlabel(\"x (bin)\")\n",
    "plt.ylabel(\"y (bin)\")\n",
    "plt.title(\"animal position at light switch\")\n",
    "plt.show()"
   ]
  },
  {
   "cell_type": "code",
   "execution_count": null,
   "id": "caba3606-7db1-4e26-aa36-d95fbf1d07bf",
   "metadata": {},
   "outputs": [],
   "source": [
    "np.where(periphery)"
   ]
  },
  {
   "cell_type": "code",
   "execution_count": null,
   "id": "b6e04203-d9c4-419c-a5cb-f879e20781af",
   "metadata": {},
   "outputs": [],
   "source": [
    "np.where(periphery)[0]+1"
   ]
  },
  {
   "cell_type": "code",
   "execution_count": null,
   "id": "ebe8ad8c-a15b-42c1-9a05-95977a64fb16",
   "metadata": {},
   "outputs": [],
   "source": [
    "len(periphery)"
   ]
  },
  {
   "cell_type": "markdown",
   "id": "4b8c1147-bda0-472d-9f52-4752ebefd48e",
   "metadata": {
    "jp-MarkdownHeadingCollapsed": true,
    "tags": []
   },
   "source": [
    "#### Pick some good HD neurons manually"
   ]
  },
  {
   "cell_type": "raw",
   "id": "0af9dd52-f962-490e-b51a-fc95118f1139",
   "metadata": {
    "tags": []
   },
   "source": [
    "# good HD neurons"
   ]
  },
  {
   "cell_type": "raw",
   "id": "70a63a64-14b9-4a19-8be6-e2af175d370f",
   "metadata": {
    "tags": []
   },
   "source": [
    "# hd_neurons = \n",
    "# 39,45,48,53,60,  # 39,44,45,48,51,52,53,60  ### = for 16.02.22\n",
    "# 29,30,31,32,37,38,40, ### for 11.02.22"
   ]
  },
  {
   "cell_type": "raw",
   "id": "aed6c9f5-6ed0-45de-872f-bb5e81a13525",
   "metadata": {
    "tags": []
   },
   "source": [
    "# cg.neuron_list[14].name # id 14 = name 39"
   ]
  },
  {
   "cell_type": "code",
   "execution_count": null,
   "id": "20f0cbbc-d2d4-4dd7-83c1-168d048dcb59",
   "metadata": {},
   "outputs": [],
   "source": [
    "#hd_neurons=[29, 31, 32, 33, 34, 35]"
   ]
  },
  {
   "cell_type": "code",
   "execution_count": null,
   "id": "05d779b3-8882-4dd1-b99d-ae2af38ee9f8",
   "metadata": {
    "tags": []
   },
   "outputs": [],
   "source": [
    "index = [ int(n.name) for n in cg.neuron_list ].index(24)\n",
    "print(index)"
   ]
  },
  {
   "cell_type": "code",
   "execution_count": null,
   "id": "5c4d9cb6-3717-4def-bf10-df4b0a37ad5b",
   "metadata": {
    "tags": []
   },
   "outputs": [],
   "source": [
    "n = cg.neuron_list[index]"
   ]
  },
  {
   "cell_type": "code",
   "execution_count": null,
   "id": "2d6c7e83-1a73-4d5e-8a4a-919d8b2c19d1",
   "metadata": {},
   "outputs": [],
   "source": [
    "## for baseline\n",
    "\n",
    "# reset and set intervals\n",
    "n.spike_train.unset_intervals()\n",
    "ap.unset_intervals()\n",
    "n.spike_train.set_intervals(baseline_interval)\n",
    "ap.set_intervals(baseline_interval)\n",
    "\n",
    "#~ print(\"n\",n.spike_train.intervals.total_interval_duration_seconds())\n",
    "#~ print(\"ap\",ap.intervals.total_interval_duration_seconds())\n",
    "\n",
    "n.set_spatial_properties(ap)\n",
    "\n",
    "n.spatial_properties.firing_rate_head_direction_histogram(smoothing=False)\n",
    "\n",
    "angles = n.spatial_properties.mid_point_from_edges(n.spatial_properties.firing_rate_head_direction_histo_edges)\n",
    "hd_firing = n.spatial_properties.firing_rate_head_direction_histo\n",
    "hd_mean_direction_rad, hd_mean_direction_deg, hd_mean_vector_length, hd_peak_angle_rad, hd_peak_rate = n.spatial_properties.head_direction_score()\n",
    "\n",
    "plt.plot(angles, hd_firing)\n",
    "plt.xlabel(\"Head direction\")\n",
    "plt.ylabel(\"Firing rate (Hz)\")\n",
    "plt.ylim(0,np.max(n.spatial_properties.firing_rate_head_direction_histo)*1.2)\n",
    "plt.axvline(x=hd_mean_direction_rad, color=\"black\")\n",
    "plt.title(\"Baseline , mean direction: {:.2f} °, mean vector len {:.2}\".format(hd_mean_direction_deg,hd_mean_vector_length))\n",
    "plt.suptitle(\"Neuron id {}, Name {}\".format(index,n.name))\n",
    "plt.show()\n",
    "\n",
    "# (1-vectorlen)*180 = angular variance (?)"
   ]
  },
  {
   "cell_type": "code",
   "execution_count": null,
   "id": "1fb9cdef-3c62-4f73-a30b-b1f800e29345",
   "metadata": {
    "tags": []
   },
   "outputs": [],
   "source": [
    "## for darkness\n",
    "\n",
    "for b,dark_intervals_block in enumerate(dark_intervals_divided):\n",
    "    #~ print(b, dark_intervals_block)\n",
    "    \n",
    "    # reset and set intervals\n",
    "    n.spike_train.unset_intervals()\n",
    "    ap.unset_intervals()\n",
    "    n.spike_train.set_intervals(dark_intervals_block)\n",
    "    ap.set_intervals(dark_intervals_block)\n",
    "    \n",
    "    #~ print(\"n\",n.spike_train.intervals.total_interval_duration_seconds())\n",
    "    #~ print(\"ap\",ap.intervals.total_interval_duration_seconds())\n",
    "    \n",
    "    n.set_spatial_properties(ap)\n",
    "\n",
    "    n.spatial_properties.firing_rate_head_direction_histogram(smoothing=False)\n",
    "    \n",
    "    angles = n.spatial_properties.mid_point_from_edges(n.spatial_properties.firing_rate_head_direction_histo_edges)\n",
    "    hd_firing = n.spatial_properties.firing_rate_head_direction_histo\n",
    "    hd_mean_direction_rad, hd_mean_direction_deg, hd_mean_vector_length, hd_peak_angle_rad, hd_peak_rate = n.spatial_properties.head_direction_score()\n",
    "    \n",
    "    plt.plot(angles, hd_firing)\n",
    "    plt.xlabel(\"Head direction\")\n",
    "    plt.ylabel(\"Firing rate (Hz)\")\n",
    "    plt.ylim(0,np.max(n.spatial_properties.firing_rate_head_direction_histo)*1.2)\n",
    "    plt.axvline(x=hd_mean_direction_rad, color=\"black\")\n",
    "    plt.title(\"After darkness {} , mean direction: {:.2f} °, mean vector len {:.2}\".format(b,hd_mean_direction_deg,hd_mean_vector_length))\n",
    "    plt.suptitle(\"Neuron id {}, Name {}\".format(index,n.name))\n",
    "    plt.show()\n",
    "    \n",
    "    #~ print(\"\")\n",
    "    "
   ]
  },
  {
   "cell_type": "code",
   "execution_count": null,
   "id": "5b00bc79-0c3e-4ce4-94aa-b71574a788d9",
   "metadata": {},
   "outputs": [],
   "source": []
  },
  {
   "cell_type": "code",
   "execution_count": null,
   "id": "eb20ac55-51dc-4197-b92d-d3beabc04474",
   "metadata": {
    "tags": []
   },
   "outputs": [],
   "source": []
  },
  {
   "cell_type": "markdown",
   "id": "3b098047-7e9d-4fe6-8028-c6fdd44b6279",
   "metadata": {
    "tags": []
   },
   "source": [
    "#### **Analyse all HD neurons**"
   ]
  },
  {
   "cell_type": "code",
   "execution_count": null,
   "id": "8936be61-ef83-4dbc-a2b7-eeb878eed903",
   "metadata": {},
   "outputs": [],
   "source": [
    "hd_neurons"
   ]
  },
  {
   "cell_type": "code",
   "execution_count": null,
   "id": "46259a27-e977-4b7f-8d19-2401465eed04",
   "metadata": {},
   "outputs": [],
   "source": [
    "# hd_neurons = [3,7,12,14,17] # manually defined"
   ]
  },
  {
   "cell_type": "code",
   "execution_count": null,
   "id": "edae32bd-372a-4901-9ab7-631c240beabe",
   "metadata": {},
   "outputs": [],
   "source": []
  },
  {
   "cell_type": "code",
   "execution_count": null,
   "id": "870b619f-d7d2-4ce5-be30-ef4a4a9ffa89",
   "metadata": {},
   "outputs": [],
   "source": [
    "intervals = [baseline_interval, light_intervals, dark_intervals, None]\n",
    "intervals.extend(light_intervals_divided)\n",
    "intervals.extend(dark_intervals_divided)\n",
    "#~ print(len(intervals),intervals)\n",
    "\n",
    "labels = [\"Baseline\",\"all light\",\"all dark\",None] # \"light\"/\"darkness\"\n",
    "col_ids = [0, 1, 1, 2]\n",
    "\n",
    "light_intervals_divided_labels = [ \"light block {}\".format(b+1) for b,i in enumerate(light_intervals_divided) ]\n",
    "labels.extend(light_intervals_divided_labels)\n",
    "col_ids.extend(range(3,3+len(light_intervals_divided_labels)))\n",
    "\n",
    "dark_intervals_divided_labels = [ \"dark block {}\".format(b+1) for b,i in enumerate(dark_intervals_divided) ]\n",
    "labels.extend(dark_intervals_divided_labels)\n",
    "col_ids.extend(range(3,3+len(dark_intervals_divided_labels)))\n",
    "\n",
    "\n",
    "#~ print(labels)\n",
    "width_ratios = [1, 1, 0.5] + blocks*[1]\n",
    "\n",
    "legends = [False, True, True, None] + 2*blocks*[True]\n",
    "\n",
    "#~ for col_id,interval,label,legend in zip(col_ids, intervals, labels, legends):\n",
    "#~     print(col_id, interval.shape if not interval is None else 'None','\"'+str(label)+'\"',legend)"
   ]
  },
  {
   "cell_type": "code",
   "execution_count": null,
   "id": "feb86e9b-bbc1-430a-985a-fc4b690e38ea",
   "metadata": {},
   "outputs": [],
   "source": [
    "fig, axs = plt.subplots(len(hd_neurons), 2+1+blocks, figsize=(4*(2+blocks), 5*len(hd_neurons)), gridspec_kw={'width_ratios': width_ratios}, squeeze=False)\n",
    "# rows,cols, figsize=(width,height)\n",
    "\n",
    "for i,index in enumerate(hd_neurons):\n",
    "    \n",
    "    ## select neuron from list\n",
    "    \n",
    "    n = cg.neuron_list[index]\n",
    "    \n",
    "    \n",
    "    ## HD tuning curve: first for references: baseline & darkness, then for each block in darkness (light respectively)\n",
    "    \n",
    "    #for j,(interval,label) in enumerate(zip(intervals,labels)):\n",
    "    for col_id,interval,label,legend in zip(col_ids, intervals, labels, legends):\n",
    "        \n",
    "        j = col_id\n",
    "        \n",
    "        if interval is None:\n",
    "            axs[i,j].set_visible(False)\n",
    "            continue\n",
    "        \n",
    "        #~ print(j,(interval,label))\n",
    "        #~ continue\n",
    "\n",
    "        # reset and set intervals\n",
    "        n.spike_train.unset_intervals()\n",
    "        ap.unset_intervals()\n",
    "        n.spike_train.set_intervals(interval)\n",
    "        ap.set_intervals(interval)\n",
    "\n",
    "        #~ print(\"n\",n.spike_train.intervals.total_interval_duration_seconds())\n",
    "        #~ print(\"ap\",ap.intervals.total_interval_duration_seconds())\n",
    "        total_duration = n.spike_train.intervals.total_interval_duration_seconds()\n",
    "\n",
    "        n.set_spatial_properties(ap)\n",
    "\n",
    "        n.spatial_properties.firing_rate_head_direction_histogram(smoothing=False)\n",
    "\n",
    "        angles = n.spatial_properties.mid_point_from_edges(n.spatial_properties.firing_rate_head_direction_histo_edges)\n",
    "        hd_firing = n.spatial_properties.firing_rate_head_direction_histo\n",
    "        hd_mean_direction_rad, hd_mean_direction_deg, hd_mean_vector_length, hd_peak_angle_rad, hd_peak_rate = n.spatial_properties.head_direction_score()\n",
    "\n",
    "        axs[i,j].plot(angles, hd_firing, label=label+\" ({:.1f}s)\".format(total_duration) + \"\\n\" + \"dir: {:.1f}°, len: {:.2}\".format(hd_mean_direction_deg,hd_mean_vector_length) )\n",
    "        axs[i,j].set_xlabel(\"Head direction\")\n",
    "        axs[i,j].set_ylabel(\"Firing rate (Hz)\")\n",
    "        if j==0:\n",
    "            ymax = np.max(n.spatial_properties.firing_rate_head_direction_histo)*2. # first col defines y scaling\n",
    "        axs[i,j].set_ylim(0,ymax)\n",
    "        axs[i,j].axvline(x=hd_mean_direction_rad, color=axs[i,j].lines[-1].get_color())\n",
    "        axs[i,j].set_title(\"Neuron id {}, Name {} \\n ({}, {:.1f}s)\".format(index,n.name,label,total_duration) + \"\\n\" + \"mean direction: {:.1f}°, vector len: {:.2}\".format(hd_mean_direction_deg,hd_mean_vector_length))\n",
    "        \n",
    "        if (legend):\n",
    "            axs[i,j].legend()\n",
    "            axs[i,j].set_title('')\n",
    "    \n",
    "plt.suptitle(\"HD drift during darkness for session \"+name, fontsize=16, fontweight='bold')\n",
    "plt.tight_layout()\n",
    "fig.subplots_adjust(top=0.925)\n",
    "#plt.savefig('/home/pascal/Documents/science_docs/analysis_results/'+name+'_HD-drift.pdf')\n",
    "plt.show()"
   ]
  },
  {
   "cell_type": "code",
   "execution_count": null,
   "id": "07b4d7f8-8d72-4c9f-a108-f7cb0291faed",
   "metadata": {},
   "outputs": [],
   "source": []
  },
  {
   "cell_type": "raw",
   "id": "ac76b0c0-7a84-4cd2-a6ee-e4d964527a47",
   "metadata": {},
   "source": [
    "// ensure HD coverage in each bin"
   ]
  },
  {
   "cell_type": "code",
   "execution_count": null,
   "id": "4ccaa412-579a-4003-9398-aaabc2581b91",
   "metadata": {},
   "outputs": [],
   "source": []
  },
  {
   "cell_type": "code",
   "execution_count": null,
   "id": "dddf1f02-4557-44a6-8e44-0b0ac65b4b05",
   "metadata": {},
   "outputs": [],
   "source": [
    "n"
   ]
  },
  {
   "cell_type": "code",
   "execution_count": null,
   "id": "accb0183-3dbf-4932-a5a4-eb1fd2019c1c",
   "metadata": {},
   "outputs": [],
   "source": [
    "def hd_tuning(n, interval):\n",
    "    n.spike_train.unset_intervals()\n",
    "    ap.unset_intervals()\n",
    "    n.spike_train.set_intervals(interval)\n",
    "    ap.set_intervals(interval)\n",
    "\n",
    "    total_duration = n.spike_train.intervals.total_interval_duration_seconds()\n",
    "\n",
    "    n.set_spatial_properties(ap)\n",
    "\n",
    "    n.spatial_properties.firing_rate_head_direction_histogram(smoothing=False)\n",
    "\n",
    "    angles = n.spatial_properties.mid_point_from_edges(n.spatial_properties.firing_rate_head_direction_histo_edges)\n",
    "    hd_firing = n.spatial_properties.firing_rate_head_direction_histo\n",
    "    hd_mean_direction_rad, hd_mean_direction_deg, hd_mean_vector_length, hd_peak_angle_rad, hd_peak_rate = n.spatial_properties.head_direction_score()\n",
    "    \n",
    "    return (total_duration, (angles, hd_firing), (hd_mean_direction_rad, hd_mean_direction_deg, hd_mean_vector_length, hd_peak_angle_rad, hd_peak_rate))"
   ]
  },
  {
   "cell_type": "code",
   "execution_count": null,
   "id": "126e2221-dc71-401a-aa3a-810e339a5432",
   "metadata": {},
   "outputs": [],
   "source": [
    "# hd_tuning(n, np.array([1,1000]))"
   ]
  },
  {
   "cell_type": "code",
   "execution_count": null,
   "id": "9a420724-9b31-46e8-9fb5-fa0574467a83",
   "metadata": {},
   "outputs": [],
   "source": [
    "n.name"
   ]
  },
  {
   "cell_type": "code",
   "execution_count": null,
   "id": "f73e54c3-808f-4501-87d0-9620afff1232",
   "metadata": {},
   "outputs": [],
   "source": [
    "total_duration, (angles, hd_firing_1), (hd_score) = hd_tuning(n, baseline_interval)\n",
    "print(total_duration)\n",
    "total_duration, (angles, hd_firing_2), (hd_score) = hd_tuning(n, baseline_interval_2)\n",
    "print(total_duration)"
   ]
  },
  {
   "cell_type": "code",
   "execution_count": null,
   "id": "02cdb83f-fafd-465f-851f-29c707085620",
   "metadata": {},
   "outputs": [],
   "source": []
  },
  {
   "cell_type": "code",
   "execution_count": null,
   "id": "215ed852-3c64-4cb5-8659-9c2d678748ae",
   "metadata": {},
   "outputs": [],
   "source": [
    "plt.plot(angles, hd_firing_1, label=\"Baseline, initial\")\n",
    "plt.plot(angles, hd_firing_2, label=\"Baseline, final\")\n",
    "plt.legend()\n",
    "plt.show()"
   ]
  },
  {
   "cell_type": "code",
   "execution_count": null,
   "id": "179d1517-c299-4e39-8cd9-f7538fbb4a08",
   "metadata": {},
   "outputs": [],
   "source": [
    "def addfirst(a):\n",
    "    return np.append(a,a[0])"
   ]
  },
  {
   "cell_type": "code",
   "execution_count": null,
   "id": "6a8c87c0-3cda-468f-9e0c-2e05d6fe0d38",
   "metadata": {},
   "outputs": [],
   "source": [
    "intervals = [baseline_interval, baseline_interval_2, light_intervals, dark_intervals]\n",
    "labels = [\"initial baseline\", \"final baseline\", \"all light\", \"all dark\"]"
   ]
  },
  {
   "cell_type": "code",
   "execution_count": null,
   "id": "2a0150d6-c838-46df-813d-ae3e96f8fe86",
   "metadata": {},
   "outputs": [],
   "source": [
    "fig, axes = plt.subplots(nrows=1, ncols=4, subplot_kw=dict(polar=True), figsize=(15, 5))\n",
    "for i, (intv, label) in enumerate(zip(intervals, labels)):\n",
    "    total_duration, (angles, hd_firing), (hd_score) = hd_tuning(n, intv)\n",
    "    hd_mean_direction_rad, hd_mean_direction_deg, hd_mean_vector_length, hd_peak_angle_rad, hd_peak_rate = hd_score\n",
    "    axes[i].plot(addfirst(angles), addfirst(hd_firing), color='black')\n",
    "    axes[i].set_title(label + \"\\n\\n\" + \"mean direction: {:.1f}°\\nvector length: {:.2}\".format(hd_mean_direction_deg,hd_mean_vector_length))\n",
    "plt.tight_layout()\n",
    "plt.show()\n"
   ]
  },
  {
   "cell_type": "code",
   "execution_count": null,
   "id": "9a61f47f-0247-477f-ac3c-d2509814bb65",
   "metadata": {},
   "outputs": [],
   "source": []
  },
  {
   "cell_type": "markdown",
   "id": "cde3547d-aa6d-4cfc-a8ff-178f310730fe",
   "metadata": {
    "tags": []
   },
   "source": [
    "##### HD tuning curve (firing rate), with temporal resolution"
   ]
  },
  {
   "cell_type": "code",
   "execution_count": null,
   "id": "8829451c-11fe-4740-bc53-5c810a5ef6e3",
   "metadata": {},
   "outputs": [],
   "source": [
    "from matplotlib.ticker import MaxNLocator"
   ]
  },
  {
   "cell_type": "code",
   "execution_count": null,
   "id": "54437366-50f3-4069-b8a9-eda1f91e5bfb",
   "metadata": {},
   "outputs": [],
   "source": [
    "for i,index in enumerate(hd_neurons):\n",
    "    \n",
    "    ## select neuron from list\n",
    "    \n",
    "    n = cg.neuron_list[index]\n",
    "\n",
    "\n",
    "    fig, axes = plt.subplots(ncols=2, nrows=3, sharex=True, sharey=False, figsize=(8,4))\n",
    "    #fig.subplots_adjust(hspace=0)\n",
    "\n",
    "    # initial baseline\n",
    "    total_duration, (angles, hd_firing), (hd_score) = hd_tuning(n, baseline_interval)\n",
    "    # axes[0,0].imshow([hd_firing])\n",
    "    axes[0,0].pcolor(angles, np.arange(2) , np.array([hd_firing,hd_firing]), shading='auto', cmap='Greys')\n",
    "    # axes[0,0].pcolormesh(angles, np.arange(1) , np.array([hd_firing]))\n",
    "    axes[0,0].get_yaxis().set_visible(False)\n",
    "    #axes[0,0].set(yticklabels=[])\n",
    "    #axes[0,0].set_ylabel(\".\")\n",
    "    axes[0,0].set_title(\"initial baseline ({:.1f}s)\".format(total_duration))\n",
    "\n",
    "    # final baseline\n",
    "    total_duration, (angles, hd_firing), (hd_score) = hd_tuning(n, baseline_interval_2)\n",
    "    # axes[0,1].imshow([hd_firing])\n",
    "    axes[0,1].pcolor(angles, np.arange(2) , np.array([hd_firing,hd_firing]), shading='auto', cmap='Greys')\n",
    "    axes[0,1].get_yaxis().set_visible(False)\n",
    "    axes[0,1].set_title(\"final baseline ({:.1f}s)\".format(total_duration))\n",
    "\n",
    "    # all light trials combined\n",
    "    total_duration, (angles, hd_firing), (hd_score) = hd_tuning(n, light_intervals)\n",
    "    # axes[1,0].imshow([hd_firing])\n",
    "    axes[1,0].pcolor(angles, np.arange(2) , np.array([hd_firing,hd_firing]), shading='auto', cmap='Greys')\n",
    "    axes[1,0].get_yaxis().set_visible(False)\n",
    "    axes[1,0].set_title(\"all light trials ({:.1f}s)\".format(total_duration))\n",
    "\n",
    "    # all darkness trials combined\n",
    "    total_duration, (angles, hd_firing), (hd_score) = hd_tuning(n, dark_intervals)\n",
    "    # axes[1,1].imshow([hd_firing])\n",
    "    axes[1,1].pcolor(angles, np.arange(2) , np.array([hd_firing,hd_firing]), shading='auto', cmap='Greys')\n",
    "    axes[1,1].get_yaxis().set_visible(False)\n",
    "    axes[1,1].set_title(\"all dark trials ({:.1f}s)\".format(total_duration))\n",
    "\n",
    "    # light blocks\n",
    "    hd_firing_all_light = []\n",
    "    for light_interval in light_intervals_divided:\n",
    "        total_duration, (angles, hd_firing), (hd_score) = hd_tuning(n, light_interval)\n",
    "        hd_firing_all_light.append(hd_firing)\n",
    "    #im = axes[2,0].pcolor(angles, range(len(hd_firing_all_light)), hd_firing_all_light, shading='auto', cmap='Greys')#, vmin=0, vmax=np.nanmax(hd_firing_all_light))\n",
    "    im = axes[2,0].pcolor(angles, np.arange(len(hd_firing_all_light)), np.array(hd_firing_all_light), shading='auto', cmap='Greys')\n",
    "    #axes[2,0].imshow(hd_firing_all_light)#, extent=[angles[0],angles[-1],0,len(light_intervals_divided)-1])\n",
    "    axes[2,0].invert_yaxis()\n",
    "    axes[2,0].set_xlabel(\"angle\")\n",
    "    axes[2,0].set_ylabel(\"block\")\n",
    "    axes[2,0].yaxis.set_major_locator(MaxNLocator(integer=True))\n",
    "    axes[2,0].set_title(\"light blocks ({:.1f}s each)\".format(total_duration))\n",
    "\n",
    "    # dark blocks\n",
    "    hd_firing_all_dark = []\n",
    "    for dark_interval in dark_intervals_divided:\n",
    "        total_duration, (angles, hd_firing), (hd_score) = hd_tuning(n, dark_interval)\n",
    "        hd_firing_all_dark.append(hd_firing)\n",
    "    # axes[2,1].imshow(hd_firing_all_dark)\n",
    "    im = axes[2,1].pcolor(angles, np.arange(len(hd_firing_all_dark)), np.array(hd_firing_all_dark), shading='auto', cmap='Greys')\n",
    "    axes[2,1].invert_yaxis()\n",
    "    axes[2,1].set_xlabel(\"angle\")\n",
    "    axes[2,1].set_ylabel(\"block\")\n",
    "    axes[2,1].yaxis.set_major_locator(MaxNLocator(integer=True))\n",
    "    axes[2,1].set_title(\"dark blocks ({:.1f}s each)\".format(total_duration))\n",
    "\n",
    "    # plt.suptitle(\"HD drift for session \"+name, fontsize=16, fontweight='bold')\n",
    "    \n",
    "    plt.suptitle(\"Neuron id {}, Name {}\".format(index,n.name), fontsize=16, fontweight='bold')\n",
    "    \n",
    "    plt.tight_layout()\n",
    "    \n",
    "    plt.show()"
   ]
  },
  {
   "cell_type": "markdown",
   "id": "ace8d988-3cbc-4fe5-b071-81caba75f2f8",
   "metadata": {
    "tags": []
   },
   "source": [
    "##### **HD tuning per interval**"
   ]
  },
  {
   "cell_type": "code",
   "execution_count": null,
   "id": "4671bc86-b054-416c-9b19-c9aa4da11894",
   "metadata": {},
   "outputs": [],
   "source": [
    "def sem(data):\n",
    "    return np.std(data, ddof=1) / np.sqrt(np.size(data))"
   ]
  },
  {
   "cell_type": "code",
   "execution_count": null,
   "id": "0131a4fe-9346-4f18-be08-3263bf7f9358",
   "metadata": {},
   "outputs": [],
   "source": [
    "hd_firing_all = []\n",
    "interval_labels = []\n",
    "for i,intv in enumerate(light_dark_intervals):\n",
    "    dl = \"dark\" if i%2 else \"light\"\n",
    "    label = dl[0]+str((i+1)//2)\n",
    "    print(\"#\",i,\":\",intv,\"-\",np.diff(intv)[0],\"sec\",\"-\",dl,\"-\",label)\n",
    "    total_duration, (angles, hd_firing), (hd_score) = hd_tuning(n, intv)\n",
    "    hd_firing_all.append(hd_firing)\n",
    "    interval_labels.append(label)\n",
    "interval_labels[0] = \"initial baseline\"\n",
    "interval_labels[-1] = \"final baseline\"\n",
    "print(\"interval_labels:\",interval_labels)"
   ]
  },
  {
   "cell_type": "code",
   "execution_count": null,
   "id": "5a2317b8-18c2-45cb-a8bd-1a2ee04492b2",
   "metadata": {},
   "outputs": [],
   "source": [
    "def hd_tuning_intervals(n, intervals):\n",
    "    hd_firing_all = []\n",
    "    hd_score_all = []\n",
    "    hd_angle_all = []\n",
    "    for interval in intervals:\n",
    "        total_duration, (angles, hd_firing), (hd_score) = hd_tuning(n, interval)\n",
    "        hd_firing_all.append(hd_firing)\n",
    "        hd_score_all.append(hd_score[2]) # hd_mean_vector_length\n",
    "        hd_angle_all.append(hd_score[0]) # hd_mean_direction_rad\n",
    "    return(hd_firing_all,hd_score_all,hd_angle_all)"
   ]
  },
  {
   "cell_type": "code",
   "execution_count": null,
   "id": "5c52d10f-7b59-4d22-a203-a5eab5450020",
   "metadata": {},
   "outputs": [],
   "source": [
    "import matplotlib.ticker as mticker\n",
    "\n",
    "fig, axes = plt.subplots(ncols=1, nrows=len(hd_neurons), sharex=True, sharey=False, figsize=(8,len(hd_neurons)*10), squeeze=False)\n",
    "\n",
    "for i,index in enumerate(hd_neurons):\n",
    "    \n",
    "    ## select neuron from list\n",
    "    \n",
    "    n = cg.neuron_list[index]\n",
    "    \n",
    "    hd_firing_all, hd_score_all, hd_angle_all = hd_tuning_intervals(n, light_dark_intervals)\n",
    "    \n",
    "    axes[i,0].pcolor(angles, np.arange(len(hd_firing_all)), hd_firing_all, shading='auto', cmap='Greys')\n",
    "    axes[i,0].invert_yaxis()\n",
    "    axes[i,0].set_xlabel(\"angle\")\n",
    "    axes[i,0].set_ylabel(\"interval\")\n",
    "    axes[i,0].set_yticklabels(interval_labels)\n",
    "    axes[i,0].set_yticks(np.arange(len(interval_labels)))\n",
    "    # axes[i,0].set_title(\"neuron {}\".format(n.name))\n",
    "    \n",
    "    ax_right = axes[i,0].twinx()\n",
    "    ax_right.invert_yaxis()\n",
    "    ax_right.set_yticks(np.arange(len(interval_labels)))\n",
    "    ticks_loc = ax_right.get_yticks().tolist()\n",
    "    ticks_loc = [tick_loc/len(ticks_loc)*(len(ticks_loc)-1)+.5 for tick_loc in ticks_loc]\n",
    "    ax_right.yaxis.set_major_locator(mticker.FixedLocator(ticks_loc))\n",
    "    ax_right.set_yticklabels([\"{:.2f}\".format(hd_score) for hd_score in hd_score_all])\n",
    "    ax_right.set_ylabel(\"HD score\")\n",
    "    \n",
    "    hd_score_all_lightdark = np.array(hd_score_all)[1:-1]\n",
    "    hd_score_all_light = hd_score_all_lightdark[1::2]\n",
    "    hd_score_all_dark = hd_score_all_lightdark[0::2]\n",
    "    \n",
    "    axes[i,0].set_title(\"neuron {}\".format(n.name) + \"\\n\" + \"mean HD score: light: {:.2f}, dark: {:.2f}\".format(np.nanmean(hd_score_all_light),np.nanmean(hd_score_all_dark)))\n",
    "\n",
    "plt.suptitle(\"HD tuning curve ({})\".format(name), fontsize=14, fontweight='bold')\n",
    "plt.tight_layout()\n",
    "fig.subplots_adjust(top=0.95, hspace=0.2)\n",
    "#plt.savefig('/home/pascal/Documents/science_docs/analysis_results/'+name+'_HD-intervals.pdf')\n",
    "plt.show()"
   ]
  },
  {
   "cell_type": "code",
   "execution_count": null,
   "id": "010def73-28d9-4de3-9046-b37c7ba4b469",
   "metadata": {},
   "outputs": [],
   "source": [
    "def angle_diff(x,y):\n",
    "    # https://stackoverflow.com/a/1878936\n",
    "    return min((2 * np.pi) - abs(x - y), abs(x - y))"
   ]
  },
  {
   "cell_type": "code",
   "execution_count": null,
   "id": "021d0929-10c6-4ad3-bd14-9f2bd1455a80",
   "metadata": {},
   "outputs": [],
   "source": [
    "basline_angle = hd_angle_all[0]\n",
    "print(\"basline_angle\", basline_angle)\n",
    "light_dark_angles = hd_angle_all[1:-1]\n",
    "angle_diffs = np.array([ angle_diff(basline_angle, light_dark_angle) for light_dark_angle in light_dark_angles ])\n",
    "angle_drifted = angle_diffs > np.pi*(1-hd_score_all[0]) # some variance derived from HD score, so we can check if the angle is significantly different from the baseline one\n",
    "print(\"angle_drifted:\", np.sum(angle_drifted), \"/\", len(angle_drifted))"
   ]
  },
  {
   "cell_type": "code",
   "execution_count": null,
   "id": "f9983528-5833-465f-a147-aa43003152ce",
   "metadata": {},
   "outputs": [],
   "source": [
    "score_threshold = np.nanmean(hd_score_all_light) - 5 * sem(hd_score_all_light[np.isfinite(hd_score_all_light)])\n",
    "print(score_threshold)"
   ]
  },
  {
   "cell_type": "code",
   "execution_count": null,
   "id": "e1d6621f-e6c7-4760-9121-9d86676aadeb",
   "metadata": {},
   "outputs": [],
   "source": [
    "# np.where(hd_score_all_dark < score_threshold)\n",
    "# np.where(hd_score_all_dark >= score_threshold)"
   ]
  },
  {
   "cell_type": "code",
   "execution_count": null,
   "id": "58890011-d426-43d0-afeb-1f8b696b7a86",
   "metadata": {},
   "outputs": [],
   "source": [
    "score_drifted = hd_score_all_lightdark < score_threshold\n",
    "print(\"drifted:\", np.sum(score_drifted), \"/\", len(score_drifted))\n",
    "score_undrifted = hd_score_all_lightdark >= score_threshold\n",
    "print(\"not drifted:\", np.sum(score_undrifted), \"/\", len(score_undrifted))\n",
    "indices_invalid = ~np.isfinite(hd_score_all_lightdark)\n",
    "print(\"invalid:\", np.sum(indices_invalid), \"/\", len(indices_invalid))"
   ]
  },
  {
   "cell_type": "code",
   "execution_count": null,
   "id": "28cc67d4-5839-4184-a868-516a81f9a923",
   "metadata": {},
   "outputs": [],
   "source": [
    "interval_labels_lightdark = interval_labels[1:-1]\n",
    "len(interval_labels_lightdark)"
   ]
  },
  {
   "cell_type": "code",
   "execution_count": null,
   "id": "20e852fd-ba14-4cb0-b5e9-76051c4bdfa3",
   "metadata": {},
   "outputs": [],
   "source": [
    "dark_trials = [ interval_label_lightdark.startswith('d') for interval_label_lightdark in interval_labels_lightdark ]"
   ]
  },
  {
   "cell_type": "code",
   "execution_count": null,
   "id": "daa7aced-a172-4fa4-96a6-9cb96d2927d6",
   "metadata": {},
   "outputs": [],
   "source": [
    "indices_1 = np.logical_and(dark_trials, np.logical_or(score_drifted, angle_drifted)) # dark intervals, with Drift\n",
    "indices_2 = np.logical_and(dark_trials, np.logical_and(score_undrifted, ~angle_drifted))  # dark intervals, no Drift\n",
    "print(\"indices with drift\", np.sum(indices_1), \"/\", len(indices_1))\n",
    "print(\"indices without drift\", np.sum(indices_2), \"/\", len(indices_2))"
   ]
  },
  {
   "cell_type": "code",
   "execution_count": null,
   "id": "16377e48-849f-47bb-a7d1-619785a96c42",
   "metadata": {},
   "outputs": [],
   "source": [
    "hd_firing_all_lightdark = np.array(hd_firing_all)[1:-1]\n",
    "hd_firing_all_lightdark.shape"
   ]
  },
  {
   "cell_type": "code",
   "execution_count": null,
   "id": "511e77a7-fa9f-4b4e-bf94-0e4173606443",
   "metadata": {},
   "outputs": [],
   "source": [
    "# interval_labels_lightdark"
   ]
  },
  {
   "cell_type": "code",
   "execution_count": null,
   "id": "1c1380e0-ea89-40b7-8d4c-f27cc9b27b3a",
   "metadata": {},
   "outputs": [],
   "source": [
    "hd_firing_drifted = hd_firing_all_lightdark[indices_2]\n",
    "labels_drifted = np.array(interval_labels_lightdark)[indices_2]"
   ]
  },
  {
   "cell_type": "code",
   "execution_count": null,
   "id": "54481f85-efc2-41c9-b962-6b6d4a827980",
   "metadata": {},
   "outputs": [],
   "source": [
    "plt.pcolor(angles, np.arange(len(hd_firing_drifted)), hd_firing_drifted, shading='auto', cmap='Greys')\n",
    "plt.gca().invert_yaxis()\n",
    "plt.gca().set_yticklabels(labels_drifted)\n",
    "plt.gca().set_yticks(np.arange(len(labels_drifted)))\n",
    "plt.show()"
   ]
  },
  {
   "cell_type": "code",
   "execution_count": null,
   "id": "4fd893a6-ba3f-4f66-854e-95124d69f00a",
   "metadata": {},
   "outputs": [],
   "source": []
  },
  {
   "cell_type": "code",
   "execution_count": null,
   "id": "41f6f62a-eda8-4456-b45a-1447c2034a19",
   "metadata": {},
   "outputs": [],
   "source": [
    "gc_neurons"
   ]
  },
  {
   "cell_type": "code",
   "execution_count": null,
   "id": "94241d02-7424-4d56-82f8-a99b3099e32b",
   "metadata": {},
   "outputs": [],
   "source": [
    "# choose a grid cell\n",
    "n=cg.neuron_list[15]\n",
    "n.name"
   ]
  },
  {
   "cell_type": "code",
   "execution_count": null,
   "id": "7a39a3f1-baf4-4859-a4b1-3f6a96fa5098",
   "metadata": {},
   "outputs": [],
   "source": [
    "iv = light_dark_intervals_without_baseline[indices_2]\n",
    "iv.shape"
   ]
  },
  {
   "cell_type": "code",
   "execution_count": null,
   "id": "6d73ee5b-c66f-44f8-95c8-d2522c7db53d",
   "metadata": {},
   "outputs": [],
   "source": [
    "# iv=baseline_interval"
   ]
  },
  {
   "cell_type": "code",
   "execution_count": null,
   "id": "109d7f49-6eb3-4fec-9655-a8bff4dcc6dd",
   "metadata": {},
   "outputs": [],
   "source": [
    "# reset and set intervals\n",
    "n.spike_train.unset_intervals()\n",
    "ap.unset_intervals()\n",
    "n.spike_train.set_intervals(iv)\n",
    "ap.set_intervals(iv)\n",
    "\n",
    "# spatial firing map\n",
    "n.set_spatial_properties(ap)\n",
    "n.spatial_properties.firing_rate_map_2d(cm_per_bin =2, smoothing_sigma_cm = 2, smoothing=True)\n",
    "plt.imshow(n.spatial_properties.firing_rate_map.T,cmap='jet')\n",
    "gs = n.spatial_properties.grid_score()\n",
    "# plt.title(\"dark trials\"+\"\\n\"+\"HD score < threshold, or\" + \"\\n\" + \"mean angle significantly different\" + \"\\n\\n\" + \"Grid score: {:.2f}\".format(gs))\n",
    "plt.title(\"dark trials\"+\"\\n\"+\"HD score > threshold, and\" + \"\\n\" + \"mean angle not significantly different\" + \"\\n\\n\" + \"Grid score: {:.2f}\".format(gs))\n",
    "plt.show()\n",
    "\n",
    "plt.imshow(n.spatial_properties.spatial_autocorrelation_map.T,cmap='jet')\n",
    "plt.show()"
   ]
  },
  {
   "cell_type": "code",
   "execution_count": null,
   "id": "d6d97a3c-0ec5-445c-948e-dda261461f66",
   "metadata": {},
   "outputs": [],
   "source": [
    "intervals = [light_dark_intervals_without_baseline[indices_2], light_dark_intervals_without_baseline[indices_1]]\n",
    "labels = [\"condition 1\", \"condition 2\"]\n",
    "\n",
    "fig, axes = plt.subplots(nrows=1, ncols=2, subplot_kw=dict(polar=True), figsize=(15, 5))\n",
    "for i, (intv, label) in enumerate(zip(intervals, labels)):\n",
    "    total_duration, (angles, hd_firing), (hd_score) = hd_tuning(n, intv)\n",
    "    hd_mean_direction_rad, hd_mean_direction_deg, hd_mean_vector_length, hd_peak_angle_rad, hd_peak_rate = hd_score\n",
    "    axes[i].plot(addfirst(angles), addfirst(hd_firing), color='black')\n",
    "    axes[i].set_title(label + \"\\n\\n\" + \"mean direction: {:.1f}°\\nvector length: {:.2}\".format(hd_mean_direction_deg,hd_mean_vector_length))\n",
    "plt.tight_layout()\n",
    "plt.show()\n"
   ]
  },
  {
   "cell_type": "code",
   "execution_count": null,
   "id": "375d1cb3-9ad0-4fde-b79e-12b4386472b2",
   "metadata": {},
   "outputs": [],
   "source": [
    "baseline_interval, baseline_interval_2, light_intervals, dark_intervals"
   ]
  },
  {
   "cell_type": "code",
   "execution_count": null,
   "id": "b9eded64-dec5-4602-961c-882887f5e54e",
   "metadata": {},
   "outputs": [],
   "source": [
    "intv = baseline_interval#light_dark_intervals_without_baseline[0::2]\n",
    "total_duration, (angles, hd_firing), (hd_score) = hd_tuning(n, intv)\n",
    "plt.plot(angles, hd_firing)"
   ]
  },
  {
   "cell_type": "code",
   "execution_count": null,
   "id": "17dc29ca-68b4-48ba-9532-2774ec1f1e19",
   "metadata": {},
   "outputs": [],
   "source": [
    "len(intervals[1])"
   ]
  },
  {
   "cell_type": "code",
   "execution_count": null,
   "id": "db073d8f-b4fe-4c0b-8b53-769180a734b9",
   "metadata": {},
   "outputs": [],
   "source": []
  },
  {
   "cell_type": "code",
   "execution_count": null,
   "id": "5a1f7875-403a-4b05-82d1-faf07829da9b",
   "metadata": {},
   "outputs": [],
   "source": []
  },
  {
   "cell_type": "code",
   "execution_count": null,
   "id": "4d8f9d1f-6a3c-4041-8cc3-2d1a7326723b",
   "metadata": {},
   "outputs": [],
   "source": []
  },
  {
   "cell_type": "code",
   "execution_count": null,
   "id": "d74219c7-00ee-4bcb-8006-9c7c3eba4514",
   "metadata": {},
   "outputs": [],
   "source": []
  },
  {
   "cell_type": "code",
   "execution_count": null,
   "id": "f8fbdb14-8e35-481d-becf-aff57314ef38",
   "metadata": {},
   "outputs": [],
   "source": [
    "hd_occupancy_histogram_all = []\n",
    "\n",
    "for interval in light_dark_intervals:\n",
    "    # print(interval)\n",
    "    ap.set_intervals(interval)\n",
    "    ap.head_direction_occupancy_histogram(smoothing=True, zero_to_nan=False) # smoothing=False\n",
    "    hd_occupancy_histogram = ap.hd_occupancy_histogram\n",
    "    # plt.plot(ap.mid_point_from_edges(ap.hd_occupancy_bins),hd_occupancy_histogram) # angles,hd_occupancy_histogram\n",
    "    # plt.show()\n",
    "    hd_occupancy_histogram_all.append(hd_occupancy_histogram/np.max(hd_occupancy_histogram))\n",
    "\n",
    "hd_occupancy_histogram_all = np.array(hd_occupancy_histogram_all)\n",
    "\n",
    "print(\"hd_occupancy_histogram_all\", hd_occupancy_histogram_all.shape)"
   ]
  },
  {
   "cell_type": "code",
   "execution_count": null,
   "id": "001b34c7-40fd-4e60-98ca-6cab61328743",
   "metadata": {},
   "outputs": [],
   "source": [
    "fig, axes = plt.subplots(ncols=1, nrows=1, sharex=True, sharey=False, figsize=(8,10))\n",
    "\n",
    "axes.pcolor(angles, np.arange(len(hd_occupancy_histogram_all)), hd_occupancy_histogram_all, shading='auto', cmap='Greys')\n",
    "axes.invert_yaxis()\n",
    "axes.set_xlabel(\"angle\")\n",
    "axes.set_ylabel(\"interval\")\n",
    "axes.set_yticklabels(interval_labels)\n",
    "axes.set_yticks(np.arange(len(interval_labels)))\n",
    "\n",
    "plt.suptitle(\"HD occupancy histogram\", fontsize=14, fontweight='bold')\n",
    "plt.tight_layout()\n",
    "fig.subplots_adjust(top=0.95)\n",
    "plt.savefig('/home/pascal/Documents/science_docs/analysis_results/'+name+'_HD-intervals_occupancy.pdf')\n",
    "plt.show()"
   ]
  },
  {
   "cell_type": "code",
   "execution_count": null,
   "id": "09fcac94-d788-435f-94da-0da8a3cccdbf",
   "metadata": {},
   "outputs": [],
   "source": []
  },
  {
   "cell_type": "markdown",
   "id": "70b020e8-0231-494f-ab56-5e2a672e912d",
   "metadata": {
    "tags": []
   },
   "source": [
    "#### Firing rate maps across conditions (to show the impact of light switches)"
   ]
  },
  {
   "cell_type": "code",
   "execution_count": null,
   "id": "404ca7c7-937e-4e87-8bcb-ca4958b7bf74",
   "metadata": {},
   "outputs": [],
   "source": [
    "intervals = [baseline_interval, baseline_interval_2, light_intervals, dark_intervals]\n",
    "labels = [\"initial baseline\", \"final baseline\", \"all light\", \"all dark\"]"
   ]
  },
  {
   "cell_type": "code",
   "execution_count": null,
   "id": "e7b8fadf-f73c-48e0-9ff0-642c06bf542c",
   "metadata": {},
   "outputs": [],
   "source": [
    "cg.set_spatial_properties(ap)\n",
    "\n",
    "cols = len(intervals)\n",
    "\n",
    "fig, axs = plt.subplots(1+len(gc_neurons)*2, cols+1, figsize=(5*cols, 5*len(gc_neurons)*2), gridspec_kw={'height_ratios':[.1]+[1.]*len(gc_neurons)*2 ,'width_ratios': [1.]*len(intervals)+[.1]})\n",
    "\n",
    "for j,(iv,label) in enumerate(zip(intervals, labels)):\n",
    "    axs[0,j].set_title(label, fontsize=16, fontweight='bold')\n",
    "    axs[0,j].axis('off')\n",
    "axs[0,j+1].set_visible(False)\n",
    "\n",
    "i = 0\n",
    "for N, n in enumerate(cg.neuron_list):\n",
    "    \n",
    "    if not N in gc_neurons:\n",
    "        continue\n",
    "    \n",
    "    print(\"Neuron:\",\"id\",N,\"/\",\"name\",n.name)\n",
    "    \n",
    "    maxval=None\n",
    "    \n",
    "    for j,(iv,label) in enumerate(zip(intervals, labels)):\n",
    "\n",
    "        # reset and set intervals\n",
    "        n.spike_train.unset_intervals()\n",
    "        ap.unset_intervals()\n",
    "        n.spike_train.set_intervals(iv)\n",
    "        ap.set_intervals(iv)\n",
    "\n",
    "        # spatial firing map\n",
    "        n.set_spatial_properties(ap)\n",
    "        n.spatial_properties.firing_rate_map_2d(cm_per_bin =2, smoothing_sigma_cm = 2, smoothing=True)\n",
    "        # transpose for plotting, and use maxval for mutual colorbar\n",
    "        im = axs[2*i+1,j].imshow(n.spatial_properties.firing_rate_map.T,cmap='jet',vmin=0,vmax=maxval)\n",
    "        gs = n.spatial_properties.grid_score()\n",
    "        if maxval is None: # set maxval if it is reference (first) interval (i.e. first column)\n",
    "            maxval = np.nanmax(n.spatial_properties.firing_rate_map) # same scaling\n",
    "        pre = \"\"# if i>0 else label+\"\\n\\n\\n\"\n",
    "        axs[2*i+1,j].set_title(pre + \"cluster id: {}, mean rate: {:.3} Hz\".format(n.name,n.spike_train.mean_firing_rate()))\n",
    "        #if j==len(labels)-1:\n",
    "        #    fig.colorbar(im,ax=axs[i,j])\n",
    "            \n",
    "        axs[2*i+1,j].axes.get_xaxis().set_visible(False)\n",
    "        axs[2*i+1,j].axes.get_yaxis().set_visible(False)\n",
    "        \n",
    "        axs[2*i+2,j].imshow(n.spatial_properties.spatial_autocorrelation_map.T,cmap='jet')\n",
    "        axs[2*i+2,j].set_title(\"Grid score: {:.2f}\".format(gs))\n",
    "        \n",
    "        # print(j,\"-\",n.spatial_properties.points_inside_dougnut)\n",
    "        \n",
    "        #add_colorbar()\n",
    "    axs[2*i+1,j+1].set_visible(False)\n",
    "    axs[2*i+2,j+1].set_visible(False)\n",
    "    fig.colorbar(im,ax=axs[2*i+1,j+1],fraction=1., pad=0.1)\n",
    "    \n",
    "    i+=1\n",
    "        \n",
    "plt.suptitle(\"firing rate maps ({})\".format(name), fontsize=16, fontweight='bold')\n",
    "plt.tight_layout()\n",
    "fig.subplots_adjust(top=0.85, wspace=.05, hspace=.3)\n",
    "# plt.savefig('/home/pascal/Documents/science_docs/analysis_results/'+name+'_firing-rate-maps.pdf')\n",
    "plt.show()"
   ]
  },
  {
   "cell_type": "code",
   "execution_count": null,
   "id": "c21d82cd-bba9-4d0f-8251-08c4af95afef",
   "metadata": {},
   "outputs": [],
   "source": []
  },
  {
   "cell_type": "code",
   "execution_count": null,
   "id": "a82387aa-bee5-4ad2-a610-5ef56950aa2e",
   "metadata": {},
   "outputs": [],
   "source": [
    "# grid rotation\n",
    "index = [ int(n.name) for n in cg.neuron_list ].index(98)\n",
    "n = cg.neuron_list[index]\n",
    "print(index, n.name)"
   ]
  },
  {
   "cell_type": "code",
   "execution_count": null,
   "id": "21787d16-5ab7-4b0b-9fcc-0724c1508d94",
   "metadata": {},
   "outputs": [],
   "source": [
    "# investigate temporal change in firing rate maps:\n",
    "\n",
    "index = [ int(n.name) for n in cg.neuron_list ].index(32) # select manually\n",
    "print(\"index:\", index)\n",
    "n = cg.neuron_list[index]\n",
    "print(\"neuron:\", n.name)"
   ]
  },
  {
   "cell_type": "code",
   "execution_count": null,
   "id": "5942c73e-2a63-433c-96a6-d89faacec5d8",
   "metadata": {},
   "outputs": [],
   "source": [
    "index=gc_neurons[0]\n",
    "n = cg.neuron_list[index]\n"
   ]
  },
  {
   "cell_type": "code",
   "execution_count": null,
   "id": "23e5cc21-bb9e-4924-8fc3-b337dc5eee86",
   "metadata": {},
   "outputs": [],
   "source": [
    "np.concatenate(dark_intervals_divided).shape"
   ]
  },
  {
   "cell_type": "code",
   "execution_count": null,
   "id": "76b578f2-fa43-4378-b535-7b10c3acb32a",
   "metadata": {},
   "outputs": [],
   "source": []
  },
  {
   "cell_type": "code",
   "execution_count": null,
   "id": "884d707c-d51d-461c-a9e9-5eb0aed43424",
   "metadata": {},
   "outputs": [],
   "source": [
    "fig, axs = plt.subplots(2, len(dark_intervals_divided), figsize=(20,7))\n",
    "\n",
    "for i,iv in enumerate(dark_intervals_divided):\n",
    "\n",
    "    # reset and set intervals\n",
    "    n.spike_train.unset_intervals()\n",
    "    ap.unset_intervals()\n",
    "    n.spike_train.set_intervals(iv)\n",
    "    ap.set_intervals(iv)\n",
    "\n",
    "    # spatial firing map\n",
    "    n.set_spatial_properties(ap)\n",
    "    n.spatial_properties.firing_rate_map_2d(cm_per_bin =2, smoothing_sigma_cm = 2, smoothing=True)\n",
    "    # transpose for plotting, and use maxval for mutual colorbar\n",
    "    axs[0,i].imshow(n.spatial_properties.firing_rate_map.T)\n",
    "    axs[0,i].set_title(\"block {}\".format(i+1))\n",
    "    \n",
    "    gs = n.spatial_properties.grid_score()\n",
    "    axs[1,i].imshow(n.spatial_properties.spatial_autocorrelation_map, cmap='gray')\n",
    "    axs[1,i].set_title(\"spatial autocorrelation\"+\"\\n\"+\"Grid Score: \"+str(round(gs,2)))\n",
    "    \n",
    "    \n",
    "    \n",
    "    \n",
    "    grid_info = n.spatial_properties.grid_info()\n",
    "    if grid_info is not False:\n",
    "        hexagon_radius, rotation, error, hexagon_rotated = grid_info\n",
    "    print(grid_info)\n",
    "    \n",
    "    points_inside_dougnut = n.spatial_properties.points_inside_dougnut\n",
    "\n",
    "    if len(points_inside_dougnut):\n",
    "\n",
    "        for x,y in points_inside_dougnut:\n",
    "            axs[1,i].scatter(x,y, color='black')\n",
    "\n",
    "        midpoint = n.spatial_properties.autocorr_midpoint\n",
    "        circle_outer = plt.Circle(midpoint, n.spatial_properties.r_outer_radius_use, color='black' , fill=False)\n",
    "        circle_inner = plt.Circle(midpoint, n.spatial_properties.r_inner_radius_use, color='black' , fill=False)\n",
    "\n",
    "        axs[1,i].add_patch(circle_outer)\n",
    "        axs[1,i].add_patch(circle_inner)\n",
    "\n",
    "\n",
    "        grid_info = n.spatial_properties.grid_info()\n",
    "        if grid_info is not False:\n",
    "\n",
    "            hexagon_radius, rotation, error, hexagon_rotated = grid_info\n",
    "\n",
    "            circle_median = plt.Circle(midpoint, hexagon_radius, color='blue', ls='dashed', fill=False)\n",
    "            axs[1,i].add_patch(circle_median)\n",
    "\n",
    "            axs[1,i].plot(hexagon_rotated[:,0], hexagon_rotated[:,1] , color=\"blue\")\n",
    "\n",
    "            axs[1,i].text(10,10, \"rotation: {:3.1f} °\".format(rotation*360/(2*np.pi)))\n",
    "            axs[1,i].text(10,15, \"hexagon score: {:2.1f} %\".format(np.exp(-error/10)*100))\n",
    "\n",
    "\n",
    "    \n",
    "plt.tight_layout()\n",
    "plt.show()"
   ]
  },
  {
   "cell_type": "code",
   "execution_count": null,
   "id": "8920598b-cb9b-4fe3-a1b3-4461326b1363",
   "metadata": {},
   "outputs": [],
   "source": []
  },
  {
   "cell_type": "code",
   "execution_count": null,
   "id": "347bfc79-a18b-4ea2-a6c5-2451673e50aa",
   "metadata": {},
   "outputs": [],
   "source": []
  },
  {
   "cell_type": "code",
   "execution_count": null,
   "id": "95391f47-9857-4c40-aa47-26a717fb13d2",
   "metadata": {},
   "outputs": [],
   "source": []
  },
  {
   "cell_type": "markdown",
   "id": "41eb4141-5e6a-4c72-a2c7-c7585c174c70",
   "metadata": {
    "jp-MarkdownHeadingCollapsed": true,
    "tags": []
   },
   "source": [
    "#### Speed of animal across time and light/dark conditions"
   ]
  },
  {
   "cell_type": "code",
   "execution_count": null,
   "id": "ad6117a8-2d07-42a9-adab-8769741a35d7",
   "metadata": {},
   "outputs": [],
   "source": [
    "ap.unset_intervals()"
   ]
  },
  {
   "cell_type": "code",
   "execution_count": null,
   "id": "315f57c2-b426-4292-bcb5-5d16974f9380",
   "metadata": {},
   "outputs": [],
   "source": [
    "ap.speed_from_pose()"
   ]
  },
  {
   "cell_type": "code",
   "execution_count": null,
   "id": "734a199c-ca9f-4416-9872-1c6fee2db7ee",
   "metadata": {},
   "outputs": [],
   "source": [
    "speed = ap.speed"
   ]
  },
  {
   "cell_type": "code",
   "execution_count": null,
   "id": "8e8312d0-8ea1-4ded-bdf9-de8df32bef5d",
   "metadata": {},
   "outputs": [],
   "source": [
    "np.mean(speed[speed>0])"
   ]
  },
  {
   "cell_type": "code",
   "execution_count": null,
   "id": "aeb67869-1904-4d60-86fa-157f373b6c29",
   "metadata": {},
   "outputs": [],
   "source": [
    "np.nanmedian(speed)"
   ]
  },
  {
   "cell_type": "code",
   "execution_count": null,
   "id": "2e8ac8b8-a069-418c-8253-c513fe1c23a8",
   "metadata": {},
   "outputs": [],
   "source": [
    "def mean_speed(intervals):\n",
    "    ap.set_intervals(intervals)\n",
    "    ap.speed_from_pose()\n",
    "    speed = ap.speed\n",
    "    speed_ = speed[np.isfinite(speed)]\n",
    "    return np.mean(speed_), sem(speed_)"
   ]
  },
  {
   "cell_type": "code",
   "execution_count": null,
   "id": "2572bc6b-c927-4a84-ad5c-12b7240aab58",
   "metadata": {},
   "outputs": [],
   "source": [
    "def print_mean_sem(intervals):\n",
    "    mean,sem = mean_speed(intervals)\n",
    "    return (\"{:.2f} \"+u\"\\u00B1\"+\" {:.2f}\").format(mean,sem)"
   ]
  },
  {
   "cell_type": "code",
   "execution_count": null,
   "id": "650faa29-cdd0-482b-aadb-2e6e30a9f987",
   "metadata": {},
   "outputs": [],
   "source": [
    "mean_speed(light_intervals)"
   ]
  },
  {
   "cell_type": "code",
   "execution_count": null,
   "id": "ce24bd57-a9c2-45dd-8552-aa3c8d27bb9e",
   "metadata": {},
   "outputs": [],
   "source": [
    "print_mean_sem(dark_intervals)"
   ]
  },
  {
   "cell_type": "code",
   "execution_count": null,
   "id": "ca0ce306-a9e2-4046-a931-91305a7edef5",
   "metadata": {},
   "outputs": [],
   "source": [
    "speed_txts = ', '.join([label+\": \"+print_mean_sem(intv) for intv,label in zip([baseline_interval, light_intervals, dark_intervals], [\"baseline\",\"light\",\"dark\"])])\n",
    "print(speed_txts)"
   ]
  },
  {
   "cell_type": "code",
   "execution_count": null,
   "id": "84e013e9-a752-4b2a-8da2-8d1a0607e0b2",
   "metadata": {},
   "outputs": [],
   "source": [
    "ap.unset_intervals()"
   ]
  },
  {
   "cell_type": "code",
   "execution_count": null,
   "id": "582712c7-6dc0-4dfe-bca6-a2c86f85114d",
   "metadata": {},
   "outputs": [],
   "source": [
    "plt.figure(figsize=(30,10))\n",
    "plt.plot(ap.pose[:,0], speed, color='black', lw=.1)\n",
    "\n",
    "for light_interval in light_intervals:\n",
    "    plt.axvspan(light_interval[0], light_interval[1], facecolor='yellow', alpha=0.25)\n",
    "for dark_interval in dark_intervals:\n",
    "    plt.axvspan(dark_interval[0], dark_interval[1], facecolor='black', alpha=0.25)\n",
    "\n",
    "### add text labels d1,l1,... of intervals\n",
    "#y=np.nanmax(speed)*.8\n",
    "y=80.\n",
    "for t,txt in zip(light_dark_intervals, interval_labels): # light_dark_intervals[:,0]\n",
    "    plt.text(x=np.mean(t),y=y,s=txt,horizontalalignment='center')\n",
    "    \n",
    "#plt.axvspan(baseline_interval[0], baseline_interval[1], facecolor='orange', alpha=0.25)\n",
    "#plt.axvspan(baseline_interval_2[0], baseline_interval_2[1], facecolor='orange', alpha=0.25)\n",
    "\n",
    "plt.ylim((0,100))\n",
    "\n",
    "plt.xlabel(\"time [s]\")\n",
    "plt.ylabel(\"speed [cm/s]\")\n",
    "plt.suptitle(\"speed in  initial baseline - light / dark times - final baseline\", fontsize=16, fontweight='bold')\n",
    "plt.title(\"mean speeds [cm/s]: \"+speed_txts)\n",
    "plt.tight_layout()\n",
    "plt.savefig('/home/pascal/Documents/science_docs/analysis_results/'+name+'_speed.pdf')\n",
    "plt.show()"
   ]
  },
  {
   "cell_type": "code",
   "execution_count": null,
   "id": "36c191c4-e749-4c81-9e46-c4f0e6a2dc77",
   "metadata": {},
   "outputs": [],
   "source": [
    "ap.unset_intervals()"
   ]
  },
  {
   "cell_type": "markdown",
   "id": "d39c475f-0ce0-4c0f-a788-48244fe8eb36",
   "metadata": {
    "jp-MarkdownHeadingCollapsed": true,
    "tags": []
   },
   "source": [
    "#### Instanteous firing rate per neuron across time"
   ]
  },
  {
   "cell_type": "code",
   "execution_count": null,
   "id": "78c5f349-e671-4e66-9b91-faa5928adda6",
   "metadata": {},
   "outputs": [],
   "source": [
    "# mean firing rate in interval\n",
    "def mfr_intv(n,intv):\n",
    "    intv = Intervals(intv)\n",
    "    # len(n.spike_train.st)\n",
    "    fr = np.sum(intv.is_within_intervals(n.spike_train.st)) / intv.total_interval_duration_seconds()\n",
    "    return fr"
   ]
  },
  {
   "cell_type": "code",
   "execution_count": null,
   "id": "e918435b-76ee-4850-bc32-73c40edd588a",
   "metadata": {},
   "outputs": [],
   "source": [
    "mean_firing_rate_list = []"
   ]
  },
  {
   "cell_type": "code",
   "execution_count": null,
   "id": "3dd97267-1db2-45c8-9cf7-854a46e699c0",
   "metadata": {},
   "outputs": [],
   "source": [
    "cg.set_spatial_properties(ap)\n",
    "\n",
    "fig, axs = plt.subplots(len(cg.neuron_list), 1, sharex=True, figsize=(75, 5*len(cg.neuron_list)))\n",
    "   \n",
    "for i, n in enumerate(cg.neuron_list):\n",
    "    \n",
    "    print(\"Neuron:\",\"i\",i,\"/\",\"n\",n.name)\n",
    "    \n",
    "    n.spike_train.unset_intervals()\n",
    "    n.spike_train.instantaneous_firing_rate(bin_size_sec=0.5)\n",
    "    \n",
    "    ifr,count,mid = n.spike_train.ifr\n",
    "    \n",
    "    axs[i].plot(mid, ifr, color='black', lw=.3)\n",
    "    \n",
    "    axs[i].set_xlabel(\"time [s]\")\n",
    "    axs[i].set_ylabel(\"IFR [Hz]\")\n",
    "    \n",
    "    # plot light/dark    \n",
    "    for light_interval in light_intervals:\n",
    "        axs[i].axvspan(light_interval[0], light_interval[1], facecolor='yellow', alpha=0.25)\n",
    "    for dark_interval in dark_intervals:\n",
    "        axs[i].axvspan(dark_interval[0], dark_interval[1], facecolor='black', alpha=0.25)\n",
    "        \n",
    "    mb = mfr_intv(n, baseline_interval)\n",
    "    ml = mfr_intv(n, light_intervals)\n",
    "    md = mfr_intv(n, dark_intervals)\n",
    "    \n",
    "    mean_firing_rate_list.append([mb,ml,md])\n",
    "    \n",
    "    \n",
    "    ax2 = axs[i].twinx()  # instantiate a second axes that shares the same x-axis\n",
    "    col = 'blue'\n",
    "    ax2.plot(ap.pose[:,0], speed, color=col, lw=.1)\n",
    "    ax2.set_ylabel(\"speed [cm/s]\", color=col)\n",
    "    ax2.tick_params(axis='y', labelcolor=col)\n",
    "    ax2.set_ylim((0,100))\n",
    "    \n",
    "    \n",
    "    axs[i].set_title(\"neuron {}, mean firing rate: baseline: {:.2f} Hz, light: {:.2f} Hz, dark: {:.2f} Hz\".format(n.name,mb,ml,md))\n",
    "\n",
    "    \n",
    "        \n",
    "plt.suptitle(\"IFR for all neurons ({})\".format(name), fontsize=16, fontweight='bold')\n",
    "plt.tight_layout()\n",
    "fig.subplots_adjust(top=0.975)\n",
    "plt.savefig('/home/pascal/Documents/science_docs/analysis_results/'+name+'_IFR.pdf')\n",
    "plt.show()"
   ]
  },
  {
   "cell_type": "code",
   "execution_count": null,
   "id": "6e4a6c71-5dc6-4d74-a093-eef496c8830c",
   "metadata": {},
   "outputs": [],
   "source": [
    "np.mean(mean_firing_rate_list, axis=0)"
   ]
  },
  {
   "cell_type": "code",
   "execution_count": null,
   "id": "6c20520c-bde5-4672-a693-7311859c9934",
   "metadata": {},
   "outputs": [],
   "source": [
    "plt.boxplot(np.array(mean_firing_rate_list))\n",
    "plt.xticks(np.arange(1,len(np.transpose(mean_firing_rate_list))+1), [\"baseline\",\"light\",\"dark\"] , rotation=45, ha='right' )\n",
    "plt.title(\"IFR\")\n",
    "plt.show()"
   ]
  },
  {
   "cell_type": "code",
   "execution_count": null,
   "id": "d39e054b-f769-476d-ab73-ca952a3f999a",
   "metadata": {},
   "outputs": [],
   "source": []
  },
  {
   "cell_type": "code",
   "execution_count": null,
   "id": "904aac09-514e-4a7e-bef3-3b6a6f80761c",
   "metadata": {},
   "outputs": [],
   "source": []
  },
  {
   "cell_type": "code",
   "execution_count": null,
   "id": "bebf0df5-e26e-4f4f-b957-a371492b31f2",
   "metadata": {},
   "outputs": [],
   "source": []
  },
  {
   "cell_type": "markdown",
   "id": "0bf02f6f-8bd1-4fe2-9087-0710b7618142",
   "metadata": {
    "jp-MarkdownHeadingCollapsed": true,
    "tags": []
   },
   "source": [
    "# other stuff"
   ]
  },
  {
   "cell_type": "code",
   "execution_count": null,
   "id": "58488795-c657-4641-9239-193ee22f81c4",
   "metadata": {},
   "outputs": [],
   "source": [
    "fig, axes = plt.subplots(ncols=1, nrows=2, sharex=True, sharey=False, figsize=(8,4))\n",
    "fig.subplots_adjust(hspace=0)\n",
    "axes[0].plot([1,2,3],[1,2,3])\n",
    "axes[1].plot([1,2,3],[4,5,6])\n",
    "plt.show()\n"
   ]
  },
  {
   "cell_type": "code",
   "execution_count": null,
   "id": "dec066aa-de58-429a-95a4-e3bc8e3a1474",
   "metadata": {},
   "outputs": [],
   "source": []
  },
  {
   "cell_type": "code",
   "execution_count": null,
   "id": "671e4f6c-3d18-4e79-bb56-8016ffdadf6f",
   "metadata": {},
   "outputs": [],
   "source": []
  },
  {
   "cell_type": "code",
   "execution_count": null,
   "id": "95b971a2-57e9-4395-93d2-d802a0abaa62",
   "metadata": {},
   "outputs": [],
   "source": [
    "### create mask for square box 70cm\n",
    "\n",
    "import numpy as np\n",
    "import matplotlib.pyplot as plt\n",
    "\n",
    "# dimensions of frame\n",
    "h,w=840,540\n",
    "# create mask\n",
    "m=np.zeros((h,w))\n",
    "print(\"mask:\", m.shape)\n",
    "\n",
    "# length of square box in pixels (70cm*5.7px/cm)\n",
    "l=int(70*5.7)\n",
    "\n",
    "# left, and upper coordinates\n",
    "x0=int((w-l)/2)\n",
    "y0=int(h-l-x0)\n",
    "\n",
    "# print the coordinates\n",
    "print(\"x0:\",x0)\n",
    "print(\"y0:\",y0)\n",
    "print(\"l:\",l)\n",
    "\n",
    "# set mask\n",
    "m[y0:y0+l,x0:x0+l]=1\n",
    "\n",
    "# plot\n",
    "plt.imshow(m)\n",
    "plt.show()\n",
    "\n",
    "# convert to 8bit image (scale by 255 & dtype=uint8)\n",
    "m = 255 * m\n",
    "img = m.astype(np.uint8)\n",
    "\n",
    "# save\n",
    "np.save(\"a230-pc82_square70_mask.npy\", img)\n",
    "\n",
    "\n",
    "## scp a230-pc82_square70_mask.npy kevin@a230-pc82:/home/kevin/repo/positrack2/data/masks\n",
    "## scp a230-pc82_square70_mask.npy kevin@a230-pc52:/home/kevin/repo/positrack2/data/masks"
   ]
  }
 ],
 "metadata": {
  "kernelspec": {
   "display_name": "Python 3 (ipykernel)",
   "language": "python",
   "name": "python3"
  },
  "language_info": {
   "codemirror_mode": {
    "name": "ipython",
    "version": 3
   },
   "file_extension": ".py",
   "mimetype": "text/x-python",
   "name": "python",
   "nbconvert_exporter": "python",
   "pygments_lexer": "ipython3",
   "version": "3.8.10"
  }
 },
 "nbformat": 4,
 "nbformat_minor": 5
}
