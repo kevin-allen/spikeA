{
 "cells": [
  {
   "cell_type": "code",
   "execution_count": 1,
   "id": "31b47eb4-8a08-4a20-8219-ea4617d2bb1a",
   "metadata": {},
   "outputs": [],
   "source": [
    "%load_ext autoreload\n",
    "\n",
    "%autoreload 2\n",
    "import numpy as np\n",
    "import matplotlib.pyplot as plt\n",
    "%matplotlib inline\n",
    "from spikeA.Session import *\n",
    "from spikeA.Spike_train_loader import Spike_train_loader\n",
    "from spikeA.Cell_group import Cell_group\n",
    "from spikeA.Animal_pose import Animal_pose\n",
    "from spikeA.Session import Session\n",
    "from spikeA.Dat_file_reader import Dat_file_reader\n",
    "from spikeA.Intervals import Intervals\n",
    "from spikeA.Spike_train import Spike_train\n",
    "from spikeA.Spike_waveform import Spike_waveform\n",
    "from tqdm import tqdm\n",
    "import os.path\n",
    "import matplotlib.gridspec as gridspec\n",
    "from matplotlib.backends.backend_pdf import PdfPages\n",
    "import spikeA.spatial_properties\n",
    "import re"
   ]
  },
  {
   "cell_type": "code",
   "execution_count": 2,
   "id": "aa1a3645-dbea-4718-84c1-5e9cf14e4ceb",
   "metadata": {},
   "outputs": [],
   "source": [
    "mouse=\"bt1021\"\n",
    "date=\"07012022\"\n",
    "name=f\"{mouse}-{date}-0105\"\n",
    "path=f\"/adata/electro/{mouse}/{name}/\""
   ]
  },
  {
   "cell_type": "markdown",
   "id": "278b9128-bcf6-4c67-b92f-2a8d76a9894c",
   "metadata": {},
   "source": [
    "## Get a Session object and load spikes"
   ]
  },
  {
   "cell_type": "code",
   "execution_count": 3,
   "id": "085cbfb2-d200-4e8b-8a3a-8252f4578e96",
   "metadata": {},
   "outputs": [
    {
     "name": "stdout",
     "output_type": "stream",
     "text": [
      "<class 'spikeA.Session.Kilosort_session'>\n",
      "name = bt1021-07012022-0105\n",
      "path = /adata/electro/bt1021/bt1021-07012022-0105\n",
      "subject = bt1021\n",
      "session_dat_time = 2022-01-07 01:05:00\n",
      "fileBase = /adata/electro/bt1021/bt1021-07012022-0105/bt1021-07012022-0105\n",
      "file_names = {'par': '/adata/electro/bt1021/bt1021-07012022-0105/bt1021-07012022-0105.par', 'desen': '/adata/electro/bt1021/bt1021-07012022-0105/bt1021-07012022-0105.desen', 'desel': '/adata/electro/bt1021/bt1021-07012022-0105/bt1021-07012022-0105.desel', 'sampling_rate': '/adata/electro/bt1021/bt1021-07012022-0105/bt1021-07012022-0105.sampling_rate_dat', 'stimulation': '/adata/electro/bt1021/bt1021-07012022-0105/bt1021-07012022-0105.stimulation', 'px_per_cm': '/adata/electro/bt1021/bt1021-07012022-0105/bt1021-07012022-0105.px_per_cm', 'params': '/adata/electro/bt1021/bt1021-07012022-0105/params.py', 'amplitudes': '/adata/electro/bt1021/bt1021-07012022-0105/amplitudes.npy', 'channel_map': '/adata/electro/bt1021/bt1021-07012022-0105/channel_map.npy', 'channel_positions': '/adata/electro/bt1021/bt1021-07012022-0105/channel_positions.npy', 'pc_features': '/adata/electro/bt1021/bt1021-07012022-0105/pc_features.npy', 'pc_feature_ind': '/adata/electro/bt1021/bt1021-07012022-0105/pc_feature_ind.npy', 'spike_templates': '/adata/electro/bt1021/bt1021-07012022-0105/spike_templates.npy', 'templates': '/adata/electro/bt1021/bt1021-07012022-0105/templates.npy', 'spike_times': '/adata/electro/bt1021/bt1021-07012022-0105/spike_times.npy', 'spike_clusters': '/adata/electro/bt1021/bt1021-07012022-0105/spike_clusters.npy', 'cluster_group': '/adata/electro/bt1021/bt1021-07012022-0105/cluster_group.tsv', 'dat': ['/adata/electro/bt1021/bt1021-07012022-0105/bt1021-07012022_01.dat', '/adata/electro/bt1021/bt1021-07012022-0105/bt1021-07012022_02.dat', '/adata/electro/bt1021/bt1021-07012022-0105/bt1021-07012022_03.dat', '/adata/electro/bt1021/bt1021-07012022-0105/bt1021-07012022_04.dat', '/adata/electro/bt1021/bt1021-07012022-0105/bt1021-07012022_05.dat']}\n",
      "n_channels = 65\n",
      "dat_dtype = int16\n",
      "dat_offset = 0\n",
      "sampling_rate = 20000.0\n",
      "desen = ['sqr70', 'rb', 'circ80', 'rb', 'sqr70']\n",
      "desel = ['mec', 'mec', 'mec', 'mec', 'mec', 'mec', 'mec', 'mec']\n",
      "stimulation = ['none', 'none', 'none', 'none', 'none']\n",
      "px_per_cm = 9.0\n",
      "trial_names = ['bt1021-07012022_01', 'bt1021-07012022_02', 'bt1021-07012022_03', 'bt1021-07012022_04', 'bt1021-07012022_05']\n",
      "dat_file_names = ['/adata/electro/bt1021/bt1021-07012022-0105/bt1021-07012022_01.dat', '/adata/electro/bt1021/bt1021-07012022-0105/bt1021-07012022_02.dat', '/adata/electro/bt1021/bt1021-07012022-0105/bt1021-07012022_03.dat', '/adata/electro/bt1021/bt1021-07012022-0105/bt1021-07012022_04.dat', '/adata/electro/bt1021/bt1021-07012022-0105/bt1021-07012022_05.dat']\n",
      "trial_intervals = <spikeA.Intervals.Intervals object at 0x7f1c0c146580>\n"
     ]
    }
   ],
   "source": [
    "ses = Kilosort_session(name=name,path=path)\n",
    "ses.load_parameters_from_files()\n",
    "print(ses)\n",
    "stl = Spike_train_loader()\n",
    "stl.load_spike_train_kilosort(ses)\n",
    "cg = Cell_group(stl)"
   ]
  },
  {
   "cell_type": "markdown",
   "id": "522361eb-ecee-4042-a43e-bc3f7f04aefa",
   "metadata": {},
   "source": [
    "## Create a pose file "
   ]
  },
  {
   "cell_type": "code",
   "execution_count": 4,
   "id": "7d2411f1-8f50-407c-aeec-7493dbc6e7f1",
   "metadata": {},
   "outputs": [],
   "source": [
    "if os.path.exists(f\"{path}{mouse}-{date}_01.positrack\"):\n",
    "    pose_extension=\"positrack\"\n",
    "elif os.path.exists(f\"{path}{mouse}-{date}_01.trk\"):\n",
    "    pose_extension=\"trk\"\n",
    "else:\n",
    "    print(\"Position tracking extension unknown\")\n",
    "\n",
    "ap = Animal_pose(ses)\n",
    "if not os.path.exists(f\"{ses.fileBase}.pose.npy\"):\n",
    "    ap.pose_from_positrack_files(ses=ses, interpolation_frequency_hz = 50,extension=pose_extension)\n",
    "    ap.save_pose_to_file() # save the file for next time\n",
    "else:\n",
    "    ap.load_pose_from_file()"
   ]
  },
  {
   "cell_type": "markdown",
   "id": "b5d9f6ef-881f-47a8-ad00-256bdea484fb",
   "metadata": {},
   "source": [
    "## Limit analysis to a particular trial\n",
    "\n",
    "You can get the time intervals for each trial from the session object.\n",
    "\n",
    "* Get the time at which each trial starts and ends\n",
    "* Set the intervals in the spike train object. \n",
    "* Set the intervals in the animal_pose object. "
   ]
  },
  {
   "cell_type": "code",
   "execution_count": 5,
   "id": "bd70153f-9197-4f59-8caa-9aa60e7149b5",
   "metadata": {},
   "outputs": [
    {
     "name": "stdout",
     "output_type": "stream",
     "text": [
      "['sqr70', 'rb', 'circ80', 'rb', 'sqr70']\n",
      "[[   0.      1246.39195]]\n",
      "[[3785.508   5074.95595]]\n",
      "[[1870.236   3130.66795]]\n",
      "['square', 'rb', 'circle', 'rb', 'square']\n"
     ]
    }
   ],
   "source": [
    "print(ses.desen)\n",
    "if re.search('0105$', str(name)):\n",
    "    sqr70_indices = [i for i, j in enumerate(ses.desen) if j == 'sqr70']\n",
    "    circ80_indices = [i for i, j in enumerate(ses.desen) if j == 'circ80']\n",
    "\n",
    "    if ses.desen[0] == 'sqr70':\n",
    "        first_trial_inter = ses.trial_intervals.inter[sqr70_indices[0:1],:] # first sqr70\n",
    "        last_trial_inter = ses.trial_intervals.inter[sqr70_indices[-1:],:] # last sqr70\n",
    "        middle_trial_inter = ses.trial_intervals.inter[circ80_indices[0:1],:] # first circ80\n",
    "    else:\n",
    "        first_trial_inter = ses.trial_intervals.inter[circ80_indices[0:1],:] # first circ\n",
    "        last_trial_inter = ses.trial_intervals.inter[circ80_indices[-1:],:] # last circ\n",
    "        middle_trial_inter = ses.trial_intervals.inter[sqr70_indices[0:1],:] # first sqr\n",
    "\n",
    "    print(first_trial_inter)\n",
    "    print(last_trial_inter)\n",
    "    print(middle_trial_inter)\n",
    "    \n",
    "elif re.search('0107$', str(name)):\n",
    "    first_trial_inter = ses.trial_intervals.inter[0:1,:] # no object\n",
    "    second_trial_inter = ses.trial_intervals.inter[2:3,:] # object location1\n",
    "    third_trial_inter = ses.trial_intervals.inter[4:5,:] # object location2\n",
    "    forth_trial_inter = ses.trial_intervals.inter[6:7,:] # object location1\n",
    "    \n",
    "elif re.search('0109$', str(name)):\n",
    "    first_trial_inter = ses.trial_intervals.inter[0:1,:] # no object\n",
    "    second_trial_inter = ses.trial_intervals.inter[2:3,:] # object location1\n",
    "    third_trial_inter = ses.trial_intervals.inter[4:5,:] # object location2\n",
    "    forth_trial_inter = ses.trial_intervals.inter[6:7,:] # object location1\n",
    "    fifth_trial_inter = ses.trial_intervals.inter[8:9,:] # object location1 + laser\n",
    "else:\n",
    "    print(\"Trial number unknown\")\n",
    "\n",
    "arena=[None]*len(ses.desen)\n",
    "for n,en in enumerate(ses.desen):\n",
    "    if re.search('sqr',str(ses.desen[n])):\n",
    "         arena[n] = 'square'\n",
    "    elif re.search('circ',str(ses.desen[n])):\n",
    "        arena[n] = 'circle'\n",
    "    else:\n",
    "        arena[n] = ses.desen[n]\n",
    "print(arena)    \n",
    "\n",
    "stim_trial = [i for i, j in enumerate(ses.stimulation) if j == 'MS']\n",
    "if stim_trial:\n",
    "    stim_trial=stim_trial[0]\n",
    "    print(\"Stim trial:\", stim_trial+1) #counting the first trial as trial 1    "
   ]
  },
  {
   "cell_type": "markdown",
   "id": "0f85c8e6-43e1-4a62-a564-e821fd9683f4",
   "metadata": {
    "tags": []
   },
   "source": [
    "Plot the interspike intervals to get an idea of theta rhythmicity."
   ]
  },
  {
   "cell_type": "code",
   "execution_count": 71,
   "id": "fcb18043-cb2d-40ec-ae1d-ef904b722fe1",
   "metadata": {},
   "outputs": [
    {
     "data": {
      "image/png": "[encoded data removed]",
      "text/plain": [
       "<Figure size 432x288 with 1 Axes>"
      ]
     },
     "metadata": {
      "needs_background": "light"
     },
     "output_type": "display_data"
    }
   ],
   "source": [
    "n=cg.neuron_list[5]\n",
    "n.spike_train.inter_spike_intervals()\n",
    "n.spike_train.inter_spike_intervals_histogram()\n",
    "n.spike_train.inter_spike_interval_histogram_plot()"
   ]
  },
  {
   "cell_type": "markdown",
   "id": "d23c1161-7bc1-4d1e-be93-20a9d0c98897",
   "metadata": {},
   "source": [
    "Get the spectrogram of the ifr."
   ]
  },
  {
   "cell_type": "code",
   "execution_count": 79,
   "id": "582fc757-019c-4e94-9c3c-782a6327b377",
   "metadata": {},
   "outputs": [
    {
     "data": {
      "image/png": "[encoded data removed]",
      "text/plain": [
       "<Figure size 432x288 with 1 Axes>"
      ]
     },
     "metadata": {
      "needs_background": "light"
     },
     "output_type": "display_data"
    }
   ],
   "source": [
    "n.spike_train.instantaneous_firing_rate(bin_size_sec=0.01,sigma=1)\n",
    "n.spike_train.instantaneous_firing_rate_power_spectrum()\n",
    "n.spike_train.instantaneous_firing_rate_power_spectrum_plot()"
   ]
  },
  {
   "cell_type": "markdown",
   "id": "17a5bb3a-4a54-4052-b94b-5ec6247a269f",
   "metadata": {},
   "source": [
    "Plot the spectrogram in the theta range."
   ]
  },
  {
   "cell_type": "code",
   "execution_count": 73,
   "id": "a407a257-af42-4855-8ecb-27565c05a037",
   "metadata": {},
   "outputs": [
    {
     "data": {
      "text/plain": [
       "(0.0, 20.0)"
      ]
     },
     "execution_count": 73,
     "metadata": {},
     "output_type": "execute_result"
    },
    {
     "data": {
      "image/png": "[encoded data removed]",
      "text/plain": [
       "<Figure size 432x288 with 1 Axes>"
      ]
     },
     "metadata": {
      "needs_background": "light"
     },
     "output_type": "display_data"
    }
   ],
   "source": [
    "from scipy.ndimage import gaussian_filter1d\n",
    "signal = gaussian_filter1d(n.spike_train.ifr_power_spectrum[1], sigma=200)\n",
    "plt.plot(n.spike_train.ifr_power_spectrum[0], signal)\n",
    "plt.xlabel(\"Hz\")\n",
    "plt.ylabel(\"PSD (s**2/Hz)\")\n",
    "plt.xlim([0,20])"
   ]
  },
  {
   "cell_type": "markdown",
   "id": "4e41ab9e-72b2-4636-a5a3-a0075db8b4db",
   "metadata": {},
   "source": [
    "We don't want to smooth with a sigma of 200. Try welch method instead."
   ]
  },
  {
   "cell_type": "code",
   "execution_count": 74,
   "id": "5ad91508-6a25-4430-a94b-182ffee1ebe4",
   "metadata": {},
   "outputs": [],
   "source": [
    "from scipy.signal import welch\n",
    "n.spike_train.instantaneous_firing_rate(bin_size_sec=0.01,sigma=1)\n",
    "f,signal = welch(n.spike_train.ifr[0], fs=100, nperseg=2**9, scaling='spectrum')"
   ]
  },
  {
   "cell_type": "code",
   "execution_count": 75,
   "id": "a394294f-d444-4d96-ab33-1cdfb5200bb2",
   "metadata": {},
   "outputs": [
    {
     "data": {
      "text/plain": [
       "(0.0, 20.0)"
      ]
     },
     "execution_count": 75,
     "metadata": {},
     "output_type": "execute_result"
    },
    {
     "data": {
      "image/png": "[encoded data removed]",
      "text/plain": [
       "<Figure size 432x288 with 1 Axes>"
      ]
     },
     "metadata": {
      "needs_background": "light"
     },
     "output_type": "display_data"
    }
   ],
   "source": [
    "plt.plot(f, signal)\n",
    "plt.xlabel(\"Hz\")\n",
    "plt.ylabel(\"PSD (s**2/Hz)\")\n",
    "plt.xlim([0,20])"
   ]
  },
  {
   "cell_type": "code",
   "execution_count": 76,
   "id": "68d3a0fb-7ac1-46e9-b9e9-99a49b686222",
   "metadata": {},
   "outputs": [],
   "source": [
    "def detect_theta_peak(f, signal, theta_range=[4,12], peak_range=[2,2], peak_height='90%theta_max', peak_distance='0.5Hz', sigma=1.5):\n",
    "    \"\"\"\n",
    "        Method to find the peak frequency within theta range and calculate some theta properties\n",
    "        \n",
    "        Arguments:\n",
    "        f: frequency (fft of time)\n",
    "        signal: power (fft of signal)\n",
    "        theta_range: range within the peak should be found\n",
    "        peak_range: range around the peak which should be considered for theta power calculation and peak width calculation\n",
    "        peak_height: required height for the peak to be detected\n",
    "        peak_distance: required distance between detected peaks\n",
    "        sigma: Gaussian kernel to smooth the signal before detecting the peak\n",
    "        \n",
    "        Return:\n",
    "        theta peak frequency (in Hz), power at peak frequency, theta power, width at full height, width at half height \n",
    "    \"\"\"\n",
    "    \n",
    "    import numpy as np\n",
    "    from scipy.signal import find_peaks, peak_widths, peak_prominences\n",
    "    from scipy import integrate\n",
    "    from scipy.ndimage import gaussian_filter1d \n",
    "    print(np.max(signal))\n",
    "    if sigma:\n",
    "        signal = gaussian_filter1d(signal, sigma=sigma)\n",
    "    print(np.max(signal))\n",
    "    # cut the signal and frequency to the theta range\n",
    "    theta_signal = [j for i,j in enumerate(signal) if f[i]>theta_range[0] and f[i]<theta_range[1]]\n",
    "    theta_freq = [j for i,j in enumerate(f) if j>theta_range[0] and j<theta_range[1]]\n",
    "    \n",
    "    if peak_height == '90%theta_max':\n",
    "        peak_height = np.max(theta_signal)*0.9\n",
    "    if peak_distance == '0.5Hz':\n",
    "        peak_distance = len(theta_freq)/(theta_range[1]-theta_range[0])/2\n",
    "    \n",
    "    # detect the theta peak\n",
    "    peak = find_peaks(theta_signal, height=peak_height, distance=peak_distance)\n",
    "    print(peak)\n",
    "    # determine theta properties if peak was detected\n",
    "    if peak[0].size>0:\n",
    "        # select peak with highest power if several have been found\n",
    "        if len(peak[0])>1:\n",
    "            print('found more than 1 peak')\n",
    "            max_power = np.nanmax([float(peak[1].get('peak_heights')[i]) for i,j in enumerate(peak[0])])\n",
    "            peak_index_list = list(np.where([float(peak[1].get('peak_heights')[i]) for i,j in enumerate(peak[0])]==max_power))\n",
    "            if len(peak_index_list[0])>1:\n",
    "                peak_index_list[0] = peak_index_list[0][1:]\n",
    "            peak_index = peak_index_list\n",
    "            peak_freq_sample = peak[0][tuple(peak_index)]\n",
    "            peak_power = float(peak[1].get('peak_heights')[tuple(peak_index)])\n",
    "            peak_freq = theta_freq[int(peak[0][tuple(peak_index)])]\n",
    "        else:\n",
    "            peak_freq_sample = peak[0]\n",
    "            peak_power = float(peak[1].get('peak_heights'))\n",
    "            peak_freq = theta_freq[int(peak[0])]\n",
    "\n",
    "        # calculate the prominence of the peak taking a window given by peak_range\n",
    "        prominence_data = peak_prominences(theta_signal, peak_freq_sample, wlen=float((peak_range[0]+peak_range[1])*peak_freq_sample/(peak_freq-theta_range[0])))\n",
    "\n",
    "        # get the width of the peak at full height and half height\n",
    "        width_full = peak_widths(theta_signal, peak_freq_sample, prominence_data=prominence_data, rel_height=1)\n",
    "        width_half = peak_widths(theta_signal, peak_freq_sample, prominence_data=prominence_data, rel_height=0.5)\n",
    "\n",
    "        peak_width_full = (peak_freq-theta_range[0])/peak_freq_sample*width_full[0] #convert from sample to frequency\n",
    "        peak_width_half = (peak_freq-theta_range[0])/peak_freq_sample*width_half[0]\n",
    "\n",
    "        # to get the theta power, take the ratio of power around the theta peak and at lower and higher frequencies\n",
    "        baseline1 = [peak_freq-2*peak_range[0],peak_freq-peak_range[0]]; baseline2 = [peak_freq+peak_range[1],peak_freq+2*peak_range[1]]\n",
    "        theta = [peak_freq-peak_range[0],peak_freq+peak_range[1]]\n",
    "        signal_baseline1 = [j for i,j in enumerate(signal) if f[i]>baseline1[0] and f[i]<baseline1[1]]\n",
    "        f_baseline1 = [j for i,j in enumerate(f) if f[i]>baseline1[0] and f[i]<baseline1[1]]\n",
    "        area_baseline1 = integrate.simpson(signal_baseline1, f_baseline1)\n",
    "\n",
    "        signal_baseline2 = [j for i,j in enumerate(signal) if f[i]>baseline2[0] and f[i]<baseline2[1]]\n",
    "        f_baseline2 = [j for i,j in enumerate(f) if f[i]>baseline2[0] and f[i]<baseline2[1]]\n",
    "        area_baseline2 = integrate.simpson(signal_baseline2, f_baseline2)\n",
    "\n",
    "        area_baseline = area_baseline1+area_baseline2\n",
    "\n",
    "        signal_theta = [j for i,j in enumerate(signal) if f[i]>theta[0] and f[i]<theta[1]]\n",
    "        f_theta = [j for i,j in enumerate(f) if f[i]>theta[0] and f[i]<theta[1]]\n",
    "        area_theta = integrate.simpson(signal_theta, f_theta)\n",
    "\n",
    "        theta_power = area_theta/area_baseline\n",
    "    else:\n",
    "        peak_freq = peak_power = theta_power = peak_width_full = peak_width_half = np.nan\n",
    "\n",
    "\n",
    "    return (peak_freq, peak_power, theta_power, peak_width_full, peak_width_half)"
   ]
  },
  {
   "cell_type": "code",
   "execution_count": 77,
   "id": "226b0d5c-883f-4c83-a68d-1fc7180a760d",
   "metadata": {},
   "outputs": [
    {
     "name": "stdout",
     "output_type": "stream",
     "text": [
      "3.323083\n",
      "2.2439575\n",
      "(array([24]), {'peak_heights': array([1.70425534])})\n",
      "(8.7890625, 1.7042553424835205, 1.6728131316837875, array([3.21433468]), array([1.71324299]))\n"
     ]
    }
   ],
   "source": [
    "(peak_freq, peak_power, range_power, peak_width_full, peak_width_half) = detect_theta_peak(f=f, signal=signal, sigma=1.5)\n",
    "print((peak_freq, peak_power, range_power, peak_width_full, peak_width_half))"
   ]
  },
  {
   "cell_type": "code",
   "execution_count": 78,
   "id": "6ef93367-380e-4e1a-9795-b5d493ac6235",
   "metadata": {},
   "outputs": [
    {
     "data": {
      "image/png": "[encoded data removed]",
      "text/plain": [
       "<Figure size 432x288 with 1 Axes>"
      ]
     },
     "metadata": {
      "needs_background": "light"
     },
     "output_type": "display_data"
    }
   ],
   "source": [
    "from scipy.ndimage import gaussian_filter1d\n",
    "signal = gaussian_filter1d(signal, sigma=1.5)\n",
    "plt.plot(f, signal)\n",
    "plt.xlabel(\"Frequency [Hz]\")\n",
    "plt.ylabel(\"Power\")\n",
    "plt.xlim([0,20])\n",
    "label = f\"Theta peak: {peak_freq:.3} Hz\"\n",
    "plt.vlines(peak_freq, ymin=0, ymax=peak_power, colors='red', label=label)\n",
    "plt.legend()\n",
    "plt.show()"
   ]
  },
  {
   "cell_type": "code",
   "execution_count": null,
   "id": "01788f6c-28ed-47f6-b6eb-9cd96a74c2e8",
   "metadata": {},
   "outputs": [],
   "source": []
  }
 ],
 "metadata": {
  "kernelspec": {
   "display_name": "Python 3 (ipykernel)",
   "language": "python",
   "name": "python3"
  },
  "language_info": {
   "codemirror_mode": {
    "name": "ipython",
    "version": 3
   },
   "file_extension": ".py",
   "mimetype": "text/x-python",
   "name": "python",
   "nbconvert_exporter": "python",
   "pygments_lexer": "ipython3",
   "version": "3.8.10"
  }
 },
 "nbformat": 4,
 "nbformat_minor": 5
}
