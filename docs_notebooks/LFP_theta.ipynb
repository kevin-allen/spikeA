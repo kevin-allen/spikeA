{
 "cells": [
  {
   "cell_type": "code",
   "execution_count": 6,
   "id": "9945b020-850b-4707-b382-1c8084a46b26",
   "metadata": {},
   "outputs": [],
   "source": [
    "from spikeA.Dat_file_reader import Dat_file_reader\n",
    "import numpy as np\n",
    "import matplotlib.pyplot as plt"
   ]
  },
  {
   "cell_type": "code",
   "execution_count": 94,
   "id": "29ad56fc-3615-424c-8cd1-a8fe117e9a36",
   "metadata": {},
   "outputs": [],
   "source": [
    "def get_lfp_spectrogram(file_names, start_sample, end_sample, n_channels, channels, spec_file, sampling_rate = 20000, nperseg=2**17, overwrite=False):\n",
    "    \"\"\"\n",
    "        Method to get the LFP spectrogram (power vs. frequency). It saves the data into a file and returns them.\n",
    "        \n",
    "        Arguments:\n",
    "        file_names: trials to use\n",
    "        start_sample, end_sample: samples from which and to which to take into account\n",
    "        n_channels: number of channels in the recording\n",
    "        channel: channels for which to calculate the spectrogram\n",
    "        sampling rate: sampling rate of dat file (in Hz)\n",
    "        nperseg: defines the resolution in the welch function\n",
    "        overwrite: set True to overwrite the saved file.\n",
    "        \n",
    "        Return:\n",
    "        array with frequency as first column and channels as other columns  \n",
    "    \"\"\"\n",
    "    import os.path\n",
    "    import numpy as np\n",
    "    \n",
    "    if not os.path.exists(spec_file) or overwrite==True:\n",
    "        from spikeA.Dat_file_reader import Dat_file_reader\n",
    "        from scipy.signal import welch\n",
    "        from scipy.ndimage import gaussian_filter1d\n",
    "\n",
    "        # read the data from the selected dat file for the selected channels\n",
    "        df = Dat_file_reader(file_names=file_names, n_channels=n_channels)\n",
    "        data = df.get_data_one_block(start_sample=start_sample, end_sample=end_sample, channels=np.asarray(channels))\n",
    "\n",
    "\n",
    "\n",
    "        for i,j in enumerate(channels):\n",
    "            data_1_channel = data[i,:]\n",
    "            f, signal = welch(data_1_channel, fs=sampling_rate, nperseg=nperseg, scaling='spectrum')\n",
    "\n",
    "            if i==0:\n",
    "                # create an array to store the data and insert f as first column\n",
    "                array = np.empty((signal.shape[0],len(channels)+1),float)\n",
    "                array[:,0] = f\n",
    "            array[:,i+1]=signal\n",
    "\n",
    "        np.save(file = spec_file, arr = array)\n",
    "\n",
    "    else:\n",
    "        array = np.load(spec_file)\n",
    "        \n",
    "    return array"
   ]
  },
  {
   "cell_type": "code",
   "execution_count": 89,
   "id": "87a1af0a-3aad-43dc-a4a4-1607248ec894",
   "metadata": {},
   "outputs": [],
   "source": [
    "def detect_theta_peak(f, signal, theta_range, peak_height, peak_distance):\n",
    "    \"\"\"\n",
    "        Method to find the peak frequency within theta range\n",
    "        \n",
    "        Arguments:\n",
    "        xf: frequency (fft of time)\n",
    "        yf_sm: smoothed power (fft of signal)\n",
    "        theta_range: range within the peak should be found\n",
    "        peak_height: required height for the peak to be detected\n",
    "        peak_distance: required distance between detected peaks\n",
    "        \n",
    "        Return:\n",
    "        theta peak frequency (in Hz), power at peak frequency    \n",
    "    \"\"\"\n",
    "    \n",
    "    import numpy as np\n",
    "    from scipy.signal import find_peaks\n",
    "    \n",
    "    theta_signal = signal[f<theta_range[1]]\n",
    "    theta_freq = f[f<theta_range[1]]\n",
    "    theta_signal = theta_signal[theta_freq>theta_range[0]]\n",
    "    theta_freq = theta_freq[theta_freq>theta_range[0]]\n",
    "    peak = find_peaks(theta_signal, height=peak_height, distance=peak_distance)\n",
    "    peak_power = int(peak[1].get('peak_heights'))\n",
    "    peak_freq = (theta_freq[int(peak[0])])\n",
    "\n",
    "    \n",
    "    return (peak_freq,peak_power)"
   ]
  },
  {
   "cell_type": "code",
   "execution_count": 53,
   "id": "2d1d99ea-9941-4a8e-ba9e-67bdbeb91693",
   "metadata": {},
   "outputs": [],
   "source": [
    "mouse=\"bt3565\"\n",
    "date=\"25082021\"\n",
    "name=f\"{mouse}-{date}-0105\"\n",
    "path=f\"/adata/electro/{mouse}/{name}/\""
   ]
  },
  {
   "cell_type": "markdown",
   "id": "9ce43f45-9444-4a44-922e-af25e65faecb",
   "metadata": {
    "tags": []
   },
   "source": [
    "Get the spectrogram of the first trial from channels 0 and 1."
   ]
  },
  {
   "cell_type": "code",
   "execution_count": 96,
   "id": "797dbbba-1669-479d-9433-2c4de7750456",
   "metadata": {},
   "outputs": [],
   "source": [
    "df = Dat_file_reader(file_names=[f\"{path}{mouse}-{date}_01.dat\"], n_channels=65)\n",
    "first, last = df.get_first_last_samples_each_file()\n",
    "array = get_lfp_spectrogram(file_names=[f\"{path}{mouse}-{date}_01.dat\"], start_sample=int(first), end_sample=int(last), n_channels=65, channels=[n for n in range(65)], spec_file=f\"{path}spec_01.npy\", overwrite=True)"
   ]
  },
  {
   "cell_type": "markdown",
   "id": "08175366-ce54-47b9-8de5-503bbb5ced14",
   "metadata": {
    "tags": []
   },
   "source": [
    "Find the theta peak for channel 0."
   ]
  },
  {
   "cell_type": "code",
   "execution_count": 90,
   "id": "0e0f5822-54a1-459e-81f6-4c038550f430",
   "metadata": {},
   "outputs": [],
   "source": [
    "array = np.load(f\"{path}spec_01.npy\")\n",
    "f=array[:,0]\n",
    "channel0=array[:,1]\n",
    "theta_range=[4,10]\n",
    "peak_distance = f[f<theta_range[1]].shape[0]/theta_range[1]/2\n",
    "peak_height = channel0.max()*0.9\n",
    "peak_freq,peak_power = detect_theta_peak(f=f,signal=channel0,theta_range=theta_range,peak_height=peak_height,peak_distance=peak_distance)"
   ]
  },
  {
   "cell_type": "markdown",
   "id": "62e6d32a-2ceb-4987-b772-8db0499c6d6c",
   "metadata": {},
   "source": [
    "Plot the result."
   ]
  },
  {
   "cell_type": "code",
   "execution_count": 92,
   "id": "b66d8864-6f5a-4e21-98c2-f08218aac6a7",
   "metadata": {},
   "outputs": [
    {
     "data": {
      "image/png": "[encoded data removed]",
      "text/plain": [
       "<Figure size 432x288 with 1 Axes>"
      ]
     },
     "metadata": {
      "needs_background": "light"
     },
     "output_type": "display_data"
    }
   ],
   "source": [
    "plt.plot(f, channel0)\n",
    "plt.xlim(0,20)\n",
    "label = f\"Theta peak: {peak_freq:.3} Hz\"\n",
    "plt.vlines(peak_freq, ymin=0, ymax=peak_power, colors='red', label=label)\n",
    "plt.xlabel(\"Frequency [Hz]\")\n",
    "plt.ylabel(\"Power\")\n",
    "plt.legend()\n",
    "plt.show()"
   ]
  },
  {
   "cell_type": "code",
   "execution_count": null,
   "id": "871562ee-54cf-4ee7-8ab1-986b58f89fb6",
   "metadata": {},
   "outputs": [],
   "source": []
  }
 ],
 "metadata": {
  "kernelspec": {
   "display_name": "Python 3 (ipykernel)",
   "language": "python",
   "name": "python3"
  },
  "language_info": {
   "codemirror_mode": {
    "name": "ipython",
    "version": 3
   },
   "file_extension": ".py",
   "mimetype": "text/x-python",
   "name": "python",
   "nbconvert_exporter": "python",
   "pygments_lexer": "ipython3",
   "version": "3.8.10"
  }
 },
 "nbformat": 4,
 "nbformat_minor": 5
}
