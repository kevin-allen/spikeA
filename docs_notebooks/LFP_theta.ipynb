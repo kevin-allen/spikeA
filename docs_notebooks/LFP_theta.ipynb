{
 "cells": [
  {
   "cell_type": "code",
   "execution_count": 28,
   "id": "9945b020-850b-4707-b382-1c8084a46b26",
   "metadata": {},
   "outputs": [],
   "source": [
    "from spikeA.Dat_file_reader import Dat_file_reader\n",
    "import numpy as np\n",
    "import matplotlib.pyplot as plt\n",
    "from scipy.ndimage import gaussian_filter1d"
   ]
  },
  {
   "cell_type": "code",
   "execution_count": 5,
   "id": "29ad56fc-3615-424c-8cd1-a8fe117e9a36",
   "metadata": {},
   "outputs": [],
   "source": [
    "def get_lfp_spectrogram(file_names, start_sample, end_sample, n_channels, channels, spec_file, sampling_rate = 20000, nperseg=2**17, overwrite=False):\n",
    "    \"\"\"\n",
    "        Method to get the LFP spectrogram (power vs. frequency). It saves the data into a file and returns them.\n",
    "        \n",
    "        Arguments:\n",
    "        file_names: trials to use\n",
    "        start_sample, end_sample: samples from which and to which to take into account\n",
    "        n_channels: number of channels in the recording\n",
    "        channel: channels for which to calculate the spectrogram\n",
    "        sampling rate: sampling rate of dat file (in Hz)\n",
    "        nperseg: defines the resolution in the welch function\n",
    "        overwrite: set True to overwrite the saved file.\n",
    "        \n",
    "        Return:\n",
    "        array with frequency as first column and channels as other columns  \n",
    "    \"\"\"\n",
    "    import os.path\n",
    "    import numpy as np\n",
    "    \n",
    "    if not os.path.exists(spec_file) or overwrite==True:\n",
    "        from spikeA.Dat_file_reader import Dat_file_reader\n",
    "        from scipy.signal import welch\n",
    "        from scipy.ndimage import gaussian_filter1d\n",
    "\n",
    "        # read the data from the selected dat file for the selected channels\n",
    "        df = Dat_file_reader(file_names=file_names, n_channels=n_channels)\n",
    "        data = df.get_data_one_block(start_sample=start_sample, end_sample=end_sample, channels=np.asarray(channels))\n",
    "\n",
    "\n",
    "\n",
    "        for i,j in enumerate(channels):\n",
    "            data_1_channel = data[i,:]\n",
    "            f, signal = welch(data_1_channel, fs=sampling_rate, nperseg=nperseg, scaling='spectrum')\n",
    "\n",
    "            if i==0:\n",
    "                # create an array to store the data and insert f as first column\n",
    "                array = np.empty((signal.shape[0],len(channels)+1),float)\n",
    "                array[:,0] = f\n",
    "            array[:,i+1]=signal\n",
    "\n",
    "        np.save(file = spec_file, arr = array)\n",
    "\n",
    "    else:\n",
    "        array = np.load(spec_file)\n",
    "        \n",
    "    return array"
   ]
  },
  {
   "cell_type": "code",
   "execution_count": 17,
   "id": "ae27edfe-5631-44cf-bee9-130d74d348dd",
   "metadata": {},
   "outputs": [],
   "source": [
    "def detect_theta_peak(f, signal, theta_range=[4,12], peak_range=[2,2], peak_height='90%theta_max', peak_distance='0.5Hz'):\n",
    "    \"\"\"\n",
    "        Method to find the peak frequency within theta range and calculate some theta properties\n",
    "        \n",
    "        Arguments:\n",
    "        f: frequency (fft of time)\n",
    "        signal: power (fft of signal)\n",
    "        theta_range: range within the peak should be found\n",
    "        peak_range: range around the peak which should be considered for theta power calculation and peak width calculation\n",
    "        peak_height: required height for the peak to be detected\n",
    "        peak_distance: required distance between detected peaks\n",
    "        \n",
    "        Return:\n",
    "        theta peak frequency (in Hz), power at peak frequency, theta power, width at full height, width at half height \n",
    "    \"\"\"\n",
    "    \n",
    "    import numpy as np\n",
    "    from scipy.signal import find_peaks, peak_widths, peak_prominences\n",
    "    from scipy import integrate\n",
    "    \n",
    "    # cut the signal and frequency to the theta range\n",
    "    theta_signal = [j for i,j in enumerate(signal) if f[i]>theta_range[0] and f[i]<theta_range[1]]\n",
    "    theta_freq = [j for i,j in enumerate(f) if j>theta_range[0] and j<theta_range[1]]\n",
    "    \n",
    "    if peak_height == '90%theta_max':\n",
    "        peak_height = np.max(theta_signal)*0.9\n",
    "    if peak_distance == '0.5Hz':\n",
    "        peak_distance = len(theta_freq)/(theta_range[1]-theta_range[0])/2\n",
    "    \n",
    "    # detect the theta peak\n",
    "    peak = find_peaks(theta_signal, height=peak_height, distance=peak_distance)\n",
    "\n",
    "    # determine theta properties if peak was detected\n",
    "    if peak[0].size>0:\n",
    "        # select peak with highest power if several have been found\n",
    "        if len(peak[0])>1:\n",
    "            print('found more than 1 peak')\n",
    "            max_power = np.nanmax([int(peak[1].get('peak_heights')[i]) for i,j in enumerate(peak[0])])\n",
    "            peak_index_list = list(np.where([int(peak[1].get('peak_heights')[i]) for i,j in enumerate(peak[0])]==max_power))\n",
    "            if len(peak_index_list[0])>1:\n",
    "                peak_index_list[0] = peak_index_list[0][1:]\n",
    "            peak_index = peak_index_list\n",
    "            peak_freq_sample = peak[0][peak_index]\n",
    "            peak_power = int(peak[1].get('peak_heights')[peak_index])\n",
    "            peak_freq = theta_freq[int(peak[0][peak_index])]\n",
    "        else:\n",
    "            peak_freq_sample = peak[0]\n",
    "            peak_power = int(peak[1].get('peak_heights'))\n",
    "            peak_freq = theta_freq[int(peak[0])]\n",
    "\n",
    "        # calculate the prominence of the peak taking a window given by peak_range\n",
    "        prominence_data = peak_prominences(theta_signal, peak_freq_sample, wlen=float((peak_range[0]+peak_range[1])*peak_freq_sample/(peak_freq-theta_range[0])))\n",
    "\n",
    "        # get the width of the peak at full height and half height\n",
    "        width_full = peak_widths(theta_signal, peak_freq_sample, prominence_data=prominence_data, rel_height=1)\n",
    "        width_half = peak_widths(theta_signal, peak_freq_sample, prominence_data=prominence_data, rel_height=0.5)\n",
    "\n",
    "        peak_width_full = (peak_freq-theta_range[0])/peak_freq_sample*width_full[0] #convert from sample to frequency\n",
    "        peak_width_half = (peak_freq-theta_range[0])/peak_freq_sample*width_half[0]\n",
    "\n",
    "        # to get the theta power, take the ratio of power around the theta peak and at lower and higher frequencies\n",
    "        baseline1 = [peak_freq-2*peak_range[0],peak_freq-peak_range[0]]; baseline2 = [peak_freq+peak_range[1],peak_freq+2*peak_range[1]]\n",
    "        theta = [peak_freq-peak_range[0],peak_freq+peak_range[1]]\n",
    "        signal_baseline1 = [j for i,j in enumerate(signal) if f[i]>baseline1[0] and f[i]<baseline1[1]]\n",
    "        f_baseline1 = [j for i,j in enumerate(f) if f[i]>baseline1[0] and f[i]<baseline1[1]]\n",
    "        area_baseline1 = integrate.simpson(signal_baseline1, f_baseline1)\n",
    "\n",
    "        signal_baseline2 = [j for i,j in enumerate(signal) if f[i]>baseline2[0] and f[i]<baseline2[1]]\n",
    "        f_baseline2 = [j for i,j in enumerate(f) if f[i]>baseline2[0] and f[i]<baseline2[1]]\n",
    "        area_baseline2 = integrate.simpson(signal_baseline2, f_baseline2)\n",
    "\n",
    "        area_baseline = area_baseline1+area_baseline2\n",
    "\n",
    "        signal_theta = [j for i,j in enumerate(signal) if f[i]>theta[0] and f[i]<theta[1]]\n",
    "        f_theta = [j for i,j in enumerate(f) if f[i]>theta[0] and f[i]<theta[1]]\n",
    "        area_theta = integrate.simpson(signal_theta, f_theta)\n",
    "\n",
    "        theta_power = area_theta/area_baseline\n",
    "    else:\n",
    "        peak_freq = peak_power = theta_power = peak_width_full = peak_width_half = np.nan\n",
    "\n",
    "\n",
    "    return (peak_freq, peak_power, theta_power, peak_width_full, peak_width_half)"
   ]
  },
  {
   "cell_type": "code",
   "execution_count": 22,
   "id": "21ccd3cb-37ed-4684-9104-b208431b323a",
   "metadata": {},
   "outputs": [],
   "source": [
    "def detect_theta_peak(f, signal, theta_range=[4,12], peak_range=[2,2], peak_height='90%theta_max', peak_distance='0.5Hz', sigma=1.5):\n",
    "    \"\"\"\n",
    "        Method to find the peak frequency within theta range and calculate some theta properties\n",
    "        \n",
    "        Arguments:\n",
    "        f: frequency (fft of time)\n",
    "        signal: power (fft of signal)\n",
    "        theta_range: range within the peak should be found\n",
    "        peak_range: range around the peak which should be considered for theta power calculation and peak width calculation\n",
    "        peak_height: required height for the peak to be detected\n",
    "        peak_distance: required distance between detected peaks\n",
    "        sigma: Gaussian kernel to smooth the signal before detecting the peak\n",
    "        \n",
    "        Return:\n",
    "        theta peak frequency (in Hz), power at peak frequency, theta power, width at full height, width at half height \n",
    "    \"\"\"\n",
    "    \n",
    "    import numpy as np\n",
    "    from scipy.signal import find_peaks, peak_widths, peak_prominences\n",
    "    from scipy import integrate\n",
    "    from scipy.ndimage import gaussian_filter1d \n",
    "    \n",
    "    if sigma:\n",
    "        signal = gaussian_filter1d(signal, sigma=sigma)\n",
    "    \n",
    "    # cut the signal and frequency to the theta range\n",
    "    theta_signal = [j for i,j in enumerate(signal) if f[i]>theta_range[0] and f[i]<theta_range[1]]\n",
    "    theta_freq = [j for i,j in enumerate(f) if j>theta_range[0] and j<theta_range[1]]\n",
    "    \n",
    "    if peak_height == '90%theta_max':\n",
    "        peak_height = np.max(theta_signal)*0.9\n",
    "    if peak_distance == '0.5Hz':\n",
    "        peak_distance = len(theta_freq)/(theta_range[1]-theta_range[0])/2\n",
    "    \n",
    "    # detect the theta peak\n",
    "    peak = find_peaks(theta_signal, height=peak_height, distance=peak_distance)\n",
    "\n",
    "    # determine theta properties if peak was detected\n",
    "    if peak[0].size>0:\n",
    "        # select peak with highest power if several have been found\n",
    "        if len(peak[0])>1:\n",
    "            print('found more than 1 peak')\n",
    "            max_power = np.nanmax([int(peak[1].get('peak_heights')[i]) for i,j in enumerate(peak[0])])\n",
    "            peak_index_list = list(np.where([int(peak[1].get('peak_heights')[i]) for i,j in enumerate(peak[0])]==max_power))\n",
    "            if len(peak_index_list[0])>1:\n",
    "                peak_index_list[0] = peak_index_list[0][1:]\n",
    "            peak_index = peak_index_list\n",
    "            peak_freq_sample = peak[0][tuple(peak_index)]\n",
    "            peak_power = int(peak[1].get('peak_heights')[tuple(peak_index)])\n",
    "            peak_freq = theta_freq[int(peak[0][tuple(peak_index)])]\n",
    "        else:\n",
    "            peak_freq_sample = peak[0]\n",
    "            peak_power = int(peak[1].get('peak_heights'))\n",
    "            peak_freq = theta_freq[int(peak[0])]\n",
    "\n",
    "        # calculate the prominence of the peak taking a window given by peak_range\n",
    "        prominence_data = peak_prominences(theta_signal, peak_freq_sample, wlen=float((peak_range[0]+peak_range[1])*peak_freq_sample/(peak_freq-theta_range[0])))\n",
    "\n",
    "        # get the width of the peak at full height and half height\n",
    "        width_full = peak_widths(theta_signal, peak_freq_sample, prominence_data=prominence_data, rel_height=1)\n",
    "        width_half = peak_widths(theta_signal, peak_freq_sample, prominence_data=prominence_data, rel_height=0.5)\n",
    "\n",
    "        peak_width_full = (peak_freq-theta_range[0])/peak_freq_sample*width_full[0] #convert from sample to frequency\n",
    "        peak_width_half = (peak_freq-theta_range[0])/peak_freq_sample*width_half[0]\n",
    "\n",
    "        # to get the theta power, take the ratio of power around the theta peak and at lower and higher frequencies\n",
    "        baseline1 = [peak_freq-2*peak_range[0],peak_freq-peak_range[0]]; baseline2 = [peak_freq+peak_range[1],peak_freq+2*peak_range[1]]\n",
    "        theta = [peak_freq-peak_range[0],peak_freq+peak_range[1]]\n",
    "        signal_baseline1 = [j for i,j in enumerate(signal) if f[i]>baseline1[0] and f[i]<baseline1[1]]\n",
    "        f_baseline1 = [j for i,j in enumerate(f) if f[i]>baseline1[0] and f[i]<baseline1[1]]\n",
    "        area_baseline1 = integrate.simpson(signal_baseline1, f_baseline1)\n",
    "\n",
    "        signal_baseline2 = [j for i,j in enumerate(signal) if f[i]>baseline2[0] and f[i]<baseline2[1]]\n",
    "        f_baseline2 = [j for i,j in enumerate(f) if f[i]>baseline2[0] and f[i]<baseline2[1]]\n",
    "        area_baseline2 = integrate.simpson(signal_baseline2, f_baseline2)\n",
    "\n",
    "        area_baseline = area_baseline1+area_baseline2\n",
    "\n",
    "        signal_theta = [j for i,j in enumerate(signal) if f[i]>theta[0] and f[i]<theta[1]]\n",
    "        f_theta = [j for i,j in enumerate(f) if f[i]>theta[0] and f[i]<theta[1]]\n",
    "        area_theta = integrate.simpson(signal_theta, f_theta)\n",
    "\n",
    "        theta_power = area_theta/area_baseline\n",
    "    else:\n",
    "        peak_freq = peak_power = theta_power = peak_width_full = peak_width_half = np.nan\n",
    "\n",
    "\n",
    "    return (peak_freq, peak_power, theta_power, peak_width_full, peak_width_half)"
   ]
  },
  {
   "cell_type": "code",
   "execution_count": 35,
   "id": "2d1d99ea-9941-4a8e-ba9e-67bdbeb91693",
   "metadata": {},
   "outputs": [],
   "source": [
    "mouse=\"bt8564\"\n",
    "date=\"23072021\"\n",
    "name=f\"{mouse}-{date}-0105\"\n",
    "path=f\"/adata/electro/{mouse}/{name}/\""
   ]
  },
  {
   "cell_type": "markdown",
   "id": "9ce43f45-9444-4a44-922e-af25e65faecb",
   "metadata": {
    "tags": []
   },
   "source": [
    "Get the spectrogram of the first trial from channels 0 and 1."
   ]
  },
  {
   "cell_type": "code",
   "execution_count": 36,
   "id": "797dbbba-1669-479d-9433-2c4de7750456",
   "metadata": {},
   "outputs": [],
   "source": [
    "df = Dat_file_reader(file_names=[f\"{path}{mouse}-{date}_01.dat\"], n_channels=65)\n",
    "first, last = df.get_first_last_samples_each_file()\n",
    "array = get_lfp_spectrogram(file_names=[f\"{path}{mouse}-{date}_01.dat\"], start_sample=int(first), end_sample=int(last), n_channels=65, channels=[n for n in range(65)], spec_file=f\"{path}spec_01.npy\", overwrite=False)"
   ]
  },
  {
   "cell_type": "markdown",
   "id": "08175366-ce54-47b9-8de5-503bbb5ced14",
   "metadata": {
    "tags": []
   },
   "source": [
    "Find the theta peak for channel 0."
   ]
  },
  {
   "cell_type": "code",
   "execution_count": 37,
   "id": "0e0f5822-54a1-459e-81f6-4c038550f430",
   "metadata": {},
   "outputs": [],
   "source": [
    "array = np.load(f\"{path}spec_01.npy\")\n",
    "f=array[:,0]\n",
    "channel0=array[:,1]\n",
    "peak_freq,peak_power, theta_power, peak_width_full, peak_width_half = detect_theta_peak(f=f,signal=channel0)"
   ]
  },
  {
   "cell_type": "markdown",
   "id": "62e6d32a-2ceb-4987-b772-8db0499c6d6c",
   "metadata": {},
   "source": [
    "Plot the result."
   ]
  },
  {
   "cell_type": "code",
   "execution_count": 38,
   "id": "b66d8864-6f5a-4e21-98c2-f08218aac6a7",
   "metadata": {},
   "outputs": [
    {
     "data": {
      "image/png": "[encoded data removed]",
      "text/plain": [
       "<Figure size 432x288 with 1 Axes>"
      ]
     },
     "metadata": {
      "needs_background": "light"
     },
     "output_type": "display_data"
    }
   ],
   "source": [
    "signal = gaussian_filter1d(channel0, sigma=1.5)\n",
    "plt.plot(f, signal)\n",
    "plt.xlim(0,20)\n",
    "label = f\"Theta peak: {peak_freq:.3} Hz\"\n",
    "plt.vlines(peak_freq, ymin=0, ymax=peak_power, colors='red', label=label)\n",
    "plt.xlabel(\"Frequency [Hz]\")\n",
    "plt.ylabel(\"Power\")\n",
    "plt.legend()\n",
    "plt.show()"
   ]
  },
  {
   "cell_type": "code",
   "execution_count": 11,
   "id": "889d4c8b-187d-4760-8976-ab959fbbe789",
   "metadata": {},
   "outputs": [
    {
     "name": "stdout",
     "output_type": "stream",
     "text": [
      "Theta power: 8.09\n",
      "Width at full height: 4.05\n",
      "Width at half height: 1.21\n"
     ]
    }
   ],
   "source": [
    "print(f\"Theta power: {theta_power:.3}\\nWidth at full height: {float(peak_width_full):.3}\\nWidth at half height: {float(peak_width_half):.3}\")"
   ]
  },
  {
   "cell_type": "code",
   "execution_count": null,
   "id": "2a233891-5183-4b82-80a4-b4d7e5cc2b0b",
   "metadata": {},
   "outputs": [],
   "source": []
  }
 ],
 "metadata": {
  "kernelspec": {
   "display_name": "Python 3 (ipykernel)",
   "language": "python",
   "name": "python3"
  },
  "language_info": {
   "codemirror_mode": {
    "name": "ipython",
    "version": 3
   },
   "file_extension": ".py",
   "mimetype": "text/x-python",
   "name": "python",
   "nbconvert_exporter": "python",
   "pygments_lexer": "ipython3",
   "version": "3.8.10"
  }
 },
 "nbformat": 4,
 "nbformat_minor": 5
}
