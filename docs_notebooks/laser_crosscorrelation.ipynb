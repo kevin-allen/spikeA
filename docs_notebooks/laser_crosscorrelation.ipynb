{
 "cells": [
  {
   "cell_type": "code",
   "execution_count": 1,
   "id": "31b47eb4-8a08-4a20-8219-ea4617d2bb1a",
   "metadata": {},
   "outputs": [],
   "source": [
    "%load_ext autoreload\n",
    "\n",
    "%autoreload 2\n",
    "import numpy as np\n",
    "import matplotlib.pyplot as plt\n",
    "%matplotlib inline\n",
    "from spikeA.Session import *\n",
    "from spikeA.Spike_train_loader import Spike_train_loader\n",
    "from spikeA.Cell_group import Cell_group\n",
    "from spikeA.Animal_pose import Animal_pose\n",
    "from spikeA.Session import Session\n",
    "from spikeA.Dat_file_reader import Dat_file_reader\n",
    "from spikeA.Intervals import Intervals\n",
    "from spikeA.Spike_train import Spike_train\n",
    "from spikeA.Spike_waveform import Spike_waveform\n",
    "from spikeA.ttl import detectTTL\n",
    "from tqdm import tqdm\n",
    "import os.path\n",
    "import matplotlib.gridspec as gridspec\n",
    "from matplotlib.backends.backend_pdf import PdfPages\n",
    "import spikeA.spatial_properties\n",
    "import re"
   ]
  },
  {
   "cell_type": "code",
   "execution_count": 2,
   "id": "aa1a3645-dbea-4718-84c1-5e9cf14e4ceb",
   "metadata": {},
   "outputs": [],
   "source": [
    "mouse=\"bt1123\"\n",
    "date=\"09012022\"\n",
    "name=f\"{mouse}-{date}-0107\"\n",
    "path=f\"/adata/electro/{mouse}/{name}/\""
   ]
  },
  {
   "cell_type": "markdown",
   "id": "1550c4aa-4818-4e78-b496-6e336ba27b64",
   "metadata": {},
   "source": [
    "Check the files"
   ]
  },
  {
   "cell_type": "markdown",
   "id": "278b9128-bcf6-4c67-b92f-2a8d76a9894c",
   "metadata": {},
   "source": [
    "## Get a Session object and load spikes"
   ]
  },
  {
   "cell_type": "code",
   "execution_count": 3,
   "id": "085cbfb2-d200-4e8b-8a3a-8252f4578e96",
   "metadata": {},
   "outputs": [],
   "source": [
    "ses = Kilosort_session(name=name,path=path)\n",
    "ses.load_parameters_from_files()\n",
    "stl = Spike_train_loader()\n",
    "stl.load_spike_train_kilosort(ses)\n",
    "cg = Cell_group(stl)"
   ]
  },
  {
   "cell_type": "markdown",
   "id": "522361eb-ecee-4042-a43e-bc3f7f04aefa",
   "metadata": {},
   "source": [
    "## Create a pose file "
   ]
  },
  {
   "cell_type": "code",
   "execution_count": 4,
   "id": "7d2411f1-8f50-407c-aeec-7493dbc6e7f1",
   "metadata": {},
   "outputs": [],
   "source": [
    "ap = Animal_pose(ses)\n",
    "if not os.path.exists(f\"{ses.fileBase}.pose.npy\"):\n",
    "    ap.pose_from_positrack_files(ses=ses, interpolation_frequency_hz = 50,extension=\"positrack\")\n",
    "    ap.save_pose_to_file() # save the file for next time\n",
    "else:\n",
    "    ap.load_pose_from_file()"
   ]
  },
  {
   "cell_type": "markdown",
   "id": "b5d9f6ef-881f-47a8-ad00-256bdea484fb",
   "metadata": {},
   "source": [
    "## Limit analysis to a particular trial and identify the stimulation trial\n",
    "\n",
    "You can get the time intervals for each trial from the session object.\n",
    "\n",
    "* Get the time at which each trial starts and ends\n",
    "* Set the intervals in the spike train object. \n",
    "* Set the intervals in the animal_pose object. "
   ]
  },
  {
   "cell_type": "code",
   "execution_count": 5,
   "id": "bd70153f-9197-4f59-8caa-9aa60e7149b5",
   "metadata": {},
   "outputs": [
    {
     "name": "stdout",
     "output_type": "stream",
     "text": [
      "Stim trial: 7\n"
     ]
    }
   ],
   "source": [
    "first_trial_inter = ses.trial_intervals.inter[0:1,:] # baseline\n",
    "second_trial_inter = ses.trial_intervals.inter[2:3,:] # novel environment or object_loc1\n",
    "third_trial_inter = ses.trial_intervals.inter[4:5,:] # baseline_re or object_loc2\n",
    "forth_trial_inter = ses.trial_intervals.inter[6:7,:] # stim_trial or object_loc1\n",
    "\n",
    "if re.search('0109$', str(name)):\n",
    "    fifth_trial_inter = ses.trial_intervals.inter[8:9,:] # stim_trial\n",
    "\n",
    "stim_trial = [i for i, j in enumerate(ses.stimulation) if j == 'MS'][0]\n",
    "print(\"Stim trial:\", stim_trial+1) #counting the first trial as trial 1"
   ]
  },
  {
   "cell_type": "markdown",
   "id": "1b1fe0d2-13b6-4bcd-b68d-fe72f1fe1d4e",
   "metadata": {},
   "source": [
    "Read the dat file to get the time points of laser pulses. Save the result in a file."
   ]
  },
  {
   "cell_type": "code",
   "execution_count": 6,
   "id": "d38806be-858d-418c-81b4-71e13f6fb4ba",
   "metadata": {},
   "outputs": [],
   "source": [
    "up_file_name = ses.path + \"/\" + ses.trial_names[stim_trial] + \".stim_ups_sec.npy\"\n",
    "if not os.path.exists(up_file_name):\n",
    "    dat_file_name = ses.path + \"/\" + ses.trial_names[stim_trial]+\".dat\"\n",
    "    print(dat_file_name)\n",
    "    df = Dat_file_reader(file_names=[dat_file_name],n_channels = ses.n_channels)\n",
    "    laser_channel_data = df.get_data_one_block(0,df.files_last_sample[-1],np.array([ses.n_channels-2]))\n",
    "    ups,downs = detectTTL(ttl_data = laser_channel_data)\n",
    "    print(\"Number of laser pulses detected: {}\".format(ups.shape[0]))\n",
    "    #need to add the time that has passed before the stim trial\n",
    "    ups = ups/ses.sampling_rate + ses.trial_intervals.inter[stim_trial:stim_trial+1,0] # intervals in seconds\n",
    "    np.save(file = up_file_name, arr = ups)\n",
    "else:\n",
    "    ups = np.load(up_file_name)"
   ]
  },
  {
   "cell_type": "markdown",
   "id": "935d0d21-fdf9-46f9-8c5e-7e65d9449533",
   "metadata": {
    "tags": []
   },
   "source": [
    "Get the laser frequency."
   ]
  },
  {
   "cell_type": "code",
   "execution_count": 7,
   "id": "bd57dcc7-3233-4baf-bb67-4e73f1096f3d",
   "metadata": {},
   "outputs": [
    {
     "name": "stdout",
     "output_type": "stream",
     "text": [
      "Laser frequency: 8.023701086299791 Hz\n"
     ]
    }
   ],
   "source": [
    "laser_intervals = np.diff(ups)\n",
    "stim_freq = 1/np.nanmean(laser_intervals)\n",
    "print(f\"Laser frequency: {stim_freq} Hz\")"
   ]
  },
  {
   "cell_type": "markdown",
   "id": "1c2975f8-40e6-4fab-b2c7-d87b235dbb54",
   "metadata": {},
   "source": [
    "Plot the crosscorrelation between the laser pulses and the spikes of a cell."
   ]
  },
  {
   "cell_type": "code",
   "execution_count": 8,
   "id": "bc05163c-cc0e-4b41-a3e4-6866ef27a716",
   "metadata": {},
   "outputs": [
    {
     "data": {
      "text/plain": [
       "Text(0, 0.5, 'Spike count')"
      ]
     },
     "execution_count": 8,
     "metadata": {},
     "output_type": "execute_result"
    },
    {
     "data": {
      "image/png": "[encoded data removed]",
      "text/plain": [
       "<Figure size 432x288 with 1 Axes>"
      ]
     },
     "metadata": {
      "needs_background": "light"
     },
     "output_type": "display_data"
    }
   ],
   "source": [
    "min_sec=-0.03; max_sec=0.03; bin_size_sec=0.001\n",
    "n = cg.neuron_list[13]\n",
    "\n",
    "n.spike_train.set_intervals(ses.trial_intervals.inter[stim_trial:stim_trial+1,:])\n",
    "hist,edges = n.spike_train.spike_time_crosscorrelation(st1=ups, st2=n.spike_train.st, bin_size_sec=bin_size_sec, min_sec=min_sec, max_sec=max_sec)\n",
    "timestamp = n.spike_train.mid_point_from_edges(edges)\n",
    "\n",
    "#plot\n",
    "fig,ax = plt.subplots()\n",
    "ax.bar(timestamp, hist, width=bin_size_sec)     \n",
    "laser_pulse = ax.bar(0,np.max(hist),width=0.005, align='edge', color='red', alpha=0.35)\n",
    "ax.set_xlim(min_sec, max_sec)\n",
    "ax.set_ylim(0,np.max(hist))\n",
    "ax.spines['top'].set_visible(False)\n",
    "ax.spines['right'].set_visible(False)\n",
    "ax.set_xlabel(\"Time [s]\")\n",
    "ax.set_ylabel(\"Spike count\")"
   ]
  },
  {
   "cell_type": "code",
   "execution_count": null,
   "id": "d83ace8f-333d-4395-8687-01006b3a4a9a",
   "metadata": {},
   "outputs": [],
   "source": []
  }
 ],
 "metadata": {
  "kernelspec": {
   "display_name": "Python 3 (ipykernel)",
   "language": "python",
   "name": "python3"
  },
  "language_info": {
   "codemirror_mode": {
    "name": "ipython",
    "version": 3
   },
   "file_extension": ".py",
   "mimetype": "text/x-python",
   "name": "python",
   "nbconvert_exporter": "python",
   "pygments_lexer": "ipython3",
   "version": "3.8.10"
  }
 },
 "nbformat": 4,
 "nbformat_minor": 5
}
