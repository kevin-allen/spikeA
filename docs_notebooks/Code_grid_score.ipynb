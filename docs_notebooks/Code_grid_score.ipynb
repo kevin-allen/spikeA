{
 "cells": [
  {
   "cell_type": "code",
   "execution_count": 3,
   "id": "c293e7cc-11c7-4bfc-8196-f9a5fbc6d0cf",
   "metadata": {},
   "outputs": [
    {
     "name": "stdout",
     "output_type": "stream",
     "text": [
      "The autoreload extension is already loaded. To reload it, use:\n",
      "  %reload_ext autoreload\n"
     ]
    }
   ],
   "source": [
    "%load_ext autoreload\n",
    "\n",
    "%autoreload 2\n",
    "import numpy as np\n",
    "import matplotlib.pyplot as plt\n",
    "%matplotlib inline\n",
    "from spikeA.Session import *\n",
    "from spikeA.Spike_train_loader import Spike_train_loader\n",
    "from spikeA.Cell_group import Cell_group\n",
    "from spikeA.Animal_pose import Animal_pose\n",
    "from spikeA.Session import Session\n",
    "from spikeA.Dat_file_reader import Dat_file_reader\n",
    "from spikeA.Intervals import Intervals\n",
    "from spikeA.Spike_train import Spike_train\n",
    "from spikeA.Spike_waveform import Spike_waveform\n",
    "from tqdm import tqdm\n",
    "import os.path\n",
    "import matplotlib.gridspec as gridspec\n",
    "from matplotlib.backends.backend_pdf import PdfPages\n",
    "import pickle"
   ]
  },
  {
   "cell_type": "code",
   "execution_count": 2,
   "id": "2f5d0cd4-6d6c-4cff-a0fc-69e83a51dead",
   "metadata": {},
   "outputs": [],
   "source": [
    "mouse=\"bt0975\"\n",
    "date=\"28092021\"\n",
    "name=f\"{mouse}-{date}-0105\""
   ]
  },
  {
   "cell_type": "code",
   "execution_count": 15,
   "id": "130f7b77-b5ee-4009-9bfe-402bb880d652",
   "metadata": {},
   "outputs": [],
   "source": [
    "with open(f\"/home/beate/Downloads/ses.pickle\", 'rb') as loaded_ses_file:\n",
    "    ses = pickle.load(loaded_ses_file)"
   ]
  },
  {
   "cell_type": "code",
   "execution_count": 11,
   "id": "323c607c-e4d4-46a9-bcda-16c35f615732",
   "metadata": {},
   "outputs": [
    {
     "name": "stdout",
     "output_type": "stream",
     "text": [
      "<class 'spikeA.Session.Kilosort_session'>\n",
      "name = bt0975-28092021-0105\n",
      "path = /adata/electro/bt0975/bt0975-28092021-0105\n",
      "subject = bt0975\n",
      "session_dat_time = 2021-09-28 01:05:00\n",
      "fileBase = /adata/electro/bt0975/bt0975-28092021-0105/bt0975-28092021-0105\n",
      "file_names = {'par': '/adata/electro/bt0975/bt0975-28092021-0105/bt0975-28092021-0105.par', 'desen': '/adata/electro/bt0975/bt0975-28092021-0105/bt0975-28092021-0105.desen', 'desel': '/adata/electro/bt0975/bt0975-28092021-0105/bt0975-28092021-0105.desel', 'sampling_rate': '/adata/electro/bt0975/bt0975-28092021-0105/bt0975-28092021-0105.sampling_rate_dat', 'px_per_cm': '/adata/electro/bt0975/bt0975-28092021-0105/bt0975-28092021-0105.px_per_cm', 'params': '/adata/electro/bt0975/bt0975-28092021-0105/params.py', 'amplitudes': '/adata/electro/bt0975/bt0975-28092021-0105/amplitudes.npy', 'channel_map': '/adata/electro/bt0975/bt0975-28092021-0105/channel_map.npy', 'channel_positions': '/adata/electro/bt0975/bt0975-28092021-0105/channel_positions.npy', 'pc_features': '/adata/electro/bt0975/bt0975-28092021-0105/pc_features.npy', 'pc_feature_ind': '/adata/electro/bt0975/bt0975-28092021-0105/pc_feature_ind.npy', 'spike_templates': '/adata/electro/bt0975/bt0975-28092021-0105/spike_templates.npy', 'spike_times': '/adata/electro/bt0975/bt0975-28092021-0105/spike_times.npy', 'spike_clusters': '/adata/electro/bt0975/bt0975-28092021-0105/spike_clusters.npy', 'cluster_group': '/adata/electro/bt0975/bt0975-28092021-0105/cluster_group.tsv'}\n",
      "n_channels = 65\n",
      "dat_dtype = int16\n",
      "dat_offset = 0\n",
      "sampling_rate = 20000.0\n",
      "desen = ['circ80', 'rb', 'sqr70', 'rb', 'circ80']\n",
      "desel = ['mec', 'mec', 'mec', 'mec', 'mec', 'mec', 'mec', 'mec']\n",
      "px_per_cm = 7.14\n",
      "trial_names = ['bt0975-28092021_01', 'bt0975-28092021_02', 'bt0975-28092021_03', 'bt0975-28092021_04', 'bt0975-28092021_05']\n",
      "dat_file_names = ['/adata/electro/bt0975/bt0975-28092021-0105/bt0975-28092021_01.dat', '/adata/electro/bt0975/bt0975-28092021-0105/bt0975-28092021_02.dat', '/adata/electro/bt0975/bt0975-28092021-0105/bt0975-28092021_03.dat', '/adata/electro/bt0975/bt0975-28092021-0105/bt0975-28092021_04.dat', '/adata/electro/bt0975/bt0975-28092021-0105/bt0975-28092021_05.dat']\n",
      "trial_intervals = <spikeA.Intervals.Intervals object at 0x7f087833b6a0>\n",
      "cg = <spikeA.Cell_group.Cell_group object at 0x7f078982b280>\n",
      "pose = [[0.00000e+00         nan         nan ...         nan         nan\n",
      "          nan]\n",
      " [2.00000e-02         nan         nan ...         nan         nan\n",
      "          nan]\n",
      " [4.00000e-02         nan         nan ...         nan         nan\n",
      "          nan]\n",
      " ...\n",
      " [5.05314e+03         nan         nan ...         nan         nan\n",
      "          nan]\n",
      " [5.05316e+03         nan         nan ...         nan         nan\n",
      "          nan]\n",
      " [5.05318e+03         nan         nan ...         nan         nan\n",
      "          nan]]\n"
     ]
    }
   ],
   "source": [
    "ses.load_parameters_from_files()\n",
    "print(ses)"
   ]
  },
  {
   "cell_type": "code",
   "execution_count": 12,
   "id": "1d556041-14b7-4745-acd1-143bd4f713b8",
   "metadata": {},
   "outputs": [
    {
     "name": "stdout",
     "output_type": "stream",
     "text": [
      "Number of good clusters: 37\n"
     ]
    }
   ],
   "source": [
    "stl = Spike_train_loader()\n",
    "stl.load_spike_train_kilosort(ses)\n",
    "cg = Cell_group(stl)"
   ]
  },
  {
   "cell_type": "code",
   "execution_count": null,
   "id": "745e8b29-bbe9-4bc1-b287-0ec7ed4b3ca1",
   "metadata": {},
   "outputs": [],
   "source": []
  }
 ],
 "metadata": {
  "kernelspec": {
   "display_name": "Python 3 (ipykernel)",
   "language": "python",
   "name": "python3"
  },
  "language_info": {
   "codemirror_mode": {
    "name": "ipython",
    "version": 3
   },
   "file_extension": ".py",
   "mimetype": "text/x-python",
   "name": "python",
   "nbconvert_exporter": "python",
   "pygments_lexer": "ipython3",
   "version": "3.8.10"
  }
 },
 "nbformat": 4,
 "nbformat_minor": 5
}
