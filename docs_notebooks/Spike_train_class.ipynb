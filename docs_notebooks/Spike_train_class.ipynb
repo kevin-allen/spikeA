{
 "cells": [
  {
   "cell_type": "markdown",
   "id": "4a45de4c-a0c3-4e94-9d2d-aaf0820a0c50",
   "metadata": {},
   "source": [
    "# The Spike_train Class\n",
    "\n",
    "This notebook documents the usage of the `Spike_train` class. It covers its main attributes and methods.\n",
    "\n",
    "A `Spike_train` object can be used to represent the spike train of a single neuron. A spike train is simply a series (1D array) containing the time at which the neuron fired. The time is stored in seconds, usually with time 0 being the start of the recording.\n",
    "\n",
    "The `Spike_train` class contains method to perform analysis that are often performed on a spike train.\n"
   ]
  },
  {
   "cell_type": "markdown",
   "id": "6401c012-1ecb-4337-acd1-93a976a5ac94",
   "metadata": {},
   "source": [
    "# 1. Create A Spike_train Object\n",
    "\n",
    "As with any class, you need to create the object by calling its constructor. "
   ]
  },
  {
   "cell_type": "code",
   "execution_count": 3,
   "id": "28f07012-4db3-4c7b-9bd1-9ec8ae222906",
   "metadata": {},
   "outputs": [
    {
     "name": "stdout",
     "output_type": "stream",
     "text": [
      "[ 0.          0.20408163  0.40816327  0.6122449   0.81632653  1.02040816\n",
      "  1.2244898   1.42857143  1.63265306  1.83673469  2.04081633  2.24489796\n",
      "  2.44897959  2.65306122  2.85714286  3.06122449  3.26530612  3.46938776\n",
      "  3.67346939  3.87755102  4.08163265  4.28571429  4.48979592  4.69387755\n",
      "  4.89795918  5.10204082  5.30612245  5.51020408  5.71428571  5.91836735\n",
      "  6.12244898  6.32653061  6.53061224  6.73469388  6.93877551  7.14285714\n",
      "  7.34693878  7.55102041  7.75510204  7.95918367  8.16326531  8.36734694\n",
      "  8.57142857  8.7755102   8.97959184  9.18367347  9.3877551   9.59183673\n",
      "  9.79591837 10.        ]\n",
      "Spike_train, name: my_spike_train!, number of spikes 50, first: 0.0, last: 10.0\n",
      "Time in intervals: 11.0 sec\n",
      "1 intervals\n"
     ]
    }
   ],
   "source": [
    "import numpy as np\n",
    "import matplotlib.pyplot as plt\n",
    "from spikeA.Spike_train import Spike_train\n",
    "\n",
    "# if you don't have spike times\n",
    "st = Spike_train(name=\"my_spike_train!\",sampling_rate=20000)\n",
    "\n",
    "# if you have spike times\n",
    "my_spike_times = np.linspace(0,10,50)\n",
    "print(my_spike_times)\n",
    "my_st = Spike_train(name=\"my_spike_train!\",sampling_rate=20000, st=my_spike_times)\n"
   ]
  },
  {
   "cell_type": "markdown",
   "id": "e8d6bed5-10cd-4cc2-af11-d57a265d895a",
   "metadata": {},
   "source": [
    "# 2. Setting The Spike Train Of A Spike_time Object\n",
    "\n",
    "If you want to set or change the spike times of a `Spike_time` object, use the method `set_spike_train()`.\n",
    "\n",
    "This function will set the `st` attribute of the `Spike_time` object."
   ]
  },
  {
   "cell_type": "code",
   "execution_count": 4,
   "id": "07a947af-02c8-48b9-8776-79d0bd925552",
   "metadata": {},
   "outputs": [
    {
     "name": "stdout",
     "output_type": "stream",
     "text": [
      "Spike_train, name: my_spike_train!, number of spikes 30, first: 0.0, last: 10.0\n",
      "Time in intervals: 11.0 sec\n",
      "1 intervals\n",
      "Values in st attribute:\n",
      "[ 0.          0.34482759  0.68965517  1.03448276  1.37931034  1.72413793\n",
      "  2.06896552  2.4137931   2.75862069  3.10344828  3.44827586  3.79310345\n",
      "  4.13793103  4.48275862  4.82758621  5.17241379  5.51724138  5.86206897\n",
      "  6.20689655  6.55172414  6.89655172  7.24137931  7.5862069   7.93103448\n",
      "  8.27586207  8.62068966  8.96551724  9.31034483  9.65517241 10.        ]\n",
      "Spike_train, name: my_spike_train!, number of spikes 20, first: 0.0, last: 10.0\n",
      "Time in intervals: 11.0 sec\n",
      "Number of spikes: 20\n",
      "Values in st attribute:\n",
      "[ 0.          0.52631579  1.05263158  1.57894737  2.10526316  2.63157895\n",
      "  3.15789474  3.68421053  4.21052632  4.73684211  5.26315789  5.78947368\n",
      "  6.31578947  6.84210526  7.36842105  7.89473684  8.42105263  8.94736842\n",
      "  9.47368421 10.        ]\n"
     ]
    }
   ],
   "source": [
    "# set some spike times\n",
    "st.set_spike_train(np.linspace(0,10,30))\n",
    "print(\"Values in st attribute:\")\n",
    "print(st.st)\n",
    "# set other spike times\n",
    "st.set_spike_train(np.linspace(0,10,20))\n",
    "print(\"Values in st attribute:\")\n",
    "print(st.st)"
   ]
  },
  {
   "cell_type": "markdown",
   "id": "0010e86c-b5ad-4841-872f-858066519956",
   "metadata": {},
   "source": [
    "# 3. Generating A Modulated Poisson Spike Train."
   ]
  },
  {
   "cell_type": "markdown",
   "id": "cb14ecf7-d7b8-4619-a5fb-b919bc85de23",
   "metadata": {},
   "source": [
    "A modulated Poisson spike train, can be generated using the function .generate_poisson_spikes followed by \n",
    "arguments (i.e. the values passed to the function.). See the example below."
   ]
  },
  {
   "cell_type": "code",
   "execution_count": 5,
   "id": "8aa1df1e-4217-464a-854d-f82cc54bd980",
   "metadata": {},
   "outputs": [
    {
     "name": "stdout",
     "output_type": "stream",
     "text": [
      "Spike_train, name: no1, number of spikes 95, first: 0.01215, last: 1.99715\n",
      "Time in intervals: 2.99715 sec\n",
      "1 intervals\n"
     ]
    },
    {
     "data": {
      "text/plain": [
       "array([0.01215, 0.01515, 0.0215 , 0.0269 , 0.04745, 0.05365, 0.054  ,\n",
       "       0.0601 , 0.0961 , 0.10435, 0.10975, 0.1362 , 0.1409 , 0.2576 ,\n",
       "       0.26665, 0.28815, 0.29775, 0.30405, 0.3076 , 0.32205, 0.33325,\n",
       "       0.33545, 0.3474 , 0.35245, 0.3706 , 0.51215, 0.54535, 0.58165,\n",
       "       0.7279 , 0.7375 , 0.75035, 0.7555 , 0.76105, 0.78845, 0.7934 ,\n",
       "       0.81385, 0.8214 , 0.8298 , 0.83865, 0.85335, 0.85355, 0.8604 ,\n",
       "       1.00325, 1.03145, 1.0349 , 1.04095, 1.0449 , 1.0489 , 1.05525,\n",
       "       1.06155, 1.06855, 1.0697 , 1.0922 , 1.1057 , 1.13415, 1.16485,\n",
       "       1.31735, 1.3575 , 1.3706 , 1.384  , 1.3884 , 1.49675, 1.5113 ,\n",
       "       1.5145 , 1.5262 , 1.53   , 1.53235, 1.54675, 1.55005, 1.5616 ,\n",
       "       1.56735, 1.5714 , 1.58195, 1.5821 , 1.5876 , 1.5937 , 1.6089 ,\n",
       "       1.62055, 1.6224 , 1.6353 , 1.76925, 1.77945, 1.792  , 1.8094 ,\n",
       "       1.81865, 1.8271 , 1.8421 , 1.8467 , 1.85625, 1.8607 , 1.87425,\n",
       "       1.8772 , 1.9164 , 1.9875 , 1.99715])"
      ]
     },
     "execution_count": 5,
     "metadata": {},
     "output_type": "execute_result"
    }
   ],
   "source": [
    "spike1 = Spike_train(name=\"no1\",sampling_rate=20000)\n",
    "spike1.generate_modulated_poisson_spike_train(rate_hz=50, sampling_rate=20000, length_sec=2, modulation_hz = 4, modulation_depth = 1,\n",
    "                                              min_rate_bins_per_cycle=10,phase_shift=0)\n",
    "spike1.st ##  It is necessary in order to obtain the 1d numpy array with the spike time of one neuron"
   ]
  },
  {
   "cell_type": "markdown",
   "id": "2daf4565-8239-4e21-ad6d-52e86c7e9a8c",
   "metadata": {},
   "source": [
    "# 4. Poisson Spike Train Scatter Plot"
   ]
  },
  {
   "cell_type": "code",
   "execution_count": 6,
   "id": "36eccc0c-3466-4c02-af78-85f75d83a10e",
   "metadata": {},
   "outputs": [
    {
     "data": {
      "text/plain": [
       "Text(0.5, 0, 'Time (ms)')"
      ]
     },
     "execution_count": 6,
     "metadata": {},
     "output_type": "execute_result"
    },
    {
     "data": {
      "image/png": "[encoded data removed]",
      "text/plain": [
       "<Figure size 432x288 with 1 Axes>"
      ]
     },
     "metadata": {
      "needs_background": "light"
     },
     "output_type": "display_data"
    }
   ],
   "source": [
    "plt.plot(spike1.st,np.ones_like(spike1.st), marker=\".\", markersize=15) \n",
    "plt.xlabel(\"Time (ms)\" )  "
   ]
  },
  {
   "cell_type": "markdown",
   "id": "121e610f-1239-4829-b872-346e834a8f3e",
   "metadata": {},
   "source": [
    "# 5. Number Of Spikes And Mean Firing Rate\n",
    "Return the number of spikes and mean firing rate for a given spike train."
   ]
  },
  {
   "cell_type": "code",
   "execution_count": 7,
   "id": "09a687e7-5dcd-4c69-87d6-6965148ce2ab",
   "metadata": {},
   "outputs": [
    {
     "name": "stdout",
     "output_type": "stream",
     "text": [
      "Number of spikes: 95\n",
      "Mean firing rate: 31.696778606342694\n"
     ]
    }
   ],
   "source": [
    "# get the number of spikes\n",
    "print(\"Number of spikes:\" ,spike1.n_spikes())\n",
    "# get the mean firing rate\n",
    "print(\"Mean firing rate:\" ,spike1.mean_firing_rate())"
   ]
  },
  {
   "cell_type": "markdown",
   "id": "1777f54f-bed5-4f1d-98ee-cb4612cdd868",
   "metadata": {},
   "source": [
    "# 6. Instantaneous Firing Rate\n",
    "Returns the instantaneous firing rate i.e. the firing rate of the neuron over time."
   ]
  },
  {
   "cell_type": "code",
   "execution_count": 8,
   "id": "767b32a0-14f9-4578-8fe6-b8156b46bd9a",
   "metadata": {},
   "outputs": [
    {
     "name": "stdout",
     "output_type": "stream",
     "text": [
      "Spike_train, name: no1, number of spikes 103, first: 0.033, last: 1.99905\n",
      "Time in intervals: 2.99905 sec\n",
      "Number of spikes: 103\n"
     ]
    }
   ],
   "source": [
    "# Here we calculate the firing rate for a neuron\n",
    "spike1.generate_modulated_poisson_spike_train(rate_hz=50, sampling_rate=20000, length_sec=2,\n",
    "                                              modulation_hz = 8, modulation_depth = 1,min_rate_bins_per_cycle=10,\n",
    "                                              phase_shift=0)\n",
    "spike1.instantaneous_firing_rate(bin_size_ms = 1, sigma = 5)\n"
   ]
  },
  {
   "cell_type": "markdown",
   "id": "030e07db-0a9b-4f51-ac43-9e8714df6003",
   "metadata": {},
   "source": [
    "# 7. Instantaneous Firing Rate Autocorrelation\n",
    "Determine the distribution of times between any two spikes in a train. It allows the detection of patterns in spike trains, particularly oscillations."
   ]
  },
  {
   "cell_type": "code",
   "execution_count": 9,
   "id": "580a171c-a757-4974-aff1-73092fd913cd",
   "metadata": {},
   "outputs": [
    {
     "data": {
      "text/plain": [
       "array([ 2715692. ,  2655876.8,  2607226.2,  2569181.8,  2541063.5,\n",
       "        2522071.2,  2511287. ,  2507684.5,  2510151. ,  2517527.2,\n",
       "        2528661.8,  2542481. ,  2558064.5,  2574718.2,  2592037.8,\n",
       "        2609947.8,  2628715.8,  2648931.5,  2671456.5,  2697343. ,\n",
       "        2727728. ,  2763720.8,  2806284.5,  2856126.8,  2913616.5,\n",
       "        2978725. ,  3051005.2,  3129611. ,  3213353.2,  3300790.5,\n",
       "        3390347.5,  3480445. ,  3569638.5,  3656742. ,  3740937.5,\n",
       "        3821845.5,  3899564. ,  3974663. ,  4048143. ,  4121352.5,\n",
       "        4195884. ,  4273449.5,  4355749. ,  4444346.5,  4540556.5,\n",
       "        4645363.5,  4759361.5,  4882733.5,  5015257. ,  5156340. ,\n",
       "        5305073.5,  5460295. ,  5620657. ,  5784693. ,  5950878. ,\n",
       "        6117684.5,  6283639. ,  6447378. ,  6607700. ,  6763625. ,\n",
       "        6914435.5,  7059698. ,  7199258.5,  7333185. ,  7461671. ,\n",
       "        7584900. ,  7702873. ,  7815243. ,  7921171. ,  8019241.5,\n",
       "        8107455. ,  8183321.5,  8244041. ,  8286765. ,  8308900. ,\n",
       "        8308405.5,  8284056. ,  8235613. ,  8163884. ,  8070662. ,\n",
       "        7958558. ,  7830749.5,  7690697. ,  7541863. ,  7387493. ,\n",
       "        7230466.5,  7073252. ,  6917939. ,  6766336.5,  6620091. ,\n",
       "        6480800. ,  6350066. ,  6229496.5,  6120621. ,  6024755. ,\n",
       "        5942825. ,  5875191. ,  5821495. ,  5780584. ,  5750494.5,\n",
       "        5728535. ,  5711440. ,  5695588. ,  5677250. ,  5652856. ,\n",
       "        5619225.5,  5573773. ,  5514645.5,  5440796. ,  5351998. ,\n",
       "        5248799. ,  5132419. ,  5004633.5,  4867615.5,  4723786. ,\n",
       "        4575663. ,  4425721. ,  4276274. ,  4129379.5,  3986771.5,\n",
       "        3849823.5,  3719540. ,  3596581. ,  3481313.2,  3373881.2,\n",
       "        3274297. ,  3182526. ,  3098574. ,  3022545.8,  2954680. ,\n",
       "        2895350.5,  2845029.8,  2804225.8,  2773396. ,  2752857. ,\n",
       "        2742698.5,  2742721.2,  2752406.2,  2770920.5,  2797164. ,\n",
       "        2829849. ,  2867601.5,  2909071.5,  2953041.8,  2998513.5,\n",
       "        3044764.5,  3091369.5,  3138189.5,  3185322.8,  3233042. ,\n",
       "        3281717.5,  3331745.5,  3383493.5,  3437265. ,  3493293. ,\n",
       "        3551755.5,  3612808. ,  3676624.2,  3743431.2,  3813532.8,\n",
       "        3887312.5,  3965213.2,  4047700.5,  4135209.2,  4228089.5,\n",
       "        4326562.5,  4430692.5,  4540389. ,  4655432. ,  4775528. ,\n",
       "        4900382. ,  5029772.5,  5163621. ,  5302045. ,  5445378. ,\n",
       "        5594172. ,  5749180. ,  5911330. ,  6081721. ,  6261644. ,\n",
       "        6452639.5,  6656589. ,  6875816. ,  7113163. ,  7371994. ,\n",
       "        7656076. ,  7969288. ,  8315153.5,  8696190. ,  9113142. ,\n",
       "        9564186. , 10044220. , 10544394. , 11051992. , 11550768. ,\n",
       "       12021770. , 12444630. , 12799176. , 13067222. , 13234289. ,\n",
       "       13291050. , 13234289. , 13067222. , 12799176. , 12444630. ,\n",
       "       12021770. , 11550768. , 11051992. , 10544394. , 10044220. ,\n",
       "        9564186. ,  9113142. ,  8696190. ,  8315153.5,  7969288. ,\n",
       "        7656076. ,  7371994. ,  7113163. ,  6875816. ,  6656589. ,\n",
       "        6452639.5,  6261644. ,  6081721. ,  5911330. ,  5749180. ,\n",
       "        5594172. ,  5445378. ,  5302045. ,  5163621. ,  5029772.5,\n",
       "        4900382. ,  4775528. ,  4655432. ,  4540389. ,  4430692.5,\n",
       "        4326562.5,  4228089.5,  4135209.2,  4047700.5,  3965213.2,\n",
       "        3887312.5,  3813532.8,  3743431.2,  3676624.2,  3612808. ,\n",
       "        3551755.5,  3493293. ,  3437265. ,  3383493.5,  3331745.5,\n",
       "        3281717.5,  3233042. ,  3185322.8,  3138189.5,  3091369.5,\n",
       "        3044764.5,  2998513.5,  2953041.8,  2909071.5,  2867601.5,\n",
       "        2829849. ,  2797164. ,  2770920.5,  2752406.2,  2742721.2,\n",
       "        2742698.5,  2752857. ,  2773396. ,  2804225.8,  2845029.8,\n",
       "        2895350.5,  2954680. ,  3022545.8,  3098574. ,  3182526. ,\n",
       "        3274297. ,  3373881.2,  3481313.2,  3596581. ,  3719540. ,\n",
       "        3849823.5,  3986771.5,  4129379.5,  4276274. ,  4425721. ,\n",
       "        4575663. ,  4723786. ,  4867615.5,  5004633.5,  5132419. ,\n",
       "        5248799. ,  5351998. ,  5440796. ,  5514645.5,  5573773. ,\n",
       "        5619225.5,  5652856. ,  5677250. ,  5695588. ,  5711440. ,\n",
       "        5728535. ,  5750494.5,  5780584. ,  5821495. ,  5875191. ,\n",
       "        5942825. ,  6024755. ,  6120621. ,  6229496.5,  6350066. ,\n",
       "        6480800. ,  6620091. ,  6766336.5,  6917939. ,  7073252. ,\n",
       "        7230466.5,  7387493. ,  7541863. ,  7690697. ,  7830749.5,\n",
       "        7958558. ,  8070662. ,  8163884. ,  8235613. ,  8284056. ,\n",
       "        8308405.5,  8308900. ,  8286765. ,  8244041. ,  8183321.5,\n",
       "        8107455. ,  8019241.5,  7921171. ,  7815243. ,  7702873. ,\n",
       "        7584900. ,  7461671. ,  7333185. ,  7199258.5,  7059698. ,\n",
       "        6914435.5,  6763625. ,  6607700. ,  6447378. ,  6283639. ,\n",
       "        6117684.5,  5950878. ,  5784693. ,  5620657. ,  5460295. ,\n",
       "        5305073.5,  5156340. ,  5015257. ,  4882733.5,  4759361.5,\n",
       "        4645363.5,  4540556.5,  4444346.5,  4355749. ,  4273449.5,\n",
       "        4195884. ,  4121352.5,  4048143. ,  3974663. ,  3899564. ,\n",
       "        3821845.5,  3740937.5,  3656742. ,  3569638.5,  3480445. ,\n",
       "        3390347.5,  3300790.5,  3213353.2,  3129611. ,  3051005.2,\n",
       "        2978725. ,  2913616.5,  2856126.8,  2806284.5,  2763720.8,\n",
       "        2727728. ,  2697343. ,  2671456.5,  2648931.5,  2628715.8,\n",
       "        2609947.8,  2592037.8,  2574718.2,  2558064.5,  2542481. ,\n",
       "        2528661.8,  2517527.2,  2510151. ,  2507684.5,  2511287. ,\n",
       "        2522071.2,  2541063.5,  2569181.8,  2607226.2,  2655876.8],\n",
       "      dtype=float32)"
      ]
     },
     "execution_count": 9,
     "metadata": {},
     "output_type": "execute_result"
    }
   ],
   "source": [
    "spike1.instantaneous_firing_rate_autocorrelation(normed= False, max_lag_ms= 200)\n",
    "spike1.ifr_autocorrelation"
   ]
  },
  {
   "cell_type": "markdown",
   "id": "9bb74f9e-03a0-4c89-be6e-66e841c9ca90",
   "metadata": {},
   "source": [
    "# 8. Instantaneous Firing Rate Autocorrelation Plot"
   ]
  },
  {
   "cell_type": "code",
   "execution_count": 10,
   "id": "a2269904-6490-4193-a853-6ecd68b6227c",
   "metadata": {},
   "outputs": [
    {
     "data": {
      "text/plain": [
       "Text(0.5, 0, 'Time msec')"
      ]
     },
     "execution_count": 10,
     "metadata": {},
     "output_type": "execute_result"
    },
    {
     "data": {
      "image/png": "[encoded data removed]",
      "text/plain": [
       "<Figure size 432x288 with 1 Axes>"
      ]
     },
     "metadata": {
      "needs_background": "light"
     },
     "output_type": "display_data"
    }
   ],
   "source": [
    "spike1.instantaneous_firing_rate_autocorrelation_plot(timewindow=None)\n",
    "plt.xlabel(\"Time msec\")\n"
   ]
  },
  {
   "cell_type": "markdown",
   "id": "b2af64cf-07aa-4ffc-9701-a4b12f3fa1c0",
   "metadata": {},
   "source": [
    "# 9. Instantaneous Firing Rate Power Spectrum\n",
    "Calculate the power spectrum of the instantaneous firing rate array"
   ]
  },
  {
   "cell_type": "code",
   "execution_count": 11,
   "id": "006efe26-a507-48bd-a88d-6278c4a7aaa7",
   "metadata": {},
   "outputs": [
    {
     "data": {
      "text/plain": [
       "(array([0.00000000e+00, 3.33333333e-01, 6.66666667e-01, ...,\n",
       "        4.99333333e+02, 4.99666667e+02, 5.00000000e+02]),\n",
       " array([1.1148009e-11, 8.8267078e+02, 8.8083728e+02, ..., 1.1523565e-10,\n",
       "        7.8090034e-10, 9.0356993e-11], dtype=float32))"
      ]
     },
     "execution_count": 11,
     "metadata": {},
     "output_type": "execute_result"
    }
   ],
   "source": [
    "spike1.instantaneous_firing_rate_power_spectrum(nfft = None, scaling = \"density\")\n",
    "spike1.ifr_power_spectrum"
   ]
  },
  {
   "cell_type": "markdown",
   "id": "8b8a6d6d-64e2-48a1-b059-836d710c4188",
   "metadata": {},
   "source": [
    "# 10. Instantaneous Firing Rate Power Spectrum Plot"
   ]
  },
  {
   "cell_type": "code",
   "execution_count": 12,
   "id": "55f83fe3-5a6d-403f-b160-61273a23b044",
   "metadata": {},
   "outputs": [
    {
     "data": {
      "text/plain": [
       "Text(0, 0.5, 'PSD (s**2/Hz)')"
      ]
     },
     "execution_count": 12,
     "metadata": {},
     "output_type": "execute_result"
    },
    {
     "data": {
      "image/png": "[encoded data removed]",
      "text/plain": [
       "<Figure size 432x288 with 1 Axes>"
      ]
     },
     "metadata": {
      "needs_background": "light"
     },
     "output_type": "display_data"
    }
   ],
   "source": [
    "spike1.instantaneous_firing_rate_power_spectrum_plot()\n",
    "plt.plot(spike1.ifr_power_spectrum[0], spike1.ifr_power_spectrum[1])\n",
    "plt.xlabel(\"Hz\")\n",
    "plt.ylabel(\"PSD (s**2/Hz)\")"
   ]
  },
  {
   "cell_type": "markdown",
   "id": "a9b40bb2-8e9d-46e9-ac02-9640332f42ff",
   "metadata": {},
   "source": [
    "# 11. Instantaneous Firing Rate Cross-correlation\n"
   ]
  },
  {
   "cell_type": "code",
   "execution_count": 13,
   "id": "3d7de8b5-8bdb-4f81-8189-daa3c7f8fa75",
   "metadata": {},
   "outputs": [
    {
     "name": "stdout",
     "output_type": "stream",
     "text": [
      "Spike_train, name: spike2, number of spikes 10000, first: 0, last: 9999\n",
      "Time in intervals: 10000 sec\n",
      "1 intervals\n",
      "Spike_train, name: spike2, number of spikes 10000, first: 0, last: 9999\n",
      "Time in intervals: 10000 sec\n",
      "Number of spikes: 10000\n"
     ]
    }
   ],
   "source": [
    "spike1.instantaneous_firing_rate_crosscorelation(spike2=None,normed= False, max_lag_ms= 200)"
   ]
  },
  {
   "cell_type": "markdown",
   "id": "d93a9bd9-9685-42ef-9077-9b75352bc3a1",
   "metadata": {},
   "source": [
    "# 12. Calculate The Inter-Spike-Intervals (ISI)\n"
   ]
  },
  {
   "cell_type": "code",
   "execution_count": 14,
   "id": "bf760507-08eb-4bea-984d-d48154dc64b6",
   "metadata": {},
   "outputs": [
    {
     "data": {
      "text/plain": [
       "array([0.0049 , 0.0115 , 0.00105, 0.01225, 0.05575, 0.01545, 0.00875,\n",
       "       0.0025 , 0.0137 , 0.0026 , 0.0106 , 0.0015 , 0.00715, 0.005  ,\n",
       "       0.0621 , 0.0107 , 0.0064 , 0.0014 , 0.00595, 0.00205, 0.0095 ,\n",
       "       0.0208 , 0.0027 , 0.0018 , 0.0024 , 0.05595, 0.01665, 0.0032 ,\n",
       "       0.00805, 0.00655, 0.0006 , 0.00195, 0.05215, 0.05965, 0.01075,\n",
       "       0.004  , 0.0138 , 0.00725, 0.0852 , 0.0028 , 0.00365, 0.0095 ,\n",
       "       0.00485, 0.00445, 0.01315, 0.05285, 0.01725, 0.0315 , 0.0009 ,\n",
       "       0.0234 , 0.083  , 0.0038 , 0.0063 , 0.006  , 0.00165, 0.00075,\n",
       "       0.0242 , 0.0702 , 0.02785, 0.03345, 0.01125, 0.0437 , 0.0137 ,\n",
       "       0.01685, 0.0317 , 0.01235, 0.08665, 0.09665, 0.00385, 0.02075,\n",
       "       0.0018 , 0.00895, 0.00685, 0.0131 , 0.0008 , 0.06165, 0.0349 ,\n",
       "       0.0115 , 0.0042 , 0.00855, 0.0033 , 0.01115, 0.05405, 0.0308 ,\n",
       "       0.0102 , 0.00435, 0.00905, 0.06885, 0.0117 , 0.0224 , 0.00565,\n",
       "       0.0003 , 0.0034 , 0.00275, 0.04195, 0.00325, 0.0664 , 0.0215 ,\n",
       "       0.00035, 0.0056 , 0.0169 , 0.05665])"
      ]
     },
     "execution_count": 14,
     "metadata": {},
     "output_type": "execute_result"
    }
   ],
   "source": [
    "spike1.inter_spike_intervals()\n",
    "spike1.isi"
   ]
  },
  {
   "cell_type": "markdown",
   "id": "02e35ee6-d225-4ca4-883a-54266683279f",
   "metadata": {},
   "source": [
    "# 13 Plot The Inter-Spike-Intervals"
   ]
  },
  {
   "cell_type": "code",
   "execution_count": 15,
   "id": "d8a61b8e-54be-4a34-96a2-e12ca88aa2ba",
   "metadata": {},
   "outputs": [
    {
     "data": {
      "text/plain": [
       "array([0.0049 , 0.0115 , 0.00105, 0.01225, 0.05575, 0.01545, 0.00875,\n",
       "       0.0025 , 0.0137 , 0.0026 , 0.0106 , 0.0015 , 0.00715, 0.005  ,\n",
       "       0.0621 , 0.0107 , 0.0064 , 0.0014 , 0.00595, 0.00205, 0.0095 ,\n",
       "       0.0208 , 0.0027 , 0.0018 , 0.0024 , 0.05595, 0.01665, 0.0032 ,\n",
       "       0.00805, 0.00655, 0.0006 , 0.00195, 0.05215, 0.05965, 0.01075,\n",
       "       0.004  , 0.0138 , 0.00725, 0.0852 , 0.0028 , 0.00365, 0.0095 ,\n",
       "       0.00485, 0.00445, 0.01315, 0.05285, 0.01725, 0.0315 , 0.0009 ,\n",
       "       0.0234 , 0.083  , 0.0038 , 0.0063 , 0.006  , 0.00165, 0.00075,\n",
       "       0.0242 , 0.0702 , 0.02785, 0.03345, 0.01125, 0.0437 , 0.0137 ,\n",
       "       0.01685, 0.0317 , 0.01235, 0.08665, 0.09665, 0.00385, 0.02075,\n",
       "       0.0018 , 0.00895, 0.00685, 0.0131 , 0.0008 , 0.06165, 0.0349 ,\n",
       "       0.0115 , 0.0042 , 0.00855, 0.0033 , 0.01115, 0.05405, 0.0308 ,\n",
       "       0.0102 , 0.00435, 0.00905, 0.06885, 0.0117 , 0.0224 , 0.00565,\n",
       "       0.0003 , 0.0034 , 0.00275, 0.04195, 0.00325, 0.0664 , 0.0215 ,\n",
       "       0.00035, 0.0056 , 0.0169 , 0.05665])"
      ]
     },
     "execution_count": 15,
     "metadata": {},
     "output_type": "execute_result"
    },
    {
     "data": {
      "image/png": "[encoded data removed]",
      "text/plain": [
       "<Figure size 432x288 with 1 Axes>"
      ]
     },
     "metadata": {
      "needs_background": "light"
     },
     "output_type": "display_data"
    }
   ],
   "source": [
    "spike1.inter_spike_intervals()\n",
    "plt.plot(spike1.isi)\n",
    "plt.xlabel('Spikes number')\n",
    "plt.ylabel ('ISI (msec)')\n",
    "spike1.isi"
   ]
  },
  {
   "cell_type": "markdown",
   "id": "26f11e3d-720c-4ac4-b21e-48cd03c14054",
   "metadata": {},
   "source": [
    "# 14. Inter-Spike-Intervals Histogram Plot\n",
    "Plot the inter spike interval histogram using matplotlib"
   ]
  },
  {
   "cell_type": "code",
   "execution_count": 16,
   "id": "4da7fe16-c57f-4c62-a001-1ec4fcd99595",
   "metadata": {},
   "outputs": [
    {
     "data": {
      "text/plain": [
       "Text(0.5, 0, 'ISI msec')"
      ]
     },
     "execution_count": 16,
     "metadata": {},
     "output_type": "execute_result"
    },
    {
     "data": {
      "image/png": "[encoded data removed]",
      "text/plain": [
       "<Figure size 864x288 with 1 Axes>"
      ]
     },
     "metadata": {
      "needs_background": "light"
     },
     "output_type": "display_data"
    }
   ],
   "source": [
    "plt.figure(figsize=(12,4)) ## define the size of the figure\n",
    "spike1.inter_spike_intervals_histogram(bin_size_ms=2,max_time_ms=500, density= False)\n",
    "spike1.inter_spike_interval_histogram_plot( plot_type = \"bar\")\n",
    "plt.xlim(0,200) ## define graph limits on the x axis\n",
    "plt.ylim(0,60) ## define graph limits on the y axis\n",
    "plt.xlabel(\"ISI msec\")"
   ]
  },
  {
   "cell_type": "markdown",
   "id": "6972b5a1-e6b6-4db6-aa67-6fee96ea285e",
   "metadata": {},
   "source": [
    "## 15. Create A Graph Where Firing Frequency And Modulation Are Superimposed"
   ]
  },
  {
   "cell_type": "code",
   "execution_count": 17,
   "id": "d8055508-2047-42af-bcb4-641779a50428",
   "metadata": {},
   "outputs": [
    {
     "data": {
      "text/plain": [
       "<matplotlib.collections.PathCollection at 0x7fabb01bb358>"
      ]
     },
     "execution_count": 17,
     "metadata": {},
     "output_type": "execute_result"
    },
    {
     "data": {
      "image/png": "[encoded data removed]",
      "text/plain": [
       "<Figure size 864x288 with 1 Axes>"
      ]
     },
     "metadata": {
      "needs_background": "light"
     },
     "output_type": "display_data"
    }
   ],
   "source": [
    "plt.figure(figsize=(12,4))\n",
    "plt.plot(spike1.ifr[2][:-1],spike1.ifr[0])\n",
    "plt.scatter(spike1.st*1000,np.ones_like(spike1.st),marker=\"|\")"
   ]
  },
  {
   "cell_type": "markdown",
   "id": "b81c3112-688d-4351-b5ce-cef43532409a",
   "metadata": {},
   "source": [
    "## 16.Setting Time Intervals To Limit The Analysis To Specific Time Periods"
   ]
  },
  {
   "cell_type": "code",
   "execution_count": 47,
   "id": "2a742a00-593b-4a30-99c4-dff5e1f7e5f0",
   "metadata": {},
   "outputs": [
    {
     "name": "stdout",
     "output_type": "stream",
     "text": [
      "Spike_train, name: no1, number of spikes 510, first: 0.01125, last: 9.83365\n",
      "Time in intervals: 10.83365 sec\n",
      "1 intervals\n",
      "Time in intervals: 10 sec\n",
      "Number of spikes: 510\n",
      "Time in intervals: 5 sec\n",
      "Number of spikes: 252\n",
      "unset intervals\n",
      "Time in intervals: 10.83365 sec\n",
      "Number of spikes: 510\n",
      "Time in intervals: 2 sec\n",
      "Number of spikes: 96\n",
      "Time in intervals: 3 sec\n",
      "Number of spikes: 133\n"
     ]
    },
    {
     "data": {
      "image/png": "[encoded data removed]",
      "text/plain": [
       "<Figure size 1080x144 with 1 Axes>"
      ]
     },
     "metadata": {
      "needs_background": "light"
     },
     "output_type": "display_data"
    }
   ],
   "source": [
    "spike1 = Spike_train(name=\"no1\",sampling_rate=20000)\n",
    "spike1.generate_modulated_poisson_spike_train(rate_hz=50, sampling_rate=20000, \n",
    "                                              length_sec=10, modulation_hz = 4, modulation_depth = 1,\n",
    "                                              min_rate_bins_per_cycle=10,phase_shift=0)\n",
    "\n",
    "plt.figure(figsize=(15,2))\n",
    "\n",
    "# intervals 0 to 10\n",
    "spike1.set_intervals(np.array([[0,10]]))\n",
    "plt.scatter(spike1.st,np.repeat(5,spike1.st.shape[0]),marker=\"|\")\n",
    "\n",
    "# intervals 0 to 5\n",
    "spike1.set_intervals(np.array([[0,5]]))\n",
    "plt.scatter(spike1.st,np.repeat(4,spike1.st.shape[0]),marker=\"|\")\n",
    "\n",
    "# unset previous intervals\n",
    "print(\"unset intervals\")\n",
    "spike1.unset_intervals()\n",
    "plt.scatter(spike1.st,np.repeat(3,spike1.st.shape[0]),marker=\"|\")\n",
    "\n",
    "# intervals from 2 to 4\n",
    "spike1.set_intervals(np.array([[2,4]]))\n",
    "plt.scatter(spike1.st,np.repeat(2,spike1.st.shape[0]),marker=\"|\")\n",
    "\n",
    "# intervals from 6 to 8 and 9 to 10\n",
    "spike1.set_intervals(np.array([[6,8],[9,10]]))\n",
    "plt.scatter(spike1.st,np.repeat(1,spike1.st.shape[0]),marker=\"|\")\n",
    "\n",
    "plt.show()"
   ]
  },
  {
   "cell_type": "code",
   "execution_count": null,
   "id": "5ffa9c95-4241-4aaf-b3ee-1084a1298bba",
   "metadata": {},
   "outputs": [],
   "source": []
  }
 ],
 "metadata": {
  "kernelspec": {
   "display_name": "Python 3",
   "language": "python",
   "name": "python3"
  },
  "language_info": {
   "codemirror_mode": {
    "name": "ipython",
    "version": 3
   },
   "file_extension": ".py",
   "mimetype": "text/x-python",
   "name": "python",
   "nbconvert_exporter": "python",
   "pygments_lexer": "ipython3",
   "version": "3.6.9"
  }
 },
 "nbformat": 4,
 "nbformat_minor": 5
}
