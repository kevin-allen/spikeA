{
 "cells": [
  {
   "cell_type": "markdown",
   "id": "4a45de4c-a0c3-4e94-9d2d-aaf0820a0c50",
   "metadata": {},
   "source": [
    "# The Spike_train Class\n",
    "\n",
    "This notebook documents the usage of the `Spike_train` class. It covers its main attributes and methods.\n",
    "\n",
    "A `Spike_train` object can be used to represent the spike train of a single neuron. A spike train is simply a series (1D array) containing the time at which the neuron fired. The time is stored in seconds, usually with time 0 being the start of the recording.\n",
    "\n",
    "The `Spike_train` class contains method to perform analysis that are often performed on a spike train.\n"
   ]
  },
  {
   "cell_type": "markdown",
   "id": "6401c012-1ecb-4337-acd1-93a976a5ac94",
   "metadata": {},
   "source": [
    "# 1. Create A Spike_train Object\n",
    "\n",
    "As with any class, you need to create the object by calling its constructor. "
   ]
  },
  {
   "cell_type": "code",
   "execution_count": 1,
   "id": "28f07012-4db3-4c7b-9bd1-9ec8ae222906",
   "metadata": {},
   "outputs": [
    {
     "name": "stdout",
     "output_type": "stream",
     "text": [
      "[ 0.          0.20408163  0.40816327  0.6122449   0.81632653  1.02040816\n",
      "  1.2244898   1.42857143  1.63265306  1.83673469  2.04081633  2.24489796\n",
      "  2.44897959  2.65306122  2.85714286  3.06122449  3.26530612  3.46938776\n",
      "  3.67346939  3.87755102  4.08163265  4.28571429  4.48979592  4.69387755\n",
      "  4.89795918  5.10204082  5.30612245  5.51020408  5.71428571  5.91836735\n",
      "  6.12244898  6.32653061  6.53061224  6.73469388  6.93877551  7.14285714\n",
      "  7.34693878  7.55102041  7.75510204  7.95918367  8.16326531  8.36734694\n",
      "  8.57142857  8.7755102   8.97959184  9.18367347  9.3877551   9.59183673\n",
      "  9.79591837 10.        ]\n"
     ]
    }
   ],
   "source": [
    "import numpy as np\n",
    "import matplotlib.pyplot as plt\n",
    "from spikeA.Spike_train import Spike_train\n",
    "\n",
    "# if you don't have spike times\n",
    "st = Spike_train(name=\"my_spike_train!\",sampling_rate=20000)\n",
    "\n",
    "# if you have spike times\n",
    "my_spike_times = np.linspace(0,10,50)\n",
    "print(my_spike_times)\n",
    "my_st = Spike_train(name=\"my_spike_train!\",sampling_rate=20000, st=my_spike_times)\n"
   ]
  },
  {
   "cell_type": "markdown",
   "id": "e8d6bed5-10cd-4cc2-af11-d57a265d895a",
   "metadata": {},
   "source": [
    "# 2. Setting The Spike Train Of A Spike_time Object\n",
    "\n",
    "If you want to set or change the spike times of a `Spike_time` object, use the method `set_spike_train()`.\n",
    "\n",
    "This function will set the `st` attribute of the `Spike_time` object."
   ]
  },
  {
   "cell_type": "code",
   "execution_count": 2,
   "id": "07a947af-02c8-48b9-8776-79d0bd925552",
   "metadata": {},
   "outputs": [
    {
     "name": "stdout",
     "output_type": "stream",
     "text": [
      "Values in st attribute:\n",
      "[ 0.          0.34482759  0.68965517  1.03448276  1.37931034  1.72413793\n",
      "  2.06896552  2.4137931   2.75862069  3.10344828  3.44827586  3.79310345\n",
      "  4.13793103  4.48275862  4.82758621  5.17241379  5.51724138  5.86206897\n",
      "  6.20689655  6.55172414  6.89655172  7.24137931  7.5862069   7.93103448\n",
      "  8.27586207  8.62068966  8.96551724  9.31034483  9.65517241 10.        ]\n",
      "Number of spikes: 20\n",
      "Values in st attribute:\n",
      "[ 0.          0.52631579  1.05263158  1.57894737  2.10526316  2.63157895\n",
      "  3.15789474  3.68421053  4.21052632  4.73684211  5.26315789  5.78947368\n",
      "  6.31578947  6.84210526  7.36842105  7.89473684  8.42105263  8.94736842\n",
      "  9.47368421 10.        ]\n"
     ]
    }
   ],
   "source": [
    "# set some spike times\n",
    "st.set_spike_train(np.linspace(0,10,30))\n",
    "print(\"Values in st attribute:\")\n",
    "print(st.st)\n",
    "# set other spike times\n",
    "st.set_spike_train(np.linspace(0,10,20))\n",
    "print(\"Values in st attribute:\")\n",
    "print(st.st)"
   ]
  },
  {
   "cell_type": "markdown",
   "id": "0010e86c-b5ad-4841-872f-858066519956",
   "metadata": {},
   "source": [
    "# 3. Generating A Modulated Poisson Spike Train."
   ]
  },
  {
   "cell_type": "markdown",
   "id": "cb14ecf7-d7b8-4619-a5fb-b919bc85de23",
   "metadata": {},
   "source": [
    "A modulated Poisson spike train, can be generated using the function .generate_poisson_spikes followed by \n",
    "arguments (i.e. the values passed to the function.). See the example below."
   ]
  },
  {
   "cell_type": "code",
   "execution_count": 3,
   "id": "8aa1df1e-4217-464a-854d-f82cc54bd980",
   "metadata": {},
   "outputs": [
    {
     "data": {
      "text/plain": [
       "array([0.0531 , 0.0556 , 0.06135, 0.07045, 0.07405, 0.076  , 0.07745,\n",
       "       0.0792 , 0.1033 , 0.1256 , 0.28695, 0.28725, 0.2929 , 0.29325,\n",
       "       0.30345, 0.3095 , 0.3621 , 0.3727 , 0.38375, 0.42605, 0.46245,\n",
       "       0.47245, 0.5017 , 0.51235, 0.5133 , 0.53775, 0.5401 , 0.5455 ,\n",
       "       0.6041 , 0.62065, 0.63   , 0.74345, 0.74385, 0.7796 , 0.8052 ,\n",
       "       0.84465, 0.84575, 0.85205, 0.8582 , 0.86145, 0.8812 , 0.97475,\n",
       "       0.9908 , 1.00645, 1.0183 , 1.04725, 1.04875, 1.05725, 1.0767 ,\n",
       "       1.0817 , 1.08875, 1.0988 , 1.10015, 1.1086 , 1.1134 , 1.2118 ,\n",
       "       1.23585, 1.2599 , 1.2702 , 1.28425, 1.28505, 1.2918 , 1.3031 ,\n",
       "       1.3105 , 1.3169 , 1.331  , 1.34095, 1.34535, 1.36135, 1.3716 ,\n",
       "       1.37945, 1.3806 , 1.4733 , 1.5036 , 1.5515 , 1.56265, 1.57255,\n",
       "       1.5923 , 1.59605, 1.5979 , 1.637  , 1.64915, 1.7618 , 1.76625,\n",
       "       1.77335, 1.775  , 1.789  , 1.79195, 1.8013 , 1.84   , 1.8665 ])"
      ]
     },
     "execution_count": 3,
     "metadata": {},
     "output_type": "execute_result"
    }
   ],
   "source": [
    "spike1 = Spike_train(name=\"no1\",sampling_rate=20000)\n",
    "spike1.generate_modulated_poisson_spike_train(rate_hz=50, sampling_rate=20000, length_sec=2, modulation_hz = 4, modulation_depth = 1,\n",
    "                                              min_rate_bins_per_cycle=10,phase_shift=0)\n",
    "spike1.st ##  It is necessary in order to obtain the 1d numpy array with the spike time of one neuron"
   ]
  },
  {
   "cell_type": "markdown",
   "id": "2daf4565-8239-4e21-ad6d-52e86c7e9a8c",
   "metadata": {},
   "source": [
    "# 4. Poisson Spike Train Scatter Plot"
   ]
  },
  {
   "cell_type": "code",
   "execution_count": 4,
   "id": "36eccc0c-3466-4c02-af78-85f75d83a10e",
   "metadata": {},
   "outputs": [
    {
     "data": {
      "text/plain": [
       "Text(0.5, 0, 'Time (ms)')"
      ]
     },
     "execution_count": 4,
     "metadata": {},
     "output_type": "execute_result"
    },
    {
     "data": {
      "image/png": "[encoded data removed]",
      "text/plain": [
       "<Figure size 432x288 with 1 Axes>"
      ]
     },
     "metadata": {
      "needs_background": "light"
     },
     "output_type": "display_data"
    }
   ],
   "source": [
    "plt.plot(spike1.st,np.ones_like(spike1.st), marker=\".\", markersize=15) \n",
    "plt.xlabel(\"Time (ms)\" )  "
   ]
  },
  {
   "cell_type": "markdown",
   "id": "121e610f-1239-4829-b872-346e834a8f3e",
   "metadata": {},
   "source": [
    "# 5. Number Of Spikes And Mean Firing Rate\n",
    "Return the number of spikes and mean firing rate for a given spike train."
   ]
  },
  {
   "cell_type": "code",
   "execution_count": 5,
   "id": "09a687e7-5dcd-4c69-87d6-6965148ce2ab",
   "metadata": {},
   "outputs": [
    {
     "name": "stdout",
     "output_type": "stream",
     "text": [
      "Number of spikes: 91\n",
      "Mean firing rate: 31.746031746031743\n"
     ]
    }
   ],
   "source": [
    "# get the number of spikes\n",
    "print(\"Number of spikes:\" ,spike1.n_spikes())\n",
    "# get the mean firing rate\n",
    "print(\"Mean firing rate:\" ,spike1.mean_firing_rate())"
   ]
  },
  {
   "cell_type": "markdown",
   "id": "1777f54f-bed5-4f1d-98ee-cb4612cdd868",
   "metadata": {},
   "source": [
    "# 6. Instantaneous Firing Rate\n",
    "Returns the instantaneous firing rate i.e. the firing rate of the neuron over time."
   ]
  },
  {
   "cell_type": "code",
   "execution_count": 6,
   "id": "767b32a0-14f9-4578-8fe6-b8156b46bd9a",
   "metadata": {},
   "outputs": [
    {
     "name": "stdout",
     "output_type": "stream",
     "text": [
      "Number of spikes: 79\n"
     ]
    }
   ],
   "source": [
    "# Here we calculate the firing rate for a neuron\n",
    "spike1.generate_modulated_poisson_spike_train(rate_hz=50, sampling_rate=20000, length_sec=2,\n",
    "                                              modulation_hz = 8, modulation_depth = 1,min_rate_bins_per_cycle=10,\n",
    "                                              phase_shift=0)\n",
    "spike1.instantaneous_firing_rate(bin_size_ms = 1, sigma = 5)\n"
   ]
  },
  {
   "cell_type": "markdown",
   "id": "030e07db-0a9b-4f51-ac43-9e8714df6003",
   "metadata": {},
   "source": [
    "# 7. Instantaneous Firing Rate Autocorrelation\n",
    "Determine the distribution of times between any two spikes in a train. It allows the detection of patterns in spike trains, particularly oscillations."
   ]
  },
  {
   "cell_type": "code",
   "execution_count": 7,
   "id": "580a171c-a757-4974-aff1-73092fd913cd",
   "metadata": {},
   "outputs": [
    {
     "data": {
      "text/plain": [
       "array([1441239.5, 1395379.1, 1362086.9, 1340235.8, 1328426.5, 1325102.5,\n",
       "       1328662.1, 1337560.6, 1350394.2, 1365965.8, 1383325.1, 1401784. ,\n",
       "       1420904.5, 1440466.5, 1460415. , 1480800.8, 1501720.5, 1523263.8,\n",
       "       1545479.5, 1568363.1, 1591864.2, 1615918.5, 1640487.5, 1665606.5,\n",
       "       1691422.8, 1718218.8, 1746412.1, 1776530. , 1809158.8, 1844877. ,\n",
       "       1884179. , 1927403.2, 1974675. , 2025873.9, 2080634.9, 2138381.8,\n",
       "       2198394.5, 2259903. , 2322197. , 2384737.8, 2447261.2, 2509849.5,\n",
       "       2572964.2, 2637429.8, 2704357. , 2775014.5, 2850651.2, 2932293.5,\n",
       "       3020531.2, 3115326.8, 3215875.5, 3320540.8, 3426882.2, 3531791. ,\n",
       "       3631720. , 3722999. , 3802195.2, 3866491.2, 3914022.5, 3944147. ,\n",
       "       3957599. , 3956515.5, 3944320. , 3925483. , 3905168.5, 3888819. ,\n",
       "       3881708. , 3888506. , 3912899. , 3957288.5, 4022590.5, 4108146.5,\n",
       "       4211746.5, 4329747.5, 4457292. , 4588589. , 4717261. , 4836716. ,\n",
       "       4940538. , 5022871. , 5078767. , 5104490.5, 5097741. , 5057794. ,\n",
       "       4985545.5, 4883440.5, 4755316. , 4606140. , 4441688.5, 4268165. ,\n",
       "       4091802.5, 3918470.8, 3753323. , 3600503. , 3462940.5, 3342242.5,\n",
       "       3238693.5, 3151355. , 3078254.5, 3016643.2, 2963295. , 2914814. ,\n",
       "       2867931. , 2819753.5, 2767957.2, 2710907.8, 2647710. , 2578188. ,\n",
       "       2502812.5, 2422585. , 2338896. , 2253376.5, 2167751.8, 2083711.2,\n",
       "       2002801.6, 1926347.5, 1855404.6, 1790740.1, 1732842.5, 1681954. ,\n",
       "       1638117.5, 1601233. , 1571113.2, 1547529.2, 1530242.2, 1519015.8,\n",
       "       1513608.8, 1513753.6, 1519125.4, 1529311.8, 1543793. , 1561939. ,\n",
       "       1583028.5, 1606290. , 1630959.5, 1656344.6, 1681885.8, 1707201.1,\n",
       "       1732103.9, 1756589.1, 1780786.2, 1804884.2, 1829038.8, 1853277.1,\n",
       "       1877415.5, 1901004.8, 1923318. , 1943382.4, 1960062.5, 1972182.1,\n",
       "       1978673.4, 1978737. , 1971989.6, 1958582.2, 1939267.8, 1915413.2,\n",
       "       1888948. , 1862257.5, 1838030.2, 1819079. , 1808153. , 1807761.2,\n",
       "       1820020.2, 1846540.5, 1888352. , 1945871.5, 2018903.1, 2106670.2,\n",
       "       2207869. , 2320736.5, 2443137.2, 2572664.2, 2706753.5, 2842824. ,\n",
       "       2978436.5, 3111478.5, 3240364. , 3364248.5, 3483237.2, 3598572.8,\n",
       "       3712775.8, 3829711. , 3954552.8, 4093615. , 4254038. , 4443303. ,\n",
       "       4668599.5, 4936057. , 5249901. , 5611613. , 6019171. , 6466503. ,\n",
       "       6943242. , 7434870.5, 7923312. , 8387961.5, 8807094. , 9159542. ,\n",
       "       9426454. , 9592969. , 9649567. , 9592969. , 9426454. , 9159542. ,\n",
       "       8807094. , 8387961.5, 7923312. , 7434870.5, 6943242. , 6466503. ,\n",
       "       6019171. , 5611613. , 5249901. , 4936057. , 4668599.5, 4443303. ,\n",
       "       4254038. , 4093615. , 3954552.8, 3829711. , 3712775.8, 3598572.8,\n",
       "       3483237.2, 3364248.5, 3240364. , 3111478.5, 2978436.5, 2842824. ,\n",
       "       2706753.5, 2572664.2, 2443137.2, 2320736.5, 2207869. , 2106670.2,\n",
       "       2018903.1, 1945871.5, 1888352. , 1846540.5, 1820020.2, 1807761.2,\n",
       "       1808153. , 1819079. , 1838030.2, 1862257.5, 1888948. , 1915413.2,\n",
       "       1939267.8, 1958582.2, 1971989.6, 1978737. , 1978673.4, 1972182.1,\n",
       "       1960062.5, 1943382.4, 1923318. , 1901004.8, 1877415.5, 1853277.1,\n",
       "       1829038.8, 1804884.2, 1780786.2, 1756589.1, 1732103.9, 1707201.1,\n",
       "       1681885.8, 1656344.6, 1630959.5, 1606290. , 1583028.5, 1561939. ,\n",
       "       1543793. , 1529311.8, 1519125.4, 1513753.6, 1513608.8, 1519015.8,\n",
       "       1530242.2, 1547529.2, 1571113.2, 1601233. , 1638117.5, 1681954. ,\n",
       "       1732842.5, 1790740.1, 1855404.6, 1926347.5, 2002801.6, 2083711.2,\n",
       "       2167751.8, 2253376.5, 2338896. , 2422585. , 2502812.5, 2578188. ,\n",
       "       2647710. , 2710907.8, 2767957.2, 2819753.5, 2867931. , 2914814. ,\n",
       "       2963295. , 3016643.2, 3078254.5, 3151355. , 3238693.5, 3342242.5,\n",
       "       3462940.5, 3600503. , 3753323. , 3918470.8, 4091802.5, 4268165. ,\n",
       "       4441688.5, 4606140. , 4755316. , 4883440.5, 4985545.5, 5057794. ,\n",
       "       5097741. , 5104490.5, 5078767. , 5022871. , 4940538. , 4836716. ,\n",
       "       4717261. , 4588589. , 4457292. , 4329747.5, 4211746.5, 4108146.5,\n",
       "       4022590.5, 3957288.5, 3912899. , 3888506. , 3881708. , 3888819. ,\n",
       "       3905168.5, 3925483. , 3944320. , 3956515.5, 3957599. , 3944147. ,\n",
       "       3914022.5, 3866491.2, 3802195.2, 3722999. , 3631720. , 3531791. ,\n",
       "       3426882.2, 3320540.8, 3215875.5, 3115326.8, 3020531.2, 2932293.5,\n",
       "       2850651.2, 2775014.5, 2704357. , 2637429.8, 2572964.2, 2509849.5,\n",
       "       2447261.2, 2384737.8, 2322197. , 2259903. , 2198394.5, 2138381.8,\n",
       "       2080634.9, 2025873.9, 1974675. , 1927403.2, 1884179. , 1844877. ,\n",
       "       1809158.8, 1776530. , 1746412.1, 1718218.8, 1691422.8, 1665606.5,\n",
       "       1640487.5, 1615918.5, 1591864.2, 1568363.1, 1545479.5, 1523263.8,\n",
       "       1501720.5, 1480800.8, 1460415. , 1440466.5, 1420904.5, 1401784. ,\n",
       "       1383325.1, 1365965.8, 1350394.2, 1337560.6, 1328662.1, 1325102.5,\n",
       "       1328426.5, 1340235.8, 1362086.9, 1395379.1], dtype=float32)"
      ]
     },
     "execution_count": 7,
     "metadata": {},
     "output_type": "execute_result"
    }
   ],
   "source": [
    "spike1.instantaneous_firing_rate_autocorrelation(normed= False, max_lag_ms= 200)\n",
    "spike1.ifr_autocorrelation"
   ]
  },
  {
   "cell_type": "markdown",
   "id": "9bb74f9e-03a0-4c89-be6e-66e841c9ca90",
   "metadata": {},
   "source": [
    "# 8. Instantaneous Firing Rate Autocorrelation Plot"
   ]
  },
  {
   "cell_type": "code",
   "execution_count": 8,
   "id": "a2269904-6490-4193-a853-6ecd68b6227c",
   "metadata": {},
   "outputs": [
    {
     "data": {
      "text/plain": [
       "Text(0.5, 0, 'Time msec')"
      ]
     },
     "execution_count": 8,
     "metadata": {},
     "output_type": "execute_result"
    },
    {
     "data": {
      "image/png": "[encoded data removed]",
      "text/plain": [
       "<Figure size 432x288 with 1 Axes>"
      ]
     },
     "metadata": {
      "needs_background": "light"
     },
     "output_type": "display_data"
    }
   ],
   "source": [
    "spike1.instantaneous_firing_rate_autocorrelation_plot(timewindow=None)\n",
    "plt.xlabel(\"Time msec\")\n"
   ]
  },
  {
   "cell_type": "markdown",
   "id": "b2af64cf-07aa-4ffc-9701-a4b12f3fa1c0",
   "metadata": {},
   "source": [
    "# 9. Instantaneous Firing Rate Power Spectrum\n",
    "Calculate the power spectrum of the instantaneous firing rate array"
   ]
  },
  {
   "cell_type": "code",
   "execution_count": 9,
   "id": "006efe26-a507-48bd-a88d-6278c4a7aaa7",
   "metadata": {},
   "outputs": [
    {
     "data": {
      "text/plain": [
       "(array([0.00000000e+00, 3.34672021e-01, 6.69344043e-01, ...,\n",
       "        4.99330656e+02, 4.99665328e+02, 5.00000000e+02]),\n",
       " array([6.5306541e-12, 6.6782941e+02, 3.1939233e+02, ..., 1.0025926e-06,\n",
       "        9.9354031e-07, 6.6391840e-07], dtype=float32))"
      ]
     },
     "execution_count": 9,
     "metadata": {},
     "output_type": "execute_result"
    }
   ],
   "source": [
    "spike1.instantaneous_firing_rate_power_spectrum(nfft = None, scaling = \"density\")\n",
    "spike1.ifr_power_spectrum"
   ]
  },
  {
   "cell_type": "markdown",
   "id": "8b8a6d6d-64e2-48a1-b059-836d710c4188",
   "metadata": {},
   "source": [
    "# 10. Instantaneous Firing Rate Power Spectrum Plot"
   ]
  },
  {
   "cell_type": "code",
   "execution_count": 10,
   "id": "55f83fe3-5a6d-403f-b160-61273a23b044",
   "metadata": {},
   "outputs": [
    {
     "data": {
      "text/plain": [
       "Text(0, 0.5, 'PSD (s**2/Hz)')"
      ]
     },
     "execution_count": 10,
     "metadata": {},
     "output_type": "execute_result"
    },
    {
     "data": {
      "image/png": "[encoded data removed]",
      "text/plain": [
       "<Figure size 432x288 with 1 Axes>"
      ]
     },
     "metadata": {
      "needs_background": "light"
     },
     "output_type": "display_data"
    }
   ],
   "source": [
    "spike1.instantaneous_firing_rate_power_spectrum_plot()\n",
    "plt.plot(spike1.ifr_power_spectrum[0], spike1.ifr_power_spectrum[1])\n",
    "plt.xlabel(\"Hz\")\n",
    "plt.ylabel(\"PSD (s**2/Hz)\")"
   ]
  },
  {
   "cell_type": "markdown",
   "id": "a9b40bb2-8e9d-46e9-ac02-9640332f42ff",
   "metadata": {},
   "source": [
    "# 11. Instantaneous Firing Rate Cross-correlation\n"
   ]
  },
  {
   "cell_type": "code",
   "execution_count": 11,
   "id": "3d7de8b5-8bdb-4f81-8189-daa3c7f8fa75",
   "metadata": {},
   "outputs": [
    {
     "name": "stdout",
     "output_type": "stream",
     "text": [
      "Number of spikes: 10000\n"
     ]
    }
   ],
   "source": [
    "spike1.instantaneous_firing_rate_crosscorelation(spike2=None,normed= False, max_lag_ms= 200)"
   ]
  },
  {
   "cell_type": "markdown",
   "id": "d93a9bd9-9685-42ef-9077-9b75352bc3a1",
   "metadata": {},
   "source": [
    "# 12. Calculate The Inter-Spike-Intervals (ISI)\n"
   ]
  },
  {
   "cell_type": "code",
   "execution_count": 12,
   "id": "bf760507-08eb-4bea-984d-d48154dc64b6",
   "metadata": {},
   "outputs": [
    {
     "data": {
      "text/plain": [
       "array([0.004  , 0.01265, 0.0037 , 0.0034 , 0.00565, 0.00015, 0.1112 ,\n",
       "       0.00115, 0.0006 , 0.02075, 0.07855, 0.0002 , 0.0146 , 0.00135,\n",
       "       0.00025, 0.0011 , 0.0016 , 0.004  , 0.0418 , 0.04635, 0.00425,\n",
       "       0.0136 , 0.0137 , 0.0156 , 0.01525, 0.00165, 0.0555 , 0.0059 ,\n",
       "       0.0235 , 0.0339 , 0.07465, 0.01065, 0.0067 , 0.00235, 0.01855,\n",
       "       0.0269 , 0.06195, 0.04985, 0.0249 , 0.0467 , 0.0051 , 0.01245,\n",
       "       0.00525, 0.04795, 0.07035, 0.00165, 0.0359 , 0.0822 , 0.02305,\n",
       "       0.0035 , 0.0746 , 0.00815, 0.0044 , 0.02565, 0.0052 , 0.00305,\n",
       "       0.01745, 0.00275, 0.0986 , 0.0135 , 0.0084 , 0.0004 , 0.07905,\n",
       "       0.00445, 0.00835, 0.0345 , 0.0028 , 0.0093 , 0.08965, 0.01965,\n",
       "       0.0111 , 0.09555, 0.02305, 0.0022 , 0.1083 , 0.00775, 0.0136 ,\n",
       "       0.055  ])"
      ]
     },
     "execution_count": 12,
     "metadata": {},
     "output_type": "execute_result"
    }
   ],
   "source": [
    "spike1.inter_spike_intervals()\n",
    "spike1.isi"
   ]
  },
  {
   "cell_type": "markdown",
   "id": "02e35ee6-d225-4ca4-883a-54266683279f",
   "metadata": {},
   "source": [
    "# 13 Plot The Inter-Spike-Intervals"
   ]
  },
  {
   "cell_type": "code",
   "execution_count": 13,
   "id": "d8a61b8e-54be-4a34-96a2-e12ca88aa2ba",
   "metadata": {},
   "outputs": [
    {
     "data": {
      "text/plain": [
       "array([0.004  , 0.01265, 0.0037 , 0.0034 , 0.00565, 0.00015, 0.1112 ,\n",
       "       0.00115, 0.0006 , 0.02075, 0.07855, 0.0002 , 0.0146 , 0.00135,\n",
       "       0.00025, 0.0011 , 0.0016 , 0.004  , 0.0418 , 0.04635, 0.00425,\n",
       "       0.0136 , 0.0137 , 0.0156 , 0.01525, 0.00165, 0.0555 , 0.0059 ,\n",
       "       0.0235 , 0.0339 , 0.07465, 0.01065, 0.0067 , 0.00235, 0.01855,\n",
       "       0.0269 , 0.06195, 0.04985, 0.0249 , 0.0467 , 0.0051 , 0.01245,\n",
       "       0.00525, 0.04795, 0.07035, 0.00165, 0.0359 , 0.0822 , 0.02305,\n",
       "       0.0035 , 0.0746 , 0.00815, 0.0044 , 0.02565, 0.0052 , 0.00305,\n",
       "       0.01745, 0.00275, 0.0986 , 0.0135 , 0.0084 , 0.0004 , 0.07905,\n",
       "       0.00445, 0.00835, 0.0345 , 0.0028 , 0.0093 , 0.08965, 0.01965,\n",
       "       0.0111 , 0.09555, 0.02305, 0.0022 , 0.1083 , 0.00775, 0.0136 ,\n",
       "       0.055  ])"
      ]
     },
     "execution_count": 13,
     "metadata": {},
     "output_type": "execute_result"
    },
    {
     "data": {
      "image/png": "[encoded data removed]",
      "text/plain": [
       "<Figure size 432x288 with 1 Axes>"
      ]
     },
     "metadata": {
      "needs_background": "light"
     },
     "output_type": "display_data"
    }
   ],
   "source": [
    "spike1.inter_spike_intervals()\n",
    "plt.plot(spike1.isi)\n",
    "plt.xlabel('Spikes number')\n",
    "plt.ylabel ('ISI (msec)')\n",
    "spike1.isi"
   ]
  },
  {
   "cell_type": "markdown",
   "id": "26f11e3d-720c-4ac4-b21e-48cd03c14054",
   "metadata": {},
   "source": [
    "# 14. Inter-Spike-Intervals Histogram Plot\n",
    "Plot the inter spike interval histogram using matplotlib"
   ]
  },
  {
   "cell_type": "code",
   "execution_count": 14,
   "id": "4da7fe16-c57f-4c62-a001-1ec4fcd99595",
   "metadata": {},
   "outputs": [
    {
     "data": {
      "text/plain": [
       "Text(0.5, 0, 'ISI msec')"
      ]
     },
     "execution_count": 14,
     "metadata": {},
     "output_type": "execute_result"
    },
    {
     "data": {
      "image/png": "[encoded data removed]",
      "text/plain": [
       "<Figure size 864x288 with 1 Axes>"
      ]
     },
     "metadata": {
      "needs_background": "light"
     },
     "output_type": "display_data"
    }
   ],
   "source": [
    "plt.figure(figsize=(12,4)) ## define the size of the figure\n",
    "spike1.inter_spike_intervals_histogram(bin_size_ms=2,max_time_ms=500, density= False)\n",
    "spike1.inter_spike_interval_histogram_plot( plot_type = \"bar\")\n",
    "plt.xlim(0,200) ## define graph limits on the x axis\n",
    "plt.ylim(0,60) ## define graph limits on the y axis\n",
    "plt.xlabel(\"ISI msec\")"
   ]
  },
  {
   "cell_type": "markdown",
   "id": "6972b5a1-e6b6-4db6-aa67-6fee96ea285e",
   "metadata": {},
   "source": [
    "## 15. Create A Graph Where Firing Frequency And Modulation Are Superimposed"
   ]
  },
  {
   "cell_type": "code",
   "execution_count": 15,
   "id": "d8055508-2047-42af-bcb4-641779a50428",
   "metadata": {},
   "outputs": [
    {
     "data": {
      "text/plain": [
       "<matplotlib.collections.PathCollection at 0x7fa14ab68250>"
      ]
     },
     "execution_count": 15,
     "metadata": {},
     "output_type": "execute_result"
    },
    {
     "data": {
      "image/png": "[encoded data removed]",
      "text/plain": [
       "<Figure size 864x288 with 1 Axes>"
      ]
     },
     "metadata": {
      "needs_background": "light"
     },
     "output_type": "display_data"
    }
   ],
   "source": [
    "plt.figure(figsize=(12,4))\n",
    "plt.plot(spike1.ifr[2][:-1],spike1.ifr[0])\n",
    "plt.scatter(spike1.st*1000,np.ones_like(spike1.st),marker=\"|\")"
   ]
  },
  {
   "cell_type": "markdown",
   "id": "b81c3112-688d-4351-b5ce-cef43532409a",
   "metadata": {},
   "source": [
    "## 16.Setting Time Intervals To Limit The Analysis To Specific Time Periods"
   ]
  },
  {
   "cell_type": "code",
   "execution_count": 16,
   "id": "2a742a00-593b-4a30-99c4-dff5e1f7e5f0",
   "metadata": {},
   "outputs": [
    {
     "name": "stdout",
     "output_type": "stream",
     "text": [
      "Number of spikes: 506\n",
      "Number of spikes: 266\n",
      "unset intervals\n",
      "Number of spikes: 506\n",
      "Number of spikes: 112\n",
      "Number of spikes: 144\n"
     ]
    },
    {
     "data": {
      "image/png": "[encoded data removed]",
      "text/plain": [
       "<Figure size 1080x144 with 1 Axes>"
      ]
     },
     "metadata": {
      "needs_background": "light"
     },
     "output_type": "display_data"
    }
   ],
   "source": [
    "spike1 = Spike_train(name=\"no1\",sampling_rate=20000)\n",
    "spike1.generate_modulated_poisson_spike_train(rate_hz=50, sampling_rate=20000, \n",
    "                                              length_sec=10, modulation_hz = 4, modulation_depth = 1,\n",
    "                                              min_rate_bins_per_cycle=10,phase_shift=0)\n",
    "\n",
    "plt.figure(figsize=(15,2))\n",
    "\n",
    "# intervals 0 to 10\n",
    "spike1.set_intervals(np.array([[0,10]]))\n",
    "plt.scatter(spike1.st,np.repeat(5,spike1.st.shape[0]),marker=\"|\")\n",
    "\n",
    "# intervals 0 to 5\n",
    "spike1.set_intervals(np.array([[0,5]]))\n",
    "plt.scatter(spike1.st,np.repeat(4,spike1.st.shape[0]),marker=\"|\")\n",
    "\n",
    "# unset previous intervals\n",
    "print(\"unset intervals\")\n",
    "spike1.unset_intervals()\n",
    "plt.scatter(spike1.st,np.repeat(3,spike1.st.shape[0]),marker=\"|\")\n",
    "\n",
    "# intervals from 2 to 4\n",
    "spike1.set_intervals(np.array([[2,4]]))\n",
    "plt.scatter(spike1.st,np.repeat(2,spike1.st.shape[0]),marker=\"|\")\n",
    "\n",
    "# intervals from 6 to 8 and 9 to 10\n",
    "spike1.set_intervals(np.array([[6,8],[9,10]]))\n",
    "plt.scatter(spike1.st,np.repeat(1,spike1.st.shape[0]),marker=\"|\")\n",
    "\n",
    "plt.show()"
   ]
  },
  {
   "cell_type": "code",
   "execution_count": null,
   "id": "5ffa9c95-4241-4aaf-b3ee-1084a1298bba",
   "metadata": {},
   "outputs": [],
   "source": []
  }
 ],
 "metadata": {
  "kernelspec": {
   "display_name": "Python 3 (ipykernel)",
   "language": "python",
   "name": "python3"
  },
  "language_info": {
   "codemirror_mode": {
    "name": "ipython",
    "version": 3
   },
   "file_extension": ".py",
   "mimetype": "text/x-python",
   "name": "python",
   "nbconvert_exporter": "python",
   "pygments_lexer": "ipython3",
   "version": "3.8.5"
  }
 },
 "nbformat": 4,
 "nbformat_minor": 5
}
