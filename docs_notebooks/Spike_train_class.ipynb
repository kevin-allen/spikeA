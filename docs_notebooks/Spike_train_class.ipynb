{
 "cells": [
  {
   "cell_type": "markdown",
   "id": "0f1e9903-c8d2-4d3a-be28-ee212bbdd33c",
   "metadata": {},
   "source": [
    "# The Spike_train class\n",
    "\n",
    "This notebook documents the usage of the `Spike_train` class. It covers its main attributes and methods.\n",
    "\n",
    "A `Spike_train` object can be used to represent the spike train of a single neuron. A spike train is simply a series (1D array) containing the time at which the neuron fired. The time is stored in seconds, usually with time 0 being the start of the recording.\n",
    "\n",
    "The `Spike_train` class contains method to perform analysis that are often performed on a spike train.\n"
   ]
  },
  {
   "cell_type": "markdown",
   "id": "6401c012-1ecb-4337-acd1-93a976a5ac94",
   "metadata": {},
   "source": [
    "## Create a Spike_train object\n",
    "\n",
    "As with any class, you need to create the object by calling its constructor. "
   ]
  },
  {
   "cell_type": "code",
   "execution_count": 16,
   "id": "28f07012-4db3-4c7b-9bd1-9ec8ae222906",
   "metadata": {},
   "outputs": [
    {
     "name": "stdout",
     "output_type": "stream",
     "text": [
      "[ 0.          0.20408163  0.40816327  0.6122449   0.81632653  1.02040816\n",
      "  1.2244898   1.42857143  1.63265306  1.83673469  2.04081633  2.24489796\n",
      "  2.44897959  2.65306122  2.85714286  3.06122449  3.26530612  3.46938776\n",
      "  3.67346939  3.87755102  4.08163265  4.28571429  4.48979592  4.69387755\n",
      "  4.89795918  5.10204082  5.30612245  5.51020408  5.71428571  5.91836735\n",
      "  6.12244898  6.32653061  6.53061224  6.73469388  6.93877551  7.14285714\n",
      "  7.34693878  7.55102041  7.75510204  7.95918367  8.16326531  8.36734694\n",
      "  8.57142857  8.7755102   8.97959184  9.18367347  9.3877551   9.59183673\n",
      "  9.79591837 10.        ]\n",
      "Spike_train, name: my_spike_train!, number of spikes 50, first: 0.0, last: 10.0\n",
      "Time in intervals: 11.0 sec\n",
      "1 intervals\n"
     ]
    }
   ],
   "source": [
    "import numpy as np\n",
    "import matplotlib.pyplot as plt\n",
    "from spikeA.Spike_train import Spike_train\n",
    "\n",
    "# if you don't have spike times\n",
    "st = Spike_train(name=\"my_spike_train!\",sampling_rate=20000)\n",
    "\n",
    "# if you have spike times\n",
    "my_spike_times = np.linspace(0,10,50)\n",
    "print(my_spike_times)\n",
    "my_st = Spike_train(name=\"my_spike_train!\",sampling_rate=20000, st=my_spike_times)\n"
   ]
  },
  {
   "cell_type": "markdown",
   "id": "e8d6bed5-10cd-4cc2-af11-d57a265d895a",
   "metadata": {},
   "source": [
    "## Setting the spike train of a Spike_time object\n",
    "\n",
    "If you want to set or change the spike times of a `Spike_time` object, use the method `set_spike_train()`.\n",
    "\n",
    "This function will set the `st` attribute of the `Spike_time` object."
   ]
  },
  {
   "cell_type": "code",
   "execution_count": 19,
   "id": "07a947af-02c8-48b9-8776-79d0bd925552",
   "metadata": {},
   "outputs": [
    {
     "name": "stdout",
     "output_type": "stream",
     "text": [
      "Spike_train, name: my_spike_train!, number of spikes 30, first: 0.0, last: 10.0\n",
      "Time in intervals: 11.0 sec\n",
      "Number of spikes: 30\n",
      "Values in st attribute:\n",
      "[ 0.          0.34482759  0.68965517  1.03448276  1.37931034  1.72413793\n",
      "  2.06896552  2.4137931   2.75862069  3.10344828  3.44827586  3.79310345\n",
      "  4.13793103  4.48275862  4.82758621  5.17241379  5.51724138  5.86206897\n",
      "  6.20689655  6.55172414  6.89655172  7.24137931  7.5862069   7.93103448\n",
      "  8.27586207  8.62068966  8.96551724  9.31034483  9.65517241 10.        ]\n",
      "Spike_train, name: my_spike_train!, number of spikes 20, first: 0.0, last: 10.0\n",
      "Time in intervals: 11.0 sec\n",
      "Number of spikes: 20\n",
      "Values in st attribute:\n",
      "[ 0.          0.52631579  1.05263158  1.57894737  2.10526316  2.63157895\n",
      "  3.15789474  3.68421053  4.21052632  4.73684211  5.26315789  5.78947368\n",
      "  6.31578947  6.84210526  7.36842105  7.89473684  8.42105263  8.94736842\n",
      "  9.47368421 10.        ]\n"
     ]
    }
   ],
   "source": [
    "# set some spike times\n",
    "st.set_spike_train(np.linspace(0,10,30))\n",
    "print(\"Values in st attribute:\")\n",
    "print(st.st)\n",
    "# set other spike times\n",
    "st.set_spike_train(np.linspace(0,10,20))\n",
    "print(\"Values in st attribute:\")\n",
    "print(st.st)"
   ]
  },
  {
   "cell_type": "markdown",
   "id": "0010e86c-b5ad-4841-872f-858066519956",
   "metadata": {},
   "source": [
    "## Generating poisson spike trains"
   ]
  },
  {
   "cell_type": "markdown",
   "id": "b81c3112-688d-4351-b5ce-cef43532409a",
   "metadata": {},
   "source": [
    "## Setting time intervals to limit the analysis to specific time periods"
   ]
  },
  {
   "cell_type": "code",
   "execution_count": 18,
   "id": "2a742a00-593b-4a30-99c4-dff5e1f7e5f0",
   "metadata": {},
   "outputs": [
    {
     "name": "stdout",
     "output_type": "stream",
     "text": [
      "Spike_train, name: no1, number of spikes 496, first: 0.03535, last: 9.9771\n",
      "Time in intervals: 10.9771 sec\n",
      "1 intervals\n",
      "Time in intervals: 10 sec\n",
      "Number of spikes: 496\n",
      "Time in intervals: 5 sec\n",
      "Number of spikes: 257\n",
      "unset intervals\n",
      "Time in intervals: 10.9771 sec\n",
      "Number of spikes: 496\n",
      "Time in intervals: 2 sec\n",
      "Number of spikes: 104\n",
      "Time in intervals: 3 sec\n",
      "Number of spikes: 128\n"
     ]
    },
    {
     "data": {
      "image/png": "[encoded data removed]",
      "text/plain": [
       "<Figure size 1080x144 with 1 Axes>"
      ]
     },
     "metadata": {
      "needs_background": "light"
     },
     "output_type": "display_data"
    }
   ],
   "source": [
    "spike1 = Spike_train(name=\"no1\",sampling_rate=20000)\n",
    "spike1.generate_modulated_poisson_spike_train(rate_hz=50, sampling_rate=20000, \n",
    "                                              length_sec=10, modulation_hz = 4, modulation_depth = 1,\n",
    "                                              min_rate_bins_per_cycle=10,phase_shift=0)\n",
    "\n",
    "plt.figure(figsize=(15,2))\n",
    "\n",
    "# intervals 0 to 10\n",
    "spike1.set_intervals(np.array([[0,10]]))\n",
    "plt.scatter(spike1.st,np.repeat(5,spike1.st.shape[0]),marker=\"|\")\n",
    "\n",
    "# intervals 0 to 5\n",
    "spike1.set_intervals(np.array([[0,5]]))\n",
    "plt.scatter(spike1.st,np.repeat(4,spike1.st.shape[0]),marker=\"|\")\n",
    "\n",
    "# unset previous intervals\n",
    "print(\"unset intervals\")\n",
    "spike1.unset_intervals()\n",
    "plt.scatter(spike1.st,np.repeat(3,spike1.st.shape[0]),marker=\"|\")\n",
    "\n",
    "# intervals from 2 to 4\n",
    "spike1.set_intervals(np.array([[2,4]]))\n",
    "plt.scatter(spike1.st,np.repeat(2,spike1.st.shape[0]),marker=\"|\")\n",
    "\n",
    "# intervals from 6 to 8 and 9 to 10\n",
    "spike1.set_intervals(np.array([[6,8],[9,10]]))\n",
    "plt.scatter(spike1.st,np.repeat(1,spike1.st.shape[0]),marker=\"|\")\n",
    "\n",
    "plt.show()"
   ]
  },
  {
   "cell_type": "code",
   "execution_count": null,
   "id": "5ffa9c95-4241-4aaf-b3ee-1084a1298bba",
   "metadata": {},
   "outputs": [],
   "source": []
  }
 ],
 "metadata": {
  "kernelspec": {
   "display_name": "Python 3",
   "language": "python",
   "name": "python3"
  },
  "language_info": {
   "codemirror_mode": {
    "name": "ipython",
    "version": 3
   },
   "file_extension": ".py",
   "mimetype": "text/x-python",
   "name": "python",
   "nbconvert_exporter": "python",
   "pygments_lexer": "ipython3",
   "version": "3.8.5"
  }
 },
 "nbformat": 4,
 "nbformat_minor": 5
}
