{
 "cells": [
  {
   "cell_type": "markdown",
   "id": "0f1e9903-c8d2-4d3a-be28-ee212bbdd33c",
   "metadata": {},
   "source": [
    "# The Spike_train class\n",
    "\n",
    "This notebook documents the usage of the `Spike_train` class. It covers its main attributes and methods.\n",
    "\n",
    "A `Spike_train` object can be used to represent the spike train of a single neuron. A spike train is simply a series (1D array) containing the time at which the neuron fired. The time is stored in seconds, usually with time 0 being the start of the recording.\n",
    "\n",
    "The `Spike_train` class contains method to perform analysis that are often performed on a spike train.\n"
   ]
  },
  {
   "cell_type": "markdown",
   "id": "6401c012-1ecb-4337-acd1-93a976a5ac94",
   "metadata": {},
   "source": [
    "## Create a Spike_train object\n",
    "\n",
    "As with any class, you need to create the object by calling its constructor. "
   ]
  },
  {
   "cell_type": "code",
   "execution_count": 1,
   "id": "28f07012-4db3-4c7b-9bd1-9ec8ae222906",
   "metadata": {},
   "outputs": [
    {
     "name": "stdout",
     "output_type": "stream",
     "text": [
      "[ 0.          0.20408163  0.40816327  0.6122449   0.81632653  1.02040816\n",
      "  1.2244898   1.42857143  1.63265306  1.83673469  2.04081633  2.24489796\n",
      "  2.44897959  2.65306122  2.85714286  3.06122449  3.26530612  3.46938776\n",
      "  3.67346939  3.87755102  4.08163265  4.28571429  4.48979592  4.69387755\n",
      "  4.89795918  5.10204082  5.30612245  5.51020408  5.71428571  5.91836735\n",
      "  6.12244898  6.32653061  6.53061224  6.73469388  6.93877551  7.14285714\n",
      "  7.34693878  7.55102041  7.75510204  7.95918367  8.16326531  8.36734694\n",
      "  8.57142857  8.7755102   8.97959184  9.18367347  9.3877551   9.59183673\n",
      "  9.79591837 10.        ]\n",
      "Spike_train, name: my_spike_train!, number of spikes 50, first: 0.0, last: 10.0\n",
      "Time in intervals: 11.0 sec\n",
      "1 intervals\n"
     ]
    }
   ],
   "source": [
    "import numpy as np\n",
    "import matplotlib.pyplot as plt\n",
    "from spikeA.Spike_train import Spike_train\n",
    "\n",
    "# if you don't have spike times\n",
    "st = Spike_train(name=\"my_spike_train!\",sampling_rate=20000)\n",
    "\n",
    "# if you have spike times\n",
    "my_spike_times = np.linspace(0,10,50)\n",
    "print(my_spike_times)\n",
    "my_st = Spike_train(name=\"my_spike_train!\",sampling_rate=20000, st=my_spike_times)\n"
   ]
  },
  {
   "cell_type": "markdown",
   "id": "e8d6bed5-10cd-4cc2-af11-d57a265d895a",
   "metadata": {},
   "source": [
    "## Setting the spike train of a Spike_time object\n",
    "\n",
    "If you want to set or change the spike times of a `Spike_time` object, use the method `set_spike_train()`.\n",
    "\n",
    "This function will set the `st` attribute of the `Spike_time` object."
   ]
  },
  {
   "cell_type": "code",
   "execution_count": 2,
   "id": "07a947af-02c8-48b9-8776-79d0bd925552",
   "metadata": {},
   "outputs": [
    {
     "name": "stdout",
     "output_type": "stream",
     "text": [
      "Spike_train, name: my_spike_train!, number of spikes 30, first: 0.0, last: 10.0\n",
      "Time in intervals: 11.0 sec\n",
      "1 intervals\n",
      "Values in st attribute:\n",
      "[ 0.          0.34482759  0.68965517  1.03448276  1.37931034  1.72413793\n",
      "  2.06896552  2.4137931   2.75862069  3.10344828  3.44827586  3.79310345\n",
      "  4.13793103  4.48275862  4.82758621  5.17241379  5.51724138  5.86206897\n",
      "  6.20689655  6.55172414  6.89655172  7.24137931  7.5862069   7.93103448\n",
      "  8.27586207  8.62068966  8.96551724  9.31034483  9.65517241 10.        ]\n",
      "Spike_train, name: my_spike_train!, number of spikes 20, first: 0.0, last: 10.0\n",
      "Time in intervals: 11.0 sec\n",
      "Number of spikes: 20\n",
      "Values in st attribute:\n",
      "[ 0.          0.52631579  1.05263158  1.57894737  2.10526316  2.63157895\n",
      "  3.15789474  3.68421053  4.21052632  4.73684211  5.26315789  5.78947368\n",
      "  6.31578947  6.84210526  7.36842105  7.89473684  8.42105263  8.94736842\n",
      "  9.47368421 10.        ]\n"
     ]
    }
   ],
   "source": [
    "# set some spike times\n",
    "st.set_spike_train(np.linspace(0,10,30))\n",
    "print(\"Values in st attribute:\")\n",
    "print(st.st)\n",
    "# set other spike times\n",
    "st.set_spike_train(np.linspace(0,10,20))\n",
    "print(\"Values in st attribute:\")\n",
    "print(st.st)"
   ]
  },
  {
   "cell_type": "markdown",
   "id": "0010e86c-b5ad-4841-872f-858066519956",
   "metadata": {},
   "source": [
    "## Generating poisson spike trains"
   ]
  },
  {
   "cell_type": "code",
   "execution_count": 15,
   "id": "8aa1df1e-4217-464a-854d-f82cc54bd980",
   "metadata": {},
   "outputs": [
    {
     "name": "stdout",
     "output_type": "stream",
     "text": [
      "Spike_train, name: no1, number of spikes 546, first: 0.0037, last: 9.8941\n",
      "Time in intervals: 10.8941 sec\n",
      "1 intervals\n"
     ]
    },
    {
     "data": {
      "text/plain": [
       "array([3.70000e-03, 8.95000e-03, 2.77500e-02, 3.42000e-02, 3.46000e-02,\n",
       "       4.04500e-02, 4.26000e-02, 5.85500e-02, 6.68000e-02, 6.86500e-02,\n",
       "       6.99000e-02, 8.13000e-02, 2.56550e-01, 2.63450e-01, 2.78100e-01,\n",
       "       2.94850e-01, 3.01200e-01, 3.13800e-01, 3.24500e-01, 3.27600e-01,\n",
       "       3.39100e-01, 3.40050e-01, 3.47900e-01, 5.06000e-01, 5.06550e-01,\n",
       "       5.26400e-01, 5.60000e-01, 5.80100e-01, 5.80750e-01, 5.92900e-01,\n",
       "       6.20800e-01, 6.52150e-01, 7.53400e-01, 7.55850e-01, 7.58600e-01,\n",
       "       7.73450e-01, 7.75050e-01, 7.89950e-01, 7.91500e-01, 8.04600e-01,\n",
       "       8.25950e-01, 8.27900e-01, 8.32900e-01, 8.39250e-01, 8.50800e-01,\n",
       "       8.55500e-01, 8.61500e-01, 9.01700e-01, 1.00015e+00, 1.00595e+00,\n",
       "       1.00645e+00, 1.01800e+00, 1.03995e+00, 1.04380e+00, 1.06290e+00,\n",
       "       1.08285e+00, 1.08950e+00, 1.09265e+00, 1.09540e+00, 1.10035e+00,\n",
       "       1.12825e+00, 1.14065e+00, 1.22980e+00, 1.25305e+00, 1.26300e+00,\n",
       "       1.28785e+00, 1.29955e+00, 1.33735e+00, 1.35255e+00, 1.36445e+00,\n",
       "       1.39215e+00, 1.40605e+00, 1.50790e+00, 1.50950e+00, 1.51640e+00,\n",
       "       1.52885e+00, 1.54200e+00, 1.56645e+00, 1.57370e+00, 1.57725e+00,\n",
       "       1.59885e+00, 1.70535e+00, 1.73440e+00, 1.75230e+00, 1.76765e+00,\n",
       "       1.78390e+00, 1.78660e+00, 1.79200e+00, 1.81125e+00, 1.81790e+00,\n",
       "       1.82245e+00, 1.82300e+00, 1.82940e+00, 1.84880e+00, 1.86220e+00,\n",
       "       1.88905e+00, 1.99945e+00, 2.00665e+00, 2.00905e+00, 2.02445e+00,\n",
       "       2.02960e+00, 2.04295e+00, 2.05020e+00, 2.05625e+00, 2.06080e+00,\n",
       "       2.06095e+00, 2.06140e+00, 2.06610e+00, 2.08370e+00, 2.09665e+00,\n",
       "       2.10095e+00, 2.10230e+00, 2.13220e+00, 2.24835e+00, 2.24945e+00,\n",
       "       2.26075e+00, 2.26870e+00, 2.27755e+00, 2.27805e+00, 2.28045e+00,\n",
       "       2.30735e+00, 2.31105e+00, 2.31270e+00, 2.31955e+00, 2.32550e+00,\n",
       "       2.34405e+00, 2.34495e+00, 2.34700e+00, 2.35720e+00, 2.36155e+00,\n",
       "       2.37755e+00, 2.48265e+00, 2.49635e+00, 2.50900e+00, 2.51600e+00,\n",
       "       2.52960e+00, 2.54965e+00, 2.55410e+00, 2.55785e+00, 2.55925e+00,\n",
       "       2.57750e+00, 2.59285e+00, 2.59305e+00, 2.59320e+00, 2.60810e+00,\n",
       "       2.71155e+00, 2.74730e+00, 2.74960e+00, 2.76460e+00, 2.77495e+00,\n",
       "       2.78575e+00, 2.79200e+00, 2.80450e+00, 2.83360e+00, 2.84530e+00,\n",
       "       2.85545e+00, 2.85585e+00, 2.86875e+00, 2.88540e+00, 2.90765e+00,\n",
       "       2.91095e+00, 2.91290e+00, 2.97410e+00, 2.97435e+00, 2.99000e+00,\n",
       "       2.99210e+00, 3.01325e+00, 3.04230e+00, 3.04775e+00, 3.05305e+00,\n",
       "       3.05405e+00, 3.08675e+00, 3.11205e+00, 3.12320e+00, 3.13935e+00,\n",
       "       3.14100e+00, 3.17000e+00, 3.22205e+00, 3.23230e+00, 3.23560e+00,\n",
       "       3.24700e+00, 3.24835e+00, 3.25715e+00, 3.25910e+00, 3.27160e+00,\n",
       "       3.28115e+00, 3.29575e+00, 3.30430e+00, 3.34435e+00, 3.37810e+00,\n",
       "       3.47605e+00, 3.48830e+00, 3.51760e+00, 3.52345e+00, 3.52975e+00,\n",
       "       3.54815e+00, 3.54920e+00, 3.56650e+00, 3.57570e+00, 3.58045e+00,\n",
       "       3.58225e+00, 3.60040e+00, 3.60970e+00, 3.62915e+00, 3.65035e+00,\n",
       "       3.76760e+00, 3.78795e+00, 3.79765e+00, 3.80110e+00, 3.80670e+00,\n",
       "       3.84555e+00, 3.86025e+00, 3.89095e+00, 3.90065e+00, 4.01675e+00,\n",
       "       4.03505e+00, 4.04595e+00, 4.05500e+00, 4.05860e+00, 4.06015e+00,\n",
       "       4.09825e+00, 4.11065e+00, 4.11175e+00, 4.12405e+00, 4.19775e+00,\n",
       "       4.25435e+00, 4.26320e+00, 4.29565e+00, 4.30605e+00, 4.30725e+00,\n",
       "       4.33245e+00, 4.38155e+00, 4.49975e+00, 4.50470e+00, 4.52555e+00,\n",
       "       4.52575e+00, 4.53500e+00, 4.54530e+00, 4.54595e+00, 4.56015e+00,\n",
       "       4.56665e+00, 4.60495e+00, 4.78105e+00, 4.79885e+00, 4.80745e+00,\n",
       "       4.82805e+00, 4.83100e+00, 4.83520e+00, 4.83795e+00, 4.83995e+00,\n",
       "       4.84300e+00, 4.85745e+00, 4.85780e+00, 4.88570e+00, 4.91145e+00,\n",
       "       4.98055e+00, 5.00440e+00, 5.01255e+00, 5.01805e+00, 5.03030e+00,\n",
       "       5.04360e+00, 5.04770e+00, 5.06735e+00, 5.07200e+00, 5.08685e+00,\n",
       "       5.10220e+00, 5.11310e+00, 5.11580e+00, 5.11870e+00, 5.23480e+00,\n",
       "       5.23665e+00, 5.24315e+00, 5.26220e+00, 5.26260e+00, 5.27470e+00,\n",
       "       5.30415e+00, 5.30860e+00, 5.32020e+00, 5.34060e+00, 5.34300e+00,\n",
       "       5.34325e+00, 5.34605e+00, 5.34815e+00, 5.35530e+00, 5.35665e+00,\n",
       "       5.37785e+00, 5.37860e+00, 5.37880e+00, 5.41620e+00, 5.48690e+00,\n",
       "       5.50785e+00, 5.51095e+00, 5.52875e+00, 5.53335e+00, 5.53745e+00,\n",
       "       5.54255e+00, 5.56145e+00, 5.56785e+00, 5.57480e+00, 5.59340e+00,\n",
       "       5.61200e+00, 5.64295e+00, 5.64405e+00, 5.75625e+00, 5.75635e+00,\n",
       "       5.79715e+00, 5.80055e+00, 5.85135e+00, 5.85215e+00, 5.87020e+00,\n",
       "       5.99795e+00, 6.01020e+00, 6.02895e+00, 6.03240e+00, 6.05650e+00,\n",
       "       6.06050e+00, 6.06075e+00, 6.07625e+00, 6.07965e+00, 6.10400e+00,\n",
       "       6.10460e+00, 6.12140e+00, 6.13705e+00, 6.15245e+00, 6.23930e+00,\n",
       "       6.27085e+00, 6.28715e+00, 6.32340e+00, 6.32375e+00, 6.32710e+00,\n",
       "       6.33570e+00, 6.33700e+00, 6.34205e+00, 6.35530e+00, 6.35665e+00,\n",
       "       6.36340e+00, 6.37275e+00, 6.37880e+00, 6.50980e+00, 6.52545e+00,\n",
       "       6.53550e+00, 6.54825e+00, 6.56765e+00, 6.56975e+00, 6.57500e+00,\n",
       "       6.58665e+00, 6.60820e+00, 6.61165e+00, 6.62315e+00, 6.64555e+00,\n",
       "       6.72965e+00, 6.74440e+00, 6.74570e+00, 6.77455e+00, 6.77665e+00,\n",
       "       6.77845e+00, 6.78265e+00, 6.79465e+00, 6.79615e+00, 6.82455e+00,\n",
       "       6.82845e+00, 6.83815e+00, 6.84980e+00, 6.85755e+00, 6.87885e+00,\n",
       "       6.99775e+00, 7.03115e+00, 7.06150e+00, 7.06410e+00, 7.07920e+00,\n",
       "       7.08915e+00, 7.08960e+00, 7.11550e+00, 7.14590e+00, 7.15665e+00,\n",
       "       7.21020e+00, 7.24325e+00, 7.25640e+00, 7.27355e+00, 7.27620e+00,\n",
       "       7.29545e+00, 7.29670e+00, 7.29910e+00, 7.29990e+00, 7.32565e+00,\n",
       "       7.33535e+00, 7.36255e+00, 7.38025e+00, 7.39010e+00, 7.42275e+00,\n",
       "       7.48760e+00, 7.49250e+00, 7.51305e+00, 7.52310e+00, 7.53585e+00,\n",
       "       7.53605e+00, 7.54285e+00, 7.54350e+00, 7.57290e+00, 7.57365e+00,\n",
       "       7.58310e+00, 7.60120e+00, 7.60850e+00, 7.61875e+00, 7.62520e+00,\n",
       "       7.64405e+00, 7.71585e+00, 7.72145e+00, 7.74010e+00, 7.74975e+00,\n",
       "       7.78175e+00, 7.78480e+00, 7.78900e+00, 7.80565e+00, 7.82695e+00,\n",
       "       7.83070e+00, 7.84720e+00, 7.85100e+00, 7.85105e+00, 7.87775e+00,\n",
       "       7.90145e+00, 7.90565e+00, 7.92660e+00, 7.98740e+00, 8.01425e+00,\n",
       "       8.03080e+00, 8.03170e+00, 8.04080e+00, 8.04175e+00, 8.05785e+00,\n",
       "       8.05940e+00, 8.06645e+00, 8.08175e+00, 8.10665e+00, 8.10780e+00,\n",
       "       8.10820e+00, 8.10985e+00, 8.11605e+00, 8.12440e+00, 8.27560e+00,\n",
       "       8.28100e+00, 8.29810e+00, 8.30295e+00, 8.30960e+00, 8.31255e+00,\n",
       "       8.31555e+00, 8.31565e+00, 8.31850e+00, 8.31970e+00, 8.32170e+00,\n",
       "       8.32830e+00, 8.33345e+00, 8.36970e+00, 8.44970e+00, 8.49845e+00,\n",
       "       8.51680e+00, 8.54160e+00, 8.54210e+00, 8.55155e+00, 8.55505e+00,\n",
       "       8.57070e+00, 8.58270e+00, 8.58600e+00, 8.58660e+00, 8.59195e+00,\n",
       "       8.59555e+00, 8.75685e+00, 8.77630e+00, 8.78270e+00, 8.78290e+00,\n",
       "       8.81815e+00, 8.81820e+00, 8.82200e+00, 8.82205e+00, 8.82770e+00,\n",
       "       8.85380e+00, 8.85675e+00, 8.98690e+00, 9.00870e+00, 9.01030e+00,\n",
       "       9.01685e+00, 9.02555e+00, 9.07270e+00, 9.08320e+00, 9.09455e+00,\n",
       "       9.09755e+00, 9.10810e+00, 9.11365e+00, 9.11605e+00, 9.11900e+00,\n",
       "       9.21910e+00, 9.26865e+00, 9.27720e+00, 9.29910e+00, 9.30770e+00,\n",
       "       9.31030e+00, 9.31060e+00, 9.33485e+00, 9.33740e+00, 9.33980e+00,\n",
       "       9.35270e+00, 9.35405e+00, 9.36175e+00, 9.36435e+00, 9.36860e+00,\n",
       "       9.37165e+00, 9.48880e+00, 9.53900e+00, 9.54000e+00, 9.54940e+00,\n",
       "       9.55190e+00, 9.55885e+00, 9.56355e+00, 9.56460e+00, 9.57775e+00,\n",
       "       9.59400e+00, 9.59550e+00, 9.61845e+00, 9.62020e+00, 9.62765e+00,\n",
       "       9.63320e+00, 9.73460e+00, 9.74230e+00, 9.74475e+00, 9.75205e+00,\n",
       "       9.75480e+00, 9.76050e+00, 9.76125e+00, 9.76345e+00, 9.76970e+00,\n",
       "       9.77815e+00, 9.78095e+00, 9.78980e+00, 9.79075e+00, 9.79235e+00,\n",
       "       9.79325e+00, 9.82560e+00, 9.82675e+00, 9.84465e+00, 9.84655e+00,\n",
       "       9.85110e+00, 9.85280e+00, 9.86340e+00, 9.88365e+00, 9.88615e+00,\n",
       "       9.89410e+00])"
      ]
     },
     "execution_count": 15,
     "metadata": {},
     "output_type": "execute_result"
    }
   ],
   "source": [
    "## Generate a poissonian spike train. It can be done using the function generate_poisson_spikes followed by \n",
    "#arguments (i.e. the values passed to the function.)\n",
    "spike1 = Spike_train(name=\"no1\",sampling_rate=20000)\n",
    "spike1.generate_modulated_poisson_spike_train(rate_hz=50, sampling_rate=20000, \n",
    "                                              length_sec=10, modulation_hz = 4, modulation_depth = 1,\n",
    "                                              min_rate_bins_per_cycle=10,phase_shift=0)\n",
    "spike1.st"
   ]
  },
  {
   "cell_type": "markdown",
   "id": "121e610f-1239-4829-b872-346e834a8f3e",
   "metadata": {},
   "source": [
    "## Get the number of spikes and mean firing rate"
   ]
  },
  {
   "cell_type": "code",
   "execution_count": 16,
   "id": "09a687e7-5dcd-4c69-87d6-6965148ce2ab",
   "metadata": {},
   "outputs": [
    {
     "name": "stdout",
     "output_type": "stream",
     "text": [
      "Number of spikes: 546\n",
      "Mean firing rate: 50.1188716828375\n"
     ]
    }
   ],
   "source": [
    "# get the number of spikes\n",
    "print(\"Number of spikes:\" ,spike1.n_spikes())\n",
    "# get the mean firing rate\n",
    "print(\"Mean firing rate:\" ,spike1.mean_firing_rate())"
   ]
  },
  {
   "cell_type": "markdown",
   "id": "1777f54f-bed5-4f1d-98ee-cb4612cdd868",
   "metadata": {},
   "source": [
    "## Get the instantaneous firing rate"
   ]
  },
  {
   "cell_type": "code",
   "execution_count": 17,
   "id": "767b32a0-14f9-4578-8fe6-b8156b46bd9a",
   "metadata": {},
   "outputs": [
    {
     "name": "stdout",
     "output_type": "stream",
     "text": [
      "Spike_train, name: no1, number of spikes 168, first: 0.0193, last: 1.99595\n",
      "Time in intervals: 2.9959499999999997 sec\n",
      "Number of spikes: 168\n"
     ]
    }
   ],
   "source": [
    "# Here we calculate the firing rate for a neuron\n",
    "spike1.generate_modulated_poisson_spike_train(rate_hz=100, sampling_rate=20000, length_sec=2,\n",
    "                                              modulation_hz = 8, modulation_depth = 1,min_rate_bins_per_cycle=10,\n",
    "                                              phase_shift=0)\n",
    "spike1.instantaneous_firing_rate(bin_size_ms = 1, sigma = 5)\n"
   ]
  },
  {
   "cell_type": "markdown",
   "id": "6972b5a1-e6b6-4db6-aa67-6fee96ea285e",
   "metadata": {},
   "source": [
    "## Create a graph where firing frequency and modulation are superimposed"
   ]
  },
  {
   "cell_type": "code",
   "execution_count": 19,
   "id": "d8055508-2047-42af-bcb4-641779a50428",
   "metadata": {},
   "outputs": [
    {
     "data": {
      "text/plain": [
       "<matplotlib.collections.PathCollection at 0x7fcf94fbf160>"
      ]
     },
     "execution_count": 19,
     "metadata": {},
     "output_type": "execute_result"
    },
    {
     "data": {
      "image/png": "[encoded data removed]",
      "text/plain": [
       "<Figure size 864x288 with 1 Axes>"
      ]
     },
     "metadata": {
      "needs_background": "light"
     },
     "output_type": "display_data"
    }
   ],
   "source": [
    "plt.figure(figsize=(12,4))\n",
    "plt.plot(spike1.ifr[2][:-1],spike1.ifr[0])\n",
    "plt.scatter(spike1.st*1000,np.ones_like(spike1.st),marker=\"|\")"
   ]
  },
  {
   "cell_type": "markdown",
   "id": "b81c3112-688d-4351-b5ce-cef43532409a",
   "metadata": {},
   "source": [
    "## Setting time intervals to limit the analysis to specific time periods"
   ]
  },
  {
   "cell_type": "code",
   "execution_count": 3,
   "id": "2a742a00-593b-4a30-99c4-dff5e1f7e5f0",
   "metadata": {},
   "outputs": [
    {
     "name": "stdout",
     "output_type": "stream",
     "text": [
      "Spike_train, name: no1, number of spikes 491, first: 0.01575, last: 9.9949\n",
      "Time in intervals: 10.9949 sec\n",
      "1 intervals\n",
      "Time in intervals: 10 sec\n",
      "Number of spikes: 491\n",
      "Time in intervals: 5 sec\n",
      "Number of spikes: 208\n",
      "unset intervals\n",
      "Time in intervals: 10.9949 sec\n",
      "Number of spikes: 491\n",
      "Time in intervals: 2 sec\n",
      "Number of spikes: 77\n",
      "Time in intervals: 3 sec\n",
      "Number of spikes: 167\n"
     ]
    },
    {
     "data": {
      "image/png": "[encoded data removed]",
      "text/plain": [
       "<Figure size 1080x144 with 1 Axes>"
      ]
     },
     "metadata": {
      "needs_background": "light"
     },
     "output_type": "display_data"
    }
   ],
   "source": [
    "spike1 = Spike_train(name=\"no1\",sampling_rate=20000)\n",
    "spike1.generate_modulated_poisson_spike_train(rate_hz=50, sampling_rate=20000, \n",
    "                                              length_sec=10, modulation_hz = 4, modulation_depth = 1,\n",
    "                                              min_rate_bins_per_cycle=10,phase_shift=0)\n",
    "\n",
    "plt.figure(figsize=(15,2))\n",
    "\n",
    "# intervals 0 to 10\n",
    "spike1.set_intervals(np.array([[0,10]]))\n",
    "plt.scatter(spike1.st,np.repeat(5,spike1.st.shape[0]),marker=\"|\")\n",
    "\n",
    "# intervals 0 to 5\n",
    "spike1.set_intervals(np.array([[0,5]]))\n",
    "plt.scatter(spike1.st,np.repeat(4,spike1.st.shape[0]),marker=\"|\")\n",
    "\n",
    "# unset previous intervals\n",
    "print(\"unset intervals\")\n",
    "spike1.unset_intervals()\n",
    "plt.scatter(spike1.st,np.repeat(3,spike1.st.shape[0]),marker=\"|\")\n",
    "\n",
    "# intervals from 2 to 4\n",
    "spike1.set_intervals(np.array([[2,4]]))\n",
    "plt.scatter(spike1.st,np.repeat(2,spike1.st.shape[0]),marker=\"|\")\n",
    "\n",
    "# intervals from 6 to 8 and 9 to 10\n",
    "spike1.set_intervals(np.array([[6,8],[9,10]]))\n",
    "plt.scatter(spike1.st,np.repeat(1,spike1.st.shape[0]),marker=\"|\")\n",
    "\n",
    "plt.show()"
   ]
  },
  {
   "cell_type": "code",
   "execution_count": null,
   "id": "5ffa9c95-4241-4aaf-b3ee-1084a1298bba",
   "metadata": {},
   "outputs": [],
   "source": []
  }
 ],
 "metadata": {
  "kernelspec": {
   "display_name": "Python 3",
   "language": "python",
   "name": "python3"
  },
  "language_info": {
   "codemirror_mode": {
    "name": "ipython",
    "version": 3
   },
   "file_extension": ".py",
   "mimetype": "text/x-python",
   "name": "python",
   "nbconvert_exporter": "python",
   "pygments_lexer": "ipython3",
   "version": "3.6.9"
  }
 },
 "nbformat": 4,
 "nbformat_minor": 5
}
