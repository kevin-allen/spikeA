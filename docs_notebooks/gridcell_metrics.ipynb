{
 "cells": [
  {
   "cell_type": "markdown",
   "id": "a01fd4d1-0d37-4f7b-ac16-d9f2f49b2fde",
   "metadata": {},
   "source": [
    "# Obtain metrics of a grid cell"
   ]
  },
  {
   "cell_type": "markdown",
   "id": "351b87a7-0960-4660-b002-0ab0a5e094d0",
   "metadata": {},
   "source": [
    "This script will return metrics of grid cell like orientation and spacing.\n",
    "It can be used on several grid cells to quantify average values."
   ]
  },
  {
   "cell_type": "code",
   "execution_count": null,
   "id": "0f66a3f7-7796-4243-8588-efaba9d0d9ca",
   "metadata": {},
   "outputs": [],
   "source": []
  },
  {
   "cell_type": "markdown",
   "id": "15db1cd6-10cd-415c-8690-4589a84821ca",
   "metadata": {
    "tags": []
   },
   "source": [
    "## imports, helper functions"
   ]
  },
  {
   "cell_type": "code",
   "execution_count": 1,
   "id": "462f422c-d88e-4ed4-9f92-ccad41d25d19",
   "metadata": {},
   "outputs": [],
   "source": [
    "%load_ext autoreload\n",
    "%autoreload 2\n",
    "\n",
    "import numpy as np\n",
    "import matplotlib.pyplot as plt\n",
    "%matplotlib inline\n",
    "\n",
    "from spikeA.Session import *\n",
    "from spikeA.Spike_train_loader import Spike_train_loader\n",
    "from spikeA.Cell_group import Cell_group\n",
    "from spikeA.Animal_pose import Animal_pose"
   ]
  },
  {
   "cell_type": "code",
   "execution_count": 2,
   "id": "54282c42-cbe4-4bf8-8543-80d810181ead",
   "metadata": {
    "tags": []
   },
   "outputs": [],
   "source": [
    "def circular_mean(angles, weights=None):\n",
    "    # https://en.wikipedia.org/wiki/Circular_mean\n",
    "    # https://stackoverflow.com/a/70317140\n",
    "    \n",
    "    if weights is None:\n",
    "        weights = np.ones(len(angles))\n",
    "        \n",
    "    vectors = [ [w*np.cos(a), w*np.sin(a)]  for a,w in zip(angles,weights) ]\n",
    "    vector = np.sum(vectors, axis=0) / np.sum(weights)    \n",
    "    x,y = vector\n",
    "    \n",
    "    angle_mean = np.arctan2(y,x)\n",
    "    vectorlen = np.linalg.norm(vector)\n",
    "    angle_variance = (1. - vectorlen) * np.pi\n",
    "    angle_std = np.sqrt(-2.*np.log(vectorlen))\n",
    "    \n",
    "    return angle_mean, vectorlen, angle_std# angle_variance\n",
    "\n",
    "def circular_mean_period(signal, p, weights=None):\n",
    "    # circular mean with arbitrary period\n",
    "    #  (using period p instead of 2pi, stretch then with inverse f(X/s)*s )\n",
    "    s = p/(2*np.pi)\n",
    "    return ( circular_mean(np.array(signal)/s, weights=weights)[0] % (2*np.pi) ) *s"
   ]
  },
  {
   "cell_type": "markdown",
   "id": "2150ccb2-9798-43fe-bc51-cee24330a0cf",
   "metadata": {
    "tags": []
   },
   "source": [
    "## load session"
   ]
  },
  {
   "cell_type": "code",
   "execution_count": 3,
   "id": "30a12d3a-d1ac-46c1-aa6c-285094de34ef",
   "metadata": {},
   "outputs": [],
   "source": [
    "name=\"bt1296-27102022-0105\"\n",
    "# name=\"pk9254-20122022-0104\"\n",
    "# some light/dark protocol recording ...\n",
    "# ..."
   ]
  },
  {
   "cell_type": "code",
   "execution_count": 4,
   "id": "62ca02f1-b5e6-4fb2-b1dc-1cb0b46a6719",
   "metadata": {},
   "outputs": [
    {
     "name": "stdout",
     "output_type": "stream",
     "text": [
      "Path: /adata/electro/bt1296/bt1296-27102022-0105/\n",
      "Mouse: bt1296\n",
      "Session: 27102022-0105\n",
      "Name: bt1296-27102022-0105 , bt1296-27102022-0105\n",
      "\n",
      "Path: OK\n"
     ]
    }
   ],
   "source": [
    "import os\n",
    "\n",
    "basedir = \"/adata/electro\"\n",
    "subject, session = name.split(\"-\",1)\n",
    "path = basedir+\"/\"+subject+\"/\"+name+\"/\"\n",
    "\n",
    "fname = name.split(\"_\")[0]\n",
    "\n",
    "print(\"Path:\", path)\n",
    "print(\"Mouse:\", subject) # directory = mouse subject name\n",
    "print(\"Session:\", session)\n",
    "print(\"Name:\", name, \",\", fname)\n",
    "print(\"\")\n",
    "print(\"Path:\", \"OK\" if os.path.isdir(path) else \"invalid\")"
   ]
  },
  {
   "cell_type": "code",
   "execution_count": 5,
   "id": "3e2c7264-c169-4bdc-81ed-8101df134ecc",
   "metadata": {},
   "outputs": [
    {
     "name": "stdout",
     "output_type": "stream",
     "text": [
      "<class 'spikeA.Session.Kilosort_session'>\n",
      "name = bt1296-27102022-0105\n",
      "path = /adata/electro/bt1296/bt1296-27102022-0105\n",
      "subject = bt1296\n",
      "session_dat_time = 2022-10-27 01:05:00\n",
      "fileBase = /adata/electro/bt1296/bt1296-27102022-0105/bt1296-27102022-0105\n",
      "data_type = kilosort\n",
      "file_names = {'par': '/adata/electro/bt1296/bt1296-27102022-0105/bt1296-27102022-0105.par', 'desen': '/adata/electro/bt1296/bt1296-27102022-0105/bt1296-27102022-0105.desen', 'desel': '/adata/electro/bt1296/bt1296-27102022-0105/bt1296-27102022-0105.desel', 'sampling_rate': '/adata/electro/bt1296/bt1296-27102022-0105/bt1296-27102022-0105.sampling_rate_dat', 'stimulation': '/adata/electro/bt1296/bt1296-27102022-0105/bt1296-27102022-0105.stimulation', 'px_per_cm': '/adata/electro/bt1296/bt1296-27102022-0105/bt1296-27102022-0105.px_per_cm', 'setup': '/adata/electro/bt1296/bt1296-27102022-0105/bt1296-27102022-0105.setup', 'environmentFamiliarity': '/adata/electro/bt1296/bt1296-27102022-0105/bt1296-27102022-0105.environmentFamiliarity', 'params': '/adata/electro/bt1296/bt1296-27102022-0105/params.py', 'amplitudes': '/adata/electro/bt1296/bt1296-27102022-0105/amplitudes.npy', 'channel_map': '/adata/electro/bt1296/bt1296-27102022-0105/channel_map.npy', 'channel_positions': '/adata/electro/bt1296/bt1296-27102022-0105/channel_positions.npy', 'pc_features': '/adata/electro/bt1296/bt1296-27102022-0105/pc_features.npy', 'pc_feature_ind': '/adata/electro/bt1296/bt1296-27102022-0105/pc_feature_ind.npy', 'spike_templates': '/adata/electro/bt1296/bt1296-27102022-0105/spike_templates.npy', 'templates': '/adata/electro/bt1296/bt1296-27102022-0105/templates.npy', 'spike_times': '/adata/electro/bt1296/bt1296-27102022-0105/spike_times.npy', 'spike_clusters': '/adata/electro/bt1296/bt1296-27102022-0105/spike_clusters.npy', 'cluster_group': '/adata/electro/bt1296/bt1296-27102022-0105/cluster_group.tsv', 'dat': ['/adata/electro/bt1296/bt1296-27102022-0105/bt1296-27102022_01.dat', '/adata/electro/bt1296/bt1296-27102022-0105/bt1296-27102022_02.dat', '/adata/electro/bt1296/bt1296-27102022-0105/bt1296-27102022_03.dat', '/adata/electro/bt1296/bt1296-27102022-0105/bt1296-27102022_04.dat', '/adata/electro/bt1296/bt1296-27102022-0105/bt1296-27102022_05.dat']}\n",
      "n_channels = 65\n",
      "dat_dtype = int16\n",
      "dat_offset = 0\n",
      "sampling_rate = 20000.0\n",
      "n_shanks = 8\n",
      "n_trials = 5\n",
      "trial_names = ['bt1296-27102022_01', 'bt1296-27102022_02', 'bt1296-27102022_03', 'bt1296-27102022_04', 'bt1296-27102022_05']\n",
      "desen = ['circ80', 'rb', 'sqr70', 'rb', 'circ80']\n",
      "desel = ['mec', 'mec', 'mec', 'mec', 'mec', 'mec', 'mec', 'mec']\n",
      "stimulation = ['none', 'none', 'none', 'none', 'none']\n",
      "setup = ['28a', '28a', '28a', '28a', '28a']\n",
      "environmentFamiliarity = ['fam', 'fam', 'novel', 'fam', 'fam']\n",
      "px_per_cm = 9.0\n",
      "dat_file_names = ['/adata/electro/bt1296/bt1296-27102022-0105/bt1296-27102022_01.dat', '/adata/electro/bt1296/bt1296-27102022-0105/bt1296-27102022_02.dat', '/adata/electro/bt1296/bt1296-27102022-0105/bt1296-27102022_03.dat', '/adata/electro/bt1296/bt1296-27102022-0105/bt1296-27102022_04.dat', '/adata/electro/bt1296/bt1296-27102022-0105/bt1296-27102022_05.dat']\n",
      "trial_intervals = <spikeA.Intervals.Intervals object at 0x7fe93e9ce070>\n",
      "log_times = []\n"
     ]
    }
   ],
   "source": [
    "ses = Kilosort_session(name=fname, path=path)\n",
    "ses.load_parameters_from_files()\n",
    "print(ses)"
   ]
  },
  {
   "cell_type": "code",
   "execution_count": 6,
   "id": "d0c1e705-649d-432b-9526-62f22bf03fbc",
   "metadata": {},
   "outputs": [
    {
     "name": "stdout",
     "output_type": "stream",
     "text": [
      "cells: 99\n"
     ]
    }
   ],
   "source": [
    "stl = Spike_train_loader()\n",
    "stl.load_spike_train_kilosort(ses)\n",
    "# print(\"stl.clu_ids\",stl.clu_ids)\n",
    "cg = Cell_group(stl)\n",
    "print(\"cells:\", len(cg.neuron_list))"
   ]
  },
  {
   "cell_type": "code",
   "execution_count": 7,
   "id": "b1f5f8c2-9bc1-4b26-b676-f7a1429aa2ba",
   "metadata": {},
   "outputs": [
    {
     "name": "stdout",
     "output_type": "stream",
     "text": [
      "look for /adata/electro/bt1296/bt1296-27102022-0105/bt1296-27102022-0105.pose.npy\n",
      "load from saved pose file\n"
     ]
    }
   ],
   "source": [
    "ap = Animal_pose(ses)\n",
    "posefilename = ses.fileBase + ap.pose_file_extension\n",
    "print(\"look for\", posefilename)\n",
    "if not os.path.exists(posefilename):\n",
    "    print(\"load from positrack\")\n",
    "    extension = ap.positrack_type()\n",
    "    print(\"use extension:\",extension)\n",
    "    ap.pose_from_positrack_files(ses=ses, interpolation_frequency_hz = 50, extension=extension)\n",
    "    ap.save_pose_to_file() # save the file for next time\n",
    "else:\n",
    "    print(\"load from saved pose file\")\n",
    "    ap.load_pose_from_file()"
   ]
  },
  {
   "cell_type": "code",
   "execution_count": 8,
   "id": "90e43d42-9c0b-400e-8eac-7926ce0ac8eb",
   "metadata": {},
   "outputs": [],
   "source": [
    "trial = 2"
   ]
  },
  {
   "cell_type": "code",
   "execution_count": 9,
   "id": "627c0ef6-9eb0-44bf-966f-36c8f210ae35",
   "metadata": {},
   "outputs": [],
   "source": [
    "session_trials = ses.session_trials()\n",
    "tn,su,en,(shape,diam,color,cue),ef,iv = session_trials[trial]"
   ]
  },
  {
   "cell_type": "code",
   "execution_count": 10,
   "id": "9c14e43c-b710-468e-ad92-0735c6e9ec52",
   "metadata": {},
   "outputs": [
    {
     "data": {
      "text/plain": [
       "('bt1296-27102022_03',\n",
       " '28a',\n",
       " 'sqr70',\n",
       " ('square', 70.0, None, None),\n",
       " 'novel',\n",
       " array([1814.688  , 3021.19195]))"
      ]
     },
     "execution_count": 10,
     "metadata": {},
     "output_type": "execute_result"
    }
   ],
   "source": [
    "tn,su,en,(shape,diam,color,cue),ef,iv"
   ]
  },
  {
   "cell_type": "code",
   "execution_count": null,
   "id": "873240c4-a0c9-49d8-9058-ec9206c04e95",
   "metadata": {},
   "outputs": [],
   "source": []
  },
  {
   "cell_type": "code",
   "execution_count": 11,
   "id": "0c7d0335-cb78-4a79-8af3-06467b23fd05",
   "metadata": {},
   "outputs": [],
   "source": [
    "## restrict to trial = set appropriate interval\n",
    "ap.set_intervals(iv)\n",
    "cg.set_spatial_properties(ap)\n",
    "\n",
    "# detect xy_range (do this once per trial, use this for every neuron later)\n",
    "xy_range = ap.find_xy_range(diameter = diam)\n",
    "center = np.mean(xy_range,axis=0)\n",
    "\n",
    "ap.invalid_outside_spatial_area(environment_shape=shape, radius=diam/2., length=diam, center=center)\n",
    "ap.occupancy_map_2d()\n",
    "\n",
    "\n",
    "firing_rate_maps = []\n",
    "grid_scores = []\n",
    "grid_hex = [] # radius and rotation\n",
    "\n",
    "for N, n in enumerate(cg.neuron_list):\n",
    "    # set interval to specific trial\n",
    "    n.spatial_properties.set_intervals(iv)\n",
    "\n",
    "    # use xy_range\n",
    "    n.spatial_properties.ap.invalid_outside_spatial_area(environment_shape=shape, radius=diam/2., length=diam, center=center)        \n",
    "\n",
    "    # plot firing rate map\n",
    "    n.spatial_properties.firing_rate_map_2d(cm_per_bin=2, smoothing_sigma_cm=2, smoothing=True, xy_range=xy_range)\n",
    "    firing_rate_map = n.spatial_properties.firing_rate_map\n",
    "    firing_rate_maps.append(firing_rate_map)\n",
    "    \n",
    "    grid_score = n.spatial_properties.grid_score()\n",
    "    grid_scores.append(grid_score)\n",
    "    \n",
    "    grid_info = n.spatial_properties.grid_info()\n",
    "    rad,rot,*_ = grid_info\n",
    "    grid_hex.append([rad,rot])\n",
    "    \n",
    "    \n",
    "firing_rate_maps = np.array(firing_rate_maps)\n",
    "grid_scores = np.array(grid_scores)\n",
    "grid_hex = np.array(grid_hex)"
   ]
  },
  {
   "cell_type": "code",
   "execution_count": 12,
   "id": "05d75a9f-c0e2-415c-944a-7a8994e11d61",
   "metadata": {
    "tags": []
   },
   "outputs": [
    {
     "data": {
      "text/plain": [
       "((99, 35, 35), (99,))"
      ]
     },
     "execution_count": 12,
     "metadata": {},
     "output_type": "execute_result"
    }
   ],
   "source": [
    "firing_rate_maps.shape, grid_scores.shape"
   ]
  },
  {
   "cell_type": "code",
   "execution_count": null,
   "id": "f45f5a86-fb74-49f7-8e22-f4602d063e1c",
   "metadata": {},
   "outputs": [],
   "source": []
  },
  {
   "cell_type": "markdown",
   "id": "9cc2715e-a301-4da8-bf5f-15b37e1a63b8",
   "metadata": {
    "tags": []
   },
   "source": [
    "## select grid cells"
   ]
  },
  {
   "cell_type": "code",
   "execution_count": 13,
   "id": "9ba10adf-3851-4080-a0aa-8f2aeeede7d7",
   "metadata": {},
   "outputs": [
    {
     "data": {
      "text/plain": [
       "array([96, 76, 64, 67, 71, 98])"
      ]
     },
     "execution_count": 13,
     "metadata": {},
     "output_type": "execute_result"
    }
   ],
   "source": [
    "# choose some grid cells with highest grid score\n",
    "n_cells = 6\n",
    "grid_cells = np.flip(np.argsort(grid_scores))[:n_cells]\n",
    "grid_cells"
   ]
  },
  {
   "cell_type": "code",
   "execution_count": null,
   "id": "cf0b5508-a9d7-4968-a566-24eb5d622042",
   "metadata": {},
   "outputs": [],
   "source": []
  },
  {
   "cell_type": "markdown",
   "id": "7a1c8421-a610-4f2d-b862-595369789d63",
   "metadata": {
    "tags": []
   },
   "source": [
    "### calculate grid cell metrics"
   ]
  },
  {
   "cell_type": "code",
   "execution_count": 14,
   "id": "41a09dd3-7d3c-4556-8e70-fc9e61d25b06",
   "metadata": {},
   "outputs": [
    {
     "data": {
      "image/png": "[encoded data removed]",
      "text/plain": [
       "<Figure size 1224x288 with 6 Axes>"
      ]
     },
     "metadata": {},
     "output_type": "display_data"
    }
   ],
   "source": [
    "fig,ax = plt.subplots(ncols=len(grid_cells), nrows=1, figsize=(17,4))\n",
    "\n",
    "for i, (gc_id, fmap, grid_score, (rad,rot)) in enumerate(zip(grid_cells, firing_rate_maps[grid_cells], grid_scores[grid_cells], grid_hex[grid_cells])):\n",
    "    ax[i].imshow(fmap.T, cmap='jet')\n",
    "    ax[i].set_xticks([])\n",
    "    ax[i].set_yticks([])\n",
    "    ax[i].set_title(\"cell {} (id: {})\\ngrid score: {:.2f}\\nradius: {:.1f} cm, rotation: {:.1f}°\".format(i, gc_id, grid_score, rad, np.rad2deg(rot)))\n",
    "\n",
    "plt.suptitle(\"Grid Cells ({})\".format(len(grid_cells)), fontweight='bold', fontsize=14)\n",
    "plt.tight_layout()\n",
    "plt.show()"
   ]
  },
  {
   "cell_type": "code",
   "execution_count": null,
   "id": "55a5163d-9335-4153-937a-91aef6061e9a",
   "metadata": {},
   "outputs": [],
   "source": []
  },
  {
   "cell_type": "code",
   "execution_count": 15,
   "id": "f65ed867-abd2-4f44-b068-3f77238fd264",
   "metadata": {},
   "outputs": [],
   "source": [
    "# grid metrics:"
   ]
  },
  {
   "cell_type": "code",
   "execution_count": 16,
   "id": "aed79fb9-74a9-453c-bb6e-b2e2a53c14c1",
   "metadata": {
    "tags": []
   },
   "outputs": [
    {
     "data": {
      "text/plain": [
       "array([[29.83286778,  0.27502158],\n",
       "       [29.83286778,  0.31733259],\n",
       "       [30.48884539,  0.27502158],\n",
       "       [31.05644628,  0.29617709],\n",
       "       [30.09866034,  0.26444383],\n",
       "       [33.314012  ,  0.23271057]])"
      ]
     },
     "execution_count": 16,
     "metadata": {},
     "output_type": "execute_result"
    }
   ],
   "source": [
    "grid_hex[grid_cells]"
   ]
  },
  {
   "cell_type": "code",
   "execution_count": 17,
   "id": "48817c3f-1faf-4659-bab7-4a755c00c2d1",
   "metadata": {
    "tags": []
   },
   "outputs": [
    {
     "data": {
      "text/plain": [
       "(array([29.83286778, 29.83286778, 30.48884539, 31.05644628, 30.09866034,\n",
       "        33.314012  ]),\n",
       " array([0.27502158, 0.31733259, 0.27502158, 0.29617709, 0.26444383,\n",
       "        0.23271057]))"
      ]
     },
     "execution_count": 17,
     "metadata": {},
     "output_type": "execute_result"
    }
   ],
   "source": [
    "radii,rotations = grid_hex[grid_cells].T\n",
    "radii,rotations"
   ]
  },
  {
   "cell_type": "code",
   "execution_count": null,
   "id": "d114c04c-fd90-4d18-a32f-3d88183ca01b",
   "metadata": {},
   "outputs": [],
   "source": []
  },
  {
   "cell_type": "code",
   "execution_count": 18,
   "id": "6ad5cb40-3667-4c61-9cb9-838116a4d54c",
   "metadata": {},
   "outputs": [],
   "source": [
    "# calculate means:"
   ]
  },
  {
   "cell_type": "code",
   "execution_count": 19,
   "id": "8dff230a-da59-4fc9-8e25-5c2f14502464",
   "metadata": {
    "tags": []
   },
   "outputs": [
    {
     "data": {
      "text/plain": [
       "(30.7706165954535, 0.27679815292197685)"
      ]
     },
     "execution_count": 19,
     "metadata": {},
     "output_type": "execute_result"
    }
   ],
   "source": [
    "rad_mean = np.mean(radii)\n",
    "rot_mean = circular_mean_period(rotations, p=np.radians(60))\n",
    "rad_mean, rot_mean"
   ]
  },
  {
   "cell_type": "code",
   "execution_count": 20,
   "id": "16e59013-7969-4d09-9299-20e6dc6b68e8",
   "metadata": {
    "tags": []
   },
   "outputs": [
    {
     "name": "stdout",
     "output_type": "stream",
     "text": [
      "means:\n",
      "radius: 30.8 cm\n",
      "rotation: 15.9°\n"
     ]
    }
   ],
   "source": [
    "print(\"means:\")\n",
    "print(\"radius: {:.1f} cm\".format(rad_mean))\n",
    "print(\"rotation: {:.1f}°\".format(np.rad2deg(rot_mean)))"
   ]
  },
  {
   "cell_type": "code",
   "execution_count": null,
   "id": "18e7cc30-7d5b-4248-a312-27c78aa54f71",
   "metadata": {},
   "outputs": [],
   "source": []
  },
  {
   "cell_type": "code",
   "execution_count": 21,
   "id": "7f1070d7-d45e-430c-ba44-8a35c722d5c1",
   "metadata": {},
   "outputs": [],
   "source": [
    "# weight by grid score"
   ]
  },
  {
   "cell_type": "code",
   "execution_count": 22,
   "id": "7503c707-371f-4a6a-9b77-13db5ea56199",
   "metadata": {
    "tags": []
   },
   "outputs": [
    {
     "data": {
      "text/plain": [
       "array([1.41106932, 1.36068686, 1.22798113, 1.16275022, 1.12408881,\n",
       "       1.07220563])"
      ]
     },
     "execution_count": 22,
     "metadata": {},
     "output_type": "execute_result"
    }
   ],
   "source": [
    "scores = grid_scores[grid_cells]\n",
    "scores"
   ]
  },
  {
   "cell_type": "code",
   "execution_count": 23,
   "id": "97c5a00f-cf0f-4f70-831c-d709cdda824e",
   "metadata": {
    "tags": []
   },
   "outputs": [
    {
     "data": {
      "text/plain": [
       "(30.683486972276405, 0.2784225136621141)"
      ]
     },
     "execution_count": 23,
     "metadata": {},
     "output_type": "execute_result"
    }
   ],
   "source": [
    "rad_mean_weigthed = np.average(radii, weights=scores)\n",
    "rot_mean_weighted = circular_mean_period(rotations, p=np.radians(60), weights=scores)\n",
    "rad_mean_weigthed, rot_mean_weighted"
   ]
  },
  {
   "cell_type": "code",
   "execution_count": 24,
   "id": "ceb8f0c9-beff-4331-8d82-a469f9d64e67",
   "metadata": {
    "tags": []
   },
   "outputs": [
    {
     "name": "stdout",
     "output_type": "stream",
     "text": [
      "weighted means:\n",
      "radius: 30.7 cm\n",
      "rotation: 16.0°\n"
     ]
    }
   ],
   "source": [
    "print(\"weighted means:\")\n",
    "print(\"radius: {:.1f} cm\".format(rad_mean_weigthed))\n",
    "print(\"rotation: {:.1f}°\".format(np.rad2deg(rot_mean_weighted)))"
   ]
  },
  {
   "cell_type": "markdown",
   "id": "6df0f081-252f-4a42-abdf-531d89dede3e",
   "metadata": {
    "tags": []
   },
   "source": [
    "## detailed for one grid cell"
   ]
  },
  {
   "cell_type": "code",
   "execution_count": 25,
   "id": "3c657967-714e-463e-b0c9-e422acab4bc8",
   "metadata": {
    "tags": []
   },
   "outputs": [
    {
     "data": {
      "text/plain": [
       "(0, 96, '267')"
      ]
     },
     "execution_count": 25,
     "metadata": {},
     "output_type": "execute_result"
    }
   ],
   "source": [
    "i = 0\n",
    "gc_id = grid_cells[i]\n",
    "n = cg.neuron_list[gc_id]\n",
    "i, gc_id, n.name"
   ]
  },
  {
   "cell_type": "code",
   "execution_count": null,
   "id": "b0a9b12f-c0b5-40cb-9f98-5c5d76b93ac8",
   "metadata": {},
   "outputs": [],
   "source": []
  },
  {
   "cell_type": "code",
   "execution_count": 26,
   "id": "cdaa4a5d-783e-4842-bca2-21ee3594a19c",
   "metadata": {
    "tags": []
   },
   "outputs": [
    {
     "data": {
      "text/plain": [
       "1.411069317738117"
      ]
     },
     "execution_count": 26,
     "metadata": {},
     "output_type": "execute_result"
    }
   ],
   "source": [
    "# calculate grid score, this calls calculate_doughnut() which in turn calls spatial_autocorrelation_field_detection() which in turn calls spatial_autocorrelation_map_2d() and sets points_inside_dougnut\n",
    "grid_score = n.spatial_properties.grid_score()\n",
    "grid_score"
   ]
  },
  {
   "cell_type": "code",
   "execution_count": 27,
   "id": "d47c0149-d83a-48cf-b254-1021fb173f9b",
   "metadata": {
    "tags": []
   },
   "outputs": [
    {
     "data": {
      "text/plain": [
       "array([[20, 31],\n",
       "       [24, 45],\n",
       "       [31, 21],\n",
       "       [35, 35],\n",
       "       [39, 49],\n",
       "       [46, 25],\n",
       "       [50, 39]])"
      ]
     },
     "execution_count": 27,
     "metadata": {},
     "output_type": "execute_result"
    }
   ],
   "source": [
    "points_inside_dougnut = np.array(n.spatial_properties.points_inside_dougnut)\n",
    "points_inside_dougnut"
   ]
  },
  {
   "cell_type": "code",
   "execution_count": 28,
   "id": "7cc4daaa-ce3d-4615-95c4-3889f78aba83",
   "metadata": {
    "tags": []
   },
   "outputs": [
    {
     "data": {
      "text/plain": [
       "(29.832867780352593,\n",
       " 0.27502157910213676,\n",
       " 5.0011186151953675,\n",
       " array([[49.85586442, 39.55082172],\n",
       "        [39.1698177 , 49.95795415],\n",
       "        [24.81395327, 45.90713242],\n",
       "        [21.14413558, 31.44917828],\n",
       "        [31.8301823 , 21.04204585],\n",
       "        [46.18604673, 25.09286758],\n",
       "        [49.85586442, 39.55082172]]))"
      ]
     },
     "execution_count": 28,
     "metadata": {},
     "output_type": "execute_result"
    }
   ],
   "source": [
    "# this calculates the grid cell metrics\n",
    "grid_info = n.spatial_properties.grid_info()\n",
    "hexagon_radius, rotation, error, hexagon_rotated = grid_info\n",
    "grid_info"
   ]
  },
  {
   "cell_type": "code",
   "execution_count": null,
   "id": "498e7498-9a57-45d3-aaf2-4efce653e9ba",
   "metadata": {},
   "outputs": [],
   "source": []
  },
  {
   "cell_type": "code",
   "execution_count": 29,
   "id": "6f662553-84a4-4d4e-b202-b517861e0312",
   "metadata": {
    "tags": []
   },
   "outputs": [
    {
     "data": {
      "image/png": "[encoded data removed]",
      "text/plain": [
       "<Figure size 432x288 with 1 Axes>"
      ]
     },
     "metadata": {},
     "output_type": "display_data"
    }
   ],
   "source": [
    "fig,ax = plt.subplots()\n",
    "\n",
    "\n",
    "\n",
    "ax.imshow(n.spatial_properties.spatial_autocorrelation_map.T, cmap='jet')\n",
    "ax.set_title(\"grid score: {:.2f}\".format(grid_score))\n",
    "ax.set_xticks([])\n",
    "ax.set_yticks([])\n",
    "\n",
    "# could we find fields inside doughnut\n",
    "if len(points_inside_dougnut):\n",
    "    midpoint = n.spatial_properties.autocorr_midpoint\n",
    "    circle_outer = plt.Circle(midpoint, n.spatial_properties.r_outer_radius_use, color='black' , fill=False)\n",
    "    circle_inner = plt.Circle(midpoint, n.spatial_properties.r_inner_radius_use, color='black' , fill=False)\n",
    "    ax.scatter(points_inside_dougnut[:,0],points_inside_dougnut[:,1], color='black')\n",
    "    ax.add_patch(circle_outer)\n",
    "    ax.add_patch(circle_inner)\n",
    "    \n",
    "    # did we obtain a valid grid info\n",
    "    if np.isfinite(hexagon_radius):\n",
    "        circle_median = plt.Circle(midpoint, hexagon_radius/ap.occupancy_cm_per_bin, color='blue', ls='dashed', fill=False)\n",
    "        ax.add_patch(circle_median)\n",
    "        ax.plot(hexagon_rotated[:,0], hexagon_rotated[:,1] , color=\"blue\")\n",
    "        \n",
    "        ax.plot([midpoint[0],hexagon_rotated[0,0]] , [midpoint[1],midpoint[1]] , color=\"grey\", lw=3, alpha=.75)\n",
    "        ax.plot([midpoint[0],hexagon_rotated[0,0]] , [midpoint[1],hexagon_rotated[0,1]] , color=\"blue\", lw=3)\n",
    "        \n",
    "        ax.text(7,10, \"rotation: {:3.1f} °\".format(np.rad2deg(rotation)))\n",
    "        ax.text(7,15, \"radius: {:.1f} cm\".format(hexagon_radius))\n",
    "        ax.text(7,20, \"error: {:.2f}\".format(error))\n",
    "\n",
    "\n",
    "\n",
    "plt.suptitle(\"autocorrelation map\", fontweight='bold')\n",
    "plt.tight_layout()\n",
    "plt.show()"
   ]
  },
  {
   "cell_type": "code",
   "execution_count": null,
   "id": "d77d4a60-a855-46b2-b6f3-47f7d1e93b11",
   "metadata": {},
   "outputs": [],
   "source": []
  },
  {
   "cell_type": "code",
   "execution_count": null,
   "id": "fd6aa16b-e0db-4566-b5e5-1b754f13218d",
   "metadata": {},
   "outputs": [],
   "source": []
  },
  {
   "cell_type": "raw",
   "id": "7f3d398d-ad3d-480b-b07f-7cab05becbeb",
   "metadata": {},
   "source": [
    "As requested recently, the documentation on the method grid_info() of the Spatial_properties class  of spikeA has been updated.\n",
    "It returns the metrics of a grid cell, how it is usually classified: spacing, rotation.In addition, a visual example of its usage is provided in a Jupyter notebook available under spikeA/docs_notebooks/gridcell_metrics.ipynb\n",
    "Attached you find the kind of figure I regularly use to visualize these GC metrics as returned by the aforementioned method.\n",
    "\n",
    "    black dots: the center of the fields detected by spatial_autocorrelation_field_detection\n",
    "    concentric circles with solid lines: the inner and outer radius for the doughnut as obtained from calculate_doughnut\n",
    "    circle with dashed line: has as radius the median radius of the 6 fields (omitting the central 7th peak)\n",
    "    blue hexagon: MSE fitted hexagon (minimize loss function = distance of a hexagon with arbitrary rotation to the fields of the autocorrelation map)\n",
    "    blue solid line: shows the rotation angle against the grey solid line\n",
    "    grey solid line: angle = 0°\n",
    "\n",
    "Things you have to understand when using this function:\n",
    "\n",
    "    the coordinate system of positrack is x increasing to the east, y increasing to south (right-handed coordinate system),\n",
    "    angles are measured positive in the clockwise direction, absolute angle 0 is at vector (x,y) = (1,0). Thus, this convention is compatible with functions like arctan2, pretty useful.\n",
    "\n",
    "When doing an analysis on several cells, it turns out to be useful to average some of the metrics. The rotation is between 0 and 60°, so first stretch the values to 360° then do a circular mean/median/.. and then squueeze again to 60°. This can be done by the circular_mean_period function as written in the notebook."
   ]
  },
  {
   "cell_type": "code",
   "execution_count": null,
   "id": "96e8299b-5166-421f-964a-4057ca676de0",
   "metadata": {},
   "outputs": [],
   "source": []
  }
 ],
 "metadata": {
  "kernelspec": {
   "display_name": "spikeAenv",
   "language": "python",
   "name": "spikeaenv"
  },
  "language_info": {
   "codemirror_mode": {
    "name": "ipython",
    "version": 3
   },
   "file_extension": ".py",
   "mimetype": "text/x-python",
   "name": "python",
   "nbconvert_exporter": "python",
   "pygments_lexer": "ipython3",
   "version": "3.8.10"
  }
 },
 "nbformat": 4,
 "nbformat_minor": 5
}
