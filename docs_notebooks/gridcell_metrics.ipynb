{
 "cells": [
  {
   "cell_type": "markdown",
   "id": "a01fd4d1-0d37-4f7b-ac16-d9f2f49b2fde",
   "metadata": {},
   "source": [
    "# Obtain metrics of a grid cell"
   ]
  },
  {
   "cell_type": "code",
   "execution_count": null,
   "id": "a2b72a06-9fe9-4db0-af41-b18faa2ddc18",
   "metadata": {},
   "outputs": [],
   "source": []
  },
  {
   "cell_type": "code",
   "execution_count": null,
   "id": "0f66a3f7-7796-4243-8588-efaba9d0d9ca",
   "metadata": {},
   "outputs": [],
   "source": []
  },
  {
   "cell_type": "markdown",
   "id": "15db1cd6-10cd-415c-8690-4589a84821ca",
   "metadata": {
    "jp-MarkdownHeadingCollapsed": true,
    "tags": []
   },
   "source": [
    "## imports, helper functions"
   ]
  },
  {
   "cell_type": "code",
   "execution_count": 33,
   "id": "462f422c-d88e-4ed4-9f92-ccad41d25d19",
   "metadata": {},
   "outputs": [
    {
     "name": "stdout",
     "output_type": "stream",
     "text": [
      "The autoreload extension is already loaded. To reload it, use:\n",
      "  %reload_ext autoreload\n"
     ]
    }
   ],
   "source": [
    "%load_ext autoreload\n",
    "%autoreload 2\n",
    "\n",
    "import numpy as np\n",
    "import matplotlib.pyplot as plt\n",
    "%matplotlib inline\n",
    "\n",
    "from spikeA.Session import *\n",
    "from spikeA.Spike_train_loader import Spike_train_loader\n",
    "from spikeA.Cell_group import Cell_group\n",
    "from spikeA.Animal_pose import Animal_pose"
   ]
  },
  {
   "cell_type": "code",
   "execution_count": 34,
   "id": "54282c42-cbe4-4bf8-8543-80d810181ead",
   "metadata": {
    "tags": []
   },
   "outputs": [],
   "source": [
    "def circular_mean(angles, weights=None):\n",
    "    # https://en.wikipedia.org/wiki/Circular_mean\n",
    "    # https://stackoverflow.com/a/70317140\n",
    "    \n",
    "    if weights is None:\n",
    "        weights = np.ones(len(angles))\n",
    "        \n",
    "    vectors = [ [w*np.cos(a), w*np.sin(a)]  for a,w in zip(angles,weights) ]\n",
    "    vector = np.sum(vectors, axis=0) / np.sum(weights)    \n",
    "    x,y = vector\n",
    "    \n",
    "    angle_mean = np.arctan2(y,x)\n",
    "    vectorlen = np.linalg.norm(vector)\n",
    "    angle_variance = (1. - vectorlen) * np.pi\n",
    "    angle_std = np.sqrt(-2.*np.log(vectorlen))\n",
    "    \n",
    "    return angle_mean, vectorlen, angle_std# angle_variance\n",
    "\n",
    "def circular_mean_period(signal, p, weights=None):\n",
    "    # circular mean with arbitrary period\n",
    "    #  (using period p instead of 2pi, stretch then with inverse f(X/s)*s )\n",
    "    s = p/(2*np.pi)\n",
    "    return ( circular_mean(np.array(signal)/s, weights=weights)[0] % (2*np.pi) ) *s"
   ]
  },
  {
   "cell_type": "markdown",
   "id": "2150ccb2-9798-43fe-bc51-cee24330a0cf",
   "metadata": {
    "jp-MarkdownHeadingCollapsed": true,
    "tags": []
   },
   "source": [
    "## load session"
   ]
  },
  {
   "cell_type": "code",
   "execution_count": 2,
   "id": "30a12d3a-d1ac-46c1-aa6c-285094de34ef",
   "metadata": {},
   "outputs": [],
   "source": [
    "name=\"bt1296-27102022-0105\"\n",
    "# name=\"pk9254-20122022-0104\"\n",
    "# some light/dark protocol recording ...\n",
    "# ..."
   ]
  },
  {
   "cell_type": "code",
   "execution_count": 3,
   "id": "62ca02f1-b5e6-4fb2-b1dc-1cb0b46a6719",
   "metadata": {},
   "outputs": [
    {
     "name": "stdout",
     "output_type": "stream",
     "text": [
      "Path: /adata/electro/bt1296/bt1296-27102022-0105/\n",
      "Mouse: bt1296\n",
      "Session: 27102022-0105\n",
      "Name: bt1296-27102022-0105 , bt1296-27102022-0105\n",
      "\n",
      "Path: OK\n"
     ]
    }
   ],
   "source": [
    "import os\n",
    "\n",
    "basedir = \"/adata/electro\"\n",
    "subject, session = name.split(\"-\",1)\n",
    "path = basedir+\"/\"+subject+\"/\"+name+\"/\"\n",
    "\n",
    "fname = name.split(\"_\")[0]\n",
    "\n",
    "print(\"Path:\", path)\n",
    "print(\"Mouse:\", subject) # directory = mouse subject name\n",
    "print(\"Session:\", session)\n",
    "print(\"Name:\", name, \",\", fname)\n",
    "print(\"\")\n",
    "print(\"Path:\", \"OK\" if os.path.isdir(path) else \"invalid\")"
   ]
  },
  {
   "cell_type": "code",
   "execution_count": 4,
   "id": "3e2c7264-c169-4bdc-81ed-8101df134ecc",
   "metadata": {},
   "outputs": [
    {
     "name": "stdout",
     "output_type": "stream",
     "text": [
      "<class 'spikeA.Session.Kilosort_session'>\n",
      "name = bt1296-27102022-0105\n",
      "path = /adata/electro/bt1296/bt1296-27102022-0105\n",
      "subject = bt1296\n",
      "session_dat_time = 2022-10-27 01:05:00\n",
      "fileBase = /adata/electro/bt1296/bt1296-27102022-0105/bt1296-27102022-0105\n",
      "data_type = kilosort\n",
      "file_names = {'par': '/adata/electro/bt1296/bt1296-27102022-0105/bt1296-27102022-0105.par', 'desen': '/adata/electro/bt1296/bt1296-27102022-0105/bt1296-27102022-0105.desen', 'desel': '/adata/electro/bt1296/bt1296-27102022-0105/bt1296-27102022-0105.desel', 'sampling_rate': '/adata/electro/bt1296/bt1296-27102022-0105/bt1296-27102022-0105.sampling_rate_dat', 'stimulation': '/adata/electro/bt1296/bt1296-27102022-0105/bt1296-27102022-0105.stimulation', 'px_per_cm': '/adata/electro/bt1296/bt1296-27102022-0105/bt1296-27102022-0105.px_per_cm', 'setup': '/adata/electro/bt1296/bt1296-27102022-0105/bt1296-27102022-0105.setup', 'environmentFamiliarity': '/adata/electro/bt1296/bt1296-27102022-0105/bt1296-27102022-0105.environmentFamiliarity', 'params': '/adata/electro/bt1296/bt1296-27102022-0105/params.py', 'amplitudes': '/adata/electro/bt1296/bt1296-27102022-0105/amplitudes.npy', 'channel_map': '/adata/electro/bt1296/bt1296-27102022-0105/channel_map.npy', 'channel_positions': '/adata/electro/bt1296/bt1296-27102022-0105/channel_positions.npy', 'pc_features': '/adata/electro/bt1296/bt1296-27102022-0105/pc_features.npy', 'pc_feature_ind': '/adata/electro/bt1296/bt1296-27102022-0105/pc_feature_ind.npy', 'spike_templates': '/adata/electro/bt1296/bt1296-27102022-0105/spike_templates.npy', 'templates': '/adata/electro/bt1296/bt1296-27102022-0105/templates.npy', 'spike_times': '/adata/electro/bt1296/bt1296-27102022-0105/spike_times.npy', 'spike_clusters': '/adata/electro/bt1296/bt1296-27102022-0105/spike_clusters.npy', 'cluster_group': '/adata/electro/bt1296/bt1296-27102022-0105/cluster_group.tsv', 'dat': ['/adata/electro/bt1296/bt1296-27102022-0105/bt1296-27102022_01.dat', '/adata/electro/bt1296/bt1296-27102022-0105/bt1296-27102022_02.dat', '/adata/electro/bt1296/bt1296-27102022-0105/bt1296-27102022_03.dat', '/adata/electro/bt1296/bt1296-27102022-0105/bt1296-27102022_04.dat', '/adata/electro/bt1296/bt1296-27102022-0105/bt1296-27102022_05.dat']}\n",
      "n_channels = 65\n",
      "dat_dtype = int16\n",
      "dat_offset = 0\n",
      "sampling_rate = 20000.0\n",
      "n_shanks = 8\n",
      "n_trials = 5\n",
      "trial_names = ['bt1296-27102022_01', 'bt1296-27102022_02', 'bt1296-27102022_03', 'bt1296-27102022_04', 'bt1296-27102022_05']\n",
      "desen = ['circ80', 'rb', 'sqr70', 'rb', 'circ80']\n",
      "desel = ['mec', 'mec', 'mec', 'mec', 'mec', 'mec', 'mec', 'mec']\n",
      "stimulation = ['none', 'none', 'none', 'none', 'none']\n",
      "setup = ['28a', '28a', '28a', '28a', '28a']\n",
      "environmentFamiliarity = ['fam', 'fam', 'novel', 'fam', 'fam']\n",
      "px_per_cm = 9.0\n",
      "dat_file_names = ['/adata/electro/bt1296/bt1296-27102022-0105/bt1296-27102022_01.dat', '/adata/electro/bt1296/bt1296-27102022-0105/bt1296-27102022_02.dat', '/adata/electro/bt1296/bt1296-27102022-0105/bt1296-27102022_03.dat', '/adata/electro/bt1296/bt1296-27102022-0105/bt1296-27102022_04.dat', '/adata/electro/bt1296/bt1296-27102022-0105/bt1296-27102022_05.dat']\n",
      "trial_intervals = <spikeA.Intervals.Intervals object at 0x7f5e4a3e7550>\n",
      "log_times = []\n"
     ]
    }
   ],
   "source": [
    "ses = Kilosort_session(name=fname, path=path)\n",
    "ses.load_parameters_from_files()\n",
    "print(ses)"
   ]
  },
  {
   "cell_type": "code",
   "execution_count": 5,
   "id": "d0c1e705-649d-432b-9526-62f22bf03fbc",
   "metadata": {},
   "outputs": [
    {
     "name": "stdout",
     "output_type": "stream",
     "text": [
      "cells: 99\n"
     ]
    }
   ],
   "source": [
    "stl = Spike_train_loader()\n",
    "stl.load_spike_train_kilosort(ses)\n",
    "# print(\"stl.clu_ids\",stl.clu_ids)\n",
    "cg = Cell_group(stl)\n",
    "print(\"cells:\", len(cg.neuron_list))"
   ]
  },
  {
   "cell_type": "code",
   "execution_count": 6,
   "id": "b1f5f8c2-9bc1-4b26-b676-f7a1429aa2ba",
   "metadata": {},
   "outputs": [
    {
     "name": "stdout",
     "output_type": "stream",
     "text": [
      "look for /adata/electro/bt1296/bt1296-27102022-0105/bt1296-27102022-0105.pose.npy\n",
      "load from saved pose file\n"
     ]
    }
   ],
   "source": [
    "ap = Animal_pose(ses)\n",
    "posefilename = ses.fileBase + ap.pose_file_extension\n",
    "print(\"look for\", posefilename)\n",
    "if not os.path.exists(posefilename):\n",
    "    print(\"load from positrack\")\n",
    "    extension = ap.positrack_type()\n",
    "    print(\"use extension:\",extension)\n",
    "    ap.pose_from_positrack_files(ses=ses, interpolation_frequency_hz = 50, extension=extension)\n",
    "    ap.save_pose_to_file() # save the file for next time\n",
    "else:\n",
    "    print(\"load from saved pose file\")\n",
    "    ap.load_pose_from_file()"
   ]
  },
  {
   "cell_type": "code",
   "execution_count": 7,
   "id": "90e43d42-9c0b-400e-8eac-7926ce0ac8eb",
   "metadata": {},
   "outputs": [],
   "source": [
    "trial = 2"
   ]
  },
  {
   "cell_type": "code",
   "execution_count": 8,
   "id": "627c0ef6-9eb0-44bf-966f-36c8f210ae35",
   "metadata": {},
   "outputs": [],
   "source": [
    "session_trials = ses.session_trials()\n",
    "tn,su,en,(shape,diam,color,cue),ef,iv = session_trials[trial]"
   ]
  },
  {
   "cell_type": "code",
   "execution_count": 9,
   "id": "9c14e43c-b710-468e-ad92-0735c6e9ec52",
   "metadata": {},
   "outputs": [
    {
     "data": {
      "text/plain": [
       "('bt1296-27102022_03',\n",
       " '28a',\n",
       " 'sqr70',\n",
       " ('square', 70.0, None, None),\n",
       " 'novel',\n",
       " array([1814.688  , 3021.19195]))"
      ]
     },
     "execution_count": 9,
     "metadata": {},
     "output_type": "execute_result"
    }
   ],
   "source": [
    "tn,su,en,(shape,diam,color,cue),ef,iv"
   ]
  },
  {
   "cell_type": "code",
   "execution_count": null,
   "id": "873240c4-a0c9-49d8-9058-ec9206c04e95",
   "metadata": {},
   "outputs": [],
   "source": []
  },
  {
   "cell_type": "code",
   "execution_count": 10,
   "id": "0c7d0335-cb78-4a79-8af3-06467b23fd05",
   "metadata": {},
   "outputs": [],
   "source": [
    "## restrict to trial = set appropriate interval\n",
    "ap.set_intervals(iv)\n",
    "cg.set_spatial_properties(ap)\n",
    "\n",
    "# detect xy_range (do this once per trial, use this for every neuron later)\n",
    "xy_range = ap.find_xy_range(diameter = diam)\n",
    "center = np.mean(xy_range,axis=0)\n",
    "\n",
    "ap.invalid_outside_spatial_area(environment_shape=shape, radius=diam/2., length=diam, center=center)\n",
    "ap.occupancy_map_2d()\n",
    "\n",
    "\n",
    "firing_rate_maps = []\n",
    "grid_scores = []\n",
    "grid_hex = [] # radius and rotation\n",
    "\n",
    "for N, n in enumerate(cg.neuron_list):\n",
    "    # set interval to specific trial\n",
    "    n.spatial_properties.set_intervals(iv)\n",
    "\n",
    "    # use xy_range\n",
    "    n.spatial_properties.ap.invalid_outside_spatial_area(environment_shape=shape, radius=diam/2., length=diam, center=center)        \n",
    "\n",
    "    # plot firing rate map\n",
    "    n.spatial_properties.firing_rate_map_2d(cm_per_bin=2, smoothing_sigma_cm=2, smoothing=True, xy_range=xy_range)\n",
    "    firing_rate_map = n.spatial_properties.firing_rate_map\n",
    "    firing_rate_maps.append(firing_rate_map)\n",
    "    \n",
    "    grid_score = n.spatial_properties.grid_score()\n",
    "    grid_scores.append(grid_score)\n",
    "    \n",
    "    grid_info = n.spatial_properties.grid_info()\n",
    "    rad = np.nan\n",
    "    rot = np.nan\n",
    "    if grid_info:\n",
    "        # hexagon_radius, rotation, error, hexagon_rotated = grid_info\n",
    "        rad,rot,*_ = grid_info\n",
    "        #rot = (np.pi/2-rot)%(np.pi/3) # coordinate transformation\n",
    "    grid_hex.append([rad,rot])\n",
    "    \n",
    "    \n",
    "firing_rate_maps = np.array(firing_rate_maps)\n",
    "grid_scores = np.array(grid_scores)\n",
    "grid_hex = np.array(grid_hex)"
   ]
  },
  {
   "cell_type": "code",
   "execution_count": 11,
   "id": "05d75a9f-c0e2-415c-944a-7a8994e11d61",
   "metadata": {
    "tags": []
   },
   "outputs": [
    {
     "data": {
      "text/plain": [
       "((99, 35, 35), (99,))"
      ]
     },
     "execution_count": 11,
     "metadata": {},
     "output_type": "execute_result"
    }
   ],
   "source": [
    "firing_rate_maps.shape, grid_scores.shape"
   ]
  },
  {
   "cell_type": "code",
   "execution_count": null,
   "id": "f45f5a86-fb74-49f7-8e22-f4602d063e1c",
   "metadata": {},
   "outputs": [],
   "source": []
  },
  {
   "cell_type": "markdown",
   "id": "9cc2715e-a301-4da8-bf5f-15b37e1a63b8",
   "metadata": {
    "tags": []
   },
   "source": [
    "## select grid cells"
   ]
  },
  {
   "cell_type": "code",
   "execution_count": 12,
   "id": "9ba10adf-3851-4080-a0aa-8f2aeeede7d7",
   "metadata": {},
   "outputs": [
    {
     "data": {
      "text/plain": [
       "array([96, 76, 64, 67, 71, 98])"
      ]
     },
     "execution_count": 12,
     "metadata": {},
     "output_type": "execute_result"
    }
   ],
   "source": [
    "# choose some grid cells with highest grid score\n",
    "n_cells = 6\n",
    "grid_cells = np.flip(np.argsort(grid_scores))[:n_cells]\n",
    "grid_cells"
   ]
  },
  {
   "cell_type": "code",
   "execution_count": null,
   "id": "49e448f9-0be2-44fd-9b85-df7263df35d8",
   "metadata": {},
   "outputs": [],
   "source": []
  },
  {
   "cell_type": "code",
   "execution_count": null,
   "id": "cf0b5508-a9d7-4968-a566-24eb5d622042",
   "metadata": {},
   "outputs": [],
   "source": []
  },
  {
   "cell_type": "markdown",
   "id": "7a1c8421-a610-4f2d-b862-595369789d63",
   "metadata": {
    "tags": []
   },
   "source": [
    "### calculate grid cell metrics"
   ]
  },
  {
   "cell_type": "code",
   "execution_count": 39,
   "id": "41a09dd3-7d3c-4556-8e70-fc9e61d25b06",
   "metadata": {},
   "outputs": [
    {
     "data": {
      "image/png": "[encoded data removed]",
      "text/plain": [
       "<Figure size 1224x288 with 6 Axes>"
      ]
     },
     "metadata": {},
     "output_type": "display_data"
    }
   ],
   "source": [
    "fig,ax = plt.subplots(ncols=len(grid_cells), nrows=1, figsize=(17,4))\n",
    "\n",
    "for i, (gc_id, fmap, grid_score, (rad,rot)) in enumerate(zip(grid_cells, firing_rate_maps[grid_cells], grid_scores[grid_cells], grid_hex[grid_cells])):\n",
    "    ax[i].imshow(fmap.T, cmap='jet')\n",
    "    ax[i].set_xticks([])\n",
    "    ax[i].set_yticks([])\n",
    "    ax[i].set_title(\"cell {} (id: {})\\ngrid score: {:.2f}\\nradius: {:.1f} cm, rotation: {:.1f}°\".format(i, gc_id, grid_score, rad, np.rad2deg(rot)))\n",
    "\n",
    "plt.suptitle(\"Grid Cells ({})\".format(len(grid_cells)), fontweight='bold', fontsize=14)\n",
    "plt.tight_layout()\n",
    "plt.show()"
   ]
  },
  {
   "cell_type": "code",
   "execution_count": null,
   "id": "f65ed867-abd2-4f44-b068-3f77238fd264",
   "metadata": {},
   "outputs": [],
   "source": []
  },
  {
   "cell_type": "code",
   "execution_count": 40,
   "id": "aed79fb9-74a9-453c-bb6e-b2e2a53c14c1",
   "metadata": {
    "tags": []
   },
   "outputs": [
    {
     "data": {
      "text/plain": [
       "array([[29.83286778,  0.25386607],\n",
       "       [29.83286778,  0.21155506],\n",
       "       [30.48884539,  0.25386607],\n",
       "       [31.05644628,  0.23271057],\n",
       "       [30.09866034,  0.25386607],\n",
       "       [33.314012  ,  0.29617709]])"
      ]
     },
     "execution_count": 40,
     "metadata": {},
     "output_type": "execute_result"
    }
   ],
   "source": [
    "grid_hex[grid_cells]"
   ]
  },
  {
   "cell_type": "code",
   "execution_count": 41,
   "id": "48817c3f-1faf-4659-bab7-4a755c00c2d1",
   "metadata": {
    "tags": []
   },
   "outputs": [
    {
     "data": {
      "text/plain": [
       "(array([29.83286778, 29.83286778, 30.48884539, 31.05644628, 30.09866034,\n",
       "        33.314012  ]),\n",
       " array([0.25386607, 0.21155506, 0.25386607, 0.23271057, 0.25386607,\n",
       "        0.29617709]))"
      ]
     },
     "execution_count": 41,
     "metadata": {},
     "output_type": "execute_result"
    }
   ],
   "source": [
    "radii,rotations = grid_hex[grid_cells].T\n",
    "radii,rotations"
   ]
  },
  {
   "cell_type": "code",
   "execution_count": 42,
   "id": "8dff230a-da59-4fc9-8e25-5c2f14502464",
   "metadata": {
    "tags": []
   },
   "outputs": [],
   "source": [
    "rad_mean = np.mean(radii)\n",
    "rot_mean = circular_mean_period(rotations, p=np.radians(60))"
   ]
  },
  {
   "cell_type": "code",
   "execution_count": 43,
   "id": "16e59013-7969-4d09-9299-20e6dc6b68e8",
   "metadata": {
    "tags": []
   },
   "outputs": [
    {
     "name": "stdout",
     "output_type": "stream",
     "text": [
      "radius: 30.8 cm\n",
      "rotation: 14.3°\n"
     ]
    }
   ],
   "source": [
    "print(\"radius: {:.1f} cm\".format(rad_mean))\n",
    "print(\"rotation: {:.1f}°\".format(np.rad2deg(rot_mean)))"
   ]
  },
  {
   "cell_type": "code",
   "execution_count": null,
   "id": "7f1070d7-d45e-430c-ba44-8a35c722d5c1",
   "metadata": {},
   "outputs": [],
   "source": []
  },
  {
   "cell_type": "markdown",
   "id": "6df0f081-252f-4a42-abdf-531d89dede3e",
   "metadata": {},
   "source": [
    "## detailed for one grid cell"
   ]
  },
  {
   "cell_type": "code",
   "execution_count": 14,
   "id": "3c657967-714e-463e-b0c9-e422acab4bc8",
   "metadata": {
    "tags": []
   },
   "outputs": [
    {
     "data": {
      "text/plain": [
       "(0, 96, '267')"
      ]
     },
     "execution_count": 14,
     "metadata": {},
     "output_type": "execute_result"
    }
   ],
   "source": [
    "i = 0\n",
    "gc_id = grid_cells[0]\n",
    "n = cg.neuron_list[gc_id]\n",
    "i, gc_id, n.name"
   ]
  },
  {
   "cell_type": "code",
   "execution_count": null,
   "id": "b0a9b12f-c0b5-40cb-9f98-5c5d76b93ac8",
   "metadata": {},
   "outputs": [],
   "source": []
  },
  {
   "cell_type": "code",
   "execution_count": 15,
   "id": "cdaa4a5d-783e-4842-bca2-21ee3594a19c",
   "metadata": {
    "tags": []
   },
   "outputs": [
    {
     "data": {
      "text/plain": [
       "1.411069317738117"
      ]
     },
     "execution_count": 15,
     "metadata": {},
     "output_type": "execute_result"
    }
   ],
   "source": [
    "# calculate grid score, this calls calculate_doughnut() which in turn calls spatial_autocorrelation_field_detection() which in turn calls spatial_autocorrelation_map_2d() and sets points_inside_dougnut\n",
    "grid_score = n.spatial_properties.grid_score()\n",
    "grid_score"
   ]
  },
  {
   "cell_type": "code",
   "execution_count": 16,
   "id": "d47c0149-d83a-48cf-b254-1021fb173f9b",
   "metadata": {
    "tags": []
   },
   "outputs": [
    {
     "data": {
      "text/plain": [
       "array([[31, 20],\n",
       "       [45, 24],\n",
       "       [21, 31],\n",
       "       [35, 35],\n",
       "       [49, 39],\n",
       "       [25, 46],\n",
       "       [39, 50]])"
      ]
     },
     "execution_count": 16,
     "metadata": {},
     "output_type": "execute_result"
    }
   ],
   "source": [
    "points_inside_dougnut = np.array(n.spatial_properties.points_inside_dougnut)\n",
    "points_inside_dougnut"
   ]
  },
  {
   "cell_type": "code",
   "execution_count": 17,
   "id": "7cc4daaa-ce3d-4615-95c4-3889f78aba83",
   "metadata": {
    "tags": []
   },
   "outputs": [
    {
     "data": {
      "text/plain": [
       "(29.832867780352593,\n",
       " 0.253866073017357,\n",
       " 4.992597017592948,\n",
       " array([[49.93834281, 39.24623235],\n",
       "        [39.47483903, 49.87708784],\n",
       "        [25.03649621, 46.13085549],\n",
       "        [21.06165719, 31.75376765],\n",
       "        [31.52516097, 21.12291216],\n",
       "        [45.96350379, 24.86914451],\n",
       "        [49.93834281, 39.24623235]]))"
      ]
     },
     "execution_count": 17,
     "metadata": {},
     "output_type": "execute_result"
    }
   ],
   "source": [
    "# this calculates the grid cell metrics\n",
    "grid_info = n.spatial_properties.grid_info()\n",
    "hexagon_radius, rotation, error, hexagon_rotated = grid_info\n",
    "grid_info"
   ]
  },
  {
   "cell_type": "code",
   "execution_count": null,
   "id": "498e7498-9a57-45d3-aaf2-4efce653e9ba",
   "metadata": {},
   "outputs": [],
   "source": []
  },
  {
   "cell_type": "code",
   "execution_count": 32,
   "id": "6f662553-84a4-4d4e-b202-b517861e0312",
   "metadata": {
    "tags": []
   },
   "outputs": [
    {
     "data": {
      "image/png": "[encoded data removed]",
      "text/plain": [
       "<Figure size 432x288 with 1 Axes>"
      ]
     },
     "metadata": {},
     "output_type": "display_data"
    }
   ],
   "source": [
    "fig,ax = plt.subplots()\n",
    "\n",
    "\n",
    "\n",
    "ax.imshow(n.spatial_properties.spatial_autocorrelation_map.T, cmap='jet')\n",
    "ax.set_title(\"grid score: {:.2f}\".format(grid_score))\n",
    "ax.set_xticks([])\n",
    "ax.set_yticks([])\n",
    "\n",
    "# could we find fields inside doughnut\n",
    "if len(points_inside_dougnut):\n",
    "    midpoint = n.spatial_properties.autocorr_midpoint\n",
    "    circle_outer = plt.Circle(midpoint, n.spatial_properties.r_outer_radius_use, color='black' , fill=False)\n",
    "    circle_inner = plt.Circle(midpoint, n.spatial_properties.r_inner_radius_use, color='black' , fill=False)\n",
    "    ax.scatter(points_inside_dougnut[:,1],points_inside_dougnut[:,0], color='black')\n",
    "    ax.add_patch(circle_outer)\n",
    "    ax.add_patch(circle_inner)\n",
    "    \n",
    "    # did we obtain a valid grid info\n",
    "    if np.isfinite(hexagon_radius):\n",
    "        circle_median = plt.Circle(midpoint, hexagon_radius/ap.occupancy_cm_per_bin, color='blue', ls='dashed', fill=False)\n",
    "        ax.add_patch(circle_median)\n",
    "        ax.plot(hexagon_rotated[:,1], hexagon_rotated[:,0] , color=\"blue\")\n",
    "        \n",
    "        ax.plot([midpoint[0],hexagon_rotated[0,0]] , [midpoint[1],midpoint[1]] , color=\"grey\", lw=3, alpha=.75)\n",
    "        ax.plot([midpoint[0],hexagon_rotated[0,0]] , [midpoint[1],hexagon_rotated[0,1]] , color=\"blue\", lw=3)\n",
    "        \n",
    "        ax.text(7,10, \"rotation: {:3.1f} °\".format(np.rad2deg(rotation)))\n",
    "        ax.text(7,15, \"radius: {:.1f} cm\".format(hexagon_radius))\n",
    "        ax.text(7,20, \"error: {:.2f}\".format(error))\n",
    "\n",
    "\n",
    "\n",
    "plt.suptitle(\"autocorrelation map\", fontweight='bold')\n",
    "plt.tight_layout()\n",
    "plt.show()"
   ]
  },
  {
   "cell_type": "code",
   "execution_count": null,
   "id": "d77d4a60-a855-46b2-b6f3-47f7d1e93b11",
   "metadata": {},
   "outputs": [],
   "source": []
  }
 ],
 "metadata": {
  "kernelspec": {
   "display_name": "spikeAenv",
   "language": "python",
   "name": "spikeaenv"
  },
  "language_info": {
   "codemirror_mode": {
    "name": "ipython",
    "version": 3
   },
   "file_extension": ".py",
   "mimetype": "text/x-python",
   "name": "python",
   "nbconvert_exporter": "python",
   "pygments_lexer": "ipython3",
   "version": "3.8.10"
  }
 },
 "nbformat": 4,
 "nbformat_minor": 5
}
