{
 "cells": [
  {
   "cell_type": "markdown",
   "id": "8ab28632-c9d9-4ba7-a95a-fa6ec8cf26d4",
   "metadata": {},
   "source": [
    "# cluster isolation"
   ]
  },
  {
   "cell_type": "markdown",
   "id": "e6ccd989-b77d-4822-ba34-98e8d3b76042",
   "metadata": {
    "jp-MarkdownHeadingCollapsed": true,
    "tags": []
   },
   "source": [
    "## references"
   ]
  },
  {
   "cell_type": "markdown",
   "id": "3a83e911-905b-4c6b-bc23-9d0b7a71c692",
   "metadata": {},
   "source": [
    "[*Quantitative measures of cluster quality for use in extracellular recordings*, Schmitzer-Torbert et al. 2005](https://doi.org/10.1016/j.neuroscience.2004.09.066)\n",
    "\n",
    "c.f.\n",
    "* relectro package implementation\n",
    "    * `relectro/man/isolationDistance-methods.Rd`\n",
    "    * `relectro/R/SpikeTrain.R`\n",
    "\n",
    "* spikeA implementation for previous publication\n",
    "    * `Jazi_et.al_2023_noInt/ExtDataFig11/ExtendedData_fig11.ipynb`"
   ]
  },
  {
   "cell_type": "code",
   "execution_count": null,
   "id": "18d0d703-a2ee-4fa2-a1a9-36e245f34476",
   "metadata": {},
   "outputs": [],
   "source": []
  },
  {
   "cell_type": "markdown",
   "id": "bf37d7a5-61ce-4949-b23c-634da6c74b69",
   "metadata": {
    "jp-MarkdownHeadingCollapsed": true,
    "tags": []
   },
   "source": [
    "## load spikeA session"
   ]
  },
  {
   "cell_type": "code",
   "execution_count": 1,
   "id": "c8240524-3b51-4ca5-af2b-a318edeec401",
   "metadata": {
    "tags": []
   },
   "outputs": [],
   "source": [
    "import numpy as np\n",
    "\n",
    "import matplotlib.pyplot as plt\n",
    "\n",
    "from tqdm import tqdm\n",
    "\n",
    "from spikeA.Session import *\n",
    "from spikeA.Spike_train_loader import Spike_train_loader\n",
    "from spikeA.Cell_group import Cell_group\n",
    "from spikeA.Animal_pose import Animal_pose\n",
    "from spikeA.Session import Session\n",
    "from spikeA.Intervals import Intervals"
   ]
  },
  {
   "cell_type": "code",
   "execution_count": 2,
   "id": "8ca18a57-c960-4cad-b802-55cd60622733",
   "metadata": {},
   "outputs": [],
   "source": [
    "path,name = \"/adata/electro/pk4926/pk4926-26042024-0101\", \"pk4926-26042024-0101\""
   ]
  },
  {
   "cell_type": "code",
   "execution_count": 3,
   "id": "6dc8e228-d030-4a86-a487-aea23993dfe0",
   "metadata": {},
   "outputs": [
    {
     "name": "stdout",
     "output_type": "stream",
     "text": [
      "<class 'spikeA.Session.Kilosort_session'>\n",
      "name = pk4926-26042024-0101\n",
      "path = /adata/electro/pk4926/pk4926-26042024-0101\n",
      "subject = pk4926\n",
      "session_dat_time = 2024-04-26 01:01:00\n",
      "fileBase = /adata/electro/pk4926/pk4926-26042024-0101/pk4926-26042024-0101\n",
      "file_names = {'par': '/adata/electro/pk4926/pk4926-26042024-0101/pk4926-26042024-0101.par', 'desen': '/adata/electro/pk4926/pk4926-26042024-0101/pk4926-26042024-0101.desen', 'desel': '/adata/electro/pk4926/pk4926-26042024-0101/pk4926-26042024-0101.desel', 'sampling_rate': '/adata/electro/pk4926/pk4926-26042024-0101/pk4926-26042024-0101.sampling_rate_dat', 'stimulation': '/adata/electro/pk4926/pk4926-26042024-0101/pk4926-26042024-0101.stimulation', 'px_per_cm': '/adata/electro/pk4926/pk4926-26042024-0101/pk4926-26042024-0101.px_per_cm', 'setup': '/adata/electro/pk4926/pk4926-26042024-0101/pk4926-26042024-0101.setup', 'environmentFamiliarity': '/adata/electro/pk4926/pk4926-26042024-0101/pk4926-26042024-0101.environmentFamiliarity', 'params': '/adata/electro/pk4926/pk4926-26042024-0101/params.py', 'amplitudes': '/adata/electro/pk4926/pk4926-26042024-0101/amplitudes.npy', 'channel_map': '/adata/electro/pk4926/pk4926-26042024-0101/channel_map.npy', 'channel_positions': '/adata/electro/pk4926/pk4926-26042024-0101/channel_positions.npy', 'pc_features': '/adata/electro/pk4926/pk4926-26042024-0101/pc_features.npy', 'pc_feature_ind': '/adata/electro/pk4926/pk4926-26042024-0101/pc_feature_ind.npy', 'spike_templates': '/adata/electro/pk4926/pk4926-26042024-0101/spike_templates.npy', 'templates': '/adata/electro/pk4926/pk4926-26042024-0101/templates.npy', 'spike_times': '/adata/electro/pk4926/pk4926-26042024-0101/spike_times.npy', 'spike_clusters': '/adata/electro/pk4926/pk4926-26042024-0101/spike_clusters.npy', 'cluster_group': '/adata/electro/pk4926/pk4926-26042024-0101/cluster_group.tsv', 'dat': ['/adata/electro/pk4926/pk4926-26042024-0101/pk4926-26042024_01.dat'], 'log_times': '/adata/electro/pk4926/pk4926-26042024-0101/times.npy'}\n",
      "n_channels = 65\n",
      "dat_dtype = int16\n",
      "dat_offset = 0\n",
      "sampling_rate = 20000.0\n",
      "n_shanks = 2\n",
      "n_trials = 1\n",
      "trial_names = ['pk4926-26042024_01']\n",
      "desen = ['circ80']\n",
      "desel = ['mec', 'mec']\n",
      "stimulation = ['none']\n",
      "setup = ['56']\n",
      "environmentFamiliarity = ['fam']\n",
      "px_per_cm = 5.7\n",
      "dat_file_names = ['/adata/electro/pk4926/pk4926-26042024-0101/pk4926-26042024_01.dat']\n",
      "trial_intervals = <spikeA.Intervals.Intervals object at 0x7f91704cec40>\n",
      "log_times = [   0.         1526.93870881 1647.05018377 1767.14698882 1887.24732841\n",
      " 2007.34785352 2127.60334457 2247.5631616  2367.67244547 2487.7739922\n",
      " 2607.87740109 2727.98288823 2848.06215315 2968.19327964 3088.29166905\n",
      " 3208.40167397 3328.80478807 3448.59971485 3568.70596389 3688.80719961\n",
      " 3808.90893023 5542.48795   ]\n"
     ]
    }
   ],
   "source": [
    "ses = Kilosort_session(name=name, path=path)\n",
    "ses.load_parameters_from_files()\n",
    "print(ses)"
   ]
  },
  {
   "cell_type": "code",
   "execution_count": 4,
   "id": "0edc5973-a023-416b-b722-707987717927",
   "metadata": {
    "tags": []
   },
   "outputs": [
    {
     "name": "stdout",
     "output_type": "stream",
     "text": [
      "stl.clu_ids [  0   1   2   3   4   5   7   8   9  10  11  12  13  14  15  16  17  19\n",
      "  20  21  23  26  27  28  29  31  32  35  36  37  38  39  40  41  42  43\n",
      "  44  46  47  48  49  50  51  52  53  54  55  57  58  59  61  62  63  64\n",
      "  65  66  68  69  70  71  72  73  75  76  77  80  81  82  83  84  85  86\n",
      "  87  88  89  92  93  94  96  97  98  99 100 101 102 104 105 107 108 109\n",
      " 110 111 112 113 115 116 117 118 119 120 121 122 123 124 126 127 129 130]\n"
     ]
    },
    {
     "data": {
      "text/plain": [
       "108"
      ]
     },
     "execution_count": 4,
     "metadata": {},
     "output_type": "execute_result"
    }
   ],
   "source": [
    "stl = Spike_train_loader()\n",
    "stl.load_spike_train_kilosort(ses)\n",
    "print(\"stl.clu_ids\",stl.clu_ids)\n",
    "cg = Cell_group(stl)\n",
    "len(cg.neuron_list)"
   ]
  },
  {
   "cell_type": "markdown",
   "id": "7e071ada-07ed-4015-a010-445fe5b1c220",
   "metadata": {},
   "source": [
    "## calculate isolation distance"
   ]
  },
  {
   "cell_type": "code",
   "execution_count": 5,
   "id": "04ea8c0b-5167-4409-a03d-270f7e33670b",
   "metadata": {
    "tags": []
   },
   "outputs": [],
   "source": [
    "cg.set_info_from_session(ses,1)"
   ]
  },
  {
   "cell_type": "code",
   "execution_count": 6,
   "id": "b7767a70-f264-484d-8fe4-90603eab6e77",
   "metadata": {
    "tags": []
   },
   "outputs": [],
   "source": [
    "from scipy.spatial import distance\n",
    "# https://docs.scipy.org/doc/scipy/reference/generated/scipy.spatial.distance.mahalanobis.html"
   ]
  },
  {
   "cell_type": "code",
   "execution_count": 7,
   "id": "993ceaef-e455-467b-9a07-01aa401d4a46",
   "metadata": {
    "tags": []
   },
   "outputs": [],
   "source": [
    "# get all clusters on same shank as this cell\n",
    "\n",
    "# 1. get shank for neuron\n",
    "def get_shank(n):\n",
    "    shanks_arr, active_shanks, electrodes = ses.get_active_shanks(n.channels)\n",
    "    shank = active_shanks[0]\n",
    "    return shank\n",
    "\n",
    "# 2. get clusters on that shank\n",
    "def clusters_on_shank(shank):\n",
    "    cluOnshk = []\n",
    "    for i,n in enumerate(cg.neuron_list):\n",
    "        shanks_arr, active_shanks, electrodes = ses.get_active_shanks(n.channels)\n",
    "        if shank in active_shanks:\n",
    "            cluOnshk.append(n.cluster_number)\n",
    "    return cluOnshk\n"
   ]
  },
  {
   "cell_type": "code",
   "execution_count": null,
   "id": "f8fbdfd5-91a3-4637-b23e-89ecb9b46a7a",
   "metadata": {},
   "outputs": [],
   "source": []
  },
  {
   "cell_type": "code",
   "execution_count": 8,
   "id": "f8c8fbcb-d167-4ff8-be04-f57a89d5986f",
   "metadata": {},
   "outputs": [
    {
     "data": {
      "text/plain": [
       "(1772250, 3, 32)"
      ]
     },
     "execution_count": 8,
     "metadata": {},
     "output_type": "execute_result"
    }
   ],
   "source": [
    "# load pc features\n",
    "pcf = np.load(ses.path+'/pc_features.npy') ## [nSpikes, nFeaturesPerChannel, nPCFeatures] single\n",
    "pcf.shape"
   ]
  },
  {
   "cell_type": "code",
   "execution_count": 9,
   "id": "08a2ed3b-5b63-4947-802e-79fdeaa08962",
   "metadata": {
    "tags": []
   },
   "outputs": [
    {
     "data": {
      "text/plain": [
       "(1772250,)"
      ]
     },
     "execution_count": 9,
     "metadata": {},
     "output_type": "execute_result"
    }
   ],
   "source": [
    "ses.sc.shape # spike cluster assignment"
   ]
  },
  {
   "cell_type": "code",
   "execution_count": null,
   "id": "ede8824d-087c-4f26-b48f-036c40acb343",
   "metadata": {
    "tags": []
   },
   "outputs": [],
   "source": []
  },
  {
   "cell_type": "code",
   "execution_count": 10,
   "id": "df543c2d-a21d-4d1c-afbe-0828ccf153fc",
   "metadata": {
    "tags": []
   },
   "outputs": [
    {
     "data": {
      "text/plain": [
       "('0', 0)"
      ]
     },
     "execution_count": 10,
     "metadata": {},
     "output_type": "execute_result"
    }
   ],
   "source": [
    "# some example neuron\n",
    "n = cg.neuron_list[0]\n",
    "n.name, n.cluster_number"
   ]
  },
  {
   "cell_type": "code",
   "execution_count": 11,
   "id": "b2a2f54b-e501-47e9-be86-de722c997eb3",
   "metadata": {
    "tags": []
   },
   "outputs": [
    {
     "name": "stdout",
     "output_type": "stream",
     "text": [
      "neuron is active on shank 1 and so many clusters are on that shank too: 59\n"
     ]
    }
   ],
   "source": [
    "shank = int(get_shank(n))\n",
    "cluOnshk = clusters_on_shank(shank)\n",
    "print(\"neuron is active on shank {} and so many clusters are on that shank too: {}\".format(shank,len(cluOnshk)))"
   ]
  },
  {
   "cell_type": "code",
   "execution_count": null,
   "id": "10b5b6ae-6dd9-4d1a-a473-3dee9e4c4b38",
   "metadata": {},
   "outputs": [],
   "source": []
  },
  {
   "cell_type": "code",
   "execution_count": 12,
   "id": "bb0ef2f6-76b2-42a0-89b7-6b253812150d",
   "metadata": {
    "tags": []
   },
   "outputs": [
    {
     "data": {
      "text/plain": [
       "(11369, 3, 32)"
      ]
     },
     "execution_count": 12,
     "metadata": {},
     "output_type": "execute_result"
    }
   ],
   "source": [
    "ind1 = (ses.sc == n.cluster_number) ### index of the spikes for this clu\n",
    "pcf_clu1 = pcf[ind1]\n",
    "pcf_clu1.shape"
   ]
  },
  {
   "cell_type": "code",
   "execution_count": 13,
   "id": "c8df8fa7-9a7a-4f87-8fdb-183453a700f0",
   "metadata": {
    "tags": []
   },
   "outputs": [
    {
     "data": {
      "text/plain": [
       "((11369, 96), (96,), (96, 96))"
      ]
     },
     "execution_count": 13,
     "metadata": {},
     "output_type": "execute_result"
    }
   ],
   "source": [
    "## get the features of the spikes assigned to that cluster\n",
    "## reshape to get all fet from all channels\n",
    "pcfClu1 = pcf_clu1.reshape((pcf_clu1.shape[0],pcf_clu1.shape[1]*pcf_clu1.shape[2]))\n",
    "MeanClu1 = np.mean(pcfClu1, axis = 0)\n",
    "Covclu1 = np.cov(pcfClu1.T)\n",
    "pcfClu1.shape, MeanClu1.shape, Covclu1.shape"
   ]
  },
  {
   "cell_type": "code",
   "execution_count": 14,
   "id": "3724335e-3311-42d5-b7ed-b4c20191cfd3",
   "metadata": {
    "tags": []
   },
   "outputs": [
    {
     "name": "stderr",
     "output_type": "stream",
     "text": [
      "100%|███████████████████████████████████████████| 59/59 [00:43<00:00,  1.37it/s]\n"
     ]
    }
   ],
   "source": [
    "# loop through all clusters on that shank and get the distance\n",
    "\n",
    "MedianD=[]\n",
    "distances=[]\n",
    "pcf_clus=[] ## pc features for all spikes for all clusters\n",
    "Id_clus=[] ## cluster number for corresponding pc features\n",
    "\n",
    "for clu in tqdm(cluOnshk):\n",
    "    ind = (ses.sc == clu) ### index of the spikes for this clu\n",
    "    pcf_clu = pcf[ind]\n",
    "    pcfClu = pcf_clu.reshape((pcf_clu.shape[0],pcf_clu.shape[1]*pcf_clu.shape[2])) ## pc features for all spikes of that clu\n",
    "    pcf_clus.append(pcfClu)\n",
    "    Id_clus.append([clu]*len(pcfClu))\n",
    "\n",
    "    res = np.array([distance.mahalanobis(u,MeanClu1,Covclu1) for u in pcfClu])\n",
    "    distances.append(np.transpose([res,[clu]*len(res)]))\n",
    "    MedianD.append(np.median(res))\n",
    "    #print(np.median(res),clu)\n"
   ]
  },
  {
   "cell_type": "code",
   "execution_count": null,
   "id": "5faf2a99-67d0-45b1-956c-77ea9fa826a6",
   "metadata": {},
   "outputs": [],
   "source": []
  },
  {
   "cell_type": "code",
   "execution_count": 15,
   "id": "593371fe-1247-4f2f-b515-3d814fb4ef7a",
   "metadata": {
    "tags": []
   },
   "outputs": [],
   "source": [
    "distances = np.concatenate(distances)\n",
    "MedianDneuron = np.median(distances[distances[:,1]==n.cluster_number,0])\n",
    "pcf_clus = np.concatenate(pcf_clus)\n",
    "Id_clus = np.concatenate(Id_clus)\n",
    "distances_sorted = np.array(sorted(distances,key=lambda x:x[0])) # sort by distance, it will start with the spikes within the cluster and have the noise spikes later\n",
    "\n",
    "ind = distances_sorted[:,1]==n.cluster_number"
   ]
  },
  {
   "cell_type": "code",
   "execution_count": 16,
   "id": "3b0bba42-ace6-42b2-b1b1-6f22d72b68a9",
   "metadata": {
    "tags": []
   },
   "outputs": [
    {
     "data": {
      "text/plain": [
       "(11369, 924185)"
      ]
     },
     "execution_count": 16,
     "metadata": {},
     "output_type": "execute_result"
    }
   ],
   "source": [
    "sum(ind),len(ind)"
   ]
  },
  {
   "cell_type": "code",
   "execution_count": null,
   "id": "33ea5873-1c5f-4f51-98c6-225d418bc58f",
   "metadata": {},
   "outputs": [],
   "source": []
  },
  {
   "cell_type": "code",
   "execution_count": null,
   "id": "30e51926-10d9-4225-9c60-e6d68535ac11",
   "metadata": {},
   "outputs": [],
   "source": []
  },
  {
   "cell_type": "code",
   "execution_count": 17,
   "id": "6c92c6d2-a313-4ea1-b806-7e1266c1d807",
   "metadata": {},
   "outputs": [
    {
     "name": "stderr",
     "output_type": "stream",
     "text": [
      "/tmp/ipykernel_657859/4152945054.py:3: RuntimeWarning: divide by zero encountered in divide\n",
      "  ratio = np.cumsum(ind)/np.arange(len(ind))\n"
     ]
    }
   ],
   "source": [
    "# calculate the isolation score\n",
    "\n",
    "ratio = np.cumsum(ind)/np.arange(len(ind))\n",
    "indRatio = ratio<0.5\n",
    "IsolationScore=np.nan\n",
    "if np.any(indRatio):\n",
    "    r=np.arange(len(indRatio))\n",
    "    indRatio_belowthreshold = np.where([np.all(indRatio[r_:]) for r_ in r])[0]\n",
    "    if len(indRatio_belowthreshold):\n",
    "        IsolationScore = distances_sorted[indRatio_belowthreshold[0],0]\n"
   ]
  },
  {
   "cell_type": "code",
   "execution_count": 18,
   "id": "43a17c9e-9b9e-4c5d-af75-6e4f672adf32",
   "metadata": {
    "tags": []
   },
   "outputs": [
    {
     "data": {
      "text/plain": [
       "(22.571315536653422,\n",
       " array([ 22.57131554,  34.09957907,  29.91913718, 114.94093153,\n",
       "         38.17703536,  39.76500091,  26.40973383,  59.90375315,\n",
       "         55.28385472,  42.2819805 ,  36.6461653 ,  32.46535334,\n",
       "         28.9963115 ,  29.33330406,  65.35428435,  36.80507852,\n",
       "         35.14307261,  59.98715726,  34.97327741, 136.81714571,\n",
       "        106.02491563,  58.76518355,  33.20351933,  91.83103734,\n",
       "         53.79256159,  34.74304377,  33.76342447,  30.5243024 ,\n",
       "         60.88897741,  35.11621676,  54.39937224,  33.23631712,\n",
       "         37.81305459,  44.90871708,  37.63093361,  31.60614652,\n",
       "         32.50463751,  30.93777565,  33.08753953,  40.77088261,\n",
       "         38.09756528,  30.44177804,  27.55274802,  32.36751699,\n",
       "         31.23052403,  37.40651309,  34.27293745,  28.53499036,\n",
       "         36.77459955,  36.31533778,  27.33818152,  37.12799853,\n",
       "         34.28942442,  33.30893602,  34.26481708,  36.49559388,\n",
       "         27.27858437,  30.37988082,  34.98848842]),\n",
       " array([[ 22.30227416,   0.        ],\n",
       "        [ 35.63972707,   0.        ],\n",
       "        [ 28.58438003,   0.        ],\n",
       "        ...,\n",
       "        [ 31.57574513, 119.        ],\n",
       "        [ 43.09164655, 119.        ],\n",
       "        [ 35.89829221, 119.        ]]),\n",
       " array([[  12.69631464,    0.        ],\n",
       "        [  13.55743644,    0.        ],\n",
       "        [  13.74139083,    0.        ],\n",
       "        ...,\n",
       "        [1738.43937786,   32.        ],\n",
       "        [1900.20239052,    3.        ],\n",
       "        [1941.14772575,   40.        ]]),\n",
       " 21.715958412720735,\n",
       " array([[ 9.809758  , -0.20835918,  4.2469535 , ..., -0.1694952 ,\n",
       "          1.3612661 ,  1.5299779 ],\n",
       "        [17.236391  ,  1.3939697 ,  2.6595297 , ..., -1.1634835 ,\n",
       "         -0.5408948 , -0.24614812],\n",
       "        [11.357711  ,  2.8592834 ,  0.6025842 , ...,  0.04003914,\n",
       "          1.3162547 ,  1.494398  ],\n",
       "        ...,\n",
       "        [ 7.936762  ,  7.2952466 ,  2.858388  , ..., -0.14542693,\n",
       "          0.4033579 ,  1.5067302 ],\n",
       "        [ 4.0557294 ,  4.797786  ,  3.289743  , ...,  0.23054011,\n",
       "          0.03778054, -0.42844838],\n",
       "        [ 9.341547  ,  0.5585543 ,  0.86825144, ...,  0.67436117,\n",
       "          1.1638143 ,  0.60948056]], dtype=float32),\n",
       " array([  0,   0,   0, ..., 119, 119, 119], dtype=int32))"
      ]
     },
     "execution_count": 18,
     "metadata": {},
     "output_type": "execute_result"
    }
   ],
   "source": [
    "MedianDneuron, np.array(MedianD), distances, distances_sorted, IsolationScore, pcf_clus, Id_clus"
   ]
  },
  {
   "cell_type": "code",
   "execution_count": null,
   "id": "bec15713-4ae1-40d5-a3aa-46d528ae39fd",
   "metadata": {},
   "outputs": [],
   "source": []
  },
  {
   "cell_type": "code",
   "execution_count": 19,
   "id": "44f63744-1d5d-4fb8-b235-92259a888baf",
   "metadata": {
    "tags": []
   },
   "outputs": [
    {
     "data": {
      "text/plain": [
       "Text(0.5, 1.0, 'cluster isolation')"
      ]
     },
     "execution_count": 19,
     "metadata": {},
     "output_type": "execute_result"
    },
    {
     "data": {
      "image/png": "[encoded data removed]",
      "text/plain": [
       "<Figure size 432x288 with 2 Axes>"
      ]
     },
     "metadata": {
      "needs_background": "light"
     },
     "output_type": "display_data"
    }
   ],
   "source": [
    "plt.plot(ratio)\n",
    "plt.ylabel(\"ratio\")\n",
    "plt.xlabel(\"spike no\")\n",
    "plt.axhline(y=.5,lw=.5)\n",
    "plt.axvline(indRatio_belowthreshold[0], ls='dashed')\n",
    "\n",
    "ax2 = plt.gca().twinx()\n",
    "ax2.plot(distances_sorted[:,0], c='orange')\n",
    "plt.axhline(IsolationScore, lw=.5,c='orange')\n",
    "ax2.set_ylim((0,3*IsolationScore))\n",
    "ax2.set_ylabel(\"distance\")\n",
    "\n",
    "plt.title(\"cluster isolation\")"
   ]
  },
  {
   "cell_type": "code",
   "execution_count": null,
   "id": "784ad55c-ee76-4d69-b867-ad8a2f3a6186",
   "metadata": {},
   "outputs": [],
   "source": []
  },
  {
   "cell_type": "code",
   "execution_count": 20,
   "id": "d37935ba-6a45-4658-a0bc-ee15555d9994",
   "metadata": {
    "tags": []
   },
   "outputs": [
    {
     "data": {
      "text/plain": [
       "21.715958412720735"
      ]
     },
     "execution_count": 20,
     "metadata": {},
     "output_type": "execute_result"
    }
   ],
   "source": [
    "IsolationScore"
   ]
  },
  {
   "cell_type": "code",
   "execution_count": null,
   "id": "6e91bb26-b993-4d0e-ba3c-64f5e09d55a3",
   "metadata": {},
   "outputs": [],
   "source": []
  },
  {
   "cell_type": "code",
   "execution_count": null,
   "id": "85b3c156-944d-479b-8048-908318383bda",
   "metadata": {},
   "outputs": [],
   "source": []
  }
 ],
 "metadata": {
  "kernelspec": {
   "display_name": "spikeAenv",
   "language": "python",
   "name": "spikeaenv"
  },
  "language_info": {
   "codemirror_mode": {
    "name": "ipython",
    "version": 3
   },
   "file_extension": ".py",
   "mimetype": "text/x-python",
   "name": "python",
   "nbconvert_exporter": "python",
   "pygments_lexer": "ipython3",
   "version": "3.8.10"
  }
 },
 "nbformat": 4,
 "nbformat_minor": 5
}
