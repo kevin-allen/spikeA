{
 "cells": [
  {
   "cell_type": "markdown",
   "id": "retained-trouble",
   "metadata": {},
   "source": [
    "This notebook was developed the interface between kilosort and spikeA.\n",
    "\n",
    "We need to load the session parameters from it.\n",
    "We will still need to read the .par file to get the trial names.\n",
    "Then there is the desen, des, etc.\n",
    "\n",
    "\n",
    "\n"
   ]
  },
  {
   "cell_type": "code",
   "execution_count": 124,
   "id": "17166cbd-d432-47d2-8580-61198a571757",
   "metadata": {},
   "outputs": [],
   "source": [
    "import numpy as np"
   ]
  },
  {
   "cell_type": "code",
   "execution_count": 118,
   "id": "potential-fitness",
   "metadata": {},
   "outputs": [
    {
     "name": "stdout",
     "output_type": "stream",
     "text": [
      "The autoreload extension is already loaded. To reload it, use:\n",
      "  %reload_ext autoreload\n"
     ]
    }
   ],
   "source": [
    "%load_ext autoreload\n",
    "from spikeA.Session import Kilosort_session"
   ]
  },
  {
   "cell_type": "code",
   "execution_count": 119,
   "id": "northern-reference",
   "metadata": {},
   "outputs": [
    {
     "name": "stdout",
     "output_type": "stream",
     "text": [
      "<class 'spikeA.Session.Kilosort_session'>\n",
      "name = mn1173-09052021-0108\n",
      "path = /adata/electro/mn1173/mn1173-09052021-0108\n",
      "subject = mn1173\n",
      "session_dat_time = 2021-05-09 01:08:00\n",
      "fileBase = /adata/electro/mn1173/mn1173-09052021-0108/mn1173-09052021-0108\n",
      "file_names = {'par': '/adata/electro/mn1173/mn1173-09052021-0108/mn1173-09052021-0108.par', 'desen': '/adata/electro/mn1173/mn1173-09052021-0108/mn1173-09052021-0108.desen', 'desel': '/adata/electro/mn1173/mn1173-09052021-0108/mn1173-09052021-0108.desel', 'sampling_rate': '/adata/electro/mn1173/mn1173-09052021-0108/mn1173-09052021-0108.sampling_rate_dat', 'px_per_cm': '/adata/electro/mn1173/mn1173-09052021-0108/mn1173-09052021-0108.px_per_cm', 'params': '/adata/electro/mn1173/mn1173-09052021-0108/params.py', 'amplitudes': '/adata/electro/mn1173/mn1173-09052021-0108/amplitudes.npy', 'channel_map': '/adata/electro/mn1173/mn1173-09052021-0108/channel_map.npy', 'channel_positions': '/adata/electro/mn1173/mn1173-09052021-0108/channel_positions.npy', 'pc_features': '/adata/electro/mn1173/mn1173-09052021-0108/pc_features.npy', 'pc_feature_ind': '/adata/electro/mn1173/mn1173-09052021-0108/pc_feature_ind.npy', 'spike_templates': '/adata/electro/mn1173/mn1173-09052021-0108/spike_templates.npy', 'spike_times': '/adata/electro/mn1173/mn1173-09052021-0108/spike_times.npy', 'spike_clusters': '/adata/electro/mn1173/mn1173-09052021-0108/spike_clusters.npy', 'cluster_groups': '/adata/electro/mn1173/mn1173-09052021-0108/cluster_groups.csv'}\n",
      "n_channels = 129\n",
      "dat_dtype = int16\n",
      "dat_offset = 0\n",
      "sampling_rate = 20000.0\n",
      "desen = ['circ80', 'circ80', 'rest', 'autopi', 'autopi', 'autopi', 'autopi', 'rest']\n",
      "desel = ['ca1', 'ca1', 'ca1', 'ca1', 'ca1', 'ca1', 'ca1', 'ca1', 'ca1', 'ca1', 'ca1', 'ca1', 'ca1', 'ca1', 'ca1', 'ca1', 'ca1', 'ca1', 'ca1', 'ca1', 'ca1', 'ca1', 'ca1', 'ca1', 'ca1', 'ca1', 'ca1', 'ca1', 'ca1', 'ca1', 'ca1', 'ca1']\n",
      "trial_names = ['mn1173-09052021_01', 'mn1173-09052021_02', 'mn1173-09052021_03', 'mn1173-09052021_04', 'mn1173-09052021_05', 'mn1173-09052021_06', 'mn1173-09052021_07', 'mn1173-09052021_08']\n"
     ]
    }
   ],
   "source": [
    "%autoreload 2\n",
    "\n",
    "ks = Kilosort_session(name=\"mn1173-09052021-0108\",\n",
    "                     path=\"/adata/electro/mn1173/mn1173-09052021-0108\")\n",
    "ks.load_parameters_from_files()\n",
    "print(ks)"
   ]
  },
  {
   "cell_type": "code",
   "execution_count": 121,
   "id": "928e586e-1a54-49ff-a13e-c57dbb0df135",
   "metadata": {},
   "outputs": [],
   "source": [
    "%autoreload 2\n",
    "from spikeA.Spike_train_loader import Spike_train_loader\n",
    "stl = Spike_train_loader()\n",
    "stl.load_spike_train_kilosort(ks)\n",
    "\n"
   ]
  },
  {
   "cell_type": "code",
   "execution_count": 126,
   "id": "592e564c-039b-4413-acd2-12eac1a674fd",
   "metadata": {},
   "outputs": [],
   "source": [
    "spike_times = np.load(ks.file_names[\"spike_times\"])/ks.sampling_rate\n"
   ]
  },
  {
   "cell_type": "code",
   "execution_count": null,
   "id": "c2746db2-997a-4ce8-ad85-bf948fc4cf1a",
   "metadata": {},
   "outputs": [],
   "source": []
  }
 ],
 "metadata": {
  "kernelspec": {
   "display_name": "Python 3",
   "language": "python",
   "name": "python3"
  },
  "language_info": {
   "codemirror_mode": {
    "name": "ipython",
    "version": 3
   },
   "file_extension": ".py",
   "mimetype": "text/x-python",
   "name": "python",
   "nbconvert_exporter": "python",
   "pygments_lexer": "ipython3",
   "version": "3.8.3"
  }
 },
 "nbformat": 4,
 "nbformat_minor": 5
}
