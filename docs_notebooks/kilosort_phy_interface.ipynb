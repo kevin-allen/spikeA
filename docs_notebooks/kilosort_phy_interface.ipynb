{
 "cells": [
  {
   "cell_type": "markdown",
   "id": "retained-trouble",
   "metadata": {},
   "source": [
    "This notebook was developed the interface between kilosort and spikeA.\n",
    "\n",
    "We need to load the session parameters from it.\n",
    "We will still need to read the .par file to get the trial names.\n",
    "Then there is the desen, des, etc.\n",
    "\n",
    "\n",
    "\n"
   ]
  },
  {
   "cell_type": "code",
   "execution_count": 211,
   "id": "17166cbd-d432-47d2-8580-61198a571757",
   "metadata": {},
   "outputs": [
    {
     "name": "stdout",
     "output_type": "stream",
     "text": [
      "Number of good clusters: 60\n",
      "Spike_train, name: 0, number of spikes: 25460    mean firing rate: 2.17 Hz\n",
      "Spike_train, name: 1, number of spikes: 20755    mean firing rate: 1.77 Hz\n",
      "Spike_train, name: 2, number of spikes: 79604    mean firing rate: 6.77 Hz\n",
      "Spike_train, name: 3, number of spikes: 33460    mean firing rate: 2.85 Hz\n",
      "Spike_train, name: 4, number of spikes: 17288    mean firing rate: 1.47 Hz\n",
      "Spike_train, name: 5, number of spikes: 48239    mean firing rate: 4.10 Hz\n",
      "Spike_train, name: 6, number of spikes: 70949    mean firing rate: 6.04 Hz\n",
      "Spike_train, name: 10, number of spikes: 8070     mean firing rate: 0.69 Hz\n",
      "Spike_train, name: 14, number of spikes: 52768    mean firing rate: 4.49 Hz\n",
      "Spike_train, name: 16, number of spikes: 60912    mean firing rate: 5.18 Hz\n",
      "Spike_train, name: 17, number of spikes: 186196   mean firing rate: 15.84 Hz\n",
      "Spike_train, name: 22, number of spikes: 16351    mean firing rate: 1.51 Hz\n",
      "Spike_train, name: 27, number of spikes: 100970   mean firing rate: 8.59 Hz\n",
      "Spike_train, name: 28, number of spikes: 284395   mean firing rate: 24.20 Hz\n",
      "Spike_train, name: 29, number of spikes: 83343    mean firing rate: 7.09 Hz\n",
      "Spike_train, name: 30, number of spikes: 53511    mean firing rate: 4.58 Hz\n",
      "Spike_train, name: 31, number of spikes: 20112    mean firing rate: 1.71 Hz\n",
      "Spike_train, name: 32, number of spikes: 52134    mean firing rate: 4.44 Hz\n",
      "Spike_train, name: 33, number of spikes: 36683    mean firing rate: 3.12 Hz\n",
      "Spike_train, name: 34, number of spikes: 12212    mean firing rate: 1.04 Hz\n",
      "Spike_train, name: 35, number of spikes: 41020    mean firing rate: 3.51 Hz\n",
      "Spike_train, name: 36, number of spikes: 66840    mean firing rate: 5.69 Hz\n",
      "Spike_train, name: 39, number of spikes: 59183    mean firing rate: 5.79 Hz\n",
      "Spike_train, name: 44, number of spikes: 25762    mean firing rate: 2.19 Hz\n",
      "Spike_train, name: 48, number of spikes: 57761    mean firing rate: 4.91 Hz\n",
      "Spike_train, name: 50, number of spikes: 41313    mean firing rate: 3.51 Hz\n",
      "Spike_train, name: 53, number of spikes: 25745    mean firing rate: 2.19 Hz\n",
      "Spike_train, name: 54, number of spikes: 27813    mean firing rate: 2.37 Hz\n",
      "Spike_train, name: 56, number of spikes: 58293    mean firing rate: 4.96 Hz\n",
      "Spike_train, name: 57, number of spikes: 28920    mean firing rate: 2.46 Hz\n",
      "Spike_train, name: 58, number of spikes: 94364    mean firing rate: 8.03 Hz\n",
      "Spike_train, name: 62, number of spikes: 49052    mean firing rate: 4.17 Hz\n",
      "Spike_train, name: 64, number of spikes: 26676    mean firing rate: 2.61 Hz\n",
      "Spike_train, name: 71, number of spikes: 51610    mean firing rate: 4.39 Hz\n",
      "Spike_train, name: 73, number of spikes: 212297   mean firing rate: 23.24 Hz\n",
      "Spike_train, name: 75, number of spikes: 50933    mean firing rate: 4.33 Hz\n",
      "Spike_train, name: 78, number of spikes: 109741   mean firing rate: 9.34 Hz\n",
      "Spike_train, name: 82, number of spikes: 55039    mean firing rate: 4.68 Hz\n",
      "Spike_train, name: 83, number of spikes: 30068    mean firing rate: 2.56 Hz\n",
      "Spike_train, name: 86, number of spikes: 55929    mean firing rate: 4.76 Hz\n",
      "Spike_train, name: 88, number of spikes: 16120    mean firing rate: 1.37 Hz\n",
      "Spike_train, name: 90, number of spikes: 38783    mean firing rate: 3.30 Hz\n",
      "Spike_train, name: 91, number of spikes: 147364   mean firing rate: 12.54 Hz\n",
      "Spike_train, name: 92, number of spikes: 4839     mean firing rate: 0.41 Hz\n",
      "Spike_train, name: 93, number of spikes: 16431    mean firing rate: 1.40 Hz\n",
      "Spike_train, name: 94, number of spikes: 24602    mean firing rate: 2.09 Hz\n",
      "Spike_train, name: 95, number of spikes: 33397    mean firing rate: 2.84 Hz\n",
      "Spike_train, name: 96, number of spikes: 42767    mean firing rate: 3.64 Hz\n",
      "Spike_train, name: 97, number of spikes: 97269    mean firing rate: 8.28 Hz\n",
      "Spike_train, name: 98, number of spikes: 26480    mean firing rate: 2.25 Hz\n",
      "Spike_train, name: 99, number of spikes: 27967    mean firing rate: 2.38 Hz\n",
      "Spike_train, name: 100, number of spikes: 29518    mean firing rate: 2.51 Hz\n",
      "Spike_train, name: 101, number of spikes: 27074    mean firing rate: 2.30 Hz\n",
      "Spike_train, name: 102, number of spikes: 55926    mean firing rate: 4.76 Hz\n",
      "Spike_train, name: 103, number of spikes: 10108    mean firing rate: 0.86 Hz\n",
      "Spike_train, name: 104, number of spikes: 36373    mean firing rate: 3.09 Hz\n",
      "Spike_train, name: 105, number of spikes: 52412    mean firing rate: 4.46 Hz\n",
      "Spike_train, name: 106, number of spikes: 7248     mean firing rate: 0.71 Hz\n",
      "Spike_train, name: 108, number of spikes: 16347    mean firing rate: 1.39 Hz\n",
      "Spike_train, name: 110, number of spikes: 7581     mean firing rate: 0.65 Hz\n",
      "RAM needed for spike_time_autocorrelation: 40.152 MB\n"
     ]
    },
    {
     "data": {
      "text/plain": [
       "[<matplotlib.lines.Line2D at 0x7f3e91f7d760>]"
      ]
     },
     "execution_count": 211,
     "metadata": {},
     "output_type": "execute_result"
    },
    {
     "data": {
      "image/png": "[encoded data removed]",
      "text/plain": [
       "<Figure size 432x288 with 1 Axes>"
      ]
     },
     "metadata": {
      "needs_background": "light"
     },
     "output_type": "display_data"
    }
   ],
   "source": [
    "%autoreload 2\n",
    "import numpy as np\n",
    "import pandas as pd\n",
    "import matplotlib.pyplot as plt\n",
    "\n",
    "from spikeA.Session import Kilosort_session\n",
    "from spikeA.Spike_train_loader import Spike_train_loader\n",
    "from spikeA.Cell_group import Cell_group\n",
    "\n",
    "# get a Kilosort_session object\n",
    "ks = Kilosort_session(name=\"mn1173-09052021-0108\",\n",
    "                     path=\"/adata/electro/mn1173/mn1173-09052021-0108\")\n",
    "ks.load_parameters_from_files()\n",
    "\n",
    "# get a Spike_train_loader object\n",
    "stl = Spike_train_loader()\n",
    "stl.load_spike_train_kilosort(ks)\n",
    "\n",
    "# get a Cell_group object\n",
    "cg = Cell_group(stl)\n",
    "\n",
    "# test one neuron\n",
    "n = cg.neuron_list[3]\n",
    "n.spike_train.spike_time_autocorrelation()\n",
    "plt.plot(n.spike_train.st_autocorrelation_histogram[1][1:],\n",
    "n.spike_train.st_autocorrelation_histogram[0])"
   ]
  },
  {
   "cell_type": "code",
   "execution_count": null,
   "id": "a5960bff-c36d-4e5e-b64e-0a976c188e4d",
   "metadata": {},
   "outputs": [],
   "source": []
  }
 ],
 "metadata": {
  "kernelspec": {
   "display_name": "Python 3",
   "language": "python",
   "name": "python3"
  },
  "language_info": {
   "codemirror_mode": {
    "name": "ipython",
    "version": 3
   },
   "file_extension": ".py",
   "mimetype": "text/x-python",
   "name": "python",
   "nbconvert_exporter": "python",
   "pygments_lexer": "ipython3",
   "version": "3.8.3"
  }
 },
 "nbformat": 4,
 "nbformat_minor": 5
}
